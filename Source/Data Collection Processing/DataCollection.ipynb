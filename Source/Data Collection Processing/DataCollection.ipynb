{
 "cells": [
  {
   "cell_type": "markdown",
   "metadata": {},
   "source": [
    "## Data Collection Task"
   ]
  },
  {
   "cell_type": "markdown",
   "metadata": {},
   "source": [
    "### Job description:\n",
    "1. Data scraping website:\\\n",
    "   a. [kokotaru](https://kokotaru.com/) - Total: ~ 500 Posts.\\\n",
    "   b. [kitchenart](https://cook.kitchenart.vn/cong-thuc-nau-an/) - Total: ~ 800 articles.\n",
    "2. Data to scratch:\n",
    "\n",
    "   | Name of dish | Main ingredients     |\n",
    "   | -------------|----------------------|\n",
    "   | ...          |...                   |\n"
   ]
  },
  {
   "cell_type": "markdown",
   "metadata": {},
   "source": [
    "### Install the libraries"
   ]
  },
  {
   "cell_type": "code",
   "execution_count": 2,
   "metadata": {},
   "outputs": [],
   "source": [
    "# !pip install bs4\n",
    "# !pip install selenium\n",
    "# !pip install numpy\n",
    "# !pip install pandas\n",
    "# !pip install requests\n",
    "# !pip install tqdm"
   ]
  },
  {
   "cell_type": "markdown",
   "metadata": {},
   "source": [
    "### Import shared libraries and functions"
   ]
  },
  {
   "cell_type": "code",
   "execution_count": 3,
   "metadata": {},
   "outputs": [],
   "source": [
    "from Libraries_Used import *\n",
    "from Shared_Functions import *"
   ]
  },
  {
   "cell_type": "markdown",
   "metadata": {},
   "source": [
    "### **Comment:**\n",
    "Because these two websites have different ways of operating and interacting, there will be 2 separate information collection sections.\n",
    "1. **Kokotaru:** Interactively scroll to load more articles.\n",
    "2. **Kitchenart:** Divide into separate pages, each page contains 20 articles."
   ]
  },
  {
   "cell_type": "markdown",
   "metadata": {},
   "source": [
    "---"
   ]
  },
  {
   "cell_type": "markdown",
   "metadata": {},
   "source": [
    "### KOKOTARU WEBSITE ARTICLE URLS PARSING"
   ]
  },
  {
   "cell_type": "markdown",
   "metadata": {},
   "source": [
    "#### Interact:\n",
    "* Load page according to user's mouse scroll action.\n",
    "#### Describe:\n",
    "* All articles are gathered together in one kokotaru homepage link."
   ]
  },
  {
   "cell_type": "markdown",
   "metadata": {},
   "source": [
    "### Step 1: Retrieve website content using Selenium library."
   ]
  },
  {
   "cell_type": "code",
   "execution_count": 4,
   "metadata": {},
   "outputs": [],
   "source": [
    "KOKOTARU_BASE_URL = 'https://kokotaru.com/'"
   ]
  },
  {
   "cell_type": "markdown",
   "metadata": {},
   "source": [
    "**Step 1.1:** Create selenium chrome browser.\\\n",
    "**Step 1.2:** Let the page load all the content."
   ]
  },
  {
   "cell_type": "code",
   "execution_count": 5,
   "metadata": {},
   "outputs": [],
   "source": [
    "def kokotaru_page_loader(BASE_URL: str) -> str:\n",
    "    driver = webdriver.Chrome()\n",
    "    driver.get(BASE_URL)\n",
    "\n",
    "    last_height = driver.execute_script(\"return document.body.scrollHeight\")\n",
    "    \n",
    "    max_scrolls = 100\n",
    "    progress_bar = tqdm(desc=\"Scrolling\", ncols=100, leave=True, unit=\"scroll\", total=max_scrolls)\n",
    "    \n",
    "    scroll_count = 0\n",
    "    \n",
    "    while scroll_count < max_scrolls:\n",
    "        driver.execute_script(\"window.scrollTo(0, document.body.scrollHeight);\")\n",
    "        time.sleep(5)\n",
    "        \n",
    "        new_height = driver.execute_script(\"return document.body.scrollHeight\")\n",
    "        \n",
    "        progress_bar.update(1)\n",
    "        scroll_count += 1\n",
    "        \n",
    "\n",
    "        if new_height == last_height:\n",
    "            break\n",
    "        \n",
    "        last_height = new_height\n",
    "    \n",
    "    html_content = driver.page_source\n",
    "    driver.quit()\n",
    "    \n",
    "    progress_bar.close() \n",
    "    print(\"Parsing completed.\")\n",
    "    \n",
    "    return html_content"
   ]
  },
  {
   "cell_type": "code",
   "execution_count": 6,
   "metadata": {},
   "outputs": [],
   "source": [
    "# kokotaru_html = kokotaru_page_loader(KOKOTARU_BASE_URL)"
   ]
  },
  {
   "cell_type": "markdown",
   "metadata": {},
   "source": [
    "**Step 1.3:** Get the content into `kokotaru_html_content.html`"
   ]
  },
  {
   "cell_type": "code",
   "execution_count": 7,
   "metadata": {},
   "outputs": [],
   "source": [
    "# write_to_file(\"Assert/kokotaru_html_content.html\",kokotaru_html, 'w_b_str')"
   ]
  },
  {
   "cell_type": "markdown",
   "metadata": {},
   "source": [
    "#### Step 2: Get the article links on the homepage"
   ]
  },
  {
   "cell_type": "code",
   "execution_count": 8,
   "metadata": {},
   "outputs": [],
   "source": [
    "# kokotaru_content = read_from_file(\"Assert/kokotaru_html_content.html\", 'r_b_str')"
   ]
  },
  {
   "cell_type": "code",
   "execution_count": 9,
   "metadata": {},
   "outputs": [],
   "source": [
    "def get_kokotaru_articles_urls(html_content) -> list:\n",
    "    urls = []\n",
    "    soup = BeautifulSoup(html_content, 'html.parser')\n",
    "    article_headers = soup.find_all(\"article\", { \"class\" : \"entry-preview\" })\n",
    "    for header in article_headers:\n",
    "        found = header.find('a', class_='cs-overlay-link')\n",
    "        url = found['href'] if found else None\n",
    "        if url is not None:\n",
    "            urls.append(url)\n",
    "    return urls"
   ]
  },
  {
   "cell_type": "code",
   "execution_count": 10,
   "metadata": {},
   "outputs": [],
   "source": [
    "# kokotaru_article_urls = get_kokotaru_articles_urls(kokotaru_content)"
   ]
  },
  {
   "cell_type": "markdown",
   "metadata": {},
   "source": [
    "Record the retrieved urls in `kokotaru_aricle_urls.txt`"
   ]
  },
  {
   "cell_type": "code",
   "execution_count": 11,
   "metadata": {},
   "outputs": [],
   "source": [
    "# write_to_file('Assert/kokotaru_article_urls.txt', kokotaru_article_urls, 'w_b_element')"
   ]
  },
  {
   "cell_type": "markdown",
   "metadata": {},
   "source": [
    "### KITCHENART WEBSITE ARTICLE URLS PARSING"
   ]
  },
  {
   "cell_type": "markdown",
   "metadata": {},
   "source": [
    "#### Interact:\n",
    "* General pagination.\n",
    "#### Describe:\n",
    "* Each page includes 20 articles."
   ]
  },
  {
   "cell_type": "markdown",
   "metadata": {},
   "source": [
    "### Step 1: Get the urls leading to the articles on the current page"
   ]
  },
  {
   "cell_type": "code",
   "execution_count": 12,
   "metadata": {},
   "outputs": [],
   "source": [
    "def kitchenart_article_urls_onepage(page_url: str):\n",
    "    u_list = []\n",
    "\n",
    "    response = requests.get(page_url)\n",
    "    \n",
    "    if response.status_code == 200:\n",
    "        try:\n",
    "            soup = BeautifulSoup(response.content, \"html.parser\")\n",
    "            \n",
    "            articles_list = soup.find_all(\"a\", {\"class\": \"recipe-card__title-link\"})\n",
    "            \n",
    "            for article in articles_list:\n",
    "                link = article.get('href') if article.get('href') else None\n",
    "                if link is not None:\n",
    "                    u_list.append(link)\n",
    "        \n",
    "        except Exception as err:\n",
    "            print(f'Requests error: {err}')\n",
    "    else:\n",
    "        print(f\"Failed to access {page_url}. Status code: {response.status_code}\")\n",
    "        return page_url\n",
    "\n",
    "    return u_list"
   ]
  },
  {
   "cell_type": "markdown",
   "metadata": {},
   "source": [
    "### Step 2: Get the url leading to the next page"
   ]
  },
  {
   "cell_type": "markdown",
   "metadata": {},
   "source": [
    "**Solution 1:** Get the next page through the current page."
   ]
  },
  {
   "cell_type": "code",
   "execution_count": 13,
   "metadata": {},
   "outputs": [],
   "source": [
    "def kitchenart_find_next_page_url(html_content) -> str:\n",
    "    \n",
    "    next_page = \"\"\n",
    "    \n",
    "    soup = BeautifulSoup(html_content,\"html.parser\")\n",
    "\n",
    "    link_found = soup.find(\"a\", {\"class\" : \"next page-numbers\"}) if soup.find(\"a\", {\"class\" : \"next page-numbers\"}) else None\n",
    "        \n",
    "    if link_found is not None:\n",
    "        \n",
    "        next_page = link_found.get(\"href\")\n",
    "            \n",
    "        \n",
    "    return next_page"
   ]
  },
  {
   "cell_type": "markdown",
   "metadata": {},
   "source": [
    "**Solution 2:** Get all pages from beginning to end, try connecting to that page."
   ]
  },
  {
   "cell_type": "code",
   "execution_count": 14,
   "metadata": {},
   "outputs": [],
   "source": [
    "def get_all_page_urls(BASE_URL: str) -> list:\n",
    "    urls = []\n",
    "    failed_urls = []\n",
    "    next_page = BASE_URL\n",
    "    page_counter = 2\n",
    "    \n",
    "    print(\"Starting to gather URLs from the website:\")\n",
    "    progress_bar = tqdm(desc=\"Page Loading\", unit=\"page\")\n",
    "    \n",
    "    while True:\n",
    "        response = requests.get(next_page)\n",
    "        \n",
    "        if response.status_code == 200:\n",
    "            soup = BeautifulSoup(response.content, \"html.parser\")\n",
    "            \n",
    "            urls.append(next_page)\n",
    "            print(f\"Page {len(urls)} loaded successfully: {next_page}\")\n",
    "            \n",
    "            find_nextpage = soup.find(\"a\", {\"class\": \"next page-numbers\"})\n",
    "            \n",
    "            if find_nextpage is None:\n",
    "                print(\"No more pages to load.\")\n",
    "                break\n",
    "            \n",
    "            next_page = BASE_URL + f'page/{page_counter}/'\n",
    "            page_counter += 1\n",
    "            \n",
    "            time.sleep(3)\n",
    "            \n",
    "            progress_bar.update(1)\n",
    "        else:\n",
    "            failed_urls.append(next_page)\n",
    "            print(f\"Failed to load page {page_counter - 1}: {next_page}\")\n",
    "            break\n",
    "    \n",
    "    progress_bar.close()\n",
    "    \n",
    "    if failed_urls:\n",
    "        print(\"\\nRetrying failed URLs...\")\n",
    "        retry_failed_urls = []\n",
    "        \n",
    "        retry_progress_bar = tqdm(total=len(failed_urls), desc=\"Retrying Failed URLs\", unit=\"page\")\n",
    "        \n",
    "        for url in failed_urls:\n",
    "            response = requests.get(url)\n",
    "            if response.status_code == 200:\n",
    "                soup = BeautifulSoup(response.content, \"html.parser\")\n",
    "                urls.append(url)\n",
    "                print(f\"Retry successful: {url}\")\n",
    "            else:\n",
    "                retry_failed_urls.append(url)\n",
    "                print(f\"Retry failed for: {url}\")\n",
    "            \n",
    "            time.sleep(3)\n",
    "            retry_progress_bar.update(1)\n",
    "        \n",
    "        retry_progress_bar.close()\n",
    "        \n",
    "        if retry_failed_urls:\n",
    "            print(f\"Failed to load {len(retry_failed_urls)} URLs after retrying.\")\n",
    "        else:\n",
    "            print(\"All URLs loaded successfully after retry.\")\n",
    "    \n",
    "    print(f\"\\nTotal pages loaded: {len(urls)}\")\n",
    "    return urls"
   ]
  },
  {
   "cell_type": "markdown",
   "metadata": {},
   "source": [
    "### Step 3: Retrieve all post urls in all existing pages"
   ]
  },
  {
   "cell_type": "code",
   "execution_count": 15,
   "metadata": {},
   "outputs": [],
   "source": [
    "KITCHENART_BASE_URL = 'https://cook.kitchenart.vn/cong-thuc-nau-an/'"
   ]
  },
  {
   "cell_type": "markdown",
   "metadata": {},
   "source": [
    "**Step 3.1:** Get all the page links. If the link is not accessible (error caused by the web owner), the request will be retried 3 times. If it still doesn't work after 3 times, skip it."
   ]
  },
  {
   "cell_type": "code",
   "execution_count": 16,
   "metadata": {},
   "outputs": [],
   "source": [
    "# next_pages = get_all_page_urls(KITCHENART_BASE_URL)\n",
    "# next_pages"
   ]
  },
  {
   "cell_type": "markdown",
   "metadata": {},
   "source": [
    "**Step 3.2:** Write page links into file `kitchenart_page_urls.txt`"
   ]
  },
  {
   "cell_type": "code",
   "execution_count": 17,
   "metadata": {},
   "outputs": [],
   "source": [
    "# write_to_file('Assert/kitchenart_pages_urls.txt', next_pages, 'w_b_element')"
   ]
  },
  {
   "cell_type": "markdown",
   "metadata": {},
   "source": [
    "**Step 3.3:** The function retrieves all link articles contained in each page. Try to access these pages twice. If the second time still fails, give up."
   ]
  },
  {
   "cell_type": "code",
   "execution_count": 18,
   "metadata": {},
   "outputs": [],
   "source": [
    "def find_all_article_urls_in_all_pages(PAGE_URLS: list) -> list:\n",
    "    u_list = []\n",
    "    failed_urls = []\n",
    "    \n",
    "    progress_bar = tqdm(total=len(PAGE_URLS), desc=\"Page Loading\", unit=\"page\")\n",
    "    \n",
    "    for current_page in PAGE_URLS:\n",
    "        tmp_url = kitchenart_article_urls_onepage(current_page)\n",
    "        \n",
    "        if isinstance(tmp_url, str):\n",
    "            failed_urls.append(current_page)\n",
    "        else:\n",
    "            u_list.extend(tmp_url)\n",
    "        \n",
    "        time.sleep(3)\n",
    "        progress_bar.update(1)\n",
    "    \n",
    "    progress_bar.close()\n",
    "    print(f\"Articles found: {len(u_list)}\")\n",
    "    print('---------------------------------')\n",
    "    print(f\"Failed URLs: {len(failed_urls)}\")\n",
    "    \n",
    "    if failed_urls:\n",
    "        print(\"Retry is starting...\")\n",
    "        retry_failed_urls = []\n",
    "        \n",
    "        retry_progress_bar = tqdm(total=len(failed_urls), desc=\"Retrying Failed URLs\", unit=\"page\")\n",
    "        \n",
    "        for current_page in failed_urls:\n",
    "            tmp_url = kitchenart_article_urls_onepage(current_page)\n",
    "            \n",
    "            if isinstance(tmp_url, str):\n",
    "                retry_failed_urls.append(current_page)\n",
    "            else:\n",
    "                u_list.extend(tmp_url)\n",
    "            \n",
    "            time.sleep(3)\n",
    "            retry_progress_bar.update(1)\n",
    "        \n",
    "        retry_progress_bar.close()\n",
    "        print(f\"Articles found after retry: {len(u_list)}\")\n",
    "        print('---------------------------------')\n",
    "        print(f\"Failed URLs after retry: {len(retry_failed_urls)}\")\n",
    "    \n",
    "    print(\"Crawling completed.\")\n",
    "    return u_list\n"
   ]
  },
  {
   "cell_type": "markdown",
   "metadata": {},
   "source": [
    "### Step 4: Run the program to retrieve all article urls"
   ]
  },
  {
   "cell_type": "code",
   "execution_count": 19,
   "metadata": {},
   "outputs": [],
   "source": [
    "# page_urls = read_from_file('Assert/kitchenart_pages_urls.txt', 'r_b_line')"
   ]
  },
  {
   "cell_type": "code",
   "execution_count": 20,
   "metadata": {},
   "outputs": [],
   "source": [
    "# kitchenart_article_urls = find_all_article_urls_in_all_pages(page_urls)"
   ]
  },
  {
   "cell_type": "markdown",
   "metadata": {},
   "source": [
    "**Step 4.1:** Write these urls into the file `kitchenart_article_urls.txt`"
   ]
  },
  {
   "cell_type": "code",
   "execution_count": 21,
   "metadata": {},
   "outputs": [],
   "source": [
    "# write_to_file('Assert/kitchenart_aricle_urls.txt', kitchenart_article_urls, 'w_b_element')"
   ]
  },
  {
   "cell_type": "markdown",
   "metadata": {},
   "source": [
    "---"
   ]
  },
  {
   "cell_type": "markdown",
   "metadata": {},
   "source": [
    "### KOKOTARU WEBSITE ARTICLE DATA PARSING"
   ]
  },
  {
   "cell_type": "markdown",
   "metadata": {},
   "source": [
    "#### Type 1: Ingredients are presented consistently and have distinguishing tags."
   ]
  },
  {
   "cell_type": "code",
   "execution_count": 22,
   "metadata": {},
   "outputs": [],
   "source": [
    "def fetch_ingredients_type1(url):\n",
    "    try:\n",
    "        response = requests.get(url, timeout=10)\n",
    "        \n",
    "        if response.status_code == 200:\n",
    "            soup = BeautifulSoup(response.content, \"html.parser\")\n",
    "            \n",
    "            #Title tag\n",
    "            title_tag = soup.find(\"h1\", class_=\"entry-title\")\n",
    "            title = title_tag.get_text().strip() if title_tag else \"Unknown Title\"\n",
    "            \n",
    "            #Find ingredients\n",
    "            ingredient_div = soup.find(\"div\", class_=\"wprm-recipe-ingredient-group\")\n",
    "            \n",
    "            if ingredient_div:\n",
    "                ingredients = ingredient_div.get_text(separator=\"\\n\").strip()\n",
    "                return title, ingredients  \n",
    "            else:\n",
    "                return title, None \n",
    "        else:\n",
    "            print(f\"Failed to retrieve {url}. Status code: {response.status_code}\")\n",
    "            return None\n",
    "    except requests.exceptions.RequestException as e:\n",
    "        print(f\"Error fetching {url}: {e}\")\n",
    "        return None"
   ]
  },
  {
   "cell_type": "code",
   "execution_count": 23,
   "metadata": {},
   "outputs": [],
   "source": [
    "def fetch_ingredients_type2(url):\n",
    "    try:\n",
    "        response = requests.get(url, timeout=10)\n",
    "        \n",
    "        if response.status_code == 200:\n",
    "            soup = BeautifulSoup(response.content, \"html.parser\")\n",
    "            \n",
    "            # Find title: <h1>, class \"entry-title\"\n",
    "            title_tag = soup.find(\"h1\", class_=\"entry-title\")\n",
    "            title = title_tag.get_text().strip() if title_tag else \"Unknown Title\"\n",
    "            \n",
    "            # Find ingreditents: <h2>, keyword: \"tỉ lệ\", \"thành phần\", hoặc \"nguyên liệu\" (regardless of case)\n",
    "            ingredient_header = None\n",
    "            for h2 in soup.find_all(\"h2\", class_=\"has-vivid-red-color has-text-color wp-block-heading\"):\n",
    "                h2_text = h2.get_text().strip().lower()\n",
    "                if any(keyword in h2_text for keyword in [\"tỉ lệ\", \"thành phần\", \"nguyên liệu\"]):\n",
    "                    ingredient_header = h2\n",
    "                    break\n",
    "            \n",
    "            ingredients = None  \n",
    "            \n",
    "            # Get Title\n",
    "            if ingredient_header:\n",
    "                ingredients_list = []\n",
    "                \n",
    "                # Get ingredient list\n",
    "                ul_tag = ingredient_header.find_next(\"ul\")\n",
    "                \n",
    "                if ul_tag:\n",
    "                    for li in ul_tag.find_all(\"li\"):\n",
    "                        ingredients_list.append(li.get_text().strip())\n",
    "                \n",
    "                # List To string\n",
    "                ingredients = \"\\n\".join(ingredients_list) if ingredients_list else None\n",
    "            \n",
    "            if ingredients:\n",
    "                return title, ingredients\n",
    "            else:\n",
    "                return title, None\n",
    "        else:\n",
    "            print(f\"Failed to retrieve {url}. Status code: {response.status_code}\")\n",
    "            return None\n",
    "    except requests.exceptions.RequestException as e:\n",
    "        print(f\"Error fetching {url}: {e}\")\n",
    "        return None"
   ]
  },
  {
   "cell_type": "code",
   "execution_count": 24,
   "metadata": {},
   "outputs": [],
   "source": [
    "def fetch_ingredients_type3(url):\n",
    "    try:\n",
    "        response = requests.get(url, timeout=10)\n",
    "        \n",
    "        if response.status_code == 200:\n",
    "            soup = BeautifulSoup(response.content, \"html.parser\")\n",
    "            \n",
    "\n",
    "            title_tag = soup.find(\"h1\", class_=\"entry-title\")\n",
    "            title = title_tag.get_text().strip() if title_tag else \"Unknown Title\"\n",
    "            \n",
    "\n",
    "            ingredient_header = soup.find(\"h3\", string=lambda text: \"Nguyên liệu\" in text if text else False)\n",
    "            \n",
    "            ingredients = None  \n",
    "            \n",
    "            if ingredient_header:\n",
    "                ingredients_list = []\n",
    "                \n",
    "                for sibling in ingredient_header.find_next_siblings():\n",
    "                    if sibling.name == \"h3\":  # Stop when you encounter the next <h3> tag (\"How to\" section)\n",
    "                        break\n",
    "                    if sibling.name == \"p\" and \"text-align\" in sibling.get(\"style\", \"\"):\n",
    "                        ingredients_list.append(sibling.get_text().strip())\n",
    "                \n",
    "                ingredients = \"\\n\".join(ingredients_list) if ingredients_list else None\n",
    "            \n",
    "            return title, ingredients\n",
    "        else:\n",
    "            print(f\"Failed to retrieve {url}. Status code: {response.status_code}\")\n",
    "            return None\n",
    "    except requests.exceptions.RequestException as e:\n",
    "        print(f\"Error fetching {url}: {e}\")\n",
    "        return None"
   ]
  },
  {
   "cell_type": "code",
   "execution_count": 25,
   "metadata": {},
   "outputs": [],
   "source": [
    "def fetch_ingredients_type4(url):\n",
    "    try:\n",
    "        response = requests.get(url, timeout=10)\n",
    "        \n",
    "        if response.status_code == 200:\n",
    "            soup = BeautifulSoup(response.content, \"html.parser\")\n",
    "            \n",
    "            title_tag = soup.find(\"h1\", class_=\"entry-title\")\n",
    "            title = title_tag.get_text().strip() if title_tag else \"Unknown Title\"\n",
    "            \n",
    "            # Find paragraphs containing the keyword \"Ingredients\" with tags like <strong>, <span>, or <h3>\n",
    "            ingredient_header = soup.find(lambda tag: tag.name in [\"strong\", \"span\", \"h3\"] and \"nguyên liệu\" in tag.get_text().lower())\n",
    "            \n",
    "            ingredients = None\n",
    "            \n",
    "            if ingredient_header:\n",
    "                ingredients_list = []\n",
    "                \n",
    "                ul_tag = ingredient_header.find_next(\"ul\")\n",
    "                \n",
    "                if ul_tag:\n",
    "                    for li in ul_tag.find_all(\"li\"):\n",
    "                        ingredients_list.append(li.get_text().strip())\n",
    "                \n",
    "                if not ingredients_list:\n",
    "                    for sibling in ingredient_header.find_next_siblings():\n",
    "                        if sibling.name == \"h3\" or sibling.name == \"strong\":\n",
    "                            break\n",
    "                        if sibling.name == \"p\":\n",
    "                            ingredients_list.append(sibling.get_text().strip())\n",
    "                \n",
    "                ingredients = \"\\n\".join(ingredients_list) if ingredients_list else None\n",
    "            \n",
    "            return title, ingredients\n",
    "        else:\n",
    "            print(f\"Failed to retrieve {url}. Status code: {response.status_code}\")\n",
    "            return None\n",
    "    except requests.exceptions.RequestException as e:\n",
    "        print(f\"Error fetching {url}: {e}\")\n",
    "        return None"
   ]
  },
  {
   "cell_type": "code",
   "execution_count": 26,
   "metadata": {},
   "outputs": [],
   "source": [
    "def fetch_ingredients_type5(url):\n",
    "    try:\n",
    "        response = requests.get(url, timeout=10)\n",
    "        \n",
    "        if response.status_code == 200:\n",
    "            soup = BeautifulSoup(response.content, \"html.parser\")\n",
    "            \n",
    "            title_tag = soup.find(\"h1\", class_=\"entry-title\")\n",
    "            title = title_tag.get_text().strip() if title_tag else \"Unknown Title\"\n",
    "            \n",
    "            # Find the <h4> tag containing the keyword \"nguyên liệu\"\n",
    "            ingredient_header = soup.find(lambda tag: tag.name == \"h4\" and \"nguyên liệu\" in tag.get_text().lower())\n",
    "            \n",
    "            ingredients = None\n",
    "            \n",
    "            if ingredient_header:\n",
    "                ingredients_list = []\n",
    "                \n",
    "                # Find all <p> tags following the <h4> tag until the next <h3> tag\n",
    "                for sibling in ingredient_header.find_next_siblings():\n",
    "                    if sibling.name == \"h3\":\n",
    "                        break\n",
    "                    if sibling.name == \"p\":\n",
    "                        ingredients_list.append(sibling.get_text().strip())\n",
    "                \n",
    "                # Combine all ingredient lines into a single string\n",
    "                ingredients = \"\\n\".join(ingredients_list) if ingredients_list else None\n",
    "            \n",
    "            return title, ingredients\n",
    "        else:\n",
    "            print(f\"Failed to retrieve {url}. Status code: {response.status_code}\")\n",
    "            return None\n",
    "    except requests.exceptions.RequestException as e:\n",
    "        print(f\"Error fetching {url}: {e}\")\n",
    "        return None"
   ]
  },
  {
   "cell_type": "code",
   "execution_count": 27,
   "metadata": {},
   "outputs": [],
   "source": [
    "def fetch_ingredients_type6(url):\n",
    "    try:\n",
    "        response = requests.get(url, timeout=10)\n",
    "        \n",
    "        if response.status_code == 200:\n",
    "            soup = BeautifulSoup(response.content, \"html.parser\")\n",
    "            \n",
    "            title_tag = soup.find(\"h1\", class_=\"entry-title\")\n",
    "            title = title_tag.get_text().strip() if title_tag else \"Unknown Title\"\n",
    "            \n",
    "            ingredient_start = soup.find(lambda tag: tag.name == \"p\" and \"nguyên liệu\" in tag.get_text().lower())\n",
    "            \n",
    "            ingredients = None\n",
    "            \n",
    "            if ingredient_start:\n",
    "                ingredients_list = []\n",
    "                \n",
    "                for sibling in ingredient_start.find_next_siblings():\n",
    "                    if sibling.name == \"p\" and \"cách làm\" in sibling.get_text().lower():\n",
    "                        break\n",
    "\n",
    "                    if sibling.name == \"p\" and sibling.get_text().strip():\n",
    "                        ingredients_list.append(sibling.get_text().strip())\n",
    "                \n",
    "                ingredients = \"\\n\".join(ingredients_list) if ingredients_list else None\n",
    "            \n",
    "            return title, ingredients\n",
    "        else:\n",
    "            print(f\"Failed to retrieve {url}. Status code: {response.status_code}\")\n",
    "            return None\n",
    "    except requests.exceptions.RequestException as e:\n",
    "        print(f\"Error fetching {url}: {e}\")\n",
    "        return None"
   ]
  },
  {
   "cell_type": "code",
   "execution_count": 28,
   "metadata": {},
   "outputs": [],
   "source": [
    "def fetch_ingredients_type7(url):\n",
    "    try:\n",
    "        response = requests.get(url, timeout=10)\n",
    "        \n",
    "        if response.status_code == 200:\n",
    "            soup = BeautifulSoup(response.content, \"html.parser\")\n",
    "            \n",
    "            title_tag = soup.find(\"h1\", class_=\"entry-title\")\n",
    "            title = title_tag.get_text().strip() if title_tag else \"Unknown Title\"\n",
    "            \n",
    "            ingredient_header = soup.find(lambda tag: tag.name == \"h3\" and \"nguyên liệu\" in tag.get_text().lower())\n",
    "            \n",
    "            ingredients = None\n",
    "            \n",
    "            if ingredient_header:\n",
    "                ingredients_list = []\n",
    "                \n",
    "                for sibling in ingredient_header.find_next_siblings():\n",
    "                    if sibling.name == \"h3\" and \"cách làm\" in sibling.get_text().lower():\n",
    "                        break\n",
    "                    if sibling.name == \"p\" and sibling.get_text().strip():\n",
    "                        ingredients_list.append(sibling.get_text().strip())\n",
    "                \n",
    "                ingredients = \"\\n\".join(ingredients_list) if ingredients_list else None\n",
    "            \n",
    "            return title, ingredients\n",
    "        else:\n",
    "            print(f\"Failed to retrieve {url}. Status code: {response.status_code}\")\n",
    "            return None\n",
    "    except requests.exceptions.RequestException as e:\n",
    "        print(f\"Error fetching {url}: {e}\")\n",
    "        return None"
   ]
  },
  {
   "cell_type": "markdown",
   "metadata": {},
   "source": [
    "#### Get all ingredients from urls list by type of article format"
   ]
  },
  {
   "cell_type": "code",
   "execution_count": 29,
   "metadata": {},
   "outputs": [],
   "source": [
    "\n",
    "def get_all_ingredients_from_urls(url_list, type):\n",
    "    ingredients_dict = {}\n",
    "    not_found_urls = []\n",
    "    if type == 1:\n",
    "        fetch_ingredients_type = fetch_ingredients_type1\n",
    "    elif type == 2:\n",
    "        fetch_ingredients_type = fetch_ingredients_type2\n",
    "    elif type == 3:\n",
    "        fetch_ingredients_type = fetch_ingredients_type3\n",
    "    elif type == 4:\n",
    "        fetch_ingredients_type = fetch_ingredients_type4\n",
    "    elif type == 5:\n",
    "        fetch_ingredients_type = fetch_ingredients_type5\n",
    "    elif type == 6:\n",
    "        fetch_ingredients_type = fetch_ingredients_type6\n",
    "    elif type == 7:\n",
    "        fetch_ingredients_type = fetch_ingredients_type7\n",
    "    \n",
    "\n",
    "    with ThreadPoolExecutor(max_workers=8) as executor:\n",
    "        with tqdm(total=len(url_list), desc=\"Page Loading\", unit=\"page\") as progress_bar:\n",
    "            future_to_url = {executor.submit(fetch_ingredients_type, url): url for url in url_list}\n",
    "            \n",
    "            for future in as_completed(future_to_url):\n",
    "                url = future_to_url[future]\n",
    "                try:\n",
    "                    result = future.result()\n",
    "                    if result:\n",
    "                        title, ingredients = result\n",
    "                        if ingredients:\n",
    "                            ingredients_dict[title] = ingredients\n",
    "                        else:\n",
    "                            not_found_urls.append(url)\n",
    "                    else:\n",
    "                        not_found_urls.append(url)\n",
    "                except Exception as e:\n",
    "                    print(f\"Error processing {url}: {e}\")\n",
    "                \n",
    "                progress_bar.update(1)\n",
    "                time.sleep(2)\n",
    "    \n",
    "    return ingredients_dict, not_found_urls"
   ]
  },
  {
   "cell_type": "code",
   "execution_count": 30,
   "metadata": {},
   "outputs": [],
   "source": [
    "kokotaru_article_links = read_from_file(\"Assert/kokotaru_article_urls_full.txt\", 'r_b_line')"
   ]
  },
  {
   "cell_type": "code",
   "execution_count": 31,
   "metadata": {},
   "outputs": [
    {
     "name": "stderr",
     "output_type": "stream",
     "text": [
      "Page Loading: 100%|██████████| 458/458 [15:17<00:00,  2.00s/page]"
     ]
    },
    {
     "name": "stdout",
     "output_type": "stream",
     "text": [
      "Ingredients Dictionary: {'Bánh mì cà rốt': '600\\n \\ng\\n \\nbột bánh mì\\n1\\n \\ntsp\\n \\nmuối\\n30\\n \\ng\\n \\nđường trắng\\n200\\n \\nml\\n \\nsữa tươi\\n - \\nấm\\n12\\n \\ng\\n \\nmen khô\\n170\\n \\nml\\n \\nnước ép cà rốt\\n120\\n \\ng\\n \\ncà rốt bào sợi\\n40\\n \\ng\\n \\nbơ nhạt', 'Bánh hành chiên': '1\\n \\nquả\\n \\ntrứng\\n1\\n \\ntsp\\n \\nmen khô\\n¼\\n \\ntsp\\n \\nbaking soda\\n¼\\n \\ntsp\\n \\nbaking powder\\n1\\n \\ntsp\\n \\nmuối\\n200\\n \\nml\\n \\nnước ấm\\n300\\n \\ng\\n \\nbột mì đa dụng\\n100\\n \\ng\\n \\nhành lá\\n - \\nthái nhỏ\\n50\\n \\ng\\n \\nvừng trắng', 'Salted caramel cheesecake': 'Đế bánh\\n1\\n \\ncup\\n \\nbột mì nguyên cám\\n - \\nwhole wheat flour\\n½\\n \\ntsp\\n \\nmuối\\n1\\n \\ntsp\\n \\nbaking powder\\n¼\\n \\ncup\\n \\nđường nâu\\n - \\nbrown sugar\\n100\\n \\ng\\n \\nbơ nhạt\\n - \\nlạnh, cắt khối vuông nhỏ', 'Apple crisp cheesecake pie': 'Đế bánh:\\n1\\n \\ncup\\n \\nbột mì nguyên cám\\n - \\nwhole meal flour\\n½\\n \\ntsp\\n \\nmuối\\n1\\n \\ntsp\\n \\nbaking powder\\n¼\\n \\ncup\\n \\nđường nâu\\n100\\n \\ng\\n \\nbơ nhạt\\n - \\nlạnh, cắt hạt lựu', 'Pumpkin buns': 'Vỏ bánh\\n520\\n \\ng\\n \\nbột bánh mì\\n200\\n \\ng\\n \\nbí đỏ hấp chín nghiền nhuyễn\\n40\\n \\ng\\n \\nđường trắng\\n7\\n \\ng\\n \\nmen khô\\n - \\ninstant yeast\\n1\\n \\ntsp\\n \\nmuối\\n2\\n \\nquả\\n \\ntrứng\\n120\\n \\nml\\n \\nsữa tươi không đường', 'Quince muffin': '2\\n \\ncups\\n \\nquả quince đã nấu\\n180\\n \\nml\\n \\nbơ chảy\\n¼\\n \\ncup\\n \\nđường trắng\\n25\\n \\ng\\n \\nđường nâu\\n2\\n \\nquả\\n \\ntrứng\\n1½\\n \\ntsp\\n \\ntinh chất vanilla\\n120\\n \\ng\\n \\nsữa chua không đường\\n160\\n \\ng\\n \\nbột mì đa dụng\\n2\\n \\ntsp\\n \\nbột quế\\n¾\\n \\ntsp\\n \\nbaking powder\\n¾\\n \\ntsp\\n \\nbaking soda\\n½\\n \\ntsp\\n \\nmuối', 'Bánh mì bơ tỏi phô mai Hàn Quốc': 'Bánh mì\\n1\\n \\ncup\\n \\nsữa tươi không đường\\n - \\nnhiệt độ phòng\\n50\\n \\ng\\n \\nđường trắng\\n10\\n \\ng\\n \\nmen khô\\n - \\ninstant yeast\\n500\\n \\ng\\n \\nbột bánh  mì\\n1\\n \\ntsp\\n \\nmuối\\n2\\n \\nquả\\n \\ntrứng\\n40\\n \\ng\\n \\nbơ nhạt, mềm', 'Oreo cheesecake': '⅔\\n \\ncông thức\\n - \\nhomemade oreo\\n1\\n \\ncông thức\\n - \\noreo cheesecake\\n1\\n \\ngói\\n \\nbánh oreo mua sẵn\\n250\\n \\nml\\n \\nwhipping cream', 'Quince crumble': 'Quince filling:\\n4\\n \\nquả \\n \\nquince chín\\n - \\ngọt vỏ, thái lát\\n½\\n \\ncup\\n \\nđường trắng\\n2\\n \\ntbsp\\n \\nbột quế\\n3\\n \\ntbsp\\n \\ndấm táo \\n - \\napple cider vinegar', 'Pizza cuộn': '1\\n \\ncông thức\\n \\nđế bánh pizza dày\\n - \\npan pizza', 'Chè trôi nước': '400\\n \\ng\\n \\nbột gạo nếp\\n50\\n \\ng\\n \\nbột gạo tẻ\\n200\\n \\ng\\n \\nđường thốt nốt\\n50\\n \\ng\\n \\nđậu xanh cà vỏ\\n20\\n \\ng\\n \\ngừng tươi\\n - \\nthái sợi', 'Coffee cheesecake': 'Đế bánh\\n110\\n \\ng\\n \\nbột mì đa dụng\\n½\\n \\ncup\\n \\nbột cacao\\n1\\n \\ntsp\\n \\nbaking soda\\n¼\\n \\ntsp\\n \\nbaking powder\\n90\\n \\ng\\n \\nbơ nhạt\\n - \\nđể mềm\\n150\\n \\ng\\n \\nđường\\n1\\n \\nquả\\n \\ntrứng', 'Lemon brownies': '225\\n \\ng\\n \\nbơ nhạt\\n - \\nđể mềm\\n¾\\n \\ncup\\n \\nđường trắng\\n1\\n \\nquả\\n \\nchanh vàng\\n - \\nbào lấy vỏ nhuyễn\\n2\\n \\ntbsp\\n \\nnước cốt chanh vàng\\n4\\n \\nquả\\n \\ntrứng\\n1½\\n \\ncup\\n \\nbột mì đa dụng\\n½\\n \\ntsp\\n \\n muối', 'Cinnamon pretzel bites (nuggets)': 'Phần bột bánh\\n7\\n \\ng\\n \\nmen khô\\n240\\n \\nml\\n \\nnước ấm\\n2\\n \\ntbsp\\n \\nđường\\n2\\n \\ntbsp\\n \\nđường nâu\\n1\\n \\ntbsp\\n \\ndầu ăn\\n1\\n \\ntsp\\n \\nmuối\\n2½\\n \\ncup\\n \\nbột mì đa dụng', 'Bánh mì cuộn mứt dâu': '500\\n \\ng\\n \\nbột mì đa dụng\\n2½\\n \\ntsp\\n \\nmen khô\\n250\\n \\nml\\n \\nsữa ấm\\n90\\n \\ng\\n \\nđường\\n1\\n \\ntsp\\n \\nmuối\\n2\\n \\nquả\\n \\ntrứng\\n75\\n \\ng\\n \\nbơ nhạt, chảy\\n1\\n \\nlượng\\n \\nmứt dâu\\n - \\ntự làm hoặc mua sẵn\\n3\\n \\ntbs\\n \\nđường trắng hạt mịn\\n1\\n \\ntbsp\\n \\nbột quế', 'Bánh hạnh nhân mè đen giòn rụm': '200\\n \\ng\\n \\nlòng trắng trứng\\n200\\n \\ng\\n \\nđường trắng\\n1\\n \\ntsp\\n \\nmuối\\n50\\n \\ng\\n \\nbột hạnh nhân\\n150\\n \\ng\\n \\nbơ nhạt\\n - \\nlàm chảy\\n200\\n \\ng\\n \\nbột mì đa dụng\\n350\\n \\ng\\n \\nhạnh nhân lát\\n5\\n \\ntbsp\\n \\nvừng đen', 'Blueberry cheesecake crumble': 'Đế bánh và topping:\\n2\\n \\ncups\\n \\nbột mì nguyên cám\\n5\\n \\nmiếng\\n \\nweetbix \\n - \\nbóp vụn\\n1\\n \\ntsp\\n \\nmuối\\n2\\n \\ntsp\\n \\nbaking powder\\n3\\n \\ntsp\\n \\nbột quế\\n⅔\\n \\ncup\\n \\nđường nâu\\n - \\nbrown sugar\\n220\\n \\ng\\n \\nbơ lạnh\\n - \\ncắt thành khối nhỏ', 'Yoghurt poppy seeds cake': '1½\\n \\ncup\\n \\nbột mì đa dụng\\n2\\n \\ntsp\\n \\nbaking powder\\n1\\n \\ntsp\\n \\nbaking soda\\n½\\n \\ntsp\\n \\nmuối\\n2\\n \\nquả\\n \\ntrứng to\\n½\\n \\ncup\\n \\nđường trắng\\n½\\n \\ncup\\n \\ndầu ăn\\n1\\n \\ncup\\n \\nsữa chua không đường\\n1\\n \\nquả\\n \\nchanh vàng\\n - \\nvỏ bào nhuyễn, vắt lấy nước cốt\\n1\\n \\ntbsp\\n \\nhạt poppy\\n2\\n \\ntbsp\\n \\nyến mạch', 'Oatmeal molasses bread': '1\\n \\ncup\\n \\nsữa tươi không đường\\n - \\nlàm ấm\\n80\\n \\nml\\n \\nnước ấm\\n1\\n \\ntbsp\\n \\nmen khô\\n2\\n \\ntbsp\\n \\nđường nâu\\n2\\n \\ntbsp\\n \\nmolasses\\n1\\n \\ntsp\\n \\nmuối\\n40\\n \\nml\\n \\ndầu ăn\\n1\\n \\ncup\\n \\nyến mạch\\n3\\n \\ncup\\n \\nbột bánh mì\\n1\\n \\ncup\\n \\nbột mì nguyên cám', 'Crumble lemon cheesecake bars': 'Đế bánh và topping:\\n2\\n \\ncups\\n \\nbột mì nguyên cám\\n1\\n \\ncup\\n \\nyến mạch\\n1\\n \\ntsp\\n \\nmuối\\n2\\n \\ntsp\\n \\nbaking powder\\n1\\n \\ncup\\n \\nđường nâu\\n220\\n \\ng\\n \\nbơ lạnh\\n - \\ncắt khối vuông nhỏ\\n2\\n \\ntbsp\\n \\nvỏ chanh vàng\\n - \\nbào nhuyễn', 'Spinach cheese scones': '350\\n \\ng\\n \\nbột mì đa dụng\\n1\\n \\ntbsp\\n \\nđường\\n2½\\n \\ntsp\\n \\nbaking powder\\n½\\n \\ntsp\\n \\nmuối\\n110\\n \\ng\\n \\nbơ lạnh\\n - \\ncắt khối vuông nhỏ\\n¾\\n \\ncup\\n \\nsữa tươi\\n3\\n \\ncup\\n \\nrau cải bó xôi\\n - \\nthái nhỏ\\n250\\n \\ng\\n \\nphô mai cheddar \\n - \\nbào sợi', 'Mozzarella cheese spring onion bread': '530\\n \\ng\\n \\nbột bánh mì\\n - \\nbread flour\\n240\\n \\ng\\n \\nsữa tươi\\n80\\n \\ng\\n \\nđường\\n7\\n \\ng\\n \\nmen khô\\n6\\n \\ng\\n \\nmuối\\n2\\n \\nquả\\n \\ntrứng\\n60\\n \\ng\\n \\nbơ nhạt\\n - \\nđể mềm\\n250\\n \\ng\\n \\nmozzarella cheese\\n1\\n \\nlượng\\n \\nhành lá\\n2\\n \\ntsp\\n \\ndầu ô liu\\n½\\n \\ntsp\\n \\ntiêu đen xay', 'Cranberry buns with creamcheese filling': 'Tangzhong\\n500\\n \\ng\\n \\nnước\\n100\\n \\ng\\n \\nbột mì', 'Bánh mì tạo hình nơ': '1\\n \\ncông thức\\n \\nbánh mì hoa cúc', 'Blackberry crumble cheesecake bars': 'Đế bánh và topping:\\n2\\n \\ncups\\n \\nbột mì nguyên cám\\n5\\n \\nmiếng\\n \\nweetbix \\n - \\nbóp vụn\\n1\\n \\ntsp\\n \\nmuối\\n2\\n \\ntsp\\n \\nbaking powder\\n3\\n \\ntsp\\n \\nbột quế\\n⅔\\n \\ncup\\n \\nđường nâu\\n - \\nbrown sugar\\n220\\n \\ng\\n \\nbơ lạnh\\n - \\ncắt thành khối nhỏ', 'Lemon poppy seeds pancake': '2¼\\n \\ncup\\n \\nbột mì đa dụng\\n2\\n \\ntsp\\n \\nbaking powder\\n1\\n \\ntsp\\n \\nbaking soda\\n¼\\n \\ntsp\\n \\nmuối\\n1½\\n \\ncup\\n \\nsữa tươi\\n½\\n \\ncup\\n \\nnước cốt chanh vàng\\n2\\n \\nquả\\n \\ntrứng to\\n2\\n \\ntsp\\n \\nvanilla\\n3\\n \\ntbsp\\n \\nbơ chảy\\n½\\n \\ncup\\n \\nđường\\n2\\n \\ntbsp\\n \\nvỏ chanh bào\\n1\\n \\ntbsp\\n \\nhạt poppy\\n1\\n \\nlượng\\n \\ndầu ăn vừa đủ \\n - \\nđể phết chảo', 'Bánh mì hoa cúc': '150\\n \\ng\\n \\nwhipping cream\\n80\\n \\ng\\n \\nbơ nhạt\\n80\\n \\ng\\n \\nđường\\n80\\n \\ng\\n \\nsữa tươi không đường\\n10\\n \\ng\\n \\nmen nở \\n - \\ninstant yeast\\n3\\n \\nquả\\n \\ntrứng to\\n550\\n \\ng\\n \\nbột bánh mì\\n1\\n \\ntsp\\n \\nmuối', 'Lemon crinkles': '2½\\n \\ncups\\n \\nbột mì đa dụng\\n2\\n \\ntsp\\n \\nbaking powder\\n½\\n \\ntsp\\n \\nmuối\\n½\\n \\ncup\\n \\nbơ nhạt\\n - \\n110g\\n½\\n \\ncup\\n \\nđường\\n - \\n100g\\n2\\n \\nquả\\n \\ntrứng\\n3\\n \\ntbsp\\n \\nnước cốt chanh\\n1\\n \\ntsp\\n \\nvanilla\\n1\\n \\nlượng\\n \\nđường icing', 'Orange lemon layer cake': 'Orange lemon cake\\n3\\n \\ncups\\n \\nbột mì đa dụng\\n1\\n \\ntbsp\\n \\nbaking powder\\n½\\n \\ntsp\\n \\nmuối\\n1\\n \\ncup\\n \\nbơ nhạt\\n - \\nmềm\\n½\\n \\ncup\\n \\nđường\\n2\\n \\nquả\\n \\ntrứng to\\n1\\n \\ntsp\\n \\nvanilla extract\\n1½\\n \\ncup\\n \\nbutter milk\\n2\\n \\ntbsp\\n \\nvỏ chanh bào nhuyễn\\n2\\n \\ntbsp\\n \\nvỏ cam bào nhuyễn\\n40\\n \\nml\\n \\nnước cốt chanh vàng\\n60\\n \\nml\\n \\nnước cốt cam', 'Spring onion bread': 'Bánh mì\\n150\\n \\nml\\n \\nsữa tươi\\n3\\n \\ntbsp\\n \\nđường nâu\\n8\\n \\ng\\n \\nmen khô\\n350\\n \\ng\\n \\nbột bánh mì\\n1\\n \\nquả\\n \\ntrứng to\\n1\\n \\ntsp\\n \\nmuối\\n40\\n \\ng\\n \\nbơ', 'Hongkong pineapple buns': 'Tang zhong\\n20\\n \\ng\\n \\nbột mì\\n80\\n \\nml\\n \\nnước', 'Chocolate cake & peanut butter frosting': 'Chocolate cake\\n2\\n \\ncups\\n \\nbột mì đa dụng\\n1\\n \\ncup\\n \\nđường\\n¾\\n \\ncup\\n \\nbột cacao\\n1\\n \\ntsp\\n \\nmuối\\n½\\n \\ntsp\\n \\nbaking powder\\n1½\\n \\ntsp\\n \\nbaking soda\\n2\\n \\nquả\\n \\ntrứng\\n1\\n \\ncup\\n \\nbutter milk\\n1\\n \\ncup\\n \\ndầu ăn\\n1½\\n \\ntsp\\n \\nvanilla\\n1\\n \\ncup\\n \\nnước cà phê đặc', 'Apricot chocolate chips cookies': '125\\n \\ng\\n \\nbơ nhạt\\n - \\nđể mềm\\n½\\n \\ncup\\n \\nđường nâu\\n1\\n \\nquả\\n \\ntrứng\\n2\\n \\ntsp\\n \\nvanilla\\n1\\n \\ncup\\n \\nbột mì đa dụng\\n¾\\n \\ntsp\\n \\nbaking powder\\n¼\\n \\ntsp\\n \\nmuối\\n1½\\n \\ncup\\n \\nyến mạch\\n20\\n \\nquả\\n \\nmơ khô\\n - \\nthái vụn\\n100\\n \\ng\\n \\nchocolate chips', 'Bánh mì chanh vàng hạt poppy': '200\\n \\nml\\n \\nnước ấm\\n7\\n \\ng\\n \\nmen khô\\n2\\n \\ntbsp\\n \\nđường trắng\\n1\\n \\ntsp\\n \\nmuối\\n650\\n \\ng\\n \\nbột bánh mì\\n60\\n \\nml\\n \\nbơ chảy\\n60\\n \\nml\\n \\nmật ong\\n2\\n \\nquả\\n \\ntrứng to\\n2\\n \\ntbsp\\n \\nhạt poppy\\n2\\n \\ntbsp\\n \\nvỏ chanh vàng bào nhuyễn\\n2\\n \\ntbsp\\n \\nnước cốt chanh vàng', 'Japanese chocolate cream buns': 'Bánh mì\\n280\\n \\ng\\n \\nbột bánh mì\\n120\\n \\ng\\n \\nbột bánh cake\\n6\\n \\ng\\n \\nmuối\\n220\\n \\nml\\n \\nsữa tươi\\n7\\n \\ng\\n \\nmen khô\\n - \\ninstant yeast\\n40\\n \\ng\\n \\nđường\\n40\\n \\ng\\n \\nbơ mềm\\n1\\n \\nquả\\n \\ntrứng', 'Halloumi cheese sticks': '200\\n \\ng\\n \\nphô mai halloumi\\n1\\n \\nquả\\n \\ntrứng\\n1\\n \\n lượng\\n \\nbột mì\\n1\\n \\nlượng\\n \\nbột cà mì\\n - \\nbột chiên xù', 'Lemon layer cake': 'Phần bánh chanh\\n220\\n \\ng\\n \\nbơ nhạt\\n - \\nđể mềm\\n¾\\n \\ncup\\n \\nđường trắng\\n2\\n \\nquả\\n \\ntrứng\\n3\\n \\ncái\\n \\nlòng đỏ trứng\\n - \\n1\\n2\\n \\ntbsp\\n \\nvỏ chanh bào nhuyễn\\n4\\n \\ntbsp\\n \\nnước cốt chanh vàng\\n170\\n \\ng\\n \\nkem chua\\n - \\nsour cream\\n½\\n \\ncup\\n \\nsữa tươi không đường\\n2½\\n \\ncup\\n \\nbột mì đa dụng\\n1\\n \\ntsp\\n \\nmuối\\n1\\n \\ntsp\\n \\nbaking powder\\n½\\n \\ntsp\\n \\nbaking soda', 'Molasses oatmeal cookies': '250\\n \\ng\\n \\nbột mì đa dụng\\n1½\\n \\ntsp\\n \\nbaking powder\\n1\\n \\ntsp\\n \\nbaking soda\\n1\\n \\ntsp\\n \\nmuối\\n1\\n \\ntsp\\n \\nbột quế\\n250\\n \\ng\\n \\nyến mạch\\n - \\nrolled oats\\n100\\n \\ng\\n \\ndừa sợi khô\\n120\\n \\ng\\n \\nnho khô\\n110\\n \\ng\\n \\nbơ nhạt\\n - \\nđể mềm\\n100\\n \\ng\\n \\nđường trắng\\n2\\n \\nquả\\n \\ntrứng\\n170\\n \\ng\\n \\nmolasses', 'Parsley and cheese scones': '500\\n \\ng\\n \\nbột mì đa dụng\\n - \\nhoặc bột bánh mì\\n6\\n \\ntsp\\n \\nbaking powder\\n2\\n \\ntbsp\\n \\nbột mù tạt vàng\\n - \\nmustard powder\\n1\\n \\ntsp\\n \\nmuối\\n1\\n \\nlượng\\n \\nparsley thái nhỏ\\n80\\n \\ng\\n \\nbơ lạnh\\n - \\nthái hạt lựu nhỏ\\n350\\n \\nml\\n \\nsữa tươi không đường\\n300\\n \\ng\\n \\nphô mai bào', 'Cocoa brownies with walnut & cranberries': '290\\n \\ng\\n \\nbơ nhạt\\n270\\n \\ng\\n \\nđường trắng\\n160\\n \\ng\\n \\nbột cacao\\n½\\n \\ntsp\\n \\nmuối\\n4\\n \\nquả\\n \\ntrứng to\\n130\\n \\ng\\n \\nbột mì đa dụng\\n150\\n \\ng\\n \\nhạt óc chó\\n - \\nthái vụn\\n100\\n \\ng\\n \\ncranberries khô', 'Macaroons dừa chanh vàng': '200\\n \\ng\\n \\ndừa sợi khô\\n200\\n \\ng\\n \\nsữa đặc có đường\\n4\\n \\ntbsp\\n \\nnước cốt chanh vàng\\n3\\n \\ntbsp\\n \\nvỏ chanh vàng bào nhuyễn\\n½\\n \\ntsp\\n \\ntinh chất vanilla\\n¼\\n \\ntsp\\n \\nmuối\\n2\\n \\ncái\\n \\nlòng trắng trứng', 'Bánh chocolate siêu mềm ẩm': 'Bánh chocolate\\n2½\\n \\ncup\\n \\nbột mì đa dụng\\n2\\n \\ntsp\\n \\nbaking powder\\n2\\n \\ntsp\\n \\nbaking soda\\n1½\\n \\ntsp\\n \\nmuối\\n1½\\n \\ncup\\n \\nbột cacao\\n1\\n \\ncup\\n \\ncà phê espresso\\n2½\\n \\ncup\\n \\nnước nóng\\n2\\n \\ncup\\n \\nđường\\n1\\n \\ncup\\n \\ndầu ăn\\n4\\n \\ntsp\\n \\ntinh chất vanilla\\n3\\n \\nquả\\n \\ntrứng to\\n1½\\n \\ncup\\n \\nkem chua\\n - \\nsour cream', 'Lemon poppy seeds bars': '200\\n \\ng\\n \\nbơ nhạt\\n - \\nđể mềm\\n150\\n \\ng\\n \\nđường trắng\\n4\\n \\nquả\\n \\ntrứng to\\n4\\n \\ntbsp\\n \\nnước cốt chanh vàng\\n½\\n \\ntsp\\n \\nmuối\\n2\\n \\nquả\\n \\nchanh vàng\\n - \\nbào lấy vỏ nhuyễn\\n180\\n \\ng\\n \\nbột mì đa dụng\\n1\\n \\ntbsp\\n \\nhạt poppy\\n1\\n \\nlượng\\n \\nđường icing\\n - \\nrắc mặt bánh', 'Bánh mì bơ tỏi hành hoa': 'Bột cái\\n100\\n \\ng\\n \\nbột bánh mì\\n2\\n \\ng\\n \\nmen khô\\n100\\n \\ng\\n \\nnước', 'Bánh mì nướng piccalilli và phô mai': '8\\n \\nlát\\n \\nbánh mì sandwich\\n1\\n \\nlượng\\n \\npiccalilli\\n - \\nthay bằng loại khác tùy ý\\n1\\n \\nlượng\\n \\nphô mai bào sợi\\n - \\nchọn loại phô mai tùy thích\\n1\\n \\nít\\n \\nparsley\\n - \\năn kèm và trang trí', 'Cornflakes chocolate chips cookies': '150\\n \\ng\\n \\nbơ nhạt\\n - \\nđể mềm\\n¼\\n \\ncup\\n \\nđường trắng\\n1\\n \\nquả\\n \\ntrứng\\n1\\n \\ntsp\\n \\ntinh chất vanilla\\n1½\\n \\ncup\\n \\nbột mì đa dụng\\n1\\n \\ntsp\\n \\nbaking powder\\n½\\n \\ncup\\n \\nchocolate chips\\n4\\n \\ncups\\n \\ncornflakes', 'Bánh mì brioche cuộn vòng': 'Phần bột cái\\n⅓\\n \\ncup\\n \\nsữa tươi không đường\\n - \\nlàm ấm\\n2½\\n \\ntsp\\n \\nmen khô\\n1\\n \\nquả\\n \\ntrứng\\n2\\n \\ncup\\n \\nbột mì đa dụng', 'Lemon blueberry buttermilk cake': 'Phần bánh\\n230\\n \\nml\\n \\nsữa tươi không đường\\n1\\n \\ntbsp\\n \\nnước cốt chanh vàng\\n85\\n \\ng\\n \\ndầu ăn\\n3\\n \\nquả\\n \\ntrứng\\n2\\n \\ntbsp\\n \\nvỏ chanh vàng bào nhuyễn\\n4\\n \\ntbsp\\n \\nnước cốt chanh vàng\\n400\\n \\ng\\n \\nbột cake\\n180\\n \\ng\\n \\nđường trắng\\n½\\n \\ntsp\\n \\nmuối\\n2\\n \\ntsp\\n \\nbaking powder\\n½\\n \\ntsp\\n \\nbaking soda\\n200\\n \\ng\\n \\nbơ nhạt\\n - \\nđể mềm\\n300\\n \\ng\\n \\nquả việt quất\\n - \\nblueberry – tươi hoặc đông lạnh', 'Bánh mì cuộn nhân quế': 'Phần bánh mì\\n1\\n \\ncup\\n \\nsữa tươi không đường\\n - \\n240ml – nhiệt độ phòng\\n2¼\\n \\ntsp\\n \\nmen khô\\n - \\ninstant yeast\\n1\\n \\nquả \\n \\ntrứng\\n¼\\n \\ncup\\n \\nbơ chảy hoặc mềm\\n - \\n60g\\n¼\\n \\ncup\\n \\nđường trắng\\n - \\n50g\\n3¾\\n \\ncup\\n \\nbột mì đa dụng\\n - \\nhoặc bột bánh mì\\n1\\n \\ntsp\\n \\nmuối', 'Pancake dừa': '2\\n \\ncups\\n \\nbột mì đa dụng\\n - \\n240g\\n¼\\n \\ncup\\n \\nđường trắng\\n - \\n50g\\n1\\n \\ntbsp\\n \\nbaking powder\\n¾\\n \\ntsp\\n \\nmuối\\n1\\n \\ncup\\n \\nsữa tươi không đường\\n - \\n240ml\\n380\\n \\ng\\n \\nnước cốt dừa\\n - \\ncoconut cream\\n1\\n \\nquả\\n \\ntrứng\\n1\\n \\nlượng\\n \\ndừa khô\\n - \\ntùy theo sở thích\\n1\\n \\nlượng\\n \\ndầu dừa', 'Rosemary Garlic Challah Bread': '8\\n \\ng\\n \\nmen khô\\n - \\ninstant yeast\\n1\\n \\ncup\\n \\nnước ấm\\n - \\n240ml\\n1\\n \\ntbsp\\n \\nđường trắng\\n¼\\n \\ncup\\n \\ndầu ăn\\n - \\n60ml\\n2\\n \\ntbsp\\n \\nmật ong\\n2\\n \\nquả\\n \\ntrứng\\n4\\n \\ncups\\n \\nbột bánh mì\\n - \\nhoặc bột đa dụng\\n1\\n \\ntsp\\n \\nmuối\\n1\\n \\ntbsp\\n \\nbột tỏi\\n2\\n \\ntbsp\\n \\nlá hương thảo tươi\\n - \\nthái nhỏ\\n2\\n \\ntép\\n \\ntỏi tươi\\n - \\nthái lát mỏng', 'Puff pastry triangles with cinnamon apple walnut custard filling': 'Làm nhân táo\\n30\\n \\ng\\n \\nbơ nhạt\\n2\\n \\nquả\\n \\ntáo\\n - \\nthái vuông quân cờ\\n2\\n \\ntbsp\\n \\nđường nâu\\n1\\n \\ntbsp\\n \\nbột quế\\n150\\n \\ng\\n \\nhạt óc chó\\n - \\nthái vụn\\n1\\n \\ntbsp\\n \\nnước cốt chanh vàng\\n1\\n \\nquả\\n \\nchanh vàng\\n - \\nbào lấy vỏ', 'Cupcake chanh vàng hạt poppy nhân mứt chanh': '⅓\\n \\ncup\\n \\nnước cốt chanh vàng\\n - \\n80ml\\n100\\n \\ng\\n \\nđường trắng\\n½\\n \\ntsp\\n \\nmuối\\n4\\n \\ncái\\n \\nlòng đỏ trứng\\n50\\n \\ng\\n \\nbơ nhạt', 'Bánh mì nguyên cám với phô mai và thịt hun khói': '200\\n \\nml\\n \\nsữa tươi không đường\\n - \\nấm\\n1½\\n \\ntbsp\\n \\nđường\\n10\\n \\ng\\n \\nmen khô\\n - \\ninstant yeast\\n2\\n \\ncups\\n \\nbột bánh mì\\n - \\n260g bread flour\\n2\\n \\ncups\\n \\nbột mì nguyên cám\\n - \\n260g whole wheat flour\\n80\\n \\ng\\n \\nbơ nhạt\\n - \\nlàm chảy\\n3\\n \\nquả\\n \\ntrứng\\n - \\nđánh tan\\n½\\n \\ntbsp\\n \\nmuối\\n250\\n \\ng\\n \\nthịt hun khói\\n - \\nbacon\\n300\\n \\ng\\n \\nphô-mai cheddar\\n - \\nbào sợi\\n1\\n \\nnắm\\n \\nparley\\n - \\nthái nhỏ', 'Bánh mì hình sao – tạo hình tuyệt đẹp': '1\\n \\ncup\\n \\nsữa tươi không đường\\n - \\n240ml\\n2 1/4\\n \\ntsp\\n \\nmen khô\\n - \\ninstant yeast\\n1\\n \\nquả\\n \\ntrứng\\n1/4\\n \\ncup\\n \\nbơ nhạt, chảy\\n - \\n60g\\n1/4\\n \\ncup\\n \\nđường trắng\\n - \\n50g\\n3 3/4\\n \\ncup\\n \\nbột bánh mì\\n - \\nhoặc bột mì đa dụng\\n1\\n \\ntsp\\n \\nmuối', 'Cách làm bánh mì bò kho': '800\\n \\ng\\n \\nthịt bò gân\\n1\\n \\ngói\\n \\ngia vị bò kho\\n2\\n \\ntbsp \\n \\nnước mắm\\n - \\ngia giảm tùy theo\\n3\\n \\ncủ\\n \\nhành tím\\n1\\n \\ncủ\\n \\ntỏi\\n3\\n \\ncây\\n \\nsả\\n3\\n \\nquả\\n \\ncà chua\\n1\\n \\ncủ\\n \\nhành tây\\n2\\n \\ncủ\\n \\ncà rốt\\n1 \\n \\nrổ\\n \\nrau sống các loại\\n - \\nhúngquế, rau mùi, mùi tàu, húng lủi\\n5\\n \\ncái\\n \\nbánh mì', 'Coconut cookies – bánh quy dừa': '200\\n \\ng\\n \\nbơ nhạt\\n150\\n \\ng\\n \\nđường bột\\n - \\nicing sugar\\n½\\n \\ntsp\\n \\nmuối\\n2\\n \\nquả\\n \\ntrứng\\n1\\n \\ntsp\\n \\nvanilla extract\\n1½\\n \\ntsp\\n \\nbaking powder\\n300\\n \\ng\\n \\nbột cake\\n - \\ncake flour\\n100\\n \\ng\\n \\ndừa sợi khô', 'Bánh brownies hạt óc chó với xốt caramel': '220\\n \\ng\\n \\nchocolate đen\\n - \\n(loại ít ngọt, ví dụ chocolate couverture 65%)\\n240\\n \\ng\\n \\nbơ nhạt\\n1\\n \\ntsp\\n \\nvanilla extract\\n100\\n \\ng\\n \\nhạt óc chó\\n20\\n \\ng\\n \\nbột cacao\\n2\\n \\ntsb\\n \\nbaking powder\\n5\\n \\nquả\\n \\ntrứng\\n80\\n \\ng\\n \\nđường', 'Butter cookies – bánh quy bơ': '380\\n \\ng\\n \\nbơ nhạt\\n - \\nđể mềm ở nhiệt độ phòng\\n150\\n \\ng\\n \\nđường bột\\n - \\nicing sugar\\n1½\\n \\ntsp\\n \\nmuối\\n2\\n \\nquả\\n \\ntrứng\\n2\\n \\ntsp\\n \\nvanilla extract\\n250\\n \\ng\\n \\nbột mì cake\\n - \\ncake flour, có thể thay bằng bột mì đa dụng\\n250\\n \\ng\\n \\nbột mì bread\\n - \\nbread flour, có thể thay bằng bột mì đa dụng\\n1\\n \\ntsp\\n \\nbaking powder\\n2\\n \\ntbsp\\n \\nbột cacao\\n1\\n \\ntbsp\\n \\nbột trà xanh\\n50\\n \\ng\\n \\ncranberry khô\\n50\\n \\nml\\n \\nrượu rum', 'Bánh tart dâu tây kem trứng – strawberry custard tart': 'Phần kem\\n250\\n \\nml\\n \\nsữa tươi không đường\\n70\\n \\ng\\n \\nđường trắng\\n3\\n \\ncái\\n \\nlòng đỏ trứng\\n25\\n \\ng\\n \\nbột ngô\\n150\\n \\nml\\n \\nwhipping cream\\n40\\n \\ng\\n \\nbơ nhạt\\n1\\n \\ntsp\\n \\nvanilla extract', 'Linzer cookies – bánh quy vị quế nhân mứt quả': '225\\n \\ng\\n \\nbơ nhạt\\n - \\nđể mềm\\n150\\n \\ng\\n \\nđường bột\\n - \\nicing sugar\\n½\\n \\ntsp\\n \\nmuối\\n2\\n \\nquả\\n \\ntrứng\\n1\\n \\ntsp\\n \\nvanilla extract\\n150\\n \\ng\\n \\nbột hạnh nhân\\n450\\n \\ng\\n \\nbột mì cake\\n - \\ncake flour\\n2\\n \\ntsp\\n \\nbột quế\\n - \\nhoặc 10g\\n2\\n \\ntbsp\\n \\nvỏ chanh vàng\\n - \\nbào nhuyễn\\n1\\n \\nlượng\\n \\nmứt quả\\n - \\ntùy ý', 'Cách làm bánh phô mai socola kiểu Đức – German chocolate cheesecake': 'Cho đế bánh\\n2\\n \\ncups\\n \\nvụn bánh Oreo\\n - \\n(500ml)\\n4\\n \\ntbsp\\n \\nbơ chảy\\n - \\nbơ nhạt', 'Tìm hiểu về bánh Tiramisu và công thức của Kokotaru': 'Phần kem cheese\\n2\\n \\ncup\\n \\nsữa tươi\\n - \\n480ml\\n100\\n \\ng\\n \\nđường trắng\\n35\\n \\ng\\n \\nbột mì đa dụng\\n6\\n \\ncái\\n \\nlòng đỏ trứng\\n60\\n \\nml\\n \\nrượu rum\\n - \\ndark Rhum\\n2\\n \\ntsp\\n \\nvanilla\\n60\\n \\ng\\n \\nbơ nhạt\\n - \\ncắt thành miếng nhỏ\\n250\\n \\ng\\n \\nmascapone cheese\\n1\\n \\nbánh\\n \\ngato Hongkong\\n - \\nhoặc bánh cuộn', 'Cách làm bánh Gato Hồng Kông': '4\\n \\nquả\\n \\ntrứng\\n80\\n \\ng\\n \\nđường trắng\\n¼\\n \\ntsp\\n \\ncream of tartar\\n35\\n \\ng\\n \\nsữa tươi\\n35\\n \\ng\\n \\ndầu ăn\\n - \\ndầu hạt cải hoặc dầu hướng dương\\n50\\n \\ng\\n \\nbột mì\\n - \\n(cake flour)\\n50\\n \\ng\\n \\nbột ngô\\n - \\n(corn starch)', 'Bánh phô-mai anh đào – Cherry cheesecake bars': 'Làm đế bánh\\ncông thức làm đế cho bánh tart hoặc pie mà bạn thường làm và ưng ý nhất. Tham khảo ở đây.', 'Kẹo hạnh nhân ngọt vị quế đường': '200\\n \\ng\\n \\nhạnh nhân\\n - \\nnguyên hạt\\n50\\n \\ng\\n \\nđường nâu\\n50\\n \\ng\\n \\nđường trắng\\n1\\n \\ntsp\\n \\nbột quế\\n1\\n \\ncái\\n \\nlòng trắng\\n - \\ntrứng gà', 'Bánh pie rau Đại hoàng – Rhubarb Pie': 'Cho vỏ pie\\n350\\n \\ng\\n \\nbộ mì đa dụng\\n - \\nall-purpose flour/plain flour\\n1\\n \\ntsp\\n \\nmuối\\n2\\n \\ntbsp\\n \\nđường\\n200\\n \\ng\\n \\nbơ lạnh\\n70\\n \\nml\\n \\nnước đá', 'Bánh việt quất và hạt – Blueberry and nuts cake': '2\\n \\ncup\\n \\nbột mì đa dụng\\n - \\nall purpose flour / plain flour\\n1½\\n \\ntsp\\n \\nbaking powder\\n½\\n \\ntsp\\n \\nbaking soda\\n½\\n \\ntsp\\n \\nmuối\\n1\\n \\ncup\\n \\nquả việt quất tươi\\n - \\nblueberries\\n⅓\\n \\ncup\\n \\nđường nâu\\n¼\\n \\ncup\\n \\nyến mạch\\n2\\n \\ntbsp\\n \\nhạt óc chó\\n - \\nthái vụn\\n2\\n \\ntbsp\\n \\nhạnh nhân hạt\\n - \\nthái vụn\\n1\\n \\ntbsp\\n \\nbột mì\\n¼\\n \\ntsp\\n \\nbột quế\\n2\\n \\ntbsp\\n \\nbơ chảy\\n½\\n \\ncup\\n \\nđường nâu\\n¼\\n \\ncup\\n \\nbơ\\n - \\nđể mềm\\n2\\n \\ntbsp\\n \\ndầu ăn\\n1\\n \\nquả\\n \\ntrứng\\n1\\n \\ncup\\n \\nbutter milk\\n - \\n(1 cup sữa tươi + 1 tbs nước cốt chanh, quấy đều, để yên 10-15 phút)\\n1\\n \\ntbsp\\n \\nnước cốt chanh vàng\\n2\\n \\ntbsp\\n \\nvỏ chanh vàng\\n - \\nbào vụn', 'Bánh tôm Hà Nội': '500\\n \\ng\\n \\ntôm đồng\\n250\\n \\ng\\n \\nbột mì\\n50\\n \\ng\\n \\nbột năng\\n⅓\\n \\ntsp\\n \\nmuối\\n1\\n \\ncủ\\n \\nkhoai lang\\n - \\nthái sợi nhỏ vụn\\n2\\n \\nquả\\n \\ntrứng vịt\\ncà rốt\\n - \\nsu hào hoặc đu đủ xanh\\nnước mắm\\ntiêu xay\\ntỏi\\nớt\\nchanh\\nđường\\ndấm\\nrau sống\\n - \\năn kèm\\ndầu ăn', 'Cách làm Bánh quy lưỡi mèo 3 vị': '230\\n \\ng\\n \\nbơ nhạt\\n - \\nđể mềm\\n130\\n \\ng\\n \\nđường bột\\n1\\n \\ntsp\\n \\nvanilla extract\\n200\\n \\ng\\n \\nlòng trắng trứng\\n250\\n \\ng\\n \\nbột mì đa dụng\\n½\\n \\ntsp\\n \\nmuối\\n½\\n \\ntbsp\\n \\nbột trà xanh\\n1\\n \\ntbsp\\n \\nbột cacao\\n1\\n \\nlượng\\n \\nhạnh nhân lát', 'Cách làm bánh dứa kiểu Tàu': '300\\n \\ng\\n \\nbơ nhạt\\n - \\nđể mềm ở nhiệt độ phòng\\n70\\n \\ng\\n \\nđường bột\\n1\\n \\nquả\\n \\ntrứng\\n1\\n \\ntsp\\n \\nmuối\\n500\\n \\ng\\n \\nbột mì đa dụng\\n50\\n \\ng\\n \\nbột ngô', 'Cách làm  bánh quy hạt dẻ tuyệt ngon – Hazelnut round': '125\\n \\ng\\n \\nbơ nhạt\\n - \\nđể mềm\\n100\\n \\ng\\n \\nđường nâu\\n1\\n \\nquả\\n \\ntrứng\\n100\\n \\ng\\n \\nbột mì đa dụng\\n50\\n \\ng\\n \\nrolled oats\\n1½\\n \\ntbsp\\n \\nbột cacao\\n½\\n \\ntsp\\n \\nbaking powder\\n⅛\\n \\ntsp\\n \\nmuối\\n90\\n \\ng\\n \\nwhite chocolate\\n90\\n \\ng\\n \\nchocolate thường\\n - \\n(đen hoặc sữa)\\n100\\n \\ng\\n \\nhazelnut', 'Bánh mì bơ tỏi': 'Bánh mì\\n - \\n(Pháp, Ý, gối đều ngon –\\xa0 Bánh mì Ngã Tư Sở ở HN cũng sẽ ngon :P)\\nBơ nhạt\\n - \\n(nếu dùng bơ mặn thì không cần thêm muối)\\nMuối\\nTỏi\\nPasley', 'Bánh muffins chocolate trắng': 'Làm thân muffin\\n170\\n \\ng\\n \\nbột mì\\n1½\\n \\ntsp\\n \\nbaking powder\\n70\\n \\ng\\n \\nđường\\n100\\n \\ng\\n \\nchocolate trắng\\n - \\nbào vụn\\n2\\n \\nquả\\n \\ntrứng\\n100\\n \\ng\\n \\nbơ\\n - \\nchảy\\n60\\n \\nml\\n \\nsữa chua\\n - \\ncó đường (nếu không đường thì thêm khoảng 10g đường nữa)', 'Bánh pizza đế mỏng – công thức cơ bản': '90\\n \\ng\\n \\nbột mì đa dụng\\n100\\n \\ng\\n \\nbột bánh mì\\n½\\n \\ntsp\\n \\nđường\\n½\\n \\ntsp\\n \\nmen nở \\n - \\n(instant yeast)\\n½\\n \\ntsp\\n \\nmuối\\n¾\\n \\ntbsp\\n \\ndầu ô liu\\n110\\n \\nml\\n \\nnước nóng ấm\\n - \\n(không phải nước ấm và cũng không phải là nước mới đun sôi xong)', 'Bánh macaroons dừa – coconut macaroons': '6\\n \\ncái\\n \\nlòng trắng trứng\\n350\\n \\ng\\n \\ncùi dừa tươi bào sợi\\n120\\n \\ng\\n \\nđường trắng\\n20\\n \\ng\\n \\nbột mì đa dụng\\n¼\\n \\ntsp\\n \\ntinh chất vanilla'}\n",
      "Not Found URLs: ['https://kokotaru.com/banh-he-nuong-chao/', 'https://kokotaru.com/walnut-quince-yogurt-cake-banh-quince-sua-chua-hat-oc-cho/', 'https://kokotaru.com/poppy-seeds-quince-cake-banh-qua-quince-hat-poppy/', 'https://kokotaru.com/pizza-banh-mi-banh-pizza-lam-tu-banh-mi-sandwich/', 'https://kokotaru.com/banh-mi-nuong-trung-thit-hun-khoi/', 'https://kokotaru.com/tim-hieu-ve-noi-chien-khong-dau/', 'https://kokotaru.com/banh-sinh-nhat-trang-tri-fondant-lam-theo-yeu-cau/', 'https://kokotaru.com/nhung-vat-dung-co-ban-cua-lam-banh/', 'https://kokotaru.com/cach-lam-banh-bong-lan-trung-muoi-cha-bong/', 'https://kokotaru.com/loi-thuong-gap-khi-lam-banh-kinh-nghiem-lam-banh-ngon/', 'https://kokotaru.com/van-de-thuong-gap-voi-cookies/', 'https://kokotaru.com/kinh-nghiem-lua-chon-va-su-dung-may-tron-bot-mixer/', 'https://kokotaru.com/phan-loai-lo-nuong-kinh-nghiem-su-dung-lo-nuong-gia-dinh/', 'https://kokotaru.com/cach-lam-hat-dac-rim-dau-tam/', 'https://kokotaru.com/cach-lam-hat-dac-rim-la-dua/', 'https://kokotaru.com/cach-lam-hat-dac-rim-dau-tay/', 'https://kokotaru.com/cach-lam-hat-dac-rim-dua-thom/', 'https://kokotaru.com/cach-che-bien-hat-dac-tuoi-dac-san-nha-trang/', 'https://kokotaru.com/cach-lam-banh-bong-lan-gato-hong-kong-la-dua/', 'https://kokotaru.com/9-loai-banh-pancake-ngon-khong-can-dung-lo-nuong/', 'https://kokotaru.com/hinh-anh-va-ten-goi-cac-loai-khuon-dung-trong-lam-banh/', 'https://kokotaru.com/14-cach-lam-banh-bong-lan-gato-cho-trang-tri-banh-kem-sinh-nhat/', 'https://kokotaru.com/4-cach-lam-flan-ngon-tuyet/', 'https://kokotaru.com/lam-banh-cho-nguoi-bi-tieu-duong/', 'https://kokotaru.com/cac-loai-bot-lam-banh/', 'https://kokotaru.com/cach-lam-hat-dac-rim-chanh-leo/', 'https://kokotaru.com/cach-lam-banh-bong-lan-gato-bang-noi-com-dien/', 'https://kokotaru.com/cach-lam-banh-cupcake-socola-kem-phomai/', 'https://kokotaru.com/cac-loai-duong-lam-banh/', 'https://kokotaru.com/ten-goi-va-phan-biet-cac-loai-banh-phuong-tay/', 'https://kokotaru.com/cac-loai-kem-phu-icing-frosting/', 'https://kokotaru.com/phan-biet-cac-loai-pho-mat-cheese/', 'https://kokotaru.com/banh-bao-chien-bo-xot-tieu-nam/', 'https://kokotaru.com/cach-lam-sua-dau-phong-me-den/', 'https://kokotaru.com/cac-loai-rau-thom-va-cach-dung-trong-mon-an-viet/', 'https://kokotaru.com/ten-goi-va-cong-dung-cac-loai-dao-nha-bep/', 'https://kokotaru.com/6-loai-banh-quy-ngon-tuyet-chi-dung-long-do-trung/', 'https://kokotaru.com/cach-tan-dung-long-do-trung-thua/', 'https://kokotaru.com/cach-lam-banh-mi-gion-tan-cho-salad-va-sup-croutons/', 'https://kokotaru.com/cac-van-de-loi-khi-lam-banh-mi/', 'https://kokotaru.com/cach-tan-dung-long-trang-trung-thua/', 'https://kokotaru.com/cach-lam-so-co-la-nho-kho-va-hat-bi-pumpkin-seed-and-rasin-chocolate/', 'https://kokotaru.com/cach-lam-banh-bi-ngoi-chien-man/', 'https://kokotaru.com/cac-kieu-cat-rau-cu-ki-nang-dung-dao/', 'https://kokotaru.com/banh-quy-bot-dau-nanh-yen-mach-va-qua-nam-viet-quat-kho/', 'https://kokotaru.com/cach-lam-che-dau-xanh-pho-tai/', 'https://kokotaru.com/cach-lam-snack-bars/', 'https://kokotaru.com/cach-lam-banh-chuoi-vung-nuong-thom-phuc-banana-coconut-sesame-cake/', 'https://kokotaru.com/cach-lam-bi-ngoi-nuong-pho-mai-parmesan/', 'https://kokotaru.com/cach-lam-banh-kem-phomai-oreo-cheesecake-cupcake/', 'https://kokotaru.com/cach-lam-banh-mi-que-nhan-kem-tao-cinnamon-apple-custard-cake-bun/', 'https://kokotaru.com/cach-lam-dau-dua/', 'https://kokotaru.com/cach-lam-banh-mi-hoa-qua-kho/', 'https://kokotaru.com/cach-lam-cupcake-vung-den/', 'https://kokotaru.com/cach-lam-snack-cu-sen-an-vat-gion-tan/', 'https://kokotaru.com/cach-lam-passion-fruit-souffle-souffle-chanh-leo/', 'https://kokotaru.com/cach-lam-honey-castella-banh-mat-ong-kasutera/', 'https://kokotaru.com/cach-lam-banh-cuon-bang-chao/', 'https://kokotaru.com/cach-lam-banh-bo-la-dua-pandan-poppy-seeds-butter-cake/', 'https://kokotaru.com/cach-lam-banh-trung-thu-thap-cam/', 'https://kokotaru.com/cach-lam-sua-dau-nanh-la-dua/', 'https://kokotaru.com/cach-lam-donut-nhung-chiec-banh-thom-nuc/', 'https://kokotaru.com/cach-lam-banh-mi-la-dua/', 'https://kokotaru.com/cach-lam-sua-dau-nanh-me-den/', 'https://kokotaru.com/cach-lam-mut-la-dua-pandan-kaya/', 'https://kokotaru.com/cach-lam-macarons/', 'https://kokotaru.com/cach-lam-sua-dau-nanh-tai-nha/', 'https://kokotaru.com/cach-lam-banh-trung-thu-ngan-lop/', 'https://kokotaru.com/cach-lam-sua-bap-sua-ngo/', 'https://kokotaru.com/cach-lam-banh-nuong/', 'https://kokotaru.com/cach-lam-nhan-banh-trung-thu/', 'https://kokotaru.com/cach-lam-nuoc-duong-banh-nuong/', 'https://kokotaru.com/cach-lam-banh-deo/', 'https://kokotaru.com/cach-lam-souffle-tra-xanh/', 'https://kokotaru.com/cach-lam-cookies-vung-den-banh-quy/', 'https://kokotaru.com/cach-lam-banh-socola-it-beo-low-fat-chocolate-souffle/', 'https://kokotaru.com/cach-lam-banh-chanh-dua-va-hat-poppy/', 'https://kokotaru.com/cach-lam-cookies-gao-vung-den/', 'https://kokotaru.com/cach-lam-xot-ca-chua-cho-pizza/', 'https://kokotaru.com/cach-lam-nuoc-gao-rang/', 'https://kokotaru.com/cach-lam-sweet-and-salty-brownies/', 'https://kokotaru.com/giai-dap-nguyen-lieu-lam-banh-trung-thu/', 'https://kokotaru.com/kinh-nghiem-chon-mua-khuon-banh-trung-thu/', 'https://kokotaru.com/cach-lam-hat-dieu-ngao-mat-ong-an-vat/', 'https://kokotaru.com/cach-lam-banh-socola-bang-lo-vi-song-chocolate-mug-cake/', 'https://kokotaru.com/nhin-an-va-suc-khoe/', 'https://kokotaru.com/cach-lam-hat-dieu-man-an-vat/', 'https://kokotaru.com/an-chay-va-suc-khoe-p3/', 'https://kokotaru.com/cach-lam-panna-cotta-tra-xanh-matcha-panna-cotta/', 'https://kokotaru.com/cach-lam-banh-quy-que-thom/', 'https://kokotaru.com/cach-lam-che-khuc-bach/', 'https://kokotaru.com/an-chay-va-suc-khoe-phan-1/', 'https://kokotaru.com/an-chay-va-suc-khoe-p2/', 'https://kokotaru.com/tang-them-100-cuon-sach-cookbook/', 'https://kokotaru.com/cach-lam-cupcake-bi-do/', 'https://kokotaru.com/cach-lam-banh-quy-man-vi-phomai-cheddar-and-black-pepper-crackers/', 'https://kokotaru.com/cach-lam-upcake-la-dua/', 'https://kokotaru.com/cach-lam-socola-vien-vi-banh-quy-kem-phomai-cookie-creamcheese-truffle/', 'https://kokotaru.com/cach-lam-banh-quy-man-vi-ot-paprika-paprika-cracker/', 'https://kokotaru.com/cach-lam-su-kem-nhan-tra-xanh/', 'https://kokotaru.com/cach-lam-pho-mai-que-an-vat-fried-mozzarella-cheese-sticks/', 'https://kokotaru.com/tang-sach-cookbook-kokotaru-moi-xuat-ban/', 'https://kokotaru.com/cach-lam-banh-muffin-qua-anh-dao-cherry-muffin/', 'https://kokotaru.com/cach-lam-banh-brownie-pho-mai-anh-dao-brownie-cherry-cheesecake/', 'https://kokotaru.com/wagashi-nghe-thuat-banh-ngot-nhat-ban/', 'https://kokotaru.com/cach-lam-banh-pie-qua-anh-dao-cherry-pie/', 'https://kokotaru.com/cach-lam-banh-muffin-tao-apple-muffins/', 'https://kokotaru.com/cach-lam-banh-chanh-qua-phuc-bon-tu-lemon-raspberry-bars/', 'https://kokotaru.com/nguyen-lieu-trong-am-thuc-nhat-ban/', 'https://kokotaru.com/cach-lam-banh-socola-anh-dao-chocolate-cherry-cake/', 'https://kokotaru.com/cach-lam-banh-kem-pho-mai-socola-mem-chocolate-mousse-cheesecake/', 'https://kokotaru.com/cach-lam-banh-socola-black-forest-cake/', 'https://kokotaru.com/cach-lam-banh-qua-phuc-bon-tu-buttermilk-raspberry-cake/', 'https://kokotaru.com/cach-lam-mashed-potato-khoai-tay-nghien/', 'https://kokotaru.com/cach-lam-banh-muffin-socola-phuc-bon-tu-raspberry-and-dark-chocolate-muffin/', 'https://kokotaru.com/cach-lam-banh-mousse-socola-dua-chocolate-and-coconut-mousse-cake/', 'https://kokotaru.com/cach-lam-banh-cupcake-socola-chocolate-cupcake/', 'https://kokotaru.com/cach-lam-banh-tra-xanh-nuong-chao-matcha-pancake/', 'https://kokotaru.com/cach-lam-banh-tiramisu-cake/', 'https://kokotaru.com/cach-lam-banh-kem-pho-mai-tra-xanh-cheesecake-tra-xanh/', 'https://kokotaru.com/cach-lam-banh-muffin-chanh-hat-poppy-lemon-poppy-seeds-muffin/', 'https://kokotaru.com/cach-lam-banh-quy-dua-socola-den-dark-chocolate-coconut-cookies/', 'https://kokotaru.com/cach-lam-banh-nam-viet-quat-hat-de-cuoi-cranberry-pistachio-shortbread/', 'https://kokotaru.com/cach-lam-banh-kem-pho-mai-socola-chocolate-truffle-cheesecake/', 'https://kokotaru.com/cach-lam-cafe-ruou-kahluaccinno/', 'https://kokotaru.com/cach-lam-banh-quy-nam-viet-quat-hat-de-cuoi-cranberry-pistachios-biscotti/', 'https://kokotaru.com/cach-lam-banh-quy-socola-dua-double-dark-chocolate-coconut-cookies/', 'https://kokotaru.com/cach-lam-banh-mi-socola/', 'https://kokotaru.com/cach-lam-banh-nuong-chao-chocolate-pancake/', 'https://kokotaru.com/cach-lam-banh-quy-chanh-hanh-nhan-cookie-chanh-hanh-nhan/', 'https://kokotaru.com/cach-lam-banh-nuong-chao-bo-dau-phong-peanut-butter-chocolate-chip-pancake/', 'https://kokotaru.com/cach-lam-banh-socola-mem-molten-chocolate-lava-cake/', 'https://kokotaru.com/cach-lam-socola-tinh-yeu-chocolate-hearts-with-nuts/', 'https://kokotaru.com/cach-lam-banh-quy-oreo-homemade-oreo-cookies/', 'https://kokotaru.com/cach-lam-cake-balls-cho-le-tinh-yeu-happy-valentine/', 'https://kokotaru.com/cach-lam-banh-quy-tra-xanh-hanh-nhan-cookie-tra-xanh-hanh-nhan/', 'https://kokotaru.com/cach-lam-banh-cho-le-tinh-yeu-red-velvet-cheesecake-brownies/', 'https://kokotaru.com/cach-lam-chocolate-truffle-tart/', 'https://kokotaru.com/cach-lam-banh-pho-mai-bo-dau-phong-peanut-butter-cheesecake-brownies/', 'https://kokotaru.com/cach-lam-banh-quy-bo-don-gian-easy-shortbread/', 'https://kokotaru.com/cach-lam-banh-brownie-tuyet-ngon-eggnog-brownies-with-raspberry-sauce/', 'https://kokotaru.com/cach-lam-banh-pie-dau-tay-strawberry-crumble-pie/', 'https://kokotaru.com/cach-lam-brownie-tra-xanh/', 'https://kokotaru.com/cach-lam-banh-socola-dam-dac-chocolate-decadence/', 'https://kokotaru.com/cach-lam-banh-quy-socola-vi-que-va-hat-thong/', 'https://kokotaru.com/cach-lam-cookie-banh-quy-hanh-nhan-chocolate-chips/', 'https://kokotaru.com/cach-lam-banh-khuc/', 'https://kokotaru.com/cach-lam-banh-mi-phuc-sinh/', 'https://kokotaru.com/cach-lam-socola-mem-vi-ruou-cam-chocolate-truffles-with-orange-liquer/', 'https://kokotaru.com/cach-lam-banh-hanh-nhan-don-gian-simple-almond-cake/', 'https://kokotaru.com/cach-lam-banh-quy-bo-dau-phong-peanut-butter-coconut-cookies/', 'https://kokotaru.com/cach-lam-banh-hat-oc-cho-kem-phomai-walnut-ricotta-cake/', 'https://kokotaru.com/cach-lam-banh-mi-pappa-roti-dau-tay/', 'https://kokotaru.com/cach-lam-banh-mi-bo-dao-nha-portugese-sweet-bread-rolls/', 'https://kokotaru.com/cach-lam-banh-mi-trang-amish-white-bread/', 'https://kokotaru.com/cach-lam-socola-trang-tra-xanh-white-chocolate-truffles/', 'https://kokotaru.com/cach-lam-banh-mi-dua/', 'https://kokotaru.com/cach-lam-peanut-butter-cookies-cookies-bo-dau-phong/', 'https://kokotaru.com/cach-lam-banh-mi-ngot-hanh-nhan-almond-sweet-buns/', 'https://kokotaru.com/cach-lam-banh-mi-sua-hokkaido/', 'https://kokotaru.com/cach-lam-chocolate-ricotta-muffin/', 'https://kokotaru.com/cach-lam-cupcake-socola-chuoi/', 'https://kokotaru.com/cach-lam-banh-cupcake-vi-cocktail-margarita-cupcakes/', 'https://kokotaru.com/cach-lam-banh-hanh-nhan-sieu-bui-rich-almond-cake/', 'https://kokotaru.com/cach-lam-banh-mi-an-sang/', 'https://kokotaru.com/cach-lam-muffin-bi-ngoi-socola-zucchini-chocolate-chip-muffins/', 'https://kokotaru.com/cach-lam-banh-mi-thit-hun-khoi-nuong-gion-bacon-puffs/', 'https://kokotaru.com/cach-lam-muffin-thit-hun-khoi/', 'https://kokotaru.com/cach-lam-tart-chanh-vang-kem-tuoi/', 'https://kokotaru.com/cach-lam-pancake-bi-do-ngon-bo/', 'https://kokotaru.com/cach-lam-banh-mi-do-thai-challah/', 'https://kokotaru.com/cach-lam-frittata-khoai-tay/', 'https://kokotaru.com/cocktail-mua-he-janelas-verdes-bien-the/', 'https://kokotaru.com/cach-lam-banh-chiffon-bi-do-ngon-bo/', 'https://kokotaru.com/cach-lam-tart-tao-thom-mat-cho-ngay-nong/', 'https://kokotaru.com/cach-lam-banh-chocolate-cuon/', 'https://kokotaru.com/cach-lam-pancake-khoai-tay-ca-hoi/', 'https://kokotaru.com/cocktail-mua-he-passion-fruit-paloma/', 'https://kokotaru.com/cach-lam-cocktail-vampires-thirst/', 'https://kokotaru.com/cach-lam-banh-quy-tra-xanh-don-gian-green-tea-shortbread/', 'https://kokotaru.com/cach-lam-banh-quy-vi-pho-mai-cheese-bites/', 'https://kokotaru.com/cach-lam-banh-mi-nuong-thit-hun-khoi/', 'https://kokotaru.com/cach-lam-flan-chanh-leo/', 'https://kokotaru.com/cach-lam-khoai-tay-chien-nuong-phomai-cheddar/', 'https://kokotaru.com/cach-lam-dau-tay-tuxedo-lam-qua-tang-valentine/', 'https://kokotaru.com/cach-lam-mousse-dau-tay/', 'https://kokotaru.com/cach-lam-che-dau-xanh-nha-dam/', 'https://kokotaru.com/cach-lam-banh-khoai-tay-ca-ngu/', 'https://kokotaru.com/cach-lam-banh-tra-xanh-chocolate-chips/', 'https://kokotaru.com/cach-lam-chiffon-tra-xanh/', 'https://kokotaru.com/cach-lam-banh-mi-bo-brioche-ngon-tuyet/', 'https://kokotaru.com/cach-lam-banh-ngon-het-say-cheesecake-pops/', 'https://kokotaru.com/cach-lam-cinnabon-banh-mi-que/', 'https://kokotaru.com/cach-lam-che-sen-dau-xanh-long-nhan/', 'https://kokotaru.com/cach-lam-khoai-tay-cuon-tom-phomai-chien/', 'https://kokotaru.com/cach-lam-khoai-tay-chien-nuong-phomai/', 'https://kokotaru.com/cach-lam-banh-quy-hanh-nhan-socola-chocolate-almond-logs/', 'https://kokotaru.com/cach-lam-banh-cheesecake-chanh-vang/', 'https://kokotaru.com/cong-thuc-banh-socola-chocolate-madeleines/', 'https://kokotaru.com/cach-lam-banh-tart-chanh-vang-kem-long-trang-trung-lemon-meringue-tart/', 'https://kokotaru.com/cach-lam-banh-madeleine-chanh/', 'https://kokotaru.com/cach-lam-banh-tao-apple-pie-2/', 'https://kokotaru.com/cach-lam-cheesecake-dau-tay/', 'https://kokotaru.com/cach-lam-pizza-salami-pepperoni-va-ot-chuong/', 'https://kokotaru.com/cach-lam-banh-cuon-kem-tuoi-mut-dau/', 'https://kokotaru.com/cach-nau-le-ruou-vang-do/', 'https://kokotaru.com/cong-thuc-lam-banh-chanh-vang-lemon-bars/', 'https://kokotaru.com/cach-lam-banh-que-socola-sieu-gion-chocolate-almond-tuiles/', 'https://kokotaru.com/cach-lam-banh-mi-huong-thao-kieu-y-rosemary-focaccia/', 'https://kokotaru.com/cong-thuc-banh-viet-quat-tuyet-ngon-blueberry-crumble/', 'https://kokotaru.com/cach-lam-banh-mi-goi/', 'https://kokotaru.com/cach-lam-red-velvet-cake-balls/', 'https://kokotaru.com/cong-thuc-lam-panna-cotta-chanh-vang-qua-viet-quat/', 'https://kokotaru.com/cach-lam-banh-dua-voi-berries-va-chocolate-trang/', 'https://kokotaru.com/cach-lam-pinwheel-cookies/', 'https://kokotaru.com/cach-lam-chocolate-pots-ngon-tuyet/', 'https://kokotaru.com/cach-lam-eclair-phu-chocolate/', 'https://kokotaru.com/cach-lam-banh-pudding-banh-mi-vi-ruou-whiskey-bread-pudding/', 'https://kokotaru.com/cach-lam-puff-pastry-mut-dau-tay/', 'https://kokotaru.com/cong-thuc-lam-banh-mini-cream-puffs/', 'https://kokotaru.com/cong-thuc-banh-baeumkuchen-kieu-duc/', 'https://kokotaru.com/cach-lam-banh-chocolate-raspberry-va-ginger-chocolate-mousse/', 'https://kokotaru.com/cach-lam-banh-mi-baguette/', 'https://kokotaru.com/cach-lam-hamburger/', 'https://kokotaru.com/cach-lam-banh-tao-mem-thom-ngon-tuyet/', 'https://kokotaru.com/cach-lam-khoai-lang-ran-sweet-potato-chips/', 'https://kokotaru.com/cach-lam-khoai-tay-ran-potato-chips/', 'https://kokotaru.com/cach-lam-pizza-voi-pepperoni-va-salami/', 'https://kokotaru.com/cach-lam-banh-quy-dua-2/', 'https://kokotaru.com/cach-lam-bread-pudding/', 'https://kokotaru.com/cach-lam-banh-pound-cake-nho-kho/', 'https://kokotaru.com/cach-lam-banh-nuong-banh-deo/', 'https://kokotaru.com/cach-lam-banh-chuoi-socola-chien-gion-chocolate-samosas/', 'https://kokotaru.com/cach-lam-banh-cupcake-bo-butterfly-cakes/', 'https://kokotaru.com/cach-lam-banh-pavlova-hoa-qua-chocolate-pavlova/', 'https://kokotaru.com/cach-lam-banh-quy-vi-nhuc-dau-khau-nutmeg-spritz-cookies/', 'https://kokotaru.com/cong-thuc-lam-banh-socola-ngon-tuyet-chocolate-torte/', 'https://kokotaru.com/banh-mi-tao-hinh/', 'https://kokotaru.com/cach-lam-clafouti-tao-mam-xoi-va-chocolate/', 'https://kokotaru.com/cach-lam-banh-ngo-ngot-chien/', 'https://kokotaru.com/cach-lam-banh-mi-nuong-ca-chua-va-la-hung-tay/', 'https://kokotaru.com/cach-lam-pavlova-dau-tay/', 'https://kokotaru.com/cach-lam-banh-mi-nuong-xot-nam/', 'https://kokotaru.com/cach-lam-banh-pancake-qua-viet-quat-blueberry-pancake/', 'https://kokotaru.com/cong-thuc-banh-chiffon-sua-chua-cranberry-yogurt-chiffon-cake/', 'https://kokotaru.com/cach-lam-banh-tart-chanh-qua-mam-xoi/', 'https://kokotaru.com/cach-lam-banh-mi-nuong-pho-mai-va-pepperoni/', 'https://kokotaru.com/cach-lam-banh-mi-nuong-trung-op-va-xuc-xich-duc/', 'https://kokotaru.com/cach-lam-banh-bot-chien-kieu-thai/', 'https://kokotaru.com/cach-lam-socola-nong-chocolate-nong-va-qua-anh-dao/', 'https://kokotaru.com/kokotaru-sinh-nhat-1-tuoi/', 'https://kokotaru.com/cach-lam-puff-pastry-lemon-mousse-va-qua-mam-xoi/', 'https://kokotaru.com/cach-lam-banh-it-banh-ram/', 'https://kokotaru.com/cach-lam-pancake-khoai-tay/', 'https://kokotaru.com/cach-lam-banh-chiffon-khoai-lang-tim/', 'https://kokotaru.com/cach-lam-pancake-ngo-ngot-va-xuc-xich/', 'https://kokotaru.com/cach-lam-banh-mi-vo-mem/', 'https://kokotaru.com/cach-lam-sua-chua-cam-brulee/', 'https://kokotaru.com/cach-lam-vo-wonton-mut-chanh-cam/', 'https://kokotaru.com/cach-lam-banh-gateaux-dua-va-qua-mam-xoi-den/', 'https://kokotaru.com/chuyen-doi-nguyen-lieu-thuong-dung/', 'https://kokotaru.com/cach-lam-dau-tay-boc-chocolate/', 'https://kokotaru.com/cach-lam-banh-bot-loc-nhan-tom-thit/', 'https://kokotaru.com/cach-lam-banh-mi-kep-xuc-xich/', 'https://kokotaru.com/cach-lam-muffin-man-vi-tieu-va-phomai-cheddar/', 'https://kokotaru.com/cach-lam-can-tay-nhoi-blue-cheese/', 'https://kokotaru.com/cach-lam-chocolate-chiffon/', 'https://kokotaru.com/cach-lam-banh-dau-tay-voi-creamcheese-va-kem-tuoi/', 'https://kokotaru.com/cach-lam-pizza-xuc-xich/', 'https://kokotaru.com/cach-lam-banh-bi-do-hap/', 'https://kokotaru.com/cach-lam-banh-beo-chen-tom-kho-thit-xay/', 'https://kokotaru.com/cach-lam-banh-cookie-hat-thi-la/', 'https://kokotaru.com/cach-lam-profiterole-banh-kep-kem-vanilla/', 'https://kokotaru.com/cach-lam-banh-pho-mai-bi-ngoi-zucchini-quiche/', 'https://kokotaru.com/cach-lam-lamington-banh-boc-chocolate-va-dua-kho/', 'https://kokotaru.com/cach-lam-banh-chiffon-la-dua/', 'https://kokotaru.com/cach-lam-pancake-ngo-ngot/', 'https://kokotaru.com/cach-lam-banh-chiffon-chanh/', 'https://kokotaru.com/cach-lam-banh-mi-trang/', 'https://kokotaru.com/cach-lam-banh-quy-hoa-hanh-nhan/', 'https://kokotaru.com/cach-lam-brownies-co-dien/', 'https://kokotaru.com/cac-van-de-voi-trung-trong-lam-banh/', 'https://kokotaru.com/cach-lam-tart-chanh-mini-va-hat-de-nuong/', 'https://kokotaru.com/cach-lam-pizza-toi-va-dau-o-liu/', 'https://kokotaru.com/cach-lam-sesame-tuiles/', 'https://kokotaru.com/cong-thuc-banh-ca-rot-ngon-tuyet-carrot-cake-nuts-with-cream-cheese-icing/', 'https://kokotaru.com/cach-lam-ginger-crisps/', 'https://kokotaru.com/cach-lam-banh-mi-cuba/', 'https://kokotaru.com/cach-lam-banh-goi/', 'https://kokotaru.com/cach-lam-banh-cookie-nho-va-mo-kho/', 'https://kokotaru.com/cach-lam-banh-chiffon-cam/', 'https://kokotaru.com/cach-lam-banh-quy-vung-xop-gion-sesame-snaps/', 'https://kokotaru.com/cach-lam-banh-dau-tay-sua-chua/', 'https://kokotaru.com/cach-lam-cookie-phu-cacao/', 'https://kokotaru.com/cach-lam-lemon-cake-with-lemon-frosting/', 'https://kokotaru.com/sua-va-cac-san-pham-tu-sua/', 'https://kokotaru.com/cach-lam-banh-pancake-dua-pineapple-pancake/', 'https://kokotaru.com/cach-lam-banh-quy-hat-de-yen-mach-hazelnut-oat-cookies/', 'https://kokotaru.com/banh-quy-cam-voi-huong-lieu-thom/', 'https://kokotaru.com/cach-lam-keo-hat-de/', 'https://kokotaru.com/ten-goi-hinh-anh-cac-loai-hat-va-gia-vi-lam-banh/', 'https://kokotaru.com/cung-lam-banh-troi-banh-chay/', 'https://kokotaru.com/cach-lam-banh-quy-cam-sieu-mong-sieu-gion-orange-wafers/', 'https://kokotaru.com/cach-lam-brioche/', 'https://kokotaru.com/cach-lam-banh-hanh-nhan-viet-quat-blueberry-almond-cakelets/', 'https://kokotaru.com/cach-lam-lime-cookies/', 'https://kokotaru.com/cach-lam-banh-quy-ngon-tay-lady-finger/', 'https://kokotaru.com/cach-lam-pizza-ngot-voi-tao-cranberry-va-dua-kho/', 'https://kokotaru.com/cach-lam-banh-chanh-nho-kho-lemon-raisin-rock-cakes/', 'https://kokotaru.com/cach-lam-banh-cookie-voi-hat-huong-duong/', 'https://kokotaru.com/cach-lam-banh-pho-mai-vi-tiramisu-cheesecake/', 'https://kokotaru.com/cach-lam-pizza-ngot-voi-tao-va-nho-k-ho-apple-raisin-pizza-pizza-tao-nho-kho/', 'https://kokotaru.com/cach-lam-banh-quy-bo-voi-qua-kho-butter-currant-bars/', 'https://kokotaru.com/cac-cong-doan-khac-trong-qua-trinh-lam-banh-my/', 'https://kokotaru.com/cach-lam-banh-cheesecake-bi-do/', 'https://kokotaru.com/cach-lam-banh-kem-chanh-dua-coconut-cake/', 'https://kokotaru.com/cach-lam-banh-quy-dua/', 'https://kokotaru.com/cach-lam-banh-quy-hat-dieu/', 'https://kokotaru.com/cach-lam-banh-cupcake-mo-kho-apricot-tea-cake/', 'https://kokotaru.com/cach-lam-banh-muffins-vi-cheesecake-va-dau-tay/', 'https://kokotaru.com/banh-kem-socola-ngot-ngao-cho-le-tinh-yeu-valentine/', 'https://kokotaru.com/cach-lam-banh-bo-vi-chanh-va-qua-nam-viet-quat-kho/', 'https://kokotaru.com/cach-lam-cookie-cam-nho-kho/', 'https://kokotaru.com/cach-lam-banh-bi-ngoi-ran-chao/', 'https://kokotaru.com/cach-lam-cookies-ca-rot/', 'https://kokotaru.com/khau-nhao-tron-trong-qua-trinh-lam-banh-mi/', 'https://kokotaru.com/cach-lam-banh-scone-voi-mut-qua/', 'https://kokotaru.com/cach-lam-banh-mi-ciabatta/', 'https://kokotaru.com/cach-lam-banh-mi-phap/', 'https://kokotaru.com/cach-lam-banh-cupcake-hat-oc-cho-khong-dung-bot-mi/', 'https://kokotaru.com/cach-lam-banh-eclair-kem-tra-xanh/', 'https://kokotaru.com/cach-lam-banh-bong-lan-khoai-mon/', 'https://kokotaru.com/cach-lam-banh-cheesecake-socola-qua-anh-dao/', 'https://kokotaru.com/cach-lam-banh-dua-up-nguoc/', 'https://kokotaru.com/cach-lam-banh-pie-viet-quat/', 'https://kokotaru.com/cach-lam-banh-tart-cam/', 'https://kokotaru.com/cach-lam-banh-chocolate-trang-voi-bot-tra-xanh/', 'https://kokotaru.com/cach-lam-banh-quy-xu-wales/', 'https://kokotaru.com/cach-lam-banh-quy-bo-nhan-mut/', 'https://kokotaru.com/cach-lam-mon-trang-mieng-voi-qua-anh-dao/', 'https://kokotaru.com/pancake-banh-nuong-chao/', 'https://kokotaru.com/cach-lam-banh-mi-nuong-kieu-phap/', 'https://kokotaru.com/cach-lam-banh-quy-bo-cookie-kieu-hy-lap/', 'https://kokotaru.com/cach-lam-banh-tart-chanh-vang/', 'https://kokotaru.com/cach-lam-amaretti-banh-quy-nhan-hanh-nhan/', 'https://kokotaru.com/cach-lam-banh-quy-gung-noel/', 'https://kokotaru.com/cach-lam-banh-mi-noel-kieu-duc/', 'https://kokotaru.com/cach-lam-pizza-rau/', 'https://kokotaru.com/cach-lam-banh-tart-tao-va-cream-cheese/', 'https://kokotaru.com/cach-lam-banh-quy-bo-sieu-mem-tan-trong-mieng/', 'https://kokotaru.com/cach-lam-banh-kem-pho-mai-socola-chocolate-cheesecake/', 'https://kokotaru.com/cach-lam-chocolate-brulees/', 'https://kokotaru.com/cach-lam-banh-tart-le-va-kem-hanh-nhan/', 'https://kokotaru.com/cach-lam-banh-bong-thien-than/', 'https://kokotaru.com/cach-lam-kimbap-com-cuon-rong-bien-kieu-han-quoc/', 'https://kokotaru.com/cach-lam-banh-cupcake-phuc-bon-tu/', 'https://kokotaru.com/cach-lam-banh-tao/', 'https://kokotaru.com/cach-lam-banh-tiramisu-co-dien/', 'https://kokotaru.com/cach-lam-banh-ran-ngot-banh-cam/', 'https://kokotaru.com/cach-lam-banh-bo-vanilla-chocolate/', 'https://kokotaru.com/cach-lam-banh-flan/', 'https://kokotaru.com/cach-lam-banh-red-velvet-cake/', 'https://kokotaru.com/cach-lam-banh-ran-man/', 'https://kokotaru.com/cach-lam-banh-quy-socola-mem-ngon-tuyet-chocolate-crinkles/', 'https://kokotaru.com/cach-lam-banh-socola-kem-creamcheese-cuc-ngon/', 'https://kokotaru.com/cach-lam-choux-banh-su-kem/', 'https://kokotaru.com/cach-lam-banh-tart-kem-phomai-qua-phuc-bon-tu/', 'https://kokotaru.com/cach-lam-banh-bong-lan-cuon-vi-la-dua/', 'https://kokotaru.com/cach-lam-banh-kem-tra-xanh/', 'https://kokotaru.com/gioi-thieu-banh-mochi-kieu-nhat/', 'https://kokotaru.com/cach-lam-banh-que-vong/', 'https://kokotaru.com/cach-lam-dorayaki-banh-ran-doraemon/', 'https://kokotaru.com/trung-thu-nay-lam-banh-deo/', 'https://kokotaru.com/cach-lam-banh-bong-lan-vi-cam/', 'https://kokotaru.com/cach-lam-cookies-tra-xanh/', 'https://kokotaru.com/cach-lam-banh-qua-viet-quat/', 'https://kokotaru.com/cach-lam-banh-tieu/', 'https://kokotaru.com/cach-lam-banh-kem-phomai-qua-dau-den/', 'https://kokotaru.com/cach-lam-banh-hanh-nhan-sieu-gion-sieu-ngon-almond-tuiles/', 'https://kokotaru.com/cach-lam-banh-cheesecake-ngon-ngat-ngay/', 'https://kokotaru.com/cach-lam-banh-brownie-pho-mai-creamcheese-brownies/', 'https://kokotaru.com/cach-lam-banh-cheesecake-kieu-nhat-sieu-mem-japanese-cotton-cheesecake/']\n",
      "Ingredients Dictionary Len: 76\n",
      "Not Found URLs Len: 382\n"
     ]
    },
    {
     "name": "stderr",
     "output_type": "stream",
     "text": [
      "\n"
     ]
    }
   ],
   "source": [
    "all_ingredients_type1, type_1_not_found = get_all_ingredients_from_urls(kokotaru_article_links, 1)\n",
    "print(\"Ingredients Dictionary:\", all_ingredients_type1)\n",
    "print(\"Not Found URLs:\", type_1_not_found)\n",
    "print(\"Ingredients Dictionary Len:\", len(all_ingredients_type1))\n",
    "print(\"Not Found URLs Len:\", len(type_1_not_found))"
   ]
  },
  {
   "cell_type": "code",
   "execution_count": 32,
   "metadata": {},
   "outputs": [
    {
     "name": "stderr",
     "output_type": "stream",
     "text": [
      "Page Loading: 100%|██████████| 382/382 [12:45<00:00,  2.00s/page]"
     ]
    },
    {
     "name": "stdout",
     "output_type": "stream",
     "text": [
      "Ingredients Dictionary: {'Cách làm hạt đác rim lá dứa': '500g hạt đác tươi\\n150g đường\\n200ml nước lá dứa', 'Cách làm hạt đác rim dâu tây': '500g hạt đác tươi\\n180g đường trắng (bạn có thể dùng đường phèn)\\n150g dâu tây, thái lát', 'Cách làm hạt đác rim chanh leo': '500g hạt đác tươi\\n3-4 quả chanh leo\\n200g đường trắng (hoặc đường phèn)', 'Cách làm Bánh quy dứa': '330g (2 1/4 cups) bột mì đa dụng\\n1/2 tsp baking powder\\n1/4 tsp muối\\n250g (1cup) bơ nhạt, để mềm\\n110g (1/2 cup) đường trắng\\n1 quả trứng to\\n1 tbs nước ép dứa (dứa tươi – không phải loại nước hoa quả ép đóng chai nhé)', 'Cách làm bánh vừng giòn tan – Sesame tuiles': '150g đường bột\\n210g cake flour\\n1/8 tsp bột nutmeg\\n140g lòng trắng trứng\\n140g bơ chảy\\n3g vỏ chanh bào vụn\\n30g vừng trắng\\nThêm 15g vừng nữa để rắc lên mặt bánh.', 'Cách làm bánh pancake dứa – Pineapple pancake': 'Dứa (chuẩn bị khoảng 1-2 quả tùy độ to nhỏ), gọt vỏ, bỏ mắt, thái lát tròn độ dày 1cm.\\n225g bột self-rising flour\\n1 tsp baking powder\\n35g dừa vụn khô\\n2 tbs đường trắng\\n250ml sữa tươi\\n40g bơ chảy\\n1 tsp vanilla\\n2 quả trứng\\n1 ít bơ lạnh để riêng\\nMaple syrup hoặc kem vanilla để ăn kèm.', 'Bánh quy hạt dẻ yến mạch – Hazelnut  oat cookies': '2 lòng trắng trứng\\n70g đường thô (demerara sugar)\\n1 tsp vanilla\\n75g rolled oat\\n50g hazelnut xay nhuyễn\\n1 tbs nước cốt chanh\\nVỏ 1 quả chanh bào vụn\\nHạt hướng dương', 'Bánh quy với chanh xanh': '535g bột mì đa dụng\\n1 tsp baking soda\\n1/2 tsp muối\\n50g hạt hướng dương, rang lên và xay thành bột\\n125g bơ nhạt, để mềm\\n350g đường trắng\\n2 tbs dầu ô liu\\n2 quả chanh, bào lấy vỏ\\n2 quả trứng to\\n3 tbs nước cốt chanh', 'Công thức bánh mì Brioche': '60ml sữa tươi\\n15g men tươi (nếu dùng instant active yeast thì không cần làm tan men trong sữa ấm)\\n60g bột bánh mì', 'Bánh hạnh nhân việt quất – Blueberry almond cakelets': '75g bột mì đa dụng\\n1/8 tsp muối\\n180g bột hạnh nhân\\n180g bơ, để mềm\\n180g đường bột\\n6 lòng trắng trứng\\n125g blueberries', 'Pizza ngọt với táo, cranberry và dừa khô': '50g cranberry khô\\n4 quả táo cỡ trung bình, gọt vỏ, bỏ lõi, thái nhỏ\\n2 tbs đường nâu\\n25g bơ nhạt, đun chảy.\\n2 tsp nước cốt chanh\\n1 tsp bột quế\\n20g dừa xay, sấy khô (tùy thích, có thể có dừa hoặc không có, pizza vẫn rất ngon )', 'Bánh cookie với hạt hướng dương': '100g bột mì đa dụng\\n1/2 tsp baking powder\\n1/4 tsp bột quế\\n1/8 tsp muối\\n60g bơ, để mềm\\n35g đường nâu nhạt\\n1 quả trứng to\\n90g nho khô, thái nhỏ\\n50g mơ khô, thái nhỏ\\n50g hạnh nhân, thái vụn\\n50g hạt hướng dương', 'Bánh cheesecake bí đỏ': '120g bánh quy (cracker hoặc marie)\\n15g đường trắng\\n50g bơ nhạt, đun chảy', 'Bánh quy dừa': '150g bột mì đa dụng\\n1 tsp baking powder\\n1/8 tsp muối\\n125g bơ nhạt, để mềm\\n70g đường trắng\\n1 quả trứng to\\n125g dừa vụn khô', 'Bánh kem chanh dừa': '6 quả trứng, tách riêng lòng trắng đỏ. (trứng ở nhiệt độ phòng)\\n350g (2 1/2 cups) bột mì đa dụng\\n2 tsp baking powder\\n1/2 tsp baking soda\\n1/2 tsp muối\\n170g bơ nhạt, để mềm ở nhiệt độ phòng\\n200g đường trắng\\xa0 (công thức gốc: 350g)\\n1 tsp vanilla\\n360ml (1 1/2 cups) buttermilk (làm buttermilk bằng cách vắt vào mỗi 240ml sữa tươi 1 tbs nước cốt chanh)\\n60ml nước cốt dừa\\n1/2 tsp cream of tartar', 'Apple raisin pizza – Pizza ngọt với táo và nho khô': '50g nho khô\\n4 quả táo cỡ trung bình, gọt vỏ, bỏ lõi, cắt thành miếng nhỏ\\n2 tbs đường nâu\\n25g bơ nhạt, đun chảy\\n2 tsp nước cốt chanh\\n1 tsp bột quế', 'Bánh muffins vị cheesecake và dâu tây': '125g bơ nhạt, để mềm\\n250g creamcheese\\n200g đường trắng\\n4 quả trứng\\n1 tsp vanilla\\n300g self-rising flour , rây mịn\\n1/8 tsp muối\\n300g dâu tây, thái lát', 'Bánh kem socola ngọt ngào cho lễ tình yêu Valentine': '42g (3 tbs) bơ chảy, nóng\\n1 tsp vanilla\\n65g (1/2 cup) cake flour\\n30g (1/3 cup) bột cacao\\n4 quả trứng to\\n100g đường trắng', 'Bánh cupcake mơ khô': '300g (2 cups) bột mì đa dụng\\n2 tsp baking powder\\n1/4 tsp muối\\n70g mơ khô, thái vụn nhỏ (dried apricot, loại quả mơ khô màu vàng ươm, rất đẹp mắt)\\n180ml (3/4 cup) nước lạnh\\n125g bơ, cắt thành khối nhỏ\\n100g đường nâu hạt nhỏ mịn\\n125ml (1/2 cup) sữa tươi\\n1 quả trứng to, đánh nhẹ cho tan\\n2 tsp vanilla', 'Bánh bơ vị chanh và quả nam việt quất khô': '90ml nước cốt chanh\\n2 tbs brandy\\n125g cranberry khô', 'Bánh bí ngòi rán chảo': '1 quả zucchini nhỏ\\n1/2 quả ớt chuông đỏ\\nVài nhánh hành lá\\n1 tsp. dầu rau\\n1/2 tsp dầu vừng\\n240ml (1 cup) nước\\n1 quả trứng\\n1 cup bột mì đa dụng\\n1/2 tsp muối\\n2 tsp dầu ăn', 'Cookie cam nho khô': '200g (1 1/3 cup) bột mì đa dụng\\n1/2 tsp baking powder\\n1/2 tsp muối\\n125g (1/2 cup) bơ, để mềm\\n90g đường\\n1 quả trứng to, đánh nhẹ cho tan\\n1/2 tsp vanilla\\n120g (2/3 cup) nho khô\\n1 tbs vỏ cam bào vụn', 'Cookies cà rốt': '75g (1/2 cup) bột mì đa dụng\\n1 tsp baking powder\\n1/8 tsp muối\\n35g đường\\n2 tbs vỏ chanh vàng bào nhuyễn\\n2 tbs margarine hoặc bơ, để mềm\\n200g (1 2/3 cup ) cà rốt bào vụn', 'Bánh scone với mứt quả': '280g bột mì đa dụng\\n50g đường trắng\\n1/4 tsp baking soda\\n1 tsp baking powder\\n1/4 tsp muối\\n113g bơ lạnh\\n160ml butter milk\\xa0 (nếu không có butter milk, cho vào 1 cup (240ml) sữa tươi 1 tsp nước cốt chanh)\\nVỏ của 1 quả chanh, bào nhỏ\\n1 quả trứng. đánh tan\\n1 tsp vanilla\\n120ml (1/2 cup) whipping cream', 'Bánh mì Ciabatta': '1/8 tsp. men khô\\xa0 (active dried yeast)\\n30ml (2 tbsp) nước ấm\\n75ml (5 tbsp) nước ở nhiệt độ thường\\xa0 (không nóng không lạnh – tepid water)\\n125g bột bánh mì', 'Bánh cupcake hạt óc chó không dùng bột mì': '285g hạt óc chó\\n4 lòng trắng trứng + 2 lòng trắng (dùng riêng nên mới phải tách rời nhau thế này :P)\\n50g đường bột\\n100g bơ, để thật mềm\\n25g đường trắng\\n1/8 tsp muối', 'Bánh cheesecake vị chocolate với quả anh đào': '200g bánh oreo (không kẹp kem)\\n100g bơ chảy\\n375g cream cheese, để mềm\\n125g kem chua (sour cream hoặc sữa chua không đường)\\n80g đường\\n2 quả trứng\\n1 tsp vanilla\\n70g chocolate đen, thái vụn\\n100g quả anh đào, rửa sạch, lau khô\\n1 lòng trắng trứng thật tươi, đánh tan', 'Cách làm bánh bông lan khoai môn': '5 quả trứng, tách riêng lòng trắng/đỏ\\n65g cake flour\\xa0(6 tablespoons)\\n55g bột ngô (5 tablespoons)\\n80g đường\\n1/8 tsp vanilla\\n1 tbs. dầu rau\\n2 tbs sữa tươi\\n1 tsp nước chanh', 'Bánh dứa úp ngược': 'Dứa: nên chọn loại dứa thơm, không cần phải to quá (1-2 quả nhỏ là được)\\n120g bơ, để mềm\\n100g đường trắng\\xa0 + 70g đường để làm màu caramel\\n2 quả trứng, tách riêng lòng đỏ/trắng\\n200g bột mì đa dụng\\n20g bột ngô\\n2 tsp. baking powder\\n125ml sữa tươi\\n1/2 tsp cream of tartar', 'Bánh pie việt quất': '225g ( 1 1/2 cup) bột mì đa dụng\\n2 tbs đường bột\\n125g bơ lạnh, cắt thành khối nhỏ\\n2-3 thìa nước đá\\n300g blueberry tươi\\n1 tbs đường nâu demerara (dùng loại đường nâu khác chắc cũng được)\\n1 tbs nước cốt chanh\\nVỏ bào của 1 quả chanh\\n40g (1/3 cup) bột hạnh nhân, chia 4 phần\\n1 tbs bột ngô , chia 4 phần\\n1 quả trứng (chỉ dùng để bôi ngoài vỏ bánh cho bánh có màu vàng đẹp thôi)', 'Bánh chocolate trắng với bột trà xanh': '120g bơ nhạt, đun chảy\\n78g chocolate trắng\\n3 quả trứng\\n100g đường\\n180g bột mì đa dụng, rây mịn\\n1 tsp baking powder\\n1 nhúm muối\\n1 1/2 tsp bột trà xanh', 'Bánh cookie nhân mứt – Rosenmunnar': '110g bơ, để mềm\\n40g đường trắng\\n120g bột mì đa dụng, rây mịn\\nMứt hoa quả tùy theo khẩu vị', 'Bánh quy xứ Wales': '250g bột mì đa dụng\\n2 tsp baking powder\\n1 nhúm muối\\n70g đường trắng\\n55g bơ , cắt thành khối nhỏ\\n50g shortening\\n70g quả lý chua khô (currant)\\n1 quả trứng\\n60ml sữa tươi', 'Bánh tart chanh': 'byĐặng Ngọc Linh\\nOctober 24, 2009', 'Bánh tart cam': '150g bột mì đa dụng\\n1/4 tsp baking powder\\n40g đường trắng\\n100g bơ nhạt , cắt thành các mẩu nhỏ\\n1 lòng đỏ\\n1 tsp nước cốt chanh', 'Pizza rau': 'Đế pizza, loại đế mỏng (xem ở đây)\\nSốt cà chua dùng cho pizza (mình dùng loại sốt đóng lọ mua sẵn, vì không đắt mà ăn thấy rất ngon. Khi nào mình thử tự làm sốt, cũng là để thử công thức, nếu ngon lành thì sẽ chia sẻ sau)\\nPhomat Mozzarella, thái sợi\\nCà chua đỏ chín mọng . thái lát\\nNấm hương tươi, cắt lát\\n1 củ hành tây nhỏ, thái lát thật mỏng\\nỚt chuông xanh, thát lát mỏng\\nQuả ô liu xanh và đen, bỏ hạt, cắt thành vòng tròn nhỏ.', 'Bánh kem phômai socola – Chocolate cheesecake': '130g bánh Oreo.\\n50g bơ nhạt, làm chảy.\\n98ml thickened cream\\n130g chocolate đen hoặc semi-sweetened chocolate\\n98g chocolate sữa\\n260g creamcheese\\n325g ricotta cheese\\n80g đường\\n1/3tsp vanilla\\n3 quả trứng, tách riêng lòng trắng đỏ', 'Bánh rán ngọt – bánh cam': 'byĐặng Ngọc Linh\\nDecember 26, 2014', 'Bánh bơ vanilla chocolate': '150g bơ\\n180g đường\\n2 quả trứng\\n1tsp vanilla\\n375g self-rising flour\\n250ml sữa\\n1 tbs. bột cacao\\n100g icing sugar\\n2tbs. bột cacao, 20g bơ (để làm chocolate rưới trên bánh)\\n2 tbs. nước sôi', 'Cách làm bánh flan cơ bản': '500ml sữa tươi\\n4 lòng đỏ + 2 quả trứng\\n65g đường\\n1tsp vanilla\\n1 nhúm muối\\n40g đường + 20ml nước', 'Gingerbread Men – bánh quy gừng Noel': '420g bột mì đa dụng\\n1/4 tsp muối\\n3/4 tsp baking soda\\n2 tsp bột gừng\\n1 tsp bột quế\\n1/4 tsp bột nutmeg (bột của hạt nhục đậu khấu)\\n1/4 tsp bột đinh hương (cloves)\\n113 g bơ, để nhiệt độ phòng\\n70-80g đường\\n1 quả trứng to\\n160ml mật mía (molasses)', 'Cách làm Red Velvet Cake': '250g cake flour, rây mịn.\\n1 tsp baking powder\\n1 tsp muối\\n2 tbs. bột cacao (Dutch processed cocoa powder)\\n113g bơ nhạt, để mềm ở nhiệt độ phòng\\n200g đường trắng\\n2 quả trứng to\\n1 tsp vanilla\\n240 ml buttermilk ( mình thay bằng 240ml milk + 1 tbs nước cốt chanh, để yên khoảng 5 – 10 phút rồi dùng)\\n1 tbs strawberry paste (hoặc dùng 2 tbs màu (nước) đỏ thực phẩm)\\n1tsp dấm gạo\\n1 tsp baking soda', 'Bánh socola kem creamcheese cực ngon': '170g semisweet chocolate (ko biết trong tiếng Việt gọi semisweet là gì, chả lẽ là “bán ngọt”), thái vụn.\\n85g chocolate đắng, thái vụn.\\n1 cup (110g) bột mì đa dụng\\n3/4 cup (170g) đường trắng\\n225g bơ nhạt, mềm\\n3 trứng to\\n1/4tsp. muối\\n1 tsp vanilla', 'Bánh tart kem phômai quả phúc bồn tử': '210g bột mì đa dụng\\n113g bơ nhạt , để hơi mềm.\\n40g đường trắng\\n1 quả trứng , đánh vừa nhuyễn\\n1/8 tsp. muối', 'Chocolate brulees': '600ml thickened cream\\n120g dark chocolate, thái vụn.\\n6 lòng đỏ trứng\\n60g đường', 'Bánh bông lan cuộn vị lá dứa': '3 trứng, tách riêng lòng trắng, đỏ.\\n30g bột mì đa dụng\\n30g bột ngô\\n20g đường (1)\\n20ml (1tbs) dầu hạt cải\\n50-60ml nước lá dứa (lá dứa rửa sạch, xay nát và vắt lấy nước. Nước càng đặc thì màu xanh càng lên rõ. Nếu có pandan paste thì chỉ cần vài giọt là có thể tạo thành màu rất xanh rồi)\\n1tbs. bột sữa dừa\\xa0 (coconut milk powder)\\n1/4 tsp cream of tartar\\n1/2 tsp baking powder\\n30g đường (2)', 'Bánh bông lan vị cam': '165g cake flour (nếu dùng plain flour thì trộn theo tỉ lệ: 130g cake flour = 105g plain flour + 30g corn starch)\\n115g đường\\n2 quả trứng to , tách riêng lòng trắng đỏ\\n113g bơ để mềm\\n1/2 cup (120ml) nước cam\\n1/2 tsp. muối\\n2 1/2 tsp baking powder\\n1/2 tsp vanilla', 'Cách làm bánh quả việt quất': '140g bột mì đa dụng\\n1 thìa cafe (tsp) bột nở (baking powder)\\n1/8 tsp muối\\n56g bơ nhạt, để nhiệt độ phòng\\n70g đường trắng\\n1 quả trứng to\\n1/4 tsp bột vanilla\\n70ml sữa tươi\\nTất cả chỗ 250g blueberry kia (thế vẫn còn là ít nhưng thôi dùng tạm)', 'Bánh Tiêu': '350g bột bánh mì (bread flour)\\n210ml nước (thay vì 235ml)\\n5g men nở (instant yeast – trời lạnh thì dùng 7g)\\nHòa tan trong nước ấm khoảng 30 – 40 độ C\\n15g đường\\n5g muối\\n5g bột nở (baking powder)\\nVừng', 'Bánh kem phômai quả dâu đen': '45g bột mì đa dụng\\n45g đường trắng\\n1/2 tsp bột quế\\n55g bơ nhạt, lạnh, cắt ra thành khối nhỏ'}\n",
      "Not Found URLs: ['https://kokotaru.com/pizza-banh-mi-banh-pizza-lam-tu-banh-mi-sandwich/', 'https://kokotaru.com/banh-mi-nuong-trung-thit-hun-khoi/', 'https://kokotaru.com/poppy-seeds-quince-cake-banh-qua-quince-hat-poppy/', 'https://kokotaru.com/banh-sinh-nhat-trang-tri-fondant-lam-theo-yeu-cau/', 'https://kokotaru.com/loi-thuong-gap-khi-lam-banh-kinh-nghiem-lam-banh-ngon/', 'https://kokotaru.com/cach-lam-banh-bong-lan-trung-muoi-cha-bong/', 'https://kokotaru.com/walnut-quince-yogurt-cake-banh-quince-sua-chua-hat-oc-cho/', 'https://kokotaru.com/nhung-vat-dung-co-ban-cua-lam-banh/', 'https://kokotaru.com/cach-lam-hat-dac-rim-dau-tam/', 'https://kokotaru.com/tim-hieu-ve-noi-chien-khong-dau/', 'https://kokotaru.com/phan-loai-lo-nuong-kinh-nghiem-su-dung-lo-nuong-gia-dinh/', 'https://kokotaru.com/cach-lam-hat-dac-rim-dua-thom/', 'https://kokotaru.com/van-de-thuong-gap-voi-cookies/', 'https://kokotaru.com/cach-che-bien-hat-dac-tuoi-dac-san-nha-trang/', 'https://kokotaru.com/kinh-nghiem-lua-chon-va-su-dung-may-tron-bot-mixer/', 'https://kokotaru.com/9-loai-banh-pancake-ngon-khong-can-dung-lo-nuong/', 'https://kokotaru.com/cach-lam-banh-bong-lan-gato-hong-kong-la-dua/', 'https://kokotaru.com/4-cach-lam-flan-ngon-tuyet/', 'https://kokotaru.com/banh-he-nuong-chao/', 'https://kokotaru.com/hinh-anh-va-ten-goi-cac-loai-khuon-dung-trong-lam-banh/', 'https://kokotaru.com/cach-lam-banh-cupcake-socola-kem-phomai/', 'https://kokotaru.com/14-cach-lam-banh-bong-lan-gato-cho-trang-tri-banh-kem-sinh-nhat/', 'https://kokotaru.com/cac-loai-duong-lam-banh/', 'https://kokotaru.com/ten-goi-va-phan-biet-cac-loai-banh-phuong-tay/', 'https://kokotaru.com/lam-banh-cho-nguoi-bi-tieu-duong/', 'https://kokotaru.com/cac-loai-kem-phu-icing-frosting/', 'https://kokotaru.com/cach-lam-sua-dau-phong-me-den/', 'https://kokotaru.com/cac-loai-bot-lam-banh/', 'https://kokotaru.com/cach-lam-banh-bong-lan-gato-bang-noi-com-dien/', 'https://kokotaru.com/cach-tan-dung-long-do-trung-thua/', 'https://kokotaru.com/phan-biet-cac-loai-pho-mat-cheese/', 'https://kokotaru.com/6-loai-banh-quy-ngon-tuyet-chi-dung-long-do-trung/', 'https://kokotaru.com/banh-bao-chien-bo-xot-tieu-nam/', 'https://kokotaru.com/cach-lam-banh-mi-gion-tan-cho-salad-va-sup-croutons/', 'https://kokotaru.com/cac-loai-rau-thom-va-cach-dung-trong-mon-an-viet/', 'https://kokotaru.com/ten-goi-va-cong-dung-cac-loai-dao-nha-bep/', 'https://kokotaru.com/cac-van-de-loi-khi-lam-banh-mi/', 'https://kokotaru.com/cach-lam-so-co-la-nho-kho-va-hat-bi-pumpkin-seed-and-rasin-chocolate/', 'https://kokotaru.com/cach-tan-dung-long-trang-trung-thua/', 'https://kokotaru.com/cac-kieu-cat-rau-cu-ki-nang-dung-dao/', 'https://kokotaru.com/cach-lam-che-dau-xanh-pho-tai/', 'https://kokotaru.com/cach-lam-banh-bi-ngoi-chien-man/', 'https://kokotaru.com/banh-quy-bot-dau-nanh-yen-mach-va-qua-nam-viet-quat-kho/', 'https://kokotaru.com/cach-lam-banh-chuoi-vung-nuong-thom-phuc-banana-coconut-sesame-cake/', 'https://kokotaru.com/cach-lam-snack-bars/', 'https://kokotaru.com/cach-lam-bi-ngoi-nuong-pho-mai-parmesan/', 'https://kokotaru.com/cach-lam-banh-kem-phomai-oreo-cheesecake-cupcake/', 'https://kokotaru.com/cach-lam-banh-mi-que-nhan-kem-tao-cinnamon-apple-custard-cake-bun/', 'https://kokotaru.com/cach-lam-dau-dua/', 'https://kokotaru.com/cach-lam-cupcake-vung-den/', 'https://kokotaru.com/cach-lam-snack-cu-sen-an-vat-gion-tan/', 'https://kokotaru.com/cach-lam-banh-mi-hoa-qua-kho/', 'https://kokotaru.com/cach-lam-banh-bo-la-dua-pandan-poppy-seeds-butter-cake/', 'https://kokotaru.com/cach-lam-banh-trung-thu-thap-cam/', 'https://kokotaru.com/cach-lam-banh-cuon-bang-chao/', 'https://kokotaru.com/cach-lam-passion-fruit-souffle-souffle-chanh-leo/', 'https://kokotaru.com/cach-lam-donut-nhung-chiec-banh-thom-nuc/', 'https://kokotaru.com/cach-lam-sua-dau-nanh-la-dua/', 'https://kokotaru.com/cach-lam-mut-la-dua-pandan-kaya/', 'https://kokotaru.com/cach-lam-honey-castella-banh-mat-ong-kasutera/', 'https://kokotaru.com/cach-lam-sua-dau-nanh-me-den/', 'https://kokotaru.com/cach-lam-macarons/', 'https://kokotaru.com/cach-lam-banh-trung-thu-ngan-lop/', 'https://kokotaru.com/cach-lam-sua-dau-nanh-tai-nha/', 'https://kokotaru.com/cach-lam-sua-bap-sua-ngo/', 'https://kokotaru.com/cach-lam-banh-mi-la-dua/', 'https://kokotaru.com/cach-lam-banh-nuong/', 'https://kokotaru.com/cach-lam-nhan-banh-trung-thu/', 'https://kokotaru.com/cach-lam-banh-deo/', 'https://kokotaru.com/cach-lam-cookies-vung-den-banh-quy/', 'https://kokotaru.com/cach-lam-nuoc-duong-banh-nuong/', 'https://kokotaru.com/cach-lam-banh-socola-it-beo-low-fat-chocolate-souffle/', 'https://kokotaru.com/cach-lam-souffle-tra-xanh/', 'https://kokotaru.com/cach-lam-xot-ca-chua-cho-pizza/', 'https://kokotaru.com/cach-lam-banh-chanh-dua-va-hat-poppy/', 'https://kokotaru.com/cach-lam-hat-dieu-ngao-mat-ong-an-vat/', 'https://kokotaru.com/cach-lam-sweet-and-salty-brownies/', 'https://kokotaru.com/kinh-nghiem-chon-mua-khuon-banh-trung-thu/', 'https://kokotaru.com/cach-lam-cookies-gao-vung-den/', 'https://kokotaru.com/cach-lam-banh-socola-bang-lo-vi-song-chocolate-mug-cake/', 'https://kokotaru.com/cach-lam-nuoc-gao-rang/', 'https://kokotaru.com/giai-dap-nguyen-lieu-lam-banh-trung-thu/', 'https://kokotaru.com/nhin-an-va-suc-khoe/', 'https://kokotaru.com/cach-lam-hat-dieu-man-an-vat/', 'https://kokotaru.com/cach-lam-banh-quy-que-thom/', 'https://kokotaru.com/an-chay-va-suc-khoe-p2/', 'https://kokotaru.com/cach-lam-cupcake-bi-do/', 'https://kokotaru.com/cach-lam-banh-quy-man-vi-phomai-cheddar-and-black-pepper-crackers/', 'https://kokotaru.com/an-chay-va-suc-khoe-phan-1/', 'https://kokotaru.com/cach-lam-panna-cotta-tra-xanh-matcha-panna-cotta/', 'https://kokotaru.com/an-chay-va-suc-khoe-p3/', 'https://kokotaru.com/cach-lam-che-khuc-bach/', 'https://kokotaru.com/cach-lam-upcake-la-dua/', 'https://kokotaru.com/tang-them-100-cuon-sach-cookbook/', 'https://kokotaru.com/cach-lam-socola-vien-vi-banh-quy-kem-phomai-cookie-creamcheese-truffle/', 'https://kokotaru.com/cach-lam-pho-mai-que-an-vat-fried-mozzarella-cheese-sticks/', 'https://kokotaru.com/cach-lam-banh-muffin-qua-anh-dao-cherry-muffin/', 'https://kokotaru.com/cach-lam-banh-brownie-pho-mai-anh-dao-brownie-cherry-cheesecake/', 'https://kokotaru.com/cach-lam-banh-pie-qua-anh-dao-cherry-pie/', 'https://kokotaru.com/tang-sach-cookbook-kokotaru-moi-xuat-ban/', 'https://kokotaru.com/cach-lam-su-kem-nhan-tra-xanh/', 'https://kokotaru.com/cach-lam-banh-muffin-tao-apple-muffins/', 'https://kokotaru.com/nguyen-lieu-trong-am-thuc-nhat-ban/', 'https://kokotaru.com/cach-lam-banh-quy-man-vi-ot-paprika-paprika-cracker/', 'https://kokotaru.com/wagashi-nghe-thuat-banh-ngot-nhat-ban/', 'https://kokotaru.com/cach-lam-banh-socola-anh-dao-chocolate-cherry-cake/', 'https://kokotaru.com/cach-lam-banh-socola-black-forest-cake/', 'https://kokotaru.com/cach-lam-banh-kem-pho-mai-socola-mem-chocolate-mousse-cheesecake/', 'https://kokotaru.com/cach-lam-banh-muffin-socola-phuc-bon-tu-raspberry-and-dark-chocolate-muffin/', 'https://kokotaru.com/cach-lam-mashed-potato-khoai-tay-nghien/', 'https://kokotaru.com/cach-lam-banh-chanh-qua-phuc-bon-tu-lemon-raspberry-bars/', 'https://kokotaru.com/cach-lam-banh-cupcake-socola-chocolate-cupcake/', 'https://kokotaru.com/cach-lam-banh-tra-xanh-nuong-chao-matcha-pancake/', 'https://kokotaru.com/cach-lam-banh-qua-phuc-bon-tu-buttermilk-raspberry-cake/', 'https://kokotaru.com/cach-lam-banh-mousse-socola-dua-chocolate-and-coconut-mousse-cake/', 'https://kokotaru.com/cach-lam-banh-tiramisu-cake/', 'https://kokotaru.com/cach-lam-banh-kem-pho-mai-tra-xanh-cheesecake-tra-xanh/', 'https://kokotaru.com/cach-lam-banh-muffin-chanh-hat-poppy-lemon-poppy-seeds-muffin/', 'https://kokotaru.com/cach-lam-cafe-ruou-kahluaccinno/', 'https://kokotaru.com/cach-lam-banh-kem-pho-mai-socola-chocolate-truffle-cheesecake/', 'https://kokotaru.com/cach-lam-banh-nam-viet-quat-hat-de-cuoi-cranberry-pistachio-shortbread/', 'https://kokotaru.com/cach-lam-banh-quy-dua-socola-den-dark-chocolate-coconut-cookies/', 'https://kokotaru.com/cach-lam-banh-quy-nam-viet-quat-hat-de-cuoi-cranberry-pistachios-biscotti/', 'https://kokotaru.com/cach-lam-banh-quy-socola-dua-double-dark-chocolate-coconut-cookies/', 'https://kokotaru.com/cach-lam-banh-nuong-chao-chocolate-pancake/', 'https://kokotaru.com/cach-lam-banh-nuong-chao-bo-dau-phong-peanut-butter-chocolate-chip-pancake/', 'https://kokotaru.com/cach-lam-banh-mi-socola/', 'https://kokotaru.com/cach-lam-banh-quy-chanh-hanh-nhan-cookie-chanh-hanh-nhan/', 'https://kokotaru.com/cach-lam-banh-quy-oreo-homemade-oreo-cookies/', 'https://kokotaru.com/cach-lam-socola-tinh-yeu-chocolate-hearts-with-nuts/', 'https://kokotaru.com/cach-lam-banh-socola-mem-molten-chocolate-lava-cake/', 'https://kokotaru.com/cach-lam-banh-quy-tra-xanh-hanh-nhan-cookie-tra-xanh-hanh-nhan/', 'https://kokotaru.com/cach-lam-cake-balls-cho-le-tinh-yeu-happy-valentine/', 'https://kokotaru.com/cach-lam-chocolate-truffle-tart/', 'https://kokotaru.com/cach-lam-banh-cho-le-tinh-yeu-red-velvet-cheesecake-brownies/', 'https://kokotaru.com/cach-lam-banh-quy-bo-don-gian-easy-shortbread/', 'https://kokotaru.com/cach-lam-brownie-tra-xanh/', 'https://kokotaru.com/cach-lam-banh-socola-dam-dac-chocolate-decadence/', 'https://kokotaru.com/cach-lam-banh-pho-mai-bo-dau-phong-peanut-butter-cheesecake-brownies/', 'https://kokotaru.com/cach-lam-banh-brownie-tuyet-ngon-eggnog-brownies-with-raspberry-sauce/', 'https://kokotaru.com/cach-lam-banh-pie-dau-tay-strawberry-crumble-pie/', 'https://kokotaru.com/cach-lam-cookie-banh-quy-hanh-nhan-chocolate-chips/', 'https://kokotaru.com/cach-lam-banh-mi-phuc-sinh/', 'https://kokotaru.com/cach-lam-banh-quy-socola-vi-que-va-hat-thong/', 'https://kokotaru.com/cach-lam-banh-quy-bo-dau-phong-peanut-butter-coconut-cookies/', 'https://kokotaru.com/cach-lam-banh-hanh-nhan-don-gian-simple-almond-cake/', 'https://kokotaru.com/cach-lam-banh-hat-oc-cho-kem-phomai-walnut-ricotta-cake/', 'https://kokotaru.com/cach-lam-socola-mem-vi-ruou-cam-chocolate-truffles-with-orange-liquer/', 'https://kokotaru.com/cach-lam-banh-khuc/', 'https://kokotaru.com/cach-lam-banh-mi-pappa-roti-dau-tay/', 'https://kokotaru.com/cach-lam-banh-mi-trang-amish-white-bread/', 'https://kokotaru.com/cach-lam-banh-mi-bo-dao-nha-portugese-sweet-bread-rolls/', 'https://kokotaru.com/cach-lam-socola-trang-tra-xanh-white-chocolate-truffles/', 'https://kokotaru.com/cach-lam-banh-mi-dua/', 'https://kokotaru.com/cach-lam-banh-mi-ngot-hanh-nhan-almond-sweet-buns/', 'https://kokotaru.com/cach-lam-banh-mi-sua-hokkaido/', 'https://kokotaru.com/cach-lam-cupcake-socola-chuoi/', 'https://kokotaru.com/cach-lam-banh-hanh-nhan-sieu-bui-rich-almond-cake/', 'https://kokotaru.com/cach-lam-banh-cupcake-vi-cocktail-margarita-cupcakes/', 'https://kokotaru.com/cach-lam-banh-mi-an-sang/', 'https://kokotaru.com/cach-lam-muffin-bi-ngoi-socola-zucchini-chocolate-chip-muffins/', 'https://kokotaru.com/cach-lam-banh-mi-thit-hun-khoi-nuong-gion-bacon-puffs/', 'https://kokotaru.com/cocktail-mua-he-janelas-verdes-bien-the/', 'https://kokotaru.com/cach-lam-frittata-khoai-tay/', 'https://kokotaru.com/cach-lam-muffin-thit-hun-khoi/', 'https://kokotaru.com/cach-lam-tart-chanh-vang-kem-tuoi/', 'https://kokotaru.com/cach-lam-banh-mi-do-thai-challah/', 'https://kokotaru.com/cach-lam-peanut-butter-cookies-cookies-bo-dau-phong/', 'https://kokotaru.com/cach-lam-pancake-bi-do-ngon-bo/', 'https://kokotaru.com/cach-lam-chocolate-ricotta-muffin/', 'https://kokotaru.com/cach-lam-tart-tao-thom-mat-cho-ngay-nong/', 'https://kokotaru.com/cach-lam-banh-chiffon-bi-do-ngon-bo/', 'https://kokotaru.com/cach-lam-banh-chocolate-cuon/', 'https://kokotaru.com/cach-lam-pancake-khoai-tay-ca-hoi/', 'https://kokotaru.com/cocktail-mua-he-passion-fruit-paloma/', 'https://kokotaru.com/cach-lam-cocktail-vampires-thirst/', 'https://kokotaru.com/cach-lam-banh-quy-vi-pho-mai-cheese-bites/', 'https://kokotaru.com/cach-lam-banh-quy-tra-xanh-don-gian-green-tea-shortbread/', 'https://kokotaru.com/cach-lam-khoai-tay-chien-nuong-phomai-cheddar/', 'https://kokotaru.com/cach-lam-dau-tay-tuxedo-lam-qua-tang-valentine/', 'https://kokotaru.com/cach-lam-che-dau-xanh-nha-dam/', 'https://kokotaru.com/cach-lam-mousse-dau-tay/', 'https://kokotaru.com/cach-lam-banh-tra-xanh-chocolate-chips/', 'https://kokotaru.com/cach-lam-banh-khoai-tay-ca-ngu/', 'https://kokotaru.com/cach-lam-flan-chanh-leo/', 'https://kokotaru.com/cach-lam-chiffon-tra-xanh/', 'https://kokotaru.com/cach-lam-banh-ngon-het-say-cheesecake-pops/', 'https://kokotaru.com/cach-lam-che-sen-dau-xanh-long-nhan/', 'https://kokotaru.com/cach-lam-banh-quy-hanh-nhan-socola-chocolate-almond-logs/', 'https://kokotaru.com/cach-lam-khoai-tay-cuon-tom-phomai-chien/', 'https://kokotaru.com/cach-lam-khoai-tay-chien-nuong-phomai/', 'https://kokotaru.com/cach-lam-cinnabon-banh-mi-que/', 'https://kokotaru.com/cach-lam-banh-cheesecake-chanh-vang/', 'https://kokotaru.com/cach-lam-banh-mi-bo-brioche-ngon-tuyet/', 'https://kokotaru.com/cong-thuc-banh-socola-chocolate-madeleines/', 'https://kokotaru.com/cach-lam-banh-madeleine-chanh/', 'https://kokotaru.com/cach-lam-cheesecake-dau-tay/', 'https://kokotaru.com/cach-lam-pizza-salami-pepperoni-va-ot-chuong/', 'https://kokotaru.com/cach-lam-banh-cuon-kem-tuoi-mut-dau/', 'https://kokotaru.com/cach-lam-banh-mi-nuong-thit-hun-khoi/', 'https://kokotaru.com/cach-lam-banh-que-socola-sieu-gion-chocolate-almond-tuiles/', 'https://kokotaru.com/cong-thuc-banh-viet-quat-tuyet-ngon-blueberry-crumble/', 'https://kokotaru.com/cong-thuc-lam-banh-chanh-vang-lemon-bars/', 'https://kokotaru.com/cach-lam-red-velvet-cake-balls/', 'https://kokotaru.com/cong-thuc-lam-panna-cotta-chanh-vang-qua-viet-quat/', 'https://kokotaru.com/cach-lam-banh-tao-apple-pie-2/', 'https://kokotaru.com/cach-lam-banh-dua-voi-berries-va-chocolate-trang/', 'https://kokotaru.com/cach-lam-eclair-phu-chocolate/', 'https://kokotaru.com/cach-lam-banh-pudding-banh-mi-vi-ruou-whiskey-bread-pudding/', 'https://kokotaru.com/cach-lam-banh-tart-chanh-vang-kem-long-trang-trung-lemon-meringue-tart/', 'https://kokotaru.com/cach-nau-le-ruou-vang-do/', 'https://kokotaru.com/cong-thuc-lam-banh-mini-cream-puffs/', 'https://kokotaru.com/cach-lam-banh-mi-huong-thao-kieu-y-rosemary-focaccia/', 'https://kokotaru.com/cong-thuc-banh-baeumkuchen-kieu-duc/', 'https://kokotaru.com/cach-lam-banh-chocolate-raspberry-va-ginger-chocolate-mousse/', 'https://kokotaru.com/cach-lam-banh-mi-baguette/', 'https://kokotaru.com/cach-lam-banh-tao-mem-thom-ngon-tuyet/', 'https://kokotaru.com/cach-lam-hamburger/', 'https://kokotaru.com/cach-lam-khoai-lang-ran-sweet-potato-chips/', 'https://kokotaru.com/cach-lam-khoai-tay-ran-potato-chips/', 'https://kokotaru.com/cach-lam-banh-mi-goi/', 'https://kokotaru.com/cach-lam-pizza-voi-pepperoni-va-salami/', 'https://kokotaru.com/cach-lam-pinwheel-cookies/', 'https://kokotaru.com/cach-lam-chocolate-pots-ngon-tuyet/', 'https://kokotaru.com/cach-lam-banh-pound-cake-nho-kho/', 'https://kokotaru.com/cach-lam-banh-nuong-banh-deo/', 'https://kokotaru.com/cach-lam-banh-cupcake-bo-butterfly-cakes/', 'https://kokotaru.com/cach-lam-puff-pastry-mut-dau-tay/', 'https://kokotaru.com/cach-lam-banh-chuoi-socola-chien-gion-chocolate-samosas/', 'https://kokotaru.com/cach-lam-bread-pudding/', 'https://kokotaru.com/cong-thuc-lam-banh-socola-ngon-tuyet-chocolate-torte/', 'https://kokotaru.com/cach-lam-banh-quy-vi-nhuc-dau-khau-nutmeg-spritz-cookies/', 'https://kokotaru.com/banh-mi-tao-hinh/', 'https://kokotaru.com/cach-lam-banh-ngo-ngot-chien/', 'https://kokotaru.com/cach-lam-clafouti-tao-mam-xoi-va-chocolate/', 'https://kokotaru.com/cach-lam-banh-mi-nuong-ca-chua-va-la-hung-tay/', 'https://kokotaru.com/cach-lam-pavlova-dau-tay/', 'https://kokotaru.com/cach-lam-banh-mi-nuong-xot-nam/', 'https://kokotaru.com/cong-thuc-banh-chiffon-sua-chua-cranberry-yogurt-chiffon-cake/', 'https://kokotaru.com/cach-lam-banh-pancake-qua-viet-quat-blueberry-pancake/', 'https://kokotaru.com/cach-lam-banh-tart-chanh-qua-mam-xoi/', 'https://kokotaru.com/cach-lam-banh-mi-nuong-trung-op-va-xuc-xich-duc/', 'https://kokotaru.com/cach-lam-socola-nong-chocolate-nong-va-qua-anh-dao/', 'https://kokotaru.com/cach-lam-banh-mi-nuong-pho-mai-va-pepperoni/', 'https://kokotaru.com/cach-lam-banh-pavlova-hoa-qua-chocolate-pavlova/', 'https://kokotaru.com/cach-lam-puff-pastry-lemon-mousse-va-qua-mam-xoi/', 'https://kokotaru.com/cach-lam-banh-bot-chien-kieu-thai/', 'https://kokotaru.com/kokotaru-sinh-nhat-1-tuoi/', 'https://kokotaru.com/cach-lam-banh-it-banh-ram/', 'https://kokotaru.com/cach-lam-banh-chiffon-khoai-lang-tim/', 'https://kokotaru.com/cach-lam-pancake-ngo-ngot-va-xuc-xich/', 'https://kokotaru.com/cach-lam-banh-mi-vo-mem/', 'https://kokotaru.com/cach-lam-sua-chua-cam-brulee/', 'https://kokotaru.com/cach-lam-banh-gateaux-dua-va-qua-mam-xoi-den/', 'https://kokotaru.com/chuyen-doi-nguyen-lieu-thuong-dung/', 'https://kokotaru.com/cach-lam-dau-tay-boc-chocolate/', 'https://kokotaru.com/cach-lam-pancake-khoai-tay/', 'https://kokotaru.com/cach-lam-vo-wonton-mut-chanh-cam/', 'https://kokotaru.com/cach-lam-banh-mi-kep-xuc-xich/', 'https://kokotaru.com/cach-lam-muffin-man-vi-tieu-va-phomai-cheddar/', 'https://kokotaru.com/cach-lam-can-tay-nhoi-blue-cheese/', 'https://kokotaru.com/cach-lam-banh-bot-loc-nhan-tom-thit/', 'https://kokotaru.com/cach-lam-banh-dau-tay-voi-creamcheese-va-kem-tuoi/', 'https://kokotaru.com/cach-lam-pizza-xuc-xich/', 'https://kokotaru.com/cach-lam-banh-bi-do-hap/', 'https://kokotaru.com/cach-lam-banh-beo-chen-tom-kho-thit-xay/', 'https://kokotaru.com/cach-lam-chocolate-chiffon/', 'https://kokotaru.com/cach-lam-banh-pho-mai-bi-ngoi-zucchini-quiche/', 'https://kokotaru.com/cach-lam-profiterole-banh-kep-kem-vanilla/', 'https://kokotaru.com/cach-lam-banh-mi-trang/', 'https://kokotaru.com/cach-lam-lamington-banh-boc-chocolate-va-dua-kho/', 'https://kokotaru.com/cach-lam-banh-cookie-hat-thi-la/', 'https://kokotaru.com/cach-lam-banh-chiffon-la-dua/', 'https://kokotaru.com/cach-lam-pancake-ngo-ngot/', 'https://kokotaru.com/cach-lam-banh-chiffon-chanh/', 'https://kokotaru.com/cach-lam-brownies-co-dien/', 'https://kokotaru.com/cac-van-de-voi-trung-trong-lam-banh/', 'https://kokotaru.com/cach-lam-tart-chanh-mini-va-hat-de-nuong/', 'https://kokotaru.com/cach-lam-banh-mi-cuba/', 'https://kokotaru.com/cong-thuc-banh-ca-rot-ngon-tuyet-carrot-cake-nuts-with-cream-cheese-icing/', 'https://kokotaru.com/cach-lam-ginger-crisps/', 'https://kokotaru.com/cach-lam-banh-quy-hoa-hanh-nhan/', 'https://kokotaru.com/cach-lam-pizza-toi-va-dau-o-liu/', 'https://kokotaru.com/cach-lam-banh-goi/', 'https://kokotaru.com/cach-lam-banh-cookie-nho-va-mo-kho/', 'https://kokotaru.com/cach-lam-cookie-phu-cacao/', 'https://kokotaru.com/cach-lam-banh-dau-tay-sua-chua/', 'https://kokotaru.com/cach-lam-banh-quy-vung-xop-gion-sesame-snaps/', 'https://kokotaru.com/cach-lam-banh-chiffon-cam/', 'https://kokotaru.com/cach-lam-lemon-cake-with-lemon-frosting/', 'https://kokotaru.com/banh-quy-cam-voi-huong-lieu-thom/', 'https://kokotaru.com/sua-va-cac-san-pham-tu-sua/', 'https://kokotaru.com/cach-lam-banh-quy-cam-sieu-mong-sieu-gion-orange-wafers/', 'https://kokotaru.com/cach-lam-keo-hat-de/', 'https://kokotaru.com/ten-goi-hinh-anh-cac-loai-hat-va-gia-vi-lam-banh/', 'https://kokotaru.com/cach-lam-banh-quy-ngon-tay-lady-finger/', 'https://kokotaru.com/cung-lam-banh-troi-banh-chay/', 'https://kokotaru.com/cach-lam-banh-pho-mai-vi-tiramisu-cheesecake/', 'https://kokotaru.com/cac-cong-doan-khac-trong-qua-trinh-lam-banh-my/', 'https://kokotaru.com/cach-lam-banh-quy-bo-voi-qua-kho-butter-currant-bars/', 'https://kokotaru.com/cach-lam-banh-chanh-nho-kho-lemon-raisin-rock-cakes/', 'https://kokotaru.com/cach-lam-banh-quy-hat-dieu/', 'https://kokotaru.com/khau-nhao-tron-trong-qua-trinh-lam-banh-mi/', 'https://kokotaru.com/cach-lam-banh-mi-phap/', 'https://kokotaru.com/cach-lam-banh-eclair-kem-tra-xanh/', 'https://kokotaru.com/cach-lam-mon-trang-mieng-voi-qua-anh-dao/', 'https://kokotaru.com/cach-lam-banh-mi-nuong-kieu-phap/', 'https://kokotaru.com/cach-lam-banh-quy-bo-cookie-kieu-hy-lap/', 'https://kokotaru.com/pancake-banh-nuong-chao/', 'https://kokotaru.com/cach-lam-banh-tart-tao-va-cream-cheese/', 'https://kokotaru.com/cach-lam-amaretti-banh-quy-nhan-hanh-nhan/', 'https://kokotaru.com/cach-lam-banh-bong-thien-than/', 'https://kokotaru.com/cach-lam-banh-quy-bo-sieu-mem-tan-trong-mieng/', 'https://kokotaru.com/cach-lam-kimbap-com-cuon-rong-bien-kieu-han-quoc/', 'https://kokotaru.com/cach-lam-banh-tart-le-va-kem-hanh-nhan/', 'https://kokotaru.com/cach-lam-banh-tiramisu-co-dien/', 'https://kokotaru.com/cach-lam-banh-tao/', 'https://kokotaru.com/cach-lam-banh-ran-man/', 'https://kokotaru.com/cach-lam-banh-mi-noel-kieu-duc/', 'https://kokotaru.com/cach-lam-banh-quy-socola-mem-ngon-tuyet-chocolate-crinkles/', 'https://kokotaru.com/cach-lam-choux-banh-su-kem/', 'https://kokotaru.com/gioi-thieu-banh-mochi-kieu-nhat/', 'https://kokotaru.com/cach-lam-dorayaki-banh-ran-doraemon/', 'https://kokotaru.com/cach-lam-cookies-tra-xanh/', 'https://kokotaru.com/cach-lam-banh-cupcake-phuc-bon-tu/', 'https://kokotaru.com/cach-lam-banh-hanh-nhan-sieu-gion-sieu-ngon-almond-tuiles/', 'https://kokotaru.com/cach-lam-banh-brownie-pho-mai-creamcheese-brownies/', 'https://kokotaru.com/cach-lam-banh-kem-tra-xanh/', 'https://kokotaru.com/cach-lam-banh-cheesecake-kieu-nhat-sieu-mem-japanese-cotton-cheesecake/', 'https://kokotaru.com/cach-lam-banh-que-vong/', 'https://kokotaru.com/trung-thu-nay-lam-banh-deo/', 'https://kokotaru.com/cach-lam-banh-cheesecake-ngon-ngat-ngay/']\n",
      "Ingredients Dictionary Len: 50\n",
      "Not Found URLs Len: 332\n"
     ]
    },
    {
     "name": "stderr",
     "output_type": "stream",
     "text": [
      "\n"
     ]
    }
   ],
   "source": [
    "all_ingredients_type2, type_2_not_found = get_all_ingredients_from_urls(type_1_not_found, 2)\n",
    "print(\"Ingredients Dictionary:\", all_ingredients_type2)\n",
    "print(\"Not Found URLs:\", type_2_not_found)\n",
    "print(\"Ingredients Dictionary Len:\", len(all_ingredients_type2))\n",
    "print(\"Not Found URLs Len:\", len(type_2_not_found))"
   ]
  },
  {
   "cell_type": "code",
   "execution_count": 34,
   "metadata": {},
   "outputs": [
    {
     "name": "stderr",
     "output_type": "stream",
     "text": [
      "Page Loading: 100%|██████████| 332/332 [11:06<00:00,  2.01s/page]"
     ]
    },
    {
     "name": "stdout",
     "output_type": "stream",
     "text": [
      "Ingredients Dictionary: {'Cách làm bánh cupcake socola kem phomai': '* Nhân cream cheese:\\n– 227g cream cheese, để nhiệt độ phòng.\\n– 50g đường trắng\\n– 1 quả trứng to\\n– 1/2 tsp vanilla\\n* Bánh chocolate:\\n– 210g bột mì đa dụng\\n– 170g đường nâu\\n– 30g bột cacao\\n– 1 tsp baking soda\\n– 1/4 tsp muối\\n– 240ml nước\\n– 80ml dầu ăn\\n– 1 tbs dấm trắng (distilled vinegar – hoặc bạn có thể dùng dấm tự nhiên – natural vinegar hoặc dấm táo – apple cider vinegar)\\n– 1 tsp vanilla', 'Công thức làm bánh chanh vàng – Lemon bars': '(khuôn vuông 20x20cm)', 'Công thức bánh Pavlova dâu tây': '– 120g lòng trắng trứng\\n– 140g đường trắng hạt mịn hoặc đường bột\\n– 1 tsp dấm trắng\\n– 1/2 tbs bột ngô\\n– 1 cup (240ml) whipping cream\\n– 1 tbs đường trắng\\n– 1/2 tsp tinh chất vanilla', 'Pancake ngô ngọt': '– 200-250g ngô ngọt đã tách hạt\\n– 20ml sữa tươi làm nóng\\n– 15g bột mì đa dụng\\n– 1 chút muối và tiêu\\n– 2 lòng trắng trứng to hoặc 3 lòng trắng trứng nhỏ\\n– ít dầu ăn để bôi chảo', 'Công thức bánh cà rốt ngon tuyệt – Carrot cake nuts with cream cheese icing': '(2 khuôn tròn 20-21 cm)\\n* Phần bánh:\\n– 100g hạt óc chó, rang chín, giã dập\\n– 340g cà rốt tươi\\n– 280g bột mì đa dụng\\n– 1 tsp baking soda\\n– 1 1/2 tsp baking powder\\n– 1/2 tsp muối\\n– 1 1/2 tsp bột quế\\n– 4 quả trứng to\\n– 200g đường trắng\\n– 240ml dầu hạt cải\\n– 2 tsp vanilla\\n* Phần cream cheese icing:\\n– 57g bơ nhạt, để mềm ở nhiệt độ phòng\\n– 227g cream cheese, nhiệt độ phòng\\n– 150g đường bột, rây mịn\\n– 1 tsp vanilla\\n– vỏ bào mịn của 1 quả chanh (vàng)\\n– 100g hạt dẻ (hazelnut), rang chín, giã dập.\\n', 'Cách làm Bánh quy hoa hạnh nhân': '(làm cũng được khá khá nhiều)\\n– 225g bột mì đa dụng\\n– 1/4 tsp muối\\n– 190g bơ nhạt, để mềm\\n– 90g đường trắng\\n– 1 tbs vanila\\n– 100g bột hạnh nhân\\n', 'Cách làm Bánh gối': '(phần này mình chỉ đưa ra tỉ lệ làm vỏ bánh và nhân bánh riêng rẽ, không nhất thiết là số lượng vỏ sẽ đủ để sử dụng hết nhân và ngược lại)\\n– 200g bột mì đa dụng\\n– Nước lạnh\\nKhông có tỉ lệ cụ thể cho nước và bột vì 1 tỉ lệ chính xác là không thể do phụ thuộc vào nhiệt độ và độ ẩm môi trường. Cho từng chút nước vào bột, nhào bột rồi lại thêm nước, đến khi hỗn hợp bột trở nên dẻo, mịn, không dính tay, bột róc hết khỏi thành bát. Ban đầu nhào sẽ cảm thấy bột nặng nhưng đừng nên vì thế mà cho thêm nước, vì nhào một lúc bột sẽ mềm ra, ẩm hơn.\\nĐể bột nghỉ khoảng 20 phút rồi chia bột thành nhiều mẩu nhỏ, cán từng mẩu bột thành miếng mỏng khoảng 1-2mm, áo bột nếu cần. Dùng miệng bát ăn cơm ấn lên để cắt được miếng bột hình tròn. Nên làm xong chiếc vỏ nào thì dùng để gói bánh luôn, vì vỏ mỏng, phơi lâu sẽ bị khô và cứng đi nếu để ở nơi nhiều gió, hoặc sẽ bị ẩm làm dính miếng nọ với miếng kia vào nhau.\\n– 300g thịt lợn xay\\n– 100g miến, ngâm nở mềm , cắt vụn\\n– 5, 6 cái mộc nhĩ, ngâm nở mềm , thái nhỏ\\n– 1 chục cái nấm hương, ngâm nở mềm, thái nhỏ\\n– 1 củ đậu cỡ vừa, thái hoặc bào vụn\\xa0 (thay củ đậu bằng su hào cũng ngon)\\n– 2 củ cà rốt cỡ vừa, thái hoặc bào vụn\\n– Nước mắm, hạt tiêu, nêm mặn vừa khẩu vị\\nTrộn tất cả các nguyên liệu làm nhân với nhau.\\nCái này thì tùy mỗi người, tùy sự khéo léo và sáng tạo để gói nhiều hay ít nhân và tạo hình cho mỗi chiếc bánh.\\nRán bánh trong nồi nhỏ hoặc chảo lõm, rán ngập dầu đến khi vỏ bánh vàng ươm đều là được.\\nPha nước chấm chua cay mặn ngọt truyền thống, như nước chấm nem, với mắm, đường, dấm, tỏi, ớt, rồi hòa thêm chút tương ớt vào bát nước chấm để có màu đỏ tươi. Thay dấm bằng chanh hoặc quất cho có thêm mùi thơm nếu thích.\\n', 'Cookie phủ cacao': '(làm 20-25 cái)\\n– 250g bột mì đa dụng\\n– 1 tsp baking powder\\n– 1/8 tsp muối\\n– 90g bơ nhạt, mềm\\n– 50g đường trắng\\n– 2 quả trứng to\\n– 1 tbs sữa tươi\\n– Icing sugar và bột cacoa để phủ lên bánh\\n', 'Bánh quy trái tim vị mật mía': '(30-35 cái)\\n– 275g bột mì đa dụng\\n– 1/4 tsp bột allspice\\n– 1/4 tsp baking soda\\n– 1/4 tsp bột quế\\n– 1/4 tsp bột đinh hương (cloves)\\n– 1/4 tsp bột gừng\\n– 1/4 tsp bột nutmeg\\n– 1/8 tsp muối\\n– 125g (1/2 cup) molasses\\n– 140g đường nâu nhạt\\n– 60g bơ nhạt, đun chảy\\n', 'Cách làm Bánh quy vừng xốp giòn': '( làm khoảng 25 cái)\\n– 250g bơ nhạt, để mềm\\n– 130g đường trắng\\n– 1 tbs vỏ chanh bào nhỏ\\n– 300g bột mì đa dụng\\n– 1 lòng trắng trứng, dùng dĩa khuấy tan\\n– 2 tbs mật ong\\n– 130g vừng trắng', 'Cách làm Bánh dâu tây sữa chua': '(11-12 cupcakes)\\n– 115g bơ mềm\\n– 110g đường trắng\\n– 1 tsp vanilla\\n– 2 quả trứng nhỏ\\n– 250g bột mì đa dụng\\n– 1 tsp baking soda\\n– 1/2 tsp baking powder\\n– 240ml sữa chua không đường\\n– dâu tây thái lát ( lượng sử dụng tùy ý, nhưng vừa phải, không dùng quá nhiều)\\n', 'Cách làm bánh quy cam siêu mỏng siêu giòn – Orange wafers': '– 80g vừng trắng\\n– 100g bột mì đa dụng\\n– 1/8 tsp muối\\n– 90g bơ mềm\\n– 70g đường bột\\n– 1 tbs vanilla\\n– Vỏ 1 quả cam, bào vụn\\n– 3 lòng trắng trứng , dùng đũa quấy cho đều.\\n', 'Công thức làm Bánh bông lan chiffon cam': '(cho khuôn tube đường kính 20cm hoặc loại 8”)\\n– 80g cake flour\\n– 50g đường trắng\\n– 2g muối\\n– 4g baking powder\\n– 40g dầu ăn (nên dùng loại dầu ngon)\\n– 48g lòng đỏ trứng\\n– 40g nước cam + 20g nước\\n– 2g vanilla\\n– 1 tbs vỏ cam bào vụn\\n– 80g lòng trắng trứng\\n– 30g đường\\n– 1/16 tsp cream of tartar', 'Bánh quy ngón tay – Lady fingers': '(làm khoảng 30 cái dài 7-8cm)\\n– 3 quả trứng, tách riêng lòng trắng, đỏ\\n– 6 tbs bột ngô\\n– 6 tbs bột mì đa dụng\\n– 60g đường trắng hạt mịn\\n– Đường bột\\n', 'Bánh phômai vị tiramisu – Tiramisu cheesecake': '– 250g bánh lady fingers\\n– 3 tbs bơ chảy\\n– 6 tbs rượu vị cà phê hoặc chocolate (mình dùng rượu Baileys)\\n– 680g cream cheese\\n– 227g mascarpone cream cheese\\n– 160g đường trắng\\n– 2 quả trứng\\n– 4 tbs bột mì đa dụng\\n– 30g chocolate đắng\\n', 'Bánh quy hạt điều': '(làm khoảng 30 cái)\\n– 250g bột mì đa dụng\\n– 1/2 tsp muối\\n– 60g bơ nhạt, cắt thành khối nhỏ\\n– 3 lòng đỏ trứng, quấy nhẹ cho tan\\n– 100-120g đường trắng\\n– 25g hạt điều, thái vụn\\n– Vỏ bào của 1 nửa quả chanh vàng\\n– 90ml sữa tươi\\n', 'Bánh quy bơ với quả khô': '(làm khoảng 30 cái)\\n– 350g bột mì đa dụng\\n– 100g đường bột\\n– 1/8 tsp muối\\n– 180g bơ nhạt, cắt thành khối nhỏ\\n– 1 quả trứng to\\n– 45g currant khô\\n', 'Pancake – bánh nướng chảo': '(3-4 người)\\n– 140g bột mì đa dụng\\n– 2 tsp baking powder\\n– 1/4 tsp muối\\n– 2 tbs. đường trắng\\n– 1 quả trứng, đánh nhẹ\\n– 240ml sữa tươi\\n– 28g bơ nhạt, đun chảy\\n– Một ít bơ dùng để bôi trơn chảo\\n', 'Bánh hạnh nhân siêu giòn siêu ngon – Almond Tuiles': '– 70g lòng trắng trứng, để nhiệt độ phòng.\\n– 60g đường bột (icing sugar)\\n– 50-60g bơ chảy\\n– 50g bột mì\\n– 1 nhúm muối\\n– Hạnh nhân lát: thích ăn nhiều thì dùng hết nhiều, nhưng hơi tốn 😛', 'Cách làm bánh brownie phô-mai-Creamcheese Brownies': '(cho khuôn vuông 23x23cm, hoặc chữ nhật tương đương)\\n– 113g bơ nhạt, cắt thành mẩu nhỏ\\n– 114g chocolate đắng, cắt vụn\\n– 180g đường trắng\\n– 1tsp vanilla\\n– 2 quả trứng\\n– 1/4 tsp muối\\n– 70g bột mì đa dụng\\n– 227g creamcheese, để nhiệt độ phòng\\n– 40g đường trắng\\n– 1tsp vanilla\\n– 1 quả trứng', 'Cách làm bánh cheesecake kiểu Nhật siêu mềm – Japanese Cotton Cheesecake': '– 120g đường trắng (loại hạt nhỏ mịn)\\n– 6 lòng trắng trứng\\n-1/4 tsp cream of tartar\\n– 50g bơ nhạt\\n– 250g creamcheese\\n– 100ml sữa tươi\\n– 6 lòng đỏ trứng\\n– 1tbs. nước cốt chanh\\n– 60g cake flour (hoặc plain flour rây mịn)\\n– 20g bột ngô', 'Bánh cheesecake ngon ngất ngây – NewYork-style Cheesecake': '(cho khay tròn, tháo đế, đường kính 22-23cm)\\n* Đế bánh: Khoảng 12 cái bánh quy Marie, nghiền vụn, trộn với 1/4 cup đường trắng, và 15g bơ đun chảy. Ấn chặt bánh quy xuống đáy khuôn.\\n* 850 – 900g creamcheese để mềm.\\n60ml whipping cream, 2tbs bột mì, 1 tsp vanilla\\n5 quả trứng + 2 lòng đỏ.'}\n",
      "Not Found URLs: ['https://kokotaru.com/pizza-banh-mi-banh-pizza-lam-tu-banh-mi-sandwich/', 'https://kokotaru.com/poppy-seeds-quince-cake-banh-qua-quince-hat-poppy/', 'https://kokotaru.com/walnut-quince-yogurt-cake-banh-quince-sua-chua-hat-oc-cho/', 'https://kokotaru.com/loi-thuong-gap-khi-lam-banh-kinh-nghiem-lam-banh-ngon/', 'https://kokotaru.com/banh-sinh-nhat-trang-tri-fondant-lam-theo-yeu-cau/', 'https://kokotaru.com/nhung-vat-dung-co-ban-cua-lam-banh/', 'https://kokotaru.com/cach-lam-banh-bong-lan-trung-muoi-cha-bong/', 'https://kokotaru.com/cach-lam-hat-dac-rim-dau-tam/', 'https://kokotaru.com/banh-mi-nuong-trung-thit-hun-khoi/', 'https://kokotaru.com/van-de-thuong-gap-voi-cookies/', 'https://kokotaru.com/cach-lam-hat-dac-rim-dua-thom/', 'https://kokotaru.com/tim-hieu-ve-noi-chien-khong-dau/', 'https://kokotaru.com/cach-che-bien-hat-dac-tuoi-dac-san-nha-trang/', 'https://kokotaru.com/9-loai-banh-pancake-ngon-khong-can-dung-lo-nuong/', 'https://kokotaru.com/cach-lam-banh-bong-lan-gato-hong-kong-la-dua/', 'https://kokotaru.com/kinh-nghiem-lua-chon-va-su-dung-may-tron-bot-mixer/', 'https://kokotaru.com/4-cach-lam-flan-ngon-tuyet/', 'https://kokotaru.com/banh-he-nuong-chao/', 'https://kokotaru.com/phan-loai-lo-nuong-kinh-nghiem-su-dung-lo-nuong-gia-dinh/', 'https://kokotaru.com/hinh-anh-va-ten-goi-cac-loai-khuon-dung-trong-lam-banh/', 'https://kokotaru.com/14-cach-lam-banh-bong-lan-gato-cho-trang-tri-banh-kem-sinh-nhat/', 'https://kokotaru.com/cac-loai-duong-lam-banh/', 'https://kokotaru.com/lam-banh-cho-nguoi-bi-tieu-duong/', 'https://kokotaru.com/cac-loai-kem-phu-icing-frosting/', 'https://kokotaru.com/cach-lam-banh-bong-lan-gato-bang-noi-com-dien/', 'https://kokotaru.com/phan-biet-cac-loai-pho-mat-cheese/', 'https://kokotaru.com/cach-tan-dung-long-do-trung-thua/', 'https://kokotaru.com/cach-lam-sua-dau-phong-me-den/', 'https://kokotaru.com/ten-goi-va-phan-biet-cac-loai-banh-phuong-tay/', 'https://kokotaru.com/6-loai-banh-quy-ngon-tuyet-chi-dung-long-do-trung/', 'https://kokotaru.com/cach-lam-banh-mi-gion-tan-cho-salad-va-sup-croutons/', 'https://kokotaru.com/banh-bao-chien-bo-xot-tieu-nam/', 'https://kokotaru.com/cac-loai-rau-thom-va-cach-dung-trong-mon-an-viet/', 'https://kokotaru.com/cach-tan-dung-long-trang-trung-thua/', 'https://kokotaru.com/ten-goi-va-cong-dung-cac-loai-dao-nha-bep/', 'https://kokotaru.com/cac-van-de-loi-khi-lam-banh-mi/', 'https://kokotaru.com/cac-loai-bot-lam-banh/', 'https://kokotaru.com/cac-kieu-cat-rau-cu-ki-nang-dung-dao/', 'https://kokotaru.com/cach-lam-che-dau-xanh-pho-tai/', 'https://kokotaru.com/cach-lam-so-co-la-nho-kho-va-hat-bi-pumpkin-seed-and-rasin-chocolate/', 'https://kokotaru.com/cach-lam-banh-bi-ngoi-chien-man/', 'https://kokotaru.com/cach-lam-banh-chuoi-vung-nuong-thom-phuc-banana-coconut-sesame-cake/', 'https://kokotaru.com/banh-quy-bot-dau-nanh-yen-mach-va-qua-nam-viet-quat-kho/', 'https://kokotaru.com/cach-lam-bi-ngoi-nuong-pho-mai-parmesan/', 'https://kokotaru.com/cach-lam-banh-mi-que-nhan-kem-tao-cinnamon-apple-custard-cake-bun/', 'https://kokotaru.com/cach-lam-dau-dua/', 'https://kokotaru.com/cach-lam-snack-bars/', 'https://kokotaru.com/cach-lam-cupcake-vung-den/', 'https://kokotaru.com/cach-lam-snack-cu-sen-an-vat-gion-tan/', 'https://kokotaru.com/cach-lam-banh-kem-phomai-oreo-cheesecake-cupcake/', 'https://kokotaru.com/cach-lam-banh-mi-hoa-qua-kho/', 'https://kokotaru.com/cach-lam-banh-bo-la-dua-pandan-poppy-seeds-butter-cake/', 'https://kokotaru.com/cach-lam-banh-trung-thu-thap-cam/', 'https://kokotaru.com/cach-lam-banh-cuon-bang-chao/', 'https://kokotaru.com/cach-lam-passion-fruit-souffle-souffle-chanh-leo/', 'https://kokotaru.com/cach-lam-mut-la-dua-pandan-kaya/', 'https://kokotaru.com/cach-lam-sua-dau-nanh-la-dua/', 'https://kokotaru.com/cach-lam-honey-castella-banh-mat-ong-kasutera/', 'https://kokotaru.com/cach-lam-sua-dau-nanh-me-den/', 'https://kokotaru.com/cach-lam-macarons/', 'https://kokotaru.com/cach-lam-donut-nhung-chiec-banh-thom-nuc/', 'https://kokotaru.com/cach-lam-sua-dau-nanh-tai-nha/', 'https://kokotaru.com/cach-lam-banh-trung-thu-ngan-lop/', 'https://kokotaru.com/cach-lam-banh-mi-la-dua/', 'https://kokotaru.com/cach-lam-sua-bap-sua-ngo/', 'https://kokotaru.com/cach-lam-banh-nuong/', 'https://kokotaru.com/cach-lam-cookies-vung-den-banh-quy/', 'https://kokotaru.com/cach-lam-nhan-banh-trung-thu/', 'https://kokotaru.com/cach-lam-banh-deo/', 'https://kokotaru.com/cach-lam-banh-socola-it-beo-low-fat-chocolate-souffle/', 'https://kokotaru.com/cach-lam-nuoc-duong-banh-nuong/', 'https://kokotaru.com/cach-lam-hat-dieu-ngao-mat-ong-an-vat/', 'https://kokotaru.com/cach-lam-sweet-and-salty-brownies/', 'https://kokotaru.com/kinh-nghiem-chon-mua-khuon-banh-trung-thu/', 'https://kokotaru.com/cach-lam-cookies-gao-vung-den/', 'https://kokotaru.com/cach-lam-xot-ca-chua-cho-pizza/', 'https://kokotaru.com/cach-lam-banh-socola-bang-lo-vi-song-chocolate-mug-cake/', 'https://kokotaru.com/cach-lam-nuoc-gao-rang/', 'https://kokotaru.com/cach-lam-banh-chanh-dua-va-hat-poppy/', 'https://kokotaru.com/giai-dap-nguyen-lieu-lam-banh-trung-thu/', 'https://kokotaru.com/cach-lam-banh-quy-que-thom/', 'https://kokotaru.com/cach-lam-hat-dieu-man-an-vat/', 'https://kokotaru.com/nhin-an-va-suc-khoe/', 'https://kokotaru.com/an-chay-va-suc-khoe-p2/', 'https://kokotaru.com/cach-lam-cupcake-bi-do/', 'https://kokotaru.com/cach-lam-banh-quy-man-vi-phomai-cheddar-and-black-pepper-crackers/', 'https://kokotaru.com/an-chay-va-suc-khoe-phan-1/', 'https://kokotaru.com/cach-lam-panna-cotta-tra-xanh-matcha-panna-cotta/', 'https://kokotaru.com/an-chay-va-suc-khoe-p3/', 'https://kokotaru.com/cach-lam-souffle-tra-xanh/', 'https://kokotaru.com/cach-lam-che-khuc-bach/', 'https://kokotaru.com/cach-lam-upcake-la-dua/', 'https://kokotaru.com/cach-lam-socola-vien-vi-banh-quy-kem-phomai-cookie-creamcheese-truffle/', 'https://kokotaru.com/tang-them-100-cuon-sach-cookbook/', 'https://kokotaru.com/cach-lam-pho-mai-que-an-vat-fried-mozzarella-cheese-sticks/', 'https://kokotaru.com/cach-lam-banh-brownie-pho-mai-anh-dao-brownie-cherry-cheesecake/', 'https://kokotaru.com/cach-lam-banh-pie-qua-anh-dao-cherry-pie/', 'https://kokotaru.com/cach-lam-su-kem-nhan-tra-xanh/', 'https://kokotaru.com/cach-lam-banh-muffin-qua-anh-dao-cherry-muffin/', 'https://kokotaru.com/cach-lam-banh-muffin-tao-apple-muffins/', 'https://kokotaru.com/nguyen-lieu-trong-am-thuc-nhat-ban/', 'https://kokotaru.com/tang-sach-cookbook-kokotaru-moi-xuat-ban/', 'https://kokotaru.com/cach-lam-banh-quy-man-vi-ot-paprika-paprika-cracker/', 'https://kokotaru.com/cach-lam-banh-socola-anh-dao-chocolate-cherry-cake/', 'https://kokotaru.com/wagashi-nghe-thuat-banh-ngot-nhat-ban/', 'https://kokotaru.com/cach-lam-banh-socola-black-forest-cake/', 'https://kokotaru.com/cach-lam-banh-muffin-socola-phuc-bon-tu-raspberry-and-dark-chocolate-muffin/', 'https://kokotaru.com/cach-lam-banh-kem-pho-mai-socola-mem-chocolate-mousse-cheesecake/', 'https://kokotaru.com/cach-lam-banh-chanh-qua-phuc-bon-tu-lemon-raspberry-bars/', 'https://kokotaru.com/cach-lam-mashed-potato-khoai-tay-nghien/', 'https://kokotaru.com/cach-lam-banh-tra-xanh-nuong-chao-matcha-pancake/', 'https://kokotaru.com/cach-lam-banh-qua-phuc-bon-tu-buttermilk-raspberry-cake/', 'https://kokotaru.com/cach-lam-banh-tiramisu-cake/', 'https://kokotaru.com/cach-lam-banh-mousse-socola-dua-chocolate-and-coconut-mousse-cake/', 'https://kokotaru.com/cach-lam-cafe-ruou-kahluaccinno/', 'https://kokotaru.com/cach-lam-banh-cupcake-socola-chocolate-cupcake/', 'https://kokotaru.com/cach-lam-banh-kem-pho-mai-socola-chocolate-truffle-cheesecake/', 'https://kokotaru.com/cach-lam-banh-nam-viet-quat-hat-de-cuoi-cranberry-pistachio-shortbread/', 'https://kokotaru.com/cach-lam-banh-muffin-chanh-hat-poppy-lemon-poppy-seeds-muffin/', 'https://kokotaru.com/cach-lam-banh-kem-pho-mai-tra-xanh-cheesecake-tra-xanh/', 'https://kokotaru.com/cach-lam-banh-quy-dua-socola-den-dark-chocolate-coconut-cookies/', 'https://kokotaru.com/cach-lam-banh-quy-nam-viet-quat-hat-de-cuoi-cranberry-pistachios-biscotti/', 'https://kokotaru.com/cach-lam-banh-nuong-chao-chocolate-pancake/', 'https://kokotaru.com/cach-lam-banh-quy-socola-dua-double-dark-chocolate-coconut-cookies/', 'https://kokotaru.com/cach-lam-banh-mi-socola/', 'https://kokotaru.com/cach-lam-banh-nuong-chao-bo-dau-phong-peanut-butter-chocolate-chip-pancake/', 'https://kokotaru.com/cach-lam-banh-quy-chanh-hanh-nhan-cookie-chanh-hanh-nhan/', 'https://kokotaru.com/cach-lam-socola-tinh-yeu-chocolate-hearts-with-nuts/', 'https://kokotaru.com/cach-lam-banh-quy-oreo-homemade-oreo-cookies/', 'https://kokotaru.com/cach-lam-banh-socola-mem-molten-chocolate-lava-cake/', 'https://kokotaru.com/cach-lam-banh-quy-tra-xanh-hanh-nhan-cookie-tra-xanh-hanh-nhan/', 'https://kokotaru.com/cach-lam-cake-balls-cho-le-tinh-yeu-happy-valentine/', 'https://kokotaru.com/cach-lam-chocolate-truffle-tart/', 'https://kokotaru.com/cach-lam-banh-cho-le-tinh-yeu-red-velvet-cheesecake-brownies/', 'https://kokotaru.com/cach-lam-banh-quy-bo-don-gian-easy-shortbread/', 'https://kokotaru.com/cach-lam-banh-pho-mai-bo-dau-phong-peanut-butter-cheesecake-brownies/', 'https://kokotaru.com/cach-lam-brownie-tra-xanh/', 'https://kokotaru.com/cach-lam-banh-brownie-tuyet-ngon-eggnog-brownies-with-raspberry-sauce/', 'https://kokotaru.com/cach-lam-banh-pie-dau-tay-strawberry-crumble-pie/', 'https://kokotaru.com/cach-lam-banh-socola-dam-dac-chocolate-decadence/', 'https://kokotaru.com/cach-lam-cookie-banh-quy-hanh-nhan-chocolate-chips/', 'https://kokotaru.com/cach-lam-banh-mi-phuc-sinh/', 'https://kokotaru.com/cach-lam-banh-quy-bo-dau-phong-peanut-butter-coconut-cookies/', 'https://kokotaru.com/cach-lam-banh-quy-socola-vi-que-va-hat-thong/', 'https://kokotaru.com/cach-lam-banh-hanh-nhan-don-gian-simple-almond-cake/', 'https://kokotaru.com/cach-lam-socola-mem-vi-ruou-cam-chocolate-truffles-with-orange-liquer/', 'https://kokotaru.com/cach-lam-banh-mi-pappa-roti-dau-tay/', 'https://kokotaru.com/cach-lam-banh-hat-oc-cho-kem-phomai-walnut-ricotta-cake/', 'https://kokotaru.com/cach-lam-banh-khuc/', 'https://kokotaru.com/cach-lam-banh-mi-trang-amish-white-bread/', 'https://kokotaru.com/cach-lam-banh-mi-bo-dao-nha-portugese-sweet-bread-rolls/', 'https://kokotaru.com/cach-lam-socola-trang-tra-xanh-white-chocolate-truffles/', 'https://kokotaru.com/cach-lam-banh-hanh-nhan-sieu-bui-rich-almond-cake/', 'https://kokotaru.com/cach-lam-cupcake-socola-chuoi/', 'https://kokotaru.com/cach-lam-banh-cupcake-vi-cocktail-margarita-cupcakes/', 'https://kokotaru.com/cach-lam-banh-mi-ngot-hanh-nhan-almond-sweet-buns/', 'https://kokotaru.com/cach-lam-banh-mi-dua/', 'https://kokotaru.com/cach-lam-banh-mi-an-sang/', 'https://kokotaru.com/cach-lam-muffin-bi-ngoi-socola-zucchini-chocolate-chip-muffins/', 'https://kokotaru.com/cach-lam-banh-mi-thit-hun-khoi-nuong-gion-bacon-puffs/', 'https://kokotaru.com/cach-lam-frittata-khoai-tay/', 'https://kokotaru.com/cach-lam-tart-chanh-vang-kem-tuoi/', 'https://kokotaru.com/cach-lam-banh-mi-sua-hokkaido/', 'https://kokotaru.com/cach-lam-peanut-butter-cookies-cookies-bo-dau-phong/', 'https://kokotaru.com/cach-lam-pancake-bi-do-ngon-bo/', 'https://kokotaru.com/cach-lam-muffin-thit-hun-khoi/', 'https://kokotaru.com/cach-lam-banh-mi-do-thai-challah/', 'https://kokotaru.com/cach-lam-chocolate-ricotta-muffin/', 'https://kokotaru.com/cocktail-mua-he-janelas-verdes-bien-the/', 'https://kokotaru.com/cach-lam-tart-tao-thom-mat-cho-ngay-nong/', 'https://kokotaru.com/cach-lam-pancake-khoai-tay-ca-hoi/', 'https://kokotaru.com/cach-lam-banh-chiffon-bi-do-ngon-bo/', 'https://kokotaru.com/cach-lam-cocktail-vampires-thirst/', 'https://kokotaru.com/cach-lam-banh-chocolate-cuon/', 'https://kokotaru.com/cocktail-mua-he-passion-fruit-paloma/', 'https://kokotaru.com/cach-lam-banh-quy-vi-pho-mai-cheese-bites/', 'https://kokotaru.com/cach-lam-khoai-tay-chien-nuong-phomai-cheddar/', 'https://kokotaru.com/cach-lam-banh-quy-tra-xanh-don-gian-green-tea-shortbread/', 'https://kokotaru.com/cach-lam-che-dau-xanh-nha-dam/', 'https://kokotaru.com/cach-lam-dau-tay-tuxedo-lam-qua-tang-valentine/', 'https://kokotaru.com/cach-lam-mousse-dau-tay/', 'https://kokotaru.com/cach-lam-banh-tra-xanh-chocolate-chips/', 'https://kokotaru.com/cach-lam-flan-chanh-leo/', 'https://kokotaru.com/cach-lam-banh-ngon-het-say-cheesecake-pops/', 'https://kokotaru.com/cach-lam-banh-khoai-tay-ca-ngu/', 'https://kokotaru.com/cach-lam-banh-quy-hanh-nhan-socola-chocolate-almond-logs/', 'https://kokotaru.com/cach-lam-che-sen-dau-xanh-long-nhan/', 'https://kokotaru.com/cach-lam-khoai-tay-cuon-tom-phomai-chien/', 'https://kokotaru.com/cach-lam-chiffon-tra-xanh/', 'https://kokotaru.com/cach-lam-khoai-tay-chien-nuong-phomai/', 'https://kokotaru.com/cach-lam-cinnabon-banh-mi-que/', 'https://kokotaru.com/cong-thuc-banh-socola-chocolate-madeleines/', 'https://kokotaru.com/cach-lam-banh-cheesecake-chanh-vang/', 'https://kokotaru.com/cach-lam-banh-mi-bo-brioche-ngon-tuyet/', 'https://kokotaru.com/cach-lam-pizza-salami-pepperoni-va-ot-chuong/', 'https://kokotaru.com/cach-lam-banh-madeleine-chanh/', 'https://kokotaru.com/cach-lam-banh-cuon-kem-tuoi-mut-dau/', 'https://kokotaru.com/cach-lam-banh-mi-nuong-thit-hun-khoi/', 'https://kokotaru.com/cong-thuc-banh-viet-quat-tuyet-ngon-blueberry-crumble/', 'https://kokotaru.com/cach-lam-banh-que-socola-sieu-gion-chocolate-almond-tuiles/', 'https://kokotaru.com/cach-lam-red-velvet-cake-balls/', 'https://kokotaru.com/cach-lam-banh-tao-apple-pie-2/', 'https://kokotaru.com/cach-lam-eclair-phu-chocolate/', 'https://kokotaru.com/cach-lam-banh-tart-chanh-vang-kem-long-trang-trung-lemon-meringue-tart/', 'https://kokotaru.com/cach-lam-banh-dua-voi-berries-va-chocolate-trang/', 'https://kokotaru.com/cong-thuc-lam-panna-cotta-chanh-vang-qua-viet-quat/', 'https://kokotaru.com/cach-lam-cheesecake-dau-tay/', 'https://kokotaru.com/cach-nau-le-ruou-vang-do/', 'https://kokotaru.com/cach-lam-banh-mi-huong-thao-kieu-y-rosemary-focaccia/', 'https://kokotaru.com/cach-lam-banh-chocolate-raspberry-va-ginger-chocolate-mousse/', 'https://kokotaru.com/cong-thuc-banh-baeumkuchen-kieu-duc/', 'https://kokotaru.com/cach-lam-banh-pudding-banh-mi-vi-ruou-whiskey-bread-pudding/', 'https://kokotaru.com/cong-thuc-lam-banh-mini-cream-puffs/', 'https://kokotaru.com/cach-lam-banh-mi-baguette/', 'https://kokotaru.com/cach-lam-khoai-lang-ran-sweet-potato-chips/', 'https://kokotaru.com/cach-lam-hamburger/', 'https://kokotaru.com/cach-lam-khoai-tay-ran-potato-chips/', 'https://kokotaru.com/cach-lam-pizza-voi-pepperoni-va-salami/', 'https://kokotaru.com/cach-lam-banh-mi-goi/', 'https://kokotaru.com/cach-lam-pinwheel-cookies/', 'https://kokotaru.com/cach-lam-chocolate-pots-ngon-tuyet/', 'https://kokotaru.com/cach-lam-banh-pound-cake-nho-kho/', 'https://kokotaru.com/cach-lam-banh-nuong-banh-deo/', 'https://kokotaru.com/cach-lam-puff-pastry-mut-dau-tay/', 'https://kokotaru.com/cong-thuc-lam-banh-socola-ngon-tuyet-chocolate-torte/', 'https://kokotaru.com/cach-lam-bread-pudding/', 'https://kokotaru.com/cach-lam-banh-cupcake-bo-butterfly-cakes/', 'https://kokotaru.com/cach-lam-banh-quy-vi-nhuc-dau-khau-nutmeg-spritz-cookies/', 'https://kokotaru.com/banh-mi-tao-hinh/', 'https://kokotaru.com/cach-lam-banh-chuoi-socola-chien-gion-chocolate-samosas/', 'https://kokotaru.com/cach-lam-banh-tao-mem-thom-ngon-tuyet/', 'https://kokotaru.com/cach-lam-banh-ngo-ngot-chien/', 'https://kokotaru.com/cach-lam-banh-mi-nuong-ca-chua-va-la-hung-tay/', 'https://kokotaru.com/cach-lam-clafouti-tao-mam-xoi-va-chocolate/', 'https://kokotaru.com/cach-lam-banh-pancake-qua-viet-quat-blueberry-pancake/', 'https://kokotaru.com/cach-lam-banh-mi-nuong-xot-nam/', 'https://kokotaru.com/cong-thuc-banh-chiffon-sua-chua-cranberry-yogurt-chiffon-cake/', 'https://kokotaru.com/cach-lam-banh-tart-chanh-qua-mam-xoi/', 'https://kokotaru.com/cach-lam-socola-nong-chocolate-nong-va-qua-anh-dao/', 'https://kokotaru.com/cach-lam-banh-mi-nuong-pho-mai-va-pepperoni/', 'https://kokotaru.com/cach-lam-banh-bot-chien-kieu-thai/', 'https://kokotaru.com/cach-lam-banh-it-banh-ram/', 'https://kokotaru.com/kokotaru-sinh-nhat-1-tuoi/', 'https://kokotaru.com/cach-lam-banh-mi-nuong-trung-op-va-xuc-xich-duc/', 'https://kokotaru.com/cach-lam-puff-pastry-lemon-mousse-va-qua-mam-xoi/', 'https://kokotaru.com/cach-lam-pancake-ngo-ngot-va-xuc-xich/', 'https://kokotaru.com/cach-lam-sua-chua-cam-brulee/', 'https://kokotaru.com/cach-lam-banh-chiffon-khoai-lang-tim/', 'https://kokotaru.com/cach-lam-banh-pavlova-hoa-qua-chocolate-pavlova/', 'https://kokotaru.com/chuyen-doi-nguyen-lieu-thuong-dung/', 'https://kokotaru.com/cach-lam-banh-gateaux-dua-va-qua-mam-xoi-den/', 'https://kokotaru.com/cach-lam-pancake-khoai-tay/', 'https://kokotaru.com/cach-lam-dau-tay-boc-chocolate/', 'https://kokotaru.com/cach-lam-banh-mi-kep-xuc-xich/', 'https://kokotaru.com/cach-lam-vo-wonton-mut-chanh-cam/', 'https://kokotaru.com/cach-lam-muffin-man-vi-tieu-va-phomai-cheddar/', 'https://kokotaru.com/cach-lam-banh-bot-loc-nhan-tom-thit/', 'https://kokotaru.com/cach-lam-banh-mi-vo-mem/', 'https://kokotaru.com/cach-lam-can-tay-nhoi-blue-cheese/', 'https://kokotaru.com/cach-lam-banh-bi-do-hap/', 'https://kokotaru.com/cach-lam-chocolate-chiffon/', 'https://kokotaru.com/cach-lam-pizza-xuc-xich/', 'https://kokotaru.com/cach-lam-banh-beo-chen-tom-kho-thit-xay/', 'https://kokotaru.com/cach-lam-banh-dau-tay-voi-creamcheese-va-kem-tuoi/', 'https://kokotaru.com/cach-lam-banh-pho-mai-bi-ngoi-zucchini-quiche/', 'https://kokotaru.com/cach-lam-profiterole-banh-kep-kem-vanilla/', 'https://kokotaru.com/cach-lam-banh-mi-trang/', 'https://kokotaru.com/cach-lam-lamington-banh-boc-chocolate-va-dua-kho/', 'https://kokotaru.com/cach-lam-banh-cookie-hat-thi-la/', 'https://kokotaru.com/cach-lam-brownies-co-dien/', 'https://kokotaru.com/cach-lam-banh-chiffon-la-dua/', 'https://kokotaru.com/cac-van-de-voi-trung-trong-lam-banh/', 'https://kokotaru.com/cach-lam-banh-chiffon-chanh/', 'https://kokotaru.com/cach-lam-banh-mi-cuba/', 'https://kokotaru.com/cach-lam-pizza-toi-va-dau-o-liu/', 'https://kokotaru.com/cach-lam-banh-cookie-nho-va-mo-kho/', 'https://kokotaru.com/cach-lam-tart-chanh-mini-va-hat-de-nuong/', 'https://kokotaru.com/cach-lam-lemon-cake-with-lemon-frosting/', 'https://kokotaru.com/banh-quy-cam-voi-huong-lieu-thom/', 'https://kokotaru.com/ten-goi-hinh-anh-cac-loai-hat-va-gia-vi-lam-banh/', 'https://kokotaru.com/cach-lam-keo-hat-de/', 'https://kokotaru.com/sua-va-cac-san-pham-tu-sua/', 'https://kokotaru.com/cung-lam-banh-troi-banh-chay/', 'https://kokotaru.com/cac-cong-doan-khac-trong-qua-trinh-lam-banh-my/', 'https://kokotaru.com/cach-lam-banh-mi-phap/', 'https://kokotaru.com/cach-lam-banh-chanh-nho-kho-lemon-raisin-rock-cakes/', 'https://kokotaru.com/khau-nhao-tron-trong-qua-trinh-lam-banh-mi/', 'https://kokotaru.com/cach-lam-banh-eclair-kem-tra-xanh/', 'https://kokotaru.com/cach-lam-mon-trang-mieng-voi-qua-anh-dao/', 'https://kokotaru.com/cach-lam-banh-mi-nuong-kieu-phap/', 'https://kokotaru.com/cach-lam-banh-tart-tao-va-cream-cheese/', 'https://kokotaru.com/cach-lam-banh-bong-thien-than/', 'https://kokotaru.com/cach-lam-banh-quy-bo-cookie-kieu-hy-lap/', 'https://kokotaru.com/cach-lam-amaretti-banh-quy-nhan-hanh-nhan/', 'https://kokotaru.com/cach-lam-banh-tart-le-va-kem-hanh-nhan/', 'https://kokotaru.com/cach-lam-banh-quy-bo-sieu-mem-tan-trong-mieng/', 'https://kokotaru.com/cach-lam-kimbap-com-cuon-rong-bien-kieu-han-quoc/', 'https://kokotaru.com/cach-lam-banh-mi-noel-kieu-duc/', 'https://kokotaru.com/cach-lam-banh-tiramisu-co-dien/', 'https://kokotaru.com/cach-lam-banh-ran-man/', 'https://kokotaru.com/cach-lam-banh-tao/', 'https://kokotaru.com/cach-lam-choux-banh-su-kem/', 'https://kokotaru.com/gioi-thieu-banh-mochi-kieu-nhat/', 'https://kokotaru.com/cach-lam-banh-quy-socola-mem-ngon-tuyet-chocolate-crinkles/', 'https://kokotaru.com/cach-lam-dorayaki-banh-ran-doraemon/', 'https://kokotaru.com/cach-lam-cookies-tra-xanh/', 'https://kokotaru.com/cach-lam-banh-cupcake-phuc-bon-tu/', 'https://kokotaru.com/cach-lam-banh-que-vong/', 'https://kokotaru.com/cach-lam-banh-kem-tra-xanh/', 'https://kokotaru.com/trung-thu-nay-lam-banh-deo/']\n",
      "Ingredients Dictionary Len: 22\n",
      "Not Found URLs Len: 310\n"
     ]
    },
    {
     "name": "stderr",
     "output_type": "stream",
     "text": [
      "\n"
     ]
    }
   ],
   "source": [
    "all_ingredients_type3, type_3_not_found = get_all_ingredients_from_urls(type_2_not_found, 3)\n",
    "print(\"Ingredients Dictionary:\", all_ingredients_type3)\n",
    "print(\"Not Found URLs:\", type_3_not_found)\n",
    "print(\"Ingredients Dictionary Len:\", len(all_ingredients_type3))\n",
    "print(\"Not Found URLs Len:\", len(type_3_not_found))"
   ]
  },
  {
   "cell_type": "code",
   "execution_count": 35,
   "metadata": {},
   "outputs": [
    {
     "name": "stderr",
     "output_type": "stream",
     "text": [
      "Page Loading: 100%|██████████| 310/310 [10:21<00:00,  2.01s/page]"
     ]
    },
    {
     "name": "stdout",
     "output_type": "stream",
     "text": [
      "Ingredients Dictionary: {'Lỗi thường gặp khi làm bánh': 'Nhiều bạn có bộ thìa đong, bộ cup đong nhưng lại chưa để ý đong thế nào là chuẩn, có người đong võng (ít hơn) và có người đong vồng (nhiều hơn). Vậy cần dùng thìa đong, cup đong như thế nào cho đúng?\\nCách đong chuẩn là bạn đong thật đầy, không cần ấn chặt, sau đó dùng 1 dụng cụ gạt phẳng mặt, như vậy sẽ có được lượng đong chuẩn. Điều này áp dụng với nguyên liệu khô, còn nguyên liệu lỏng thì đương nhiên bạn đong đầy đến mặt là ko thế đong quá được nữa ?', 'Cách làm bánh bông lan trứng muối chà bông': '7 quả trứng to, tách riêng lòng trắng, đỏ\\n50g sữa tươi\\n50g dầu hạt cải / dầu hướng dương\\n1/2 tsp tinh chất vanilla\\n75g bột mì cake flour\\n75g bột ngô\\n60g đường trắng\\n1 tsp cream of tartar\\n1/8 tsp muối', 'Cách làm bánh Bông lan/Gato HongKong lá dứa': '4 quả trứng, tách riêng lòng trắng và lòng đỏ\\n80g đường trắng\\n1/4 tsp cream of tartar\\n70g\\xa0nước cốt lá dứa đặc\\n35g dầu hạt cải (canola oil), hoặc dầu hướng dương (sunflower oil)\\n65g bột mì cake flour\\n50g bột ngô (corn starch)\\n250ml kem whipping cream + 30g đường\\ndây tây để trang trí', '4 cách làm bánh Flan – Creme caramel đơn giản mà ngon': 'byĐặng Ngọc Linh\\nJuly 28, 2009', 'Làm bánh Bông lan/Gato cơ bản bằng nồi cơm điện': '100g bột mì cake flour\\n75g đường trắng\\n3 quả trứng to\\n1/4 tsp muối tinh\\n40ml dầu ăn\\n30ml sữa tươi\\n1/2 tsp vanilla (bạn dùng loại bột hay nước đều được)', 'Cách làm bánh bao chiên bằng nồi chiên không dầu': 'byĐặng Ngọc Linh\\nOctober 13, 2009', 'Tên gọi và phân biệt các loại bánh phương Tây': 'Bánh Cupcake: là một trong nhiều cách trình bày của cake, bánh dạng nhỏ, đựng trong những chiếc cup giấy xinh xắn.', 'Bánh Bí ngòi chiên mặn': '1 quả bí ngòi cỡ to\\n1/4 cup bột mì\\n1/4 cup phomai parmesan bào vụn\\n1/4 tsp muối\\n1/4 tsp tiêu xay\\n1 quả trứng\\nvài tép tỏi băm nhuyễn\\ndầu ăn', 'Bánh chuối dừa vừng nướng thơm phức – Banana coconut sesame cake': '200g bột mì đa dụng\\n1 tsp baking powder\\n1/4 tsp muối\\n500g chuối chín (tính cả vỏ)\\n100g đường\\n3 quả trứng to\\n50ml nước cốt dừa\\n50ml dầu hạt cải hoặc dầu hướng dương\\n50g vừng trắng', 'Bánh mì quế nhân kem táo – Cinnamon Apple Custard Cake Bun': '120g tangzhong (xem công thức tại\\xa0http://kokotaru.com/2014/08/banh-mi-la-dua/)\\n125ml sữa tươi không đường\\n1 trứng\\n50g đường\\n1 tsp muối\\n350g bột bánh mì\\n1 tbs bột sữa\\n2 tsp men khô\\n30g bơ nhạt, nhiệt độ phòng', 'Bánh ngũ cốc ăn vặt – Snack bars': '1/4 cup đường bột\\n1 1/2 cup yến mạch\\n1/2 cup hạt óc chó và hạnh nhân thái nhỏ\\n1/2 cup hoa quả khô\\n1/4-1/2 cup các loại hạt như vừng, hạt hướng dương, hạt bí, hạt dưa…\\n1/2 tsp muối\\n1 tsp bột quế\\n1 1/4 cup sữa tươi\\n1 trứng\\n1 tsp vanilla extract', 'Cách làm Cupcake vừng đen': 'byĐặng Ngọc Linh\\nApril 14, 2017', 'Bánh kem phô-mai với bánh oreo – Oreo cheesecake cupcake': '20-25 cái bánh oreo\\n500g creamcheese, để mềm\\n1/4 cup đường trắng\\n1 tsp vanilla extract\\n2 quả trứng\\n100g sữa chua (loại không đường)\\n1/8 tsp muối', 'Bánh bơ lá dứa hạt poppy-Pandan Poppy Seeds Butter Cake': 'byĐặng Ngọc Linh\\nApril 14, 2017', 'Bánh quy bột đậu nành, yến mạch và quả nam việt quất khô': '100g bơ nhạt, để mềm\\n80g đường nâu\\n100g bã đậu nành (sau khi lọc lấy sữa đậu nành, các bạn vắt hoặc ép cho bã đậu hết nước).\\n100g bột mì đa dụng\\n1 tsp baking powder\\n1/4 tsp muối\\n30g yến mạch\\n50g hạt óc chó thái vụn\\n20g cranberry khô', 'Bí ngòi nướng phô-mai parmesan': 'Bí ngòi\\nmuối, tiêu\\nphô-mai parmesan bào\\nlá gia vị khô gồm oregano, basil, thyme', 'Pandan Kaya (Mứt lá dứa truyền thống Malaysia)': 'byĐặng Ngọc Linh\\nJune 2, 2014', 'Cách làm bánh mì hoa quả khô': 'byĐặng Ngọc Linh\\nJune 20, 2020\\n1 share\\t\\t\\t\\t\\n\\n\\n\\n\\n\\n\\n\\n0\\n\\n\\n\\n\\n\\n0\\n\\n\\n\\n\\n\\n1', 'Passion Fruit Souffle – souffle chanh leo': 'byĐặng Ngọc Linh\\nSeptember 1, 2012', 'Honey Castella – bánh mật ong Kasutera': 'byĐặng Ngọc Linh\\nJanuary 11, 2009', 'Cách làm Donut – những chiếc bánh thơm nức': 'byĐặng Ngọc Linh\\nJune 28, 2014\\n1 share\\t\\t\\t\\t\\n\\n\\n\\n\\n\\n\\n\\n0\\n\\n\\n\\n\\n\\n0\\n\\n\\n\\n\\n\\n1', 'Cách làm bánh mì lá dứa': 'byĐặng Ngọc Linh\\nJuly 9, 2021\\n1 share\\t\\t\\t\\t\\n\\n\\n\\n\\n\\n\\n\\n0\\n\\n\\n\\n\\n\\n0\\n\\n\\n\\n\\n\\n1', 'Cách làm Bánh Trung Thu Ngàn Lớp': 'byĐặng Ngọc Linh\\nSeptember 21, 2008', 'Cách làm bánh quy vừng đen': 'byĐặng Ngọc Linh\\nMay 8, 2012\\n5 shares\\t\\t\\t\\t\\n\\n\\n\\n\\n\\n\\n\\n0\\n\\n\\n\\n\\n\\n0\\n\\n\\n\\n\\n\\n5', 'Cách làm nhân bánh trung thu': 'byĐặng Ngọc Linh\\nDecember 7, 2011', 'Cách làm bánh dẻo': 'byĐặng Ngọc Linh\\nAugust 24, 2008\\n1 share\\t\\t\\t\\t\\n\\n\\n\\n\\n\\n\\n\\n0\\n\\n\\n\\n\\n\\n0\\n\\n\\n\\n\\n\\n1', 'Hạt điều ngào mật ong ăn vặt': 'byĐặng Ngọc Linh\\nJune 1, 2016', 'Cách làm bánh socola ít béo -Low-fat Chocolate Soufflé': 'byĐặng Ngọc Linh\\nApril 6, 2017\\n1 share\\t\\t\\t\\t\\n\\n\\n\\n\\n\\n\\n\\n0\\n\\n\\n\\n\\n\\n0\\n\\n\\n\\n\\n\\n1', 'Cách làm Sweet and Salty Brownies': 'byĐặng Ngọc Linh\\nNovember 20, 2016', 'Cookies gạo vừng đen': 'byĐặng Ngọc Linh\\nDecember 15, 2011', 'Cách làm Xốt cà chua cho pizza': 'byĐặng Ngọc Linh\\nJanuary 9, 2013', 'Cách làm Nước gạo rang': 'byĐặng Ngọc Linh\\nAugust 1, 2014', 'Cách làm bánh socola bằng lò vi sóng – Chocolate Mug Cake': 'byĐặng Ngọc Linh\\nSeptember 8, 2009', 'Cách làm Macarons – chiếc bánh quyến rũ của Pháp': 'byĐặng Ngọc Linh\\nMarch 9, 2009\\n2 shares\\t\\t\\t\\t\\n\\n\\n\\n\\n\\n\\n\\n0\\n\\n\\n\\n\\n\\n0\\n\\n\\n\\n\\n\\n2', 'Cách làm bánh chanh dừa và hạt poppy': 'byĐặng Ngọc Linh\\nSeptember 1, 2009', 'Cách làm Sữa bắp': 'byĐặng Ngọc Linh\\nApril 21, 2012', 'Giải đáp nguyên liệu làm bánh trung thu': 'byĐặng Ngọc Linh\\nApril 23, 2017\\n2 shares\\t\\t\\t\\t\\n\\n\\n\\n\\n\\n\\n\\n0\\n\\n\\n\\n\\n\\n0\\n\\n\\n\\n\\n\\n2', 'Cách làm Hạt điều mặn ăn vặt': 'byĐặng Ngọc Linh\\nDecember 17, 2009', 'Bánh quy mặn vị phômai-Cheddar and black pepper crackers': 'byĐặng Ngọc Linh\\nJanuary 17, 2013\\n1 share\\t\\t\\t\\t\\n\\n\\n\\n\\n\\n\\n\\n0\\n\\n\\n\\n\\n\\n0\\n\\n\\n\\n\\n\\n1', 'Cách làm nước đường bánh nướng': 'byĐặng Ngọc Linh\\nNovember 27, 2015', 'Cupcake bí đỏ': 'byĐặng Ngọc Linh\\nMarch 18, 2009\\n1 share\\t\\t\\t\\t\\n\\n\\n\\n\\n\\n\\n\\n0\\n\\n\\n\\n\\n\\n0\\n\\n\\n\\n\\n\\n1', 'Cách làm Bánh quy quế thơm': 'byĐặng Ngọc Linh\\nFebruary 6, 2009\\n1 share\\t\\t\\t\\t\\n\\n\\n\\n\\n\\n\\n\\n0\\n\\n\\n\\n\\n\\n0\\n\\n\\n\\n\\n\\n1', 'Cách làm panna cotta trà xanh – Matcha panna cotta': 'byĐặng Ngọc Linh\\nMay 24, 2010', 'Souffle Trà xanh': 'byĐặng Ngọc Linh\\nJune 7, 2014', 'Socola viên vị bánh quy kem phômai – Cookie và creamcheese truffle': 'byĐặng Ngọc Linh\\nJanuary 22, 2017\\n4 shares\\t\\t\\t\\t\\n\\n\\n\\n\\n\\n\\n\\n0\\n\\n\\n\\n\\n\\n0\\n\\n\\n\\n\\n\\n4', 'Cách làm Su kem nhân trà xanh': 'byĐặng Ngọc Linh\\nOctober 31, 2009', 'Bánh pie quả anh đào – Cherry Pie': 'byĐặng Ngọc Linh\\nJuly 31, 2009', 'Bánh muffin táo': 'byĐặng Ngọc Linh\\nFebruary 13, 2011', 'Cách làm Chè khúc bạch': 'byĐặng Ngọc Linh\\nApril 22, 2017', 'Cupcake lá dứa': 'byĐặng Ngọc Linh\\nNovember 9, 2009', 'Bánh socola anh đào – Chocolate cherry cake': 'byĐặng Ngọc Linh\\nNovember 10, 2008\\n1 share\\t\\t\\t\\t\\n\\n\\n\\n\\n\\n\\n\\n0\\n\\n\\n\\n\\n\\n0\\n\\n\\n\\n\\n\\n1', 'Cách làm phô mai que ăn vặt – Fried mozzarella Cheese sticks': 'byĐặng Ngọc Linh\\nFebruary 2, 2009', 'Cách làm bánh socola Black Forest – Khu Rừng Hắc Ám': 'byĐặng Ngọc Linh\\nApril 8, 2017', 'Bánh chanh và quả phúc bồn tử – Lemon raspberry bars': 'byĐặng Ngọc Linh\\nJanuary 9, 2021', 'Bánh brownie phômai anh đào – Brownie cherry cheesecake': 'byĐặng Ngọc Linh\\nSeptember 7, 2012', 'Bánh trà xanh nướng chảo – Matcha pancake': 'byĐặng Ngọc Linh\\nMay 17, 2017\\n3 shares\\t\\t\\t\\t\\n\\n\\n\\n\\n\\n\\n\\n0\\n\\n\\n\\n\\n\\n0\\n\\n\\n\\n\\n\\n3', 'Bánh mousse socola dừa – Chocolate and coconut mousse cake': 'byĐặng Ngọc Linh\\nOctober 26, 2008', 'Bánh muffin quả anh đào – Cherry muffin': 'byĐặng Ngọc Linh\\nJanuary 13, 2011', 'Cách làm bánh tiramisu – Tiramisu cake': 'byĐặng Ngọc Linh\\nApril 12, 2016', 'Bánh quy mặn vị ớt paprika – Paprika Cracker': 'byĐặng Ngọc Linh\\nOctober 25, 2009\\n30 shares\\t\\t\\t\\t\\n\\n\\n\\n\\n\\n\\n\\n0\\n\\n\\n\\n\\n\\n0\\n\\n\\n\\n\\n\\n30', 'Cách làm cafe rượu – Kahluaccinno ngon tuyệt': 'byĐặng Ngọc Linh\\nAugust 6, 2009', 'Bánh muffin socola phúc bồn tử – Raspberry and dark chocolate muffin': 'byĐặng Ngọc Linh\\nJune 7, 2016', 'Công thức Bánh kem phômai socola – Chocolate Truffle Cheesecake': 'byĐặng Ngọc Linh\\nJune 16, 2011', 'Cách làm bánh cupcake socola – Chocolate Cupcake': 'byĐặng Ngọc Linh\\nMay 17, 2017\\n3 shares\\t\\t\\t\\t\\n\\n\\n\\n\\n\\n\\n\\n0\\n\\n\\n\\n\\n\\n0\\n\\n\\n\\n\\n\\n3', 'Bánh shortbread nam việt quất hạt dẻ cười – Cranberry Pistachio shortbread': 'byĐặng Ngọc Linh\\nJune 30, 2012\\n1 share\\t\\t\\t\\t\\n\\n\\n\\n\\n\\n\\n\\n0\\n\\n\\n\\n\\n\\n0\\n\\n\\n\\n\\n\\n1', 'Bánh kem phômai trà xanh – Cheesecake trà xanh': 'byĐặng Ngọc Linh\\nMarch 1, 2012', 'Bánh muffin chanh với hạt poppy – Lemon poppy seeds muffin': 'byĐặng Ngọc Linh\\nOctober 24, 2020', 'Bánh biscotti nam việt quất hạt dẻ cười – Cranberry Pistachios Biscotti': 'byĐặng Ngọc Linh\\nSeptember 17, 2011\\n1 share\\t\\t\\t\\t\\n\\n\\n\\n\\n\\n\\n\\n0\\n\\n\\n\\n\\n\\n0\\n\\n\\n\\n\\n\\n1', 'Bánh kem phômai socola mềm – Chocolate mousse cheesecake': 'byĐặng Ngọc Linh\\nJune 7, 2010', 'Cách làm khoai tây nghiền – mashed potatoes': 'byĐặng Ngọc Linh\\nFebruary 7, 2017', 'Bánh nướng chảo socola – Chocolate Pancake': 'byĐặng Ngọc Linh\\nOctober 28, 2012', 'Bánh phúc bồn tử – Buttermilk raspberry cake': 'byĐặng Ngọc Linh\\nNovember 10, 2008\\n1 share\\t\\t\\t\\t\\n\\n\\n\\n\\n\\n\\n\\n0\\n\\n\\n\\n\\n\\n0\\n\\n\\n\\n\\n\\n1', 'Cùng làm Bánh quy chanh hạnh nhân – Lemon Almond Cookies': 'byĐặng Ngọc Linh\\nOctober 5, 2009\\n2 shares\\t\\t\\t\\t\\n\\n\\n\\n\\n\\n\\n\\n0\\n\\n\\n\\n\\n\\n0\\n\\n\\n\\n\\n\\n2', 'Bánh quy dừa socola đen – Dark chocolate coconut cookies': 'byĐặng Ngọc Linh\\nDecember 16, 2017\\n10 shares\\t\\t\\t\\t\\n\\n\\n\\n\\n\\n\\n\\n0\\n\\n\\n\\n\\n\\n0\\n\\n\\n\\n\\n\\n10', 'Tự làm bánh quy Oreo – Homemade Oreo cookies': 'byĐặng Ngọc Linh\\nJuly 19, 2020', 'Cách làm Bánh socola mềm – Molten chocolate lava cake': 'byĐặng Ngọc Linh\\nJanuary 28, 2015\\n2 shares\\t\\t\\t\\t\\n\\n\\n\\n\\n\\n\\n\\n0\\n\\n\\n\\n\\n\\n0\\n\\n\\n\\n\\n\\n2', 'Cách làm bánh cho lễ tình yêu – Red Velvet Cheesecake Brownies': 'byĐặng Ngọc Linh\\nApril 11, 2021', 'Cách làm Bánh mì socola': 'byĐặng Ngọc Linh\\nJanuary 25, 2021', 'Cách làm bánh quy bơ đơn giản – Easy shortbread': 'byĐặng Ngọc Linh\\nFebruary 24, 2009', 'Cùng làm tart chocolate – Chocolate Truffle Tart': 'byĐặng Ngọc Linh\\nAugust 10, 2009', 'Bánh nướng chảo vị bơ đậu phộng và socola chip – Peanut Butter Chocolate Chip Pancake': 'byĐặng Ngọc Linh\\nAugust 19, 2009', 'Cách làm Bánh brownie tuyệt ngon – Eggnog brownies with raspberry sauce': 'byĐặng Ngọc Linh\\nFebruary 11, 2018', 'Công thức bánh phômai bơ đậu phộng – Peanut butter cheesecake brownies': 'byĐặng Ngọc Linh\\nDecember 13, 2020', 'Công thức bánh socola đậm đặc – Chocolate Decadence': 'byĐặng Ngọc Linh\\nMay 24, 2021', 'Cùng làm Bánh quy hạnh nhân chocolate chips': 'byĐặng Ngọc Linh\\nOctober 15, 2008', 'Cách làm bánh pie dâu tây – Strawberry crumble pie': 'byĐặng Ngọc Linh\\nJune 7, 2016', 'Cách làm bánh quy bơ đậu phộng –  Peanut butter coconut cookies': 'byĐặng Ngọc Linh\\nApril 26, 2009\\n51 shares\\t\\t\\t\\t\\n\\n\\n\\n\\n\\n\\n\\n0\\n\\n\\n\\n\\n\\n0\\n\\n\\n\\n\\n\\n51', 'Công thức Bánh quy trà xanh hạnh nhân – Matcha Almond Cookies': 'byĐặng Ngọc Linh\\nJanuary 6, 2012', 'Công thức bánh hạnh nhân đơn giản – Simple almond cake': 'byĐặng Ngọc Linh\\nApril 14, 2009\\n8 shares\\t\\t\\t\\t\\n\\n\\n\\n\\n\\n\\n\\n0\\n\\n\\n\\n\\n\\n0\\n\\n\\n\\n\\n\\n8', 'Bánh quy socola vị quế và hạt thông – Chocolate cookies with cinnamon pine nuts': 'byĐặng Ngọc Linh\\nJanuary 22, 2017\\n4 shares\\t\\t\\t\\t\\n\\n\\n\\n\\n\\n\\n\\n0\\n\\n\\n\\n\\n\\n0\\n\\n\\n\\n\\n\\n4', 'Cách làm socola mềm vị rượu cam – Chocolate truffles with orange liquer': 'byĐặng Ngọc Linh\\nFebruary 24, 2010\\n170 shares\\t\\t\\t\\t\\n\\n\\n\\n\\n\\n\\n\\n0\\n\\n\\n\\n\\n\\n0\\n\\n\\n\\n\\n\\n170', 'Cách làm Bánh khúc': 'byĐặng Ngọc Linh\\nMarch 29, 2009', 'Cách làm bánh mì Bồ Đào Nha – Portuguese sweet bread rolls': 'byĐặng Ngọc Linh\\nMarch 7, 2021\\n1 share\\t\\t\\t\\t\\n\\n\\n\\n\\n\\n\\n\\n0\\n\\n\\n\\n\\n\\n0\\n\\n\\n\\n\\n\\n1', 'Cách làm bánh mì trắng thơm mềm – Amish white bread': 'byĐặng Ngọc Linh\\nAugust 4, 2011\\n1 share\\t\\t\\t\\t\\n\\n\\n\\n\\n\\n\\n\\n0\\n\\n\\n\\n\\n\\n0\\n\\n\\n\\n\\n\\n1', 'Cách làm Brownie trà xanh': 'byĐặng Ngọc Linh\\nOctober 9, 2008', 'Cùng làm Bánh mì Phục Sinh': 'byĐặng Ngọc Linh\\nApril 28, 2010', 'Cách làm bánh hạnh nhân siêu bùi – Rich almond cake': 'byĐặng Ngọc Linh\\nApril 14, 2009\\n8 shares\\t\\t\\t\\t\\n\\n\\n\\n\\n\\n\\n\\n0\\n\\n\\n\\n\\n\\n0\\n\\n\\n\\n\\n\\n8', 'Công thức Cupcake socola chuối': 'byĐặng Ngọc Linh\\nSeptember 26, 2008', 'Cùng làm bánh cupcake vị cocktail – Margarita Cupcakes': 'byĐặng Ngọc Linh\\nJuly 19, 2009', 'Bánh mì ngọt hạnh nhân – Almond sweet buns': 'byĐặng Ngọc Linh\\nOctober 18, 2009\\n1 share\\t\\t\\t\\t\\n\\n\\n\\n\\n\\n\\n\\n0\\n\\n\\n\\n\\n\\n0\\n\\n\\n\\n\\n\\n1', 'Pappa Roti đầu tay': 'byĐặng Ngọc Linh\\nJuly 28, 2011\\n1 share\\t\\t\\t\\t\\n\\n\\n\\n\\n\\n\\n\\n0\\n\\n\\n\\n\\n\\n0\\n\\n\\n\\n\\n\\n1', 'Công thức làm Bánh mì dừa': 'byĐặng Ngọc Linh\\nAugust 21, 2009', 'Cách làm muffin bí ngòi socola – Zucchini chocolate chip muffins': 'byĐặng Ngọc Linh\\nNovember 5, 2008', 'Công thức bánh hạt óc chó kem phômai – Walnut ricotta cake': 'byĐặng Ngọc Linh\\nSeptember 19, 2008', 'Cách làm socola trắng trà xanh – White chocolate truffles': 'byĐặng Ngọc Linh\\nOctober 5, 2009\\n2 shares\\t\\t\\t\\t\\n\\n\\n\\n\\n\\n\\n\\n0\\n\\n\\n\\n\\n\\n0\\n\\n\\n\\n\\n\\n2', 'Cùng làm Bánh mì sữa Hokkaido': 'byĐặng Ngọc Linh\\nOctober 1, 2011\\n1 share\\t\\t\\t\\t\\n\\n\\n\\n\\n\\n\\n\\n0\\n\\n\\n\\n\\n\\n0\\n\\n\\n\\n\\n\\n1', 'Cách làm bánh Muffin thịt hun khói': 'byĐặng Ngọc Linh\\nAugust 11, 2012', 'Cùng làm Pancake bí đỏ ngon bổ': 'byĐặng Ngọc Linh\\nJuly 9, 2020', 'Peanut butter cookies – Cookies bơ đậu phộng': 'byĐặng Ngọc Linh\\nMay 6, 2009\\n1 share\\t\\t\\t\\t\\n\\n\\n\\n\\n\\n\\n\\n0\\n\\n\\n\\n\\n\\n0\\n\\n\\n\\n\\n\\n1', 'Chocolate Ricotta Muffin': 'byĐặng Ngọc Linh\\nOctober 1, 2012\\n1 share\\t\\t\\t\\t\\n\\n\\n\\n\\n\\n\\n\\n0\\n\\n\\n\\n\\n\\n0\\n\\n\\n\\n\\n\\n1', 'Cách làm bánh mì thịt hun khói nướng giòn – Bacon puffs': 'byĐặng Ngọc Linh\\nDecember 20, 2008', 'Cocktail mùa hè: Janelas Verdes – biến thể': 'byĐặng Ngọc Linh\\nAugust 14, 2014', 'Công thức bánh Tart táo thơm mát cho ngày nóng': 'byĐặng Ngọc Linh\\nJanuary 6, 2009\\n1 share\\t\\t\\t\\t\\n\\n\\n\\n\\n\\n\\n\\n0\\n\\n\\n\\n\\n\\n0\\n\\n\\n\\n\\n\\n1', 'Pancake khoai tây cá hồi': 'byĐặng Ngọc Linh\\nOctober 13, 2009\\n1 share\\t\\t\\t\\t\\n\\n\\n\\n\\n\\n\\n\\n0\\n\\n\\n\\n\\n\\n0\\n\\n\\n\\n\\n\\n1', 'Cách làm Bánh bông lan chiffon bí đỏ ngon bổ': 'byĐặng Ngọc Linh\\nSeptember 13, 2008\\n1 share\\t\\t\\t\\t\\n\\n\\n\\n\\n\\n\\n\\n0\\n\\n\\n\\n\\n\\n0\\n\\n\\n\\n\\n\\n1', 'Frittata khoai tây': 'byĐặng Ngọc Linh\\nJune 28, 2014\\n1 share\\t\\t\\t\\t\\n\\n\\n\\n\\n\\n\\n\\n0\\n\\n\\n\\n\\n\\n0\\n\\n\\n\\n\\n\\n1', 'Cách làm Bánh bông lan chocolate cuộn': 'byĐặng Ngọc Linh\\nJanuary 22, 2009', 'Cocktail mùa hè – Vampire’s Thirst': 'byĐặng Ngọc Linh\\nSeptember 15, 2014', 'Công thức Bánh mì Do Thái – Challah': 'byĐặng Ngọc Linh\\nJuly 18, 2020\\n4 shares\\t\\t\\t\\t\\n\\n\\n\\n\\n\\n\\n\\n0\\n\\n\\n\\n\\n\\n0\\n\\n\\n\\n\\n\\n4', 'Cách làm bánh quy mặn vị phô mai – Cheese bites': 'byĐặng Ngọc Linh\\nSeptember 24, 2008\\n7 shares\\t\\t\\t\\t\\n\\n\\n\\n\\n\\n\\n\\n0\\n\\n\\n\\n\\n\\n0\\n\\n\\n\\n\\n\\n7', 'Cách làm Khoai tây chiên nướng phômai cheddar': 'byĐặng Ngọc Linh\\nMarch 11, 2016', 'Cách làm bánh quy trà xanh đơn giản – Green tea shortbread': 'byĐặng Ngọc Linh\\nAugust 11, 2011', 'Dâu tây Tuxedo làm quà tặng Valentine': 'byĐặng Ngọc Linh\\nAugust 6, 2014', 'Công thức Bánh trà xanh chocolate chips': 'byĐặng Ngọc Linh\\nSeptember 19, 2008', 'Món bánh ngon hết sảy Cheesecake pops !!!': 'byĐặng Ngọc Linh\\nSeptember 8, 2010', 'Cách làm bánh Mousse dâu tây': 'byĐặng Ngọc Linh\\nOctober 20, 2009', 'Hướng dẫn làm Bánh khoai tây cá ngừ': 'byĐặng Ngọc Linh\\nApril 6, 2016', 'Cách làm Flan chanh leo': 'byĐặng Ngọc Linh\\nNovember 23, 2008', 'Bánh quy hạnh nhân socola – Chocolate almond logs': 'byĐặng Ngọc Linh\\nJune 13, 2010', 'Công thức bánh bông lan Chiffon trà xanh': 'byĐặng Ngọc Linh\\nJune 27, 2020', 'Khoai tây cuốn tôm phomai chiên': 'byĐặng Ngọc Linh\\nJune 5, 2009', 'Công thức làm Cinnabon – bánh mì quế': 'byĐặng Ngọc Linh\\nAugust 4, 2011\\n1 share\\t\\t\\t\\t\\n\\n\\n\\n\\n\\n\\n\\n0\\n\\n\\n\\n\\n\\n0\\n\\n\\n\\n\\n\\n1', 'Cách làm bánh Cheesecake chanh vàng': 'byĐặng Ngọc Linh\\nSeptember 21, 2008', 'Công thức bánh socola Chocolate madeleines': 'byĐặng Ngọc Linh\\nAugust 29, 2012\\n1 share\\t\\t\\t\\t\\n\\n\\n\\n\\n\\n\\n\\n0\\n\\n\\n\\n\\n\\n0\\n\\n\\n\\n\\n\\n1', 'Bánh madeleines chanh': 'byĐặng Ngọc Linh\\nOctober 21, 2008', 'Công thức làm Bánh bông lan cuộn kem tươi, mứt dâu': 'byĐặng Ngọc Linh\\nJanuary 21, 2009\\n2 shares\\t\\t\\t\\t\\n\\n\\n\\n\\n\\n\\n\\n0\\n\\n\\n\\n\\n\\n0\\n\\n\\n\\n\\n\\n2', 'Công thức bánh việt quất tuyệt ngon – Blueberry crumble': 'byĐặng Ngọc Linh\\nOctober 6, 2011\\n1 share\\t\\t\\t\\t\\n\\n\\n\\n\\n\\n\\n\\n0\\n\\n\\n\\n\\n\\n0\\n\\n\\n\\n\\n\\n1', 'Bánh mì nướng thịt hun khói': 'byĐặng Ngọc Linh\\nNovember 7, 2020', 'Bánh quế socola siêu giòn – Chocolate almond tuiles': 'byĐặng Ngọc Linh\\nDecember 20, 2011', 'Cách làm bánh tart chanh kem lòng trắng trứng – Lemon meringue tart': 'byĐặng Ngọc Linh\\nNovember 16, 2008', 'Cách làm Bánh táo': 'byĐặng Ngọc Linh\\nMarch 15, 2010', 'Công thức Bánh dừa với berries và chocolate trắng': 'byĐặng Ngọc Linh\\nMay 1, 2009\\n2 shares\\t\\t\\t\\t\\n\\n\\n\\n\\n\\n\\n\\n0\\n\\n\\n\\n\\n\\n0\\n\\n\\n\\n\\n\\n2', 'Cách làm bánh mì hương thảo kiểu Ý – Rosemary focaccia': 'byĐặng Ngọc Linh\\nApril 28, 2010', 'Cách làm Lê nấu rượu vang đỏ': 'byĐặng Ngọc Linh\\nSeptember 3, 2012', 'Cách làm Red velvet cake balls': 'byĐặng Ngọc Linh\\nJuly 7, 2015\\n2 shares\\t\\t\\t\\t\\n\\n\\n\\n\\n\\n\\n\\n0\\n\\n\\n\\n\\n\\n0\\n\\n\\n\\n\\n\\n2', 'Công thức làm panna cotta chanh vàng quả việt quất': 'byĐặng Ngọc Linh\\nDecember 8, 2008', 'Công thức Bánh chocolate, raspberry và ginger chocolate mousse': 'byĐặng Ngọc Linh\\nFebruary 2, 2015', 'Công thức bánh Baumkuchen kiểu Đức': '200g bơ nhạt, để mềm ở nhiệt độ phòng\\n100g đường trắng\\n1/2 tsp vanilla\\n1/2 tsp vỏ chanh bào (chanh vàng)\\n80g lòng đỏ trứng\\n210g lòng trắng trứng\\n90g đường trắng\\n175g bột ngô\\n65g bột hạnh nhân\\n1/3 tsp muối', 'Công thức làm Mini cream puffs': 'byĐặng Ngọc Linh\\nJanuary 18, 2009', 'Cách làm bánh Hamburger': 'byĐặng Ngọc Linh\\nJune 7, 2010', 'Cách làm Bánh mì Baguette': 'byĐặng Ngọc Linh\\nAugust 17, 2009', 'Cách làm Chocolate pots ngon tuyệt': 'byĐặng Ngọc Linh\\nDecember 8, 2008', 'Cách làm bánh quy Pinwheel cookies': 'byĐặng Ngọc Linh\\nMay 6, 2009\\n1 share\\t\\t\\t\\t\\n\\n\\n\\n\\n\\n\\n\\n0\\n\\n\\n\\n\\n\\n0\\n\\n\\n\\n\\n\\n1', 'Cách làm Bánh pound cake nho khô': 'byĐặng Ngọc Linh\\nJuly 9, 2020', 'Bánh nướng, bánh dẻo': 'byĐặng Ngọc Linh\\nDecember 7, 2011', 'Cách làm Puff pastry mứt dâu tây': 'byĐặng Ngọc Linh\\nAugust 11, 2012', 'Công thức bánh socola ngon tuyệt – Chocolate torte': 'byĐặng Ngọc Linh\\nMay 1, 2009\\n2 shares\\t\\t\\t\\t\\n\\n\\n\\n\\n\\n\\n\\n0\\n\\n\\n\\n\\n\\n0\\n\\n\\n\\n\\n\\n2', 'Công thức bánh Bread pudding': 'byĐặng Ngọc Linh\\nMay 25, 2010', 'Bánh cupcake bơ – Butterfly cakes': 'byĐặng Ngọc Linh\\nFebruary 23, 2013', 'Bánh quy vị nhục đậu khấu – Nutmeg spritz cookies': 'byĐặng Ngọc Linh\\nApril 26, 2009\\n51 shares\\t\\t\\t\\t\\n\\n\\n\\n\\n\\n\\n\\n0\\n\\n\\n\\n\\n\\n0\\n\\n\\n\\n\\n\\n51', 'Bánh chuối socola chiên giòn – Chocolate samosas': 'byĐặng Ngọc Linh\\nJune 12, 2014', 'Công thức làm Clafouti táo, mâm xôi và chocolate': 'byĐặng Ngọc Linh\\nNovember 23, 2008', 'Cách làm bánh pancake quả việt quất – Blueberry pancake': 'byĐặng Ngọc Linh\\nJuly 28, 2020\\n1 share\\t\\t\\t\\t\\n\\n\\n\\n\\n\\n\\n\\n0\\n\\n\\n\\n\\n\\n0\\n\\n\\n\\n\\n\\n1', 'Bánh táo mềm thơm ngon tuyệt': 'byĐặng Ngọc Linh\\nApril 5, 2017\\n5 shares\\t\\t\\t\\t\\n\\n\\n\\n\\n\\n\\n\\n0\\n\\n\\n\\n\\n\\n0\\n\\n\\n\\n\\n\\n5', 'Cách làm Bánh mì nướng xốt nấm': 'byĐặng Ngọc Linh\\nJune 5, 2009', 'Công thức bánh bông lan chiffon sữa chua – Cranberry yogurt chiffon cake': 'byĐặng Ngọc Linh\\nJune 16, 2011', 'Bánh mì nướng cà chua và lá húng tây': 'byĐặng Ngọc Linh\\nMay 16, 2011', 'Bánh bột chiên kiểu Thái': 'byĐặng Ngọc Linh\\nMay 13, 2010', 'Chocolate caliente và anh đào nhúng chocolate': 'byĐặng Ngọc Linh\\nApril 21, 2012', 'Cách làm Bánh mì nướng phô-mai và pepperoni': 'byĐặng Ngọc Linh\\nJune 29, 2021\\n5 shares\\t\\t\\t\\t\\n\\n\\n\\n\\n\\n\\n\\n0\\n\\n\\n\\n\\n\\n0\\n\\n\\n\\n\\n\\n5', 'Cách làm Puff pastry, lemon mousse và quả mâm xôi': 'byĐặng Ngọc Linh\\nJune 27, 2020', 'Pancake ngô ngọt và xúc xích': 'byĐặng Ngọc Linh\\nAugust 19, 2009', 'Công thức Bánh bông lan chiffon khoai lang tím': 'byĐặng Ngọc Linh\\nNovember 10, 2008\\n1 share\\t\\t\\t\\t\\n\\n\\n\\n\\n\\n\\n\\n0\\n\\n\\n\\n\\n\\n0\\n\\n\\n\\n\\n\\n1', 'Cách làm Bánh ngô ngọt chiên': 'byĐặng Ngọc Linh\\nJune 27, 2020', 'Cách làm Bánh gateaux dừa và quả mâm xôi đen': 'byĐặng Ngọc Linh\\nJuly 14, 2011', 'Công thức bánh pavlova hoa quả – Chocolate pavlova': 'byĐặng Ngọc Linh\\nOctober 25, 2008', 'Cách làm Pancake khoai tây': 'byĐặng Ngọc Linh\\nSeptember 30, 2014\\n2 shares\\t\\t\\t\\t\\n\\n\\n\\n\\n\\n\\n\\n0\\n\\n\\n\\n\\n\\n0\\n\\n\\n\\n\\n\\n2', 'Cách làm bánh Muffin mặn vị tiêu và phômai cheddar': 'byĐặng Ngọc Linh\\nJuly 23, 2012', 'Cách làm Bánh mì vỏ mềm': 'byĐặng Ngọc Linh\\nOctober 18, 2009\\n1 share\\t\\t\\t\\t\\n\\n\\n\\n\\n\\n\\n\\n0\\n\\n\\n\\n\\n\\n0\\n\\n\\n\\n\\n\\n1', 'Bánh dâu tây với creamcheese và kem tươi': 'byĐặng Ngọc Linh\\nNovember 29, 2008', 'Bánh bí đỏ hấp': 'byĐặng Ngọc Linh\\nAugust 3, 2014\\n1 share\\t\\t\\t\\t\\n\\n\\n\\n\\n\\n\\n\\n0\\n\\n\\n\\n\\n\\n0\\n\\n\\n\\n\\n\\n1', 'Cách làm bánh phomai bí ngòi – Zucchini quiche': 'byĐặng Ngọc Linh\\nJune 27, 2020', 'Công thức bánh bông lan Chiffon chocolate': 'byĐặng Ngọc Linh\\nMarch 18, 2009\\n1 share\\t\\t\\t\\t\\n\\n\\n\\n\\n\\n\\n\\n0\\n\\n\\n\\n\\n\\n0\\n\\n\\n\\n\\n\\n1', 'Cách làm Bánh cookie hạt thì là': 'byĐặng Ngọc Linh\\nJuly 19, 2020', 'Profiterole – bánh kẹp kem vanilla': 'byĐặng Ngọc Linh\\nDecember 2, 2008', 'Công thức làm Bánh mì trắng': 'byĐặng Ngọc Linh\\nAugust 25, 2009', 'Cách làm Bánh bèo chén tôm khô thịt xay': 'byĐặng Ngọc Linh\\nDecember 7, 2011', 'Lamington – bánh bọc chocolate và dừa khô': 'byĐặng Ngọc Linh\\nDecember 20, 2020', 'Cách làm bánh Brownies cổ điển': 'byĐặng Ngọc Linh\\nFebruary 2, 2012', 'Cùng làm Pizza tỏi và dầu ô liu': 'byĐặng Ngọc Linh\\nSeptember 15, 2011', 'Cách làm Bánh cookie nho và mơ khô': 'byĐặng Ngọc Linh\\nMarch 24, 2009\\n18 shares\\t\\t\\t\\t\\n\\n\\n\\n\\n\\n\\n\\n0\\n\\n\\n\\n\\n\\n0\\n\\n\\n\\n\\n\\n18', 'Bánh mì Cuba': 'byĐặng Ngọc Linh\\nOctober 11, 2020\\n1 share\\t\\t\\t\\t\\n\\n\\n\\n\\n\\n\\n\\n0\\n\\n\\n\\n\\n\\n0\\n\\n\\n\\n\\n\\n1', 'Cách làm Bánh chanh phủ kem chanh đường': 'byĐặng Ngọc Linh\\nNovember 24, 2009', 'Công thức làm Bánh bông lan chiffon chanh': 'byĐặng Ngọc Linh\\nAugust 8, 2012', 'Bánh quy cam với hương liệu thơm': 'byĐặng Ngọc Linh\\nJanuary 6, 2012', 'Kẹo hạt dẻ': '30 hạt dẻ Trùng Khánh (chestnut)\\n2 tbs mật ong\\n2 tbs đường\\n1 tbs rượu brandy\\n1/8 tsp muối', 'Bánh mỳ Pháp': 'byĐặng Ngọc Linh\\nDecember 7, 2015', 'Bánh chanh nho khô': 'byĐặng Ngọc Linh\\nJune 4, 2009', 'Bánh eclair kem trà xanh': 'byĐặng Ngọc Linh\\nNovember 29, 2008', 'Cherry Clafoutis – tráng miệng với quả anh đào': 'byĐặng Ngọc Linh\\nOctober 7, 2009', 'Bánh mì nướng kiểu Pháp': 'byĐặng Ngọc Linh\\nNovember 7, 2020', 'Bánh tart táo và cream cheese': 'byĐặng Ngọc Linh\\nJanuary 18, 2009', 'Cách làm bánh bông thiên thần': 'byĐặng Ngọc Linh\\nDecember 20, 2020', 'Bánh quy bơ siêu mềm tan trong miệng': 'byĐặng Ngọc Linh\\nApril 26, 2009\\n51 shares\\t\\t\\t\\t\\n\\n\\n\\n\\n\\n\\n\\n0\\n\\n\\n\\n\\n\\n0\\n\\n\\n\\n\\n\\n51', 'Amaretti – bánh quy nhân hạnh nhân': 'byĐặng Ngọc Linh\\nMarch 10, 2012\\n20 shares\\t\\t\\t\\t\\n\\n\\n\\n\\n\\n\\n\\n0\\n\\n\\n\\n\\n\\n0\\n\\n\\n\\n\\n\\n20', 'Bánh quy bơ kiểu Hy Lạp': 'byĐặng Ngọc Linh\\nNovember 19, 2008\\n3 shares\\t\\t\\t\\t\\n\\n\\n\\n\\n\\n\\n\\n0\\n\\n\\n\\n\\n\\n0\\n\\n\\n\\n\\n\\n3', 'Kimbap – cơm cuốn rong biển kiểu Hàn Quốc': 'byĐặng Ngọc Linh\\nOctober 1, 2009', 'Apple scone – bánh táo': 'byĐặng Ngọc Linh\\nNovember 23, 2012', 'Bánh rán mặn': 'byĐặng Ngọc Linh\\nMarch 21, 2021', 'Choux.. Bánh Su kem đầu tiên': 'byĐặng Ngọc Linh\\nJuly 3, 2009', 'Cách làm bánh tiramisu cổ điển': 'byĐặng Ngọc Linh\\nDecember 27, 2020', 'Bánh quy socola mềm ngon tuyệt – Chocolate Crinkles': 'byĐặng Ngọc Linh\\nDecember 15, 2011', 'Bánh cupcake phúc bồn tử': 'byĐặng Ngọc Linh\\nJanuary 28, 2015\\n2 shares\\t\\t\\t\\t\\n\\n\\n\\n\\n\\n\\n\\n0\\n\\n\\n\\n\\n\\n0\\n\\n\\n\\n\\n\\n2', 'Dorayaki – Bánh rán Doraemon': 'byĐặng Ngọc Linh\\nApril 12, 2009', 'Stollen – bánh mì Noel kiểu Đức': 'byĐặng Ngọc Linh\\nAugust 21, 2009', 'Cookies trà xanh': 'byĐặng Ngọc Linh\\nOctober 5, 2009\\n2 shares\\t\\t\\t\\t\\n\\n\\n\\n\\n\\n\\n\\n0\\n\\n\\n\\n\\n\\n0\\n\\n\\n\\n\\n\\n2', 'Bánh quế vòng': 'byĐặng Ngọc Linh\\nJune 30, 2012\\n1 share\\t\\t\\t\\t\\n\\n\\n\\n\\n\\n\\n\\n0\\n\\n\\n\\n\\n\\n0\\n\\n\\n\\n\\n\\n1', 'Bánh kem trà xanh': 'byĐặng Ngọc Linh\\nJuly 27, 2009\\n2 shares\\t\\t\\t\\t\\n\\n\\n\\n\\n\\n\\n\\n0\\n\\n\\n\\n\\n\\n0\\n\\n\\n\\n\\n\\n2'}\n",
      "Not Found URLs: ['https://kokotaru.com/poppy-seeds-quince-cake-banh-qua-quince-hat-poppy/', 'https://kokotaru.com/pizza-banh-mi-banh-pizza-lam-tu-banh-mi-sandwich/', 'https://kokotaru.com/banh-mi-nuong-trung-thit-hun-khoi/', 'https://kokotaru.com/walnut-quince-yogurt-cake-banh-quince-sua-chua-hat-oc-cho/', 'https://kokotaru.com/van-de-thuong-gap-voi-cookies/', 'https://kokotaru.com/banh-sinh-nhat-trang-tri-fondant-lam-theo-yeu-cau/', 'https://kokotaru.com/cach-lam-hat-dac-rim-dua-thom/', 'https://kokotaru.com/tim-hieu-ve-noi-chien-khong-dau/', 'https://kokotaru.com/cach-che-bien-hat-dac-tuoi-dac-san-nha-trang/', 'https://kokotaru.com/kinh-nghiem-lua-chon-va-su-dung-may-tron-bot-mixer/', 'https://kokotaru.com/9-loai-banh-pancake-ngon-khong-can-dung-lo-nuong/', 'https://kokotaru.com/nhung-vat-dung-co-ban-cua-lam-banh/', 'https://kokotaru.com/hinh-anh-va-ten-goi-cac-loai-khuon-dung-trong-lam-banh/', 'https://kokotaru.com/14-cach-lam-banh-bong-lan-gato-cho-trang-tri-banh-kem-sinh-nhat/', 'https://kokotaru.com/cac-loai-duong-lam-banh/', 'https://kokotaru.com/banh-he-nuong-chao/', 'https://kokotaru.com/lam-banh-cho-nguoi-bi-tieu-duong/', 'https://kokotaru.com/cach-lam-hat-dac-rim-dau-tam/', 'https://kokotaru.com/cach-lam-sua-dau-phong-me-den/', 'https://kokotaru.com/phan-loai-lo-nuong-kinh-nghiem-su-dung-lo-nuong-gia-dinh/', 'https://kokotaru.com/cach-tan-dung-long-do-trung-thua/', 'https://kokotaru.com/cac-loai-kem-phu-icing-frosting/', 'https://kokotaru.com/phan-biet-cac-loai-pho-mat-cheese/', 'https://kokotaru.com/cach-lam-banh-mi-gion-tan-cho-salad-va-sup-croutons/', 'https://kokotaru.com/6-loai-banh-quy-ngon-tuyet-chi-dung-long-do-trung/', 'https://kokotaru.com/cac-loai-rau-thom-va-cach-dung-trong-mon-an-viet/', 'https://kokotaru.com/cach-tan-dung-long-trang-trung-thua/', 'https://kokotaru.com/cac-van-de-loi-khi-lam-banh-mi/', 'https://kokotaru.com/ten-goi-va-cong-dung-cac-loai-dao-nha-bep/', 'https://kokotaru.com/cach-lam-che-dau-xanh-pho-tai/', 'https://kokotaru.com/cach-lam-so-co-la-nho-kho-va-hat-bi-pumpkin-seed-and-rasin-chocolate/', 'https://kokotaru.com/cach-lam-dau-dua/', 'https://kokotaru.com/cac-kieu-cat-rau-cu-ki-nang-dung-dao/', 'https://kokotaru.com/cac-loai-bot-lam-banh/', 'https://kokotaru.com/cach-lam-snack-cu-sen-an-vat-gion-tan/', 'https://kokotaru.com/cach-lam-banh-cuon-bang-chao/', 'https://kokotaru.com/cach-lam-sua-dau-nanh-la-dua/', 'https://kokotaru.com/cach-lam-sua-dau-nanh-me-den/', 'https://kokotaru.com/cach-lam-banh-trung-thu-thap-cam/', 'https://kokotaru.com/cach-lam-sua-dau-nanh-tai-nha/', 'https://kokotaru.com/cach-lam-banh-nuong/', 'https://kokotaru.com/kinh-nghiem-chon-mua-khuon-banh-trung-thu/', 'https://kokotaru.com/an-chay-va-suc-khoe-p2/', 'https://kokotaru.com/an-chay-va-suc-khoe-p3/', 'https://kokotaru.com/nhin-an-va-suc-khoe/', 'https://kokotaru.com/tang-them-100-cuon-sach-cookbook/', 'https://kokotaru.com/an-chay-va-suc-khoe-phan-1/', 'https://kokotaru.com/nguyen-lieu-trong-am-thuc-nhat-ban/', 'https://kokotaru.com/tang-sach-cookbook-kokotaru-moi-xuat-ban/', 'https://kokotaru.com/wagashi-nghe-thuat-banh-ngot-nhat-ban/', 'https://kokotaru.com/cach-lam-socola-tinh-yeu-chocolate-hearts-with-nuts/', 'https://kokotaru.com/cach-lam-banh-quy-socola-dua-double-dark-chocolate-coconut-cookies/', 'https://kokotaru.com/cach-lam-cake-balls-cho-le-tinh-yeu-happy-valentine/', 'https://kokotaru.com/cach-lam-tart-chanh-vang-kem-tuoi/', 'https://kokotaru.com/cach-lam-banh-mi-an-sang/', 'https://kokotaru.com/cocktail-mua-he-passion-fruit-paloma/', 'https://kokotaru.com/cach-lam-che-dau-xanh-nha-dam/', 'https://kokotaru.com/cach-lam-che-sen-dau-xanh-long-nhan/', 'https://kokotaru.com/cach-lam-khoai-tay-chien-nuong-phomai/', 'https://kokotaru.com/cach-lam-pizza-salami-pepperoni-va-ot-chuong/', 'https://kokotaru.com/cach-lam-banh-mi-bo-brioche-ngon-tuyet/', 'https://kokotaru.com/cach-lam-eclair-phu-chocolate/', 'https://kokotaru.com/cach-lam-cheesecake-dau-tay/', 'https://kokotaru.com/cach-lam-banh-pudding-banh-mi-vi-ruou-whiskey-bread-pudding/', 'https://kokotaru.com/cach-lam-khoai-tay-ran-potato-chips/', 'https://kokotaru.com/cach-lam-khoai-lang-ran-sweet-potato-chips/', 'https://kokotaru.com/cach-lam-banh-mi-goi/', 'https://kokotaru.com/cach-lam-pizza-voi-pepperoni-va-salami/', 'https://kokotaru.com/banh-mi-tao-hinh/', 'https://kokotaru.com/cach-lam-banh-tart-chanh-qua-mam-xoi/', 'https://kokotaru.com/kokotaru-sinh-nhat-1-tuoi/', 'https://kokotaru.com/cach-lam-banh-it-banh-ram/', 'https://kokotaru.com/cach-lam-banh-mi-nuong-trung-op-va-xuc-xich-duc/', 'https://kokotaru.com/cach-lam-sua-chua-cam-brulee/', 'https://kokotaru.com/chuyen-doi-nguyen-lieu-thuong-dung/', 'https://kokotaru.com/cach-lam-banh-mi-kep-xuc-xich/', 'https://kokotaru.com/cach-lam-vo-wonton-mut-chanh-cam/', 'https://kokotaru.com/cach-lam-dau-tay-boc-chocolate/', 'https://kokotaru.com/cach-lam-banh-bot-loc-nhan-tom-thit/', 'https://kokotaru.com/cach-lam-pizza-xuc-xich/', 'https://kokotaru.com/cach-lam-can-tay-nhoi-blue-cheese/', 'https://kokotaru.com/cach-lam-banh-chiffon-la-dua/', 'https://kokotaru.com/cac-van-de-voi-trung-trong-lam-banh/', 'https://kokotaru.com/ten-goi-hinh-anh-cac-loai-hat-va-gia-vi-lam-banh/', 'https://kokotaru.com/cach-lam-tart-chanh-mini-va-hat-de-nuong/', 'https://kokotaru.com/cung-lam-banh-troi-banh-chay/', 'https://kokotaru.com/khau-nhao-tron-trong-qua-trinh-lam-banh-mi/', 'https://kokotaru.com/cac-cong-doan-khac-trong-qua-trinh-lam-banh-my/', 'https://kokotaru.com/sua-va-cac-san-pham-tu-sua/', 'https://kokotaru.com/cach-lam-banh-tart-le-va-kem-hanh-nhan/', 'https://kokotaru.com/gioi-thieu-banh-mochi-kieu-nhat/', 'https://kokotaru.com/trung-thu-nay-lam-banh-deo/']\n",
      "Ingredients Dictionary Len: 218\n",
      "Not Found URLs Len: 92\n"
     ]
    },
    {
     "name": "stderr",
     "output_type": "stream",
     "text": [
      "\n"
     ]
    }
   ],
   "source": [
    "all_ingredients_type4, type_4_not_found = get_all_ingredients_from_urls(type_3_not_found, 4)\n",
    "print(\"Ingredients Dictionary:\", all_ingredients_type4)\n",
    "print(\"Not Found URLs:\", type_4_not_found)\n",
    "print(\"Ingredients Dictionary Len:\", len(all_ingredients_type4))\n",
    "print(\"Not Found URLs Len:\", len(type_4_not_found))"
   ]
  },
  {
   "cell_type": "code",
   "execution_count": 36,
   "metadata": {},
   "outputs": [
    {
     "name": "stderr",
     "output_type": "stream",
     "text": [
      "Page Loading: 100%|██████████| 92/92 [03:05<00:00,  2.02s/page]"
     ]
    },
    {
     "name": "stdout",
     "output_type": "stream",
     "text": [
      "Ingredients Dictionary: {}\n",
      "Not Found URLs: ['https://kokotaru.com/banh-mi-nuong-trung-thit-hun-khoi/', 'https://kokotaru.com/banh-sinh-nhat-trang-tri-fondant-lam-theo-yeu-cau/', 'https://kokotaru.com/tim-hieu-ve-noi-chien-khong-dau/', 'https://kokotaru.com/pizza-banh-mi-banh-pizza-lam-tu-banh-mi-sandwich/', 'https://kokotaru.com/walnut-quince-yogurt-cake-banh-quince-sua-chua-hat-oc-cho/', 'https://kokotaru.com/poppy-seeds-quince-cake-banh-qua-quince-hat-poppy/', 'https://kokotaru.com/cach-lam-hat-dac-rim-dua-thom/', 'https://kokotaru.com/cach-che-bien-hat-dac-tuoi-dac-san-nha-trang/', 'https://kokotaru.com/9-loai-banh-pancake-ngon-khong-can-dung-lo-nuong/', 'https://kokotaru.com/kinh-nghiem-lua-chon-va-su-dung-may-tron-bot-mixer/', 'https://kokotaru.com/van-de-thuong-gap-voi-cookies/', 'https://kokotaru.com/nhung-vat-dung-co-ban-cua-lam-banh/', 'https://kokotaru.com/14-cach-lam-banh-bong-lan-gato-cho-trang-tri-banh-kem-sinh-nhat/', 'https://kokotaru.com/banh-he-nuong-chao/', 'https://kokotaru.com/hinh-anh-va-ten-goi-cac-loai-khuon-dung-trong-lam-banh/', 'https://kokotaru.com/cac-loai-duong-lam-banh/', 'https://kokotaru.com/lam-banh-cho-nguoi-bi-tieu-duong/', 'https://kokotaru.com/cach-lam-sua-dau-phong-me-den/', 'https://kokotaru.com/cac-loai-kem-phu-icing-frosting/', 'https://kokotaru.com/phan-loai-lo-nuong-kinh-nghiem-su-dung-lo-nuong-gia-dinh/', 'https://kokotaru.com/cach-tan-dung-long-do-trung-thua/', 'https://kokotaru.com/cach-lam-hat-dac-rim-dau-tam/', 'https://kokotaru.com/cach-lam-banh-mi-gion-tan-cho-salad-va-sup-croutons/', 'https://kokotaru.com/6-loai-banh-quy-ngon-tuyet-chi-dung-long-do-trung/', 'https://kokotaru.com/phan-biet-cac-loai-pho-mat-cheese/', 'https://kokotaru.com/cac-loai-rau-thom-va-cach-dung-trong-mon-an-viet/', 'https://kokotaru.com/cac-van-de-loi-khi-lam-banh-mi/', 'https://kokotaru.com/ten-goi-va-cong-dung-cac-loai-dao-nha-bep/', 'https://kokotaru.com/cach-lam-che-dau-xanh-pho-tai/', 'https://kokotaru.com/cach-lam-dau-dua/', 'https://kokotaru.com/cac-kieu-cat-rau-cu-ki-nang-dung-dao/', 'https://kokotaru.com/cach-lam-snack-cu-sen-an-vat-gion-tan/', 'https://kokotaru.com/cach-lam-sua-dau-nanh-la-dua/', 'https://kokotaru.com/cach-tan-dung-long-trang-trung-thua/', 'https://kokotaru.com/cach-lam-so-co-la-nho-kho-va-hat-bi-pumpkin-seed-and-rasin-chocolate/', 'https://kokotaru.com/cach-lam-banh-cuon-bang-chao/', 'https://kokotaru.com/cach-lam-banh-trung-thu-thap-cam/', 'https://kokotaru.com/cach-lam-sua-dau-nanh-me-den/', 'https://kokotaru.com/cach-lam-banh-nuong/', 'https://kokotaru.com/kinh-nghiem-chon-mua-khuon-banh-trung-thu/', 'https://kokotaru.com/an-chay-va-suc-khoe-p3/', 'https://kokotaru.com/an-chay-va-suc-khoe-p2/', 'https://kokotaru.com/an-chay-va-suc-khoe-phan-1/', 'https://kokotaru.com/cac-loai-bot-lam-banh/', 'https://kokotaru.com/nguyen-lieu-trong-am-thuc-nhat-ban/', 'https://kokotaru.com/cach-lam-sua-dau-nanh-tai-nha/', 'https://kokotaru.com/cach-lam-cake-balls-cho-le-tinh-yeu-happy-valentine/', 'https://kokotaru.com/tang-them-100-cuon-sach-cookbook/', 'https://kokotaru.com/tang-sach-cookbook-kokotaru-moi-xuat-ban/', 'https://kokotaru.com/cach-lam-tart-chanh-vang-kem-tuoi/', 'https://kokotaru.com/nhin-an-va-suc-khoe/', 'https://kokotaru.com/cach-lam-socola-tinh-yeu-chocolate-hearts-with-nuts/', 'https://kokotaru.com/cach-lam-banh-quy-socola-dua-double-dark-chocolate-coconut-cookies/', 'https://kokotaru.com/wagashi-nghe-thuat-banh-ngot-nhat-ban/', 'https://kokotaru.com/cach-lam-che-sen-dau-xanh-long-nhan/', 'https://kokotaru.com/cach-lam-banh-mi-an-sang/', 'https://kokotaru.com/cocktail-mua-he-passion-fruit-paloma/', 'https://kokotaru.com/cach-lam-khoai-tay-chien-nuong-phomai/', 'https://kokotaru.com/cach-lam-che-dau-xanh-nha-dam/', 'https://kokotaru.com/cach-lam-banh-mi-bo-brioche-ngon-tuyet/', 'https://kokotaru.com/cach-lam-pizza-salami-pepperoni-va-ot-chuong/', 'https://kokotaru.com/cach-lam-cheesecake-dau-tay/', 'https://kokotaru.com/cach-lam-eclair-phu-chocolate/', 'https://kokotaru.com/cach-lam-banh-pudding-banh-mi-vi-ruou-whiskey-bread-pudding/', 'https://kokotaru.com/cach-lam-khoai-lang-ran-sweet-potato-chips/', 'https://kokotaru.com/cach-lam-khoai-tay-ran-potato-chips/', 'https://kokotaru.com/cach-lam-banh-tart-chanh-qua-mam-xoi/', 'https://kokotaru.com/cach-lam-pizza-voi-pepperoni-va-salami/', 'https://kokotaru.com/cach-lam-banh-mi-goi/', 'https://kokotaru.com/banh-mi-tao-hinh/', 'https://kokotaru.com/kokotaru-sinh-nhat-1-tuoi/', 'https://kokotaru.com/cach-lam-banh-mi-nuong-trung-op-va-xuc-xich-duc/', 'https://kokotaru.com/cach-lam-banh-it-banh-ram/', 'https://kokotaru.com/cach-lam-banh-mi-kep-xuc-xich/', 'https://kokotaru.com/cach-lam-dau-tay-boc-chocolate/', 'https://kokotaru.com/cach-lam-sua-chua-cam-brulee/', 'https://kokotaru.com/chuyen-doi-nguyen-lieu-thuong-dung/', 'https://kokotaru.com/cach-lam-banh-bot-loc-nhan-tom-thit/', 'https://kokotaru.com/cach-lam-banh-chiffon-la-dua/', 'https://kokotaru.com/cach-lam-vo-wonton-mut-chanh-cam/', 'https://kokotaru.com/cach-lam-pizza-xuc-xich/', 'https://kokotaru.com/cung-lam-banh-troi-banh-chay/', 'https://kokotaru.com/cac-van-de-voi-trung-trong-lam-banh/', 'https://kokotaru.com/cach-lam-tart-chanh-mini-va-hat-de-nuong/', 'https://kokotaru.com/cac-cong-doan-khac-trong-qua-trinh-lam-banh-my/', 'https://kokotaru.com/gioi-thieu-banh-mochi-kieu-nhat/', 'https://kokotaru.com/cach-lam-can-tay-nhoi-blue-cheese/', 'https://kokotaru.com/ten-goi-hinh-anh-cac-loai-hat-va-gia-vi-lam-banh/', 'https://kokotaru.com/khau-nhao-tron-trong-qua-trinh-lam-banh-mi/', 'https://kokotaru.com/sua-va-cac-san-pham-tu-sua/', 'https://kokotaru.com/cach-lam-banh-tart-le-va-kem-hanh-nhan/', 'https://kokotaru.com/trung-thu-nay-lam-banh-deo/']\n",
      "Ingredients Dictionary Len: 0\n",
      "Not Found URLs Len: 92\n"
     ]
    },
    {
     "name": "stderr",
     "output_type": "stream",
     "text": [
      "\n"
     ]
    }
   ],
   "source": [
    "all_ingredients_type5, type_5_not_found = get_all_ingredients_from_urls(type_4_not_found, 5)\n",
    "print(\"Ingredients Dictionary:\", all_ingredients_type5)\n",
    "print(\"Not Found URLs:\", type_5_not_found)\n",
    "print(\"Ingredients Dictionary Len:\", len(all_ingredients_type5))\n",
    "print(\"Not Found URLs Len:\", len(type_5_not_found))"
   ]
  },
  {
   "cell_type": "code",
   "execution_count": 37,
   "metadata": {},
   "outputs": [
    {
     "name": "stderr",
     "output_type": "stream",
     "text": [
      "Page Loading: 100%|██████████| 92/92 [03:05<00:00,  2.02s/page]"
     ]
    },
    {
     "name": "stdout",
     "output_type": "stream",
     "text": [
      "Ingredients Dictionary: {'Pizza bánh mì': 'Có thể bạn cũng sẽ gặp phải hoàn cảnh giống như mình. Thỉnh thoảng khi làm pizza, mình hay bị làm thừa topping, bao gồm cả xốt cà chua tự làm và các nguyên liệu rau, thịt khác. Khi còn thừa một ít như vậy, mình không thích khi cứ phải để dành chúng trong tủ lạnh, nếu bảo phải trộn thêm một mẻ bột làm đế bánh pizza thì cũng ngại. Nhưng nếu sử dụng bánh mì sandwich thì thật dễ dàng và tiện lợi. Bánh mì sandwich là một trong những thực phẩm luôn có sẵn trong bếp nhà mình, đặc biệt là khi đang sống ở NZ thì bánh mì sandwich đã trở thành thực phẩm chính hơn cả cơm.\\nĐiều đặc biệt hơn là, khi bạn dùng bánh mì làm đế pizza, bạn có nhiều lựa chọn loại bánh mì, gồm cả những loại bánh mì lúa mạch đen, bánh mì nguyên cám, bánh mì ngũ cốc. Những loại bánh mì này sẽ tăng thêm dinh dưỡng cho món bánh pizza của bạn.\\nVí dụ như bữa nay, mình chọn loại bánh mì ngũ cốc nguyên hạt, bánh nướng xong cả nhà đều thích và xử lý rất nhanh gọn, ngon lành. Khi làm loại pizza bánh mì này thì trẻ con cũng làm được, chúng sẽ rất thích thú với việc tự hoàn thành từng chiếc bánh nhỏ xinh.', 'Tìm hiểu về nồi chiên không dầu': 'Nếu để hâm nóng thức ăn, thì tiện lợi và nhanh nhất vẫn là dùng lò vi sóng. Nhưng lò vi sóng có nhược điểm là nó chỉ làm nóng mà không làm giòn, vì thế những thức ăn có lớp vỏ giòn mà quay trong lò vi sóng, dù chỉ mất 1-2 phút để hâm nóng, nhưng mà món ăn sẽ mềm oặt, dai dai, mất hết cả ngon rồi. Vì thế, những món ăn cần độ giòn, bạn có thể dùng nồi chiên này để làm nóng lại thức ăn mà vẫn giữ được độ giòn, món ăn sẽ ngon được “gần như” ban đầu.', 'Vấn đề thường gặp với cookies': 'Nhà mình luôn có các loại cookies được làm thay thế nhau. Mỗi khi lọ đựng cookies hết là mình sẽ sung sướng được làm mẻ bánh tiếp. Cookies là thứ bánh khiến cho cả căn phòng thơm nức mùi bánh hấp dẫn một cách nhanh chóng nhất.\\nÔng xã và lũ con thì thật sung sướng vì nhờ mình đã được thưởng thức rất nhiều hương vị cookies hấp dẫn khác nhau.\\nMình vẫn thường khuyên những người mới tập làm bánh thử nghiệm với cookies trước, vì nhiều lý do.\\nTuy đơn giản là vậy, nhiều khi những mẻ cookies làm ra vẫn bị hỏng và “cứ sao sao í”, rõ ràng là có vấn đề gì đó không đúng.\\nNhiều lúc, do tự nhiên chúng ta lơ đãng mà cân nhầm nguyên liệu thôi cũng dẫn đến vấn đề rồi, nhưng chúng ta lơ đãng đến mức không nhận ra là chúng ta đã lơ đãng, và cứ đinh ninh rằng mình chắc chắn cân đúng mà, nhiệt độ cũng vặn đúng mà, vậy sao bánh lại bị như thế ???\\nHôm nay mình sẽ chia sẻ một bài tổng hợp những vấn đề thường hay xảy ra với cookies và kinh nghiệm xử lý của mình, sau thời gian kha khá dài làm bánh.\\nCùng một vấn đề, có thể có nhiều nguyên nhân. Vì thế, các bạn có thể căn cứ theo danh sách các vấn đề dưới đây để có hướng giải quyết cho mình.\\nChúc các bạn làm bánh thật vui và ngày càng cho ra nhiều mẻ bánh ngon, thơm lừng. Có gì thắc mắc đừng ngần ngại comment hoặc nhắn tin trên fb cho mình nhé.', 'Walnut quince yogurt cake': 'Nhà mình vẫn còn rất nhiều quả quince, đun nước thì đã uống hết nước từ lâu, nhưng phần thịt quả để làm bánh thì có rất nhiều, chắc phải đủ làm tới 6, 7 mẻ bánh mới hết. Hôm trước mình làm muffins với quả quince và được nhận xét là ngon hơn hình thức. Bữa nay mình cũng dùng chính công thức bột đó để làm bánh này, nhưng có một số thay đổi, vừa là để tạo cảm giác mới khi ăn, vừa bổ sung thêm dinh dưỡng cho bánh.', '9 loại bánh pancake ngon không cần dùng lò nướng': 'Chúng ta sẽ ăn kèm loại này cùng bơ và syrup, hoặc mứt hoa quả. Syrup nổi tiếng nhất hay được dùng kèm với pancake là maple syrup – là siro từ cây lá phong nhé.\\nLoại pancake này thì không còn cơ bản chút nào nữa rồi. Pancake bí đỏ cực kì nhiều hương vị, thơm lừng và hấp dẫn. Bột bánh được trộn thêm bí đỏ nghiền và một số gia vị như bột quế, bột gừng, bột nutmeg (nhục đậu khấu), bột clove (đinh hương), vậy là bạn đủ biết vị bánh sẽ đặc biệt thế nào rồi đấy.\\nĐể làm loại pancake này, bạn cũng sẽ cần một danh sách các nguyên liệu đấy. Với các bạn hay làm bánh thì hầu hết chúng đều có sẵn trong bếp rồi. Bơ đậu phộng kết hợp cùng socola thì cứ gọi là ngon tuyệt.\\nPancake này có bơ đậu phộng và socola đều có vị ngọt rồi nên không cần ăn thêm với syrup nữa. Có chăng là một chút mứt quả có vị chua chua để vị bánh thêm hấp dẫn nhé.\\nBánh mềm, rất thơm, không ngọt lắm, ăn với sauce dâu tây rất ngon. Bánh ăn tuyệt nhất là khi còn ấm. Phần hồng hồng kia là xốt dâu tây Linh tự làm, ăn kèm với bánh pancake này rất hợp và ngon.\\nBạn yêu thích hương vị trà xanh kiểu Nhật không? Pancake cũng có bánh vị trà xanh đấy nhé. Nhà Linh có một nhóc 6 tuổi mà thích các loại bánh vị trà xanh lắm nên mình cũng thỉnh thoảng làm bánh có vị trà xanh.\\nBánh mềm, thơm, rất dễ ăn. Loại pancake này nhà Linh hay ăn cùng với mật ong.\\nDứa là một trong những loại hoa quả yêu thích nhất của Linh, vì thế mình cũng rất thích các loại bánh có dứa tươi. Pancake dứa với lát dứa tươi ở giữa khiến chiếc bánh trông như nở hoa í nhỉ 😀\\nBạn có biết bánh rán của \\xa0mèo máy Doraemon cũng đích thị là một loại pancake không? Chính xác rồi đấy. Linh biết rằng rất nhiều bé thích nhân vật mèo máy này và bộ phim hoạt hình Doraemon, mấy nhóc nhà mình cũng vậy, nên nếu mẹ vào bếp làm bánh rán Doraemon thì lũ trẻ con sẽ thích lắm đấy. Mỗi tội, bánh rán Doraemon trên thực tế là rất ngọt đấy, đặc biệt là phần nhân đậu đỏ, khi làm là mình thường phải bớt đường để giảm ngọt khá nhiều so với “bản gốc”.\\nBạn có thể làm loại pancake này cho cả nhà ăn sáng, vừa đảm bảo ngon lại vẫn hấp dẫn. Linh biết rằng xúc xích vốn không phải là một loại đồ ăn tốt, nhưng từ người lớn đến trẻ con hầu hết đều thích xúc xích. Linh vẫn thường hạn chế mua những loại đồ ăn không thực sự tốt cho sức khỏe, nên thỉnh thoảng lắm mới cho cả nhà ăn xúc xích thôi 😀\\nCùng dùng ngô ngọt nhưng hai công thức làm bánh pancake khác hẳn nhau, vì thế cũng cho ra hai loại bánh có hương vị khác nhau. Bạn thử làm xem nhé.\\nChúc các bạn có những mẻ bánh ngon. Vậy là chiếc chảo trong bếp của bạn đã có thêm một tác dụng tuyệt vời rồi đó.', '14 cách làm bánh Bông lan/Gato cho trang trí bánh kem sinh nhật': 'Với công thức này, bạn có thể dễ dàng nướng bằng n ồi cơm điện hoặc dùng lò nướng thông thường.\\nThêm một chút kem, một ít hoa quả là bạn đã có được một chiếc bánh kem hấp dẫn rồi. Đâu cứ nhất thiết phải bắt thật nhiều bông kem trên bánh đúng ko?\\nBánh bông lan Hong Kong so với bánh bông lan cơ bản thì hơi \\xa0phức tạp hơn một chút xíu, tuy nhiên vẫn không hề khó. Bánh dùng phương pháp tách riêng lòng trắng và lòng đỏ trứng, chỉ đánh bông phần lòng trắng. Linh đã làm chiếc bánh này rất nhiều lần, thực sự mà nói là nếu các bước làm đều đúng (nghĩa là: nhiệt độ lò đúng, lòng trắng đánh bông đúng độ ko quá cứng, trộn bột đều không còn cục bột bị vón, thời gian nướng đủ), thì chắc chắn bánh sẽ chín đẹp, thơm, không còn mùi trứng và cũng không bị nở quá mức tới nứt mặt bánh rồi sau đó lại xẹp lép.\\nĐôi khi Linh rơi vào tình huống bất ngờ là cần làm bánh nhưng lại bị thiếu khá nhiều nguyên liệu và dụng cụ để làm. Vì vậy Linh thường chọn giải pháp nhanh nhất là nướng một loại bánh bông lan thật đơn giản, dễ tính(nghĩa là ko đòi hỏi nhiều nguyên liệu và dụng cụ đồ nghề). Sau đó ra siêu thị mua ngay hộp whipping cream và loại hoa quả nào đó về là có thể nhanh chóng cho “ra đời” một chiếc bánh kem ngon lành rồi.\\nLinh thường xuyên chọn công thức làm bánh bông lan cuộn để làm cốt bánh kem sinh nhật, đặc biệt là khi cần cắt tạo hình đặc biệt cho bánh.\\nSau khi nướng xong, thay vì cuộn lại thì chúng ta sẽ để nguyên tấm bánh phẳng. Từ tấm bánh này, bạn có thể cắt bánh thành bất kì hình gì bạn thích. Bạn có thể làm những chiếc bánh nhỏ xinh dành cho 1 người, cắt hình trái tim, tròn, vuông, cắt số, cắt hình các nhân vật hoạt \\xa0hình, nói chung là tùy biến theo khả năng khéo tay của bạn.', 'Kinh nghiệm lựa chọn và sử dụng máy trộn bột – mixer': 'Hand mixer thông thường cũng đều kèm theo 3 que đánh như mình đã nói rõ ở trên. Và hand mixer sẽ không có bán kèm theo tô trộn bột. Mặc dù cũng có 3 loại que đánh, nhưng vì hand mixer thường có công suất thấp hơn hẳn stand mixer nên bạn hầu như không thể dùng được que nhào bột bánh mì, mà chỉ sử dụng 2 đầu kia là chính.\\nHand mixer nhỏ gọn, phù hợp với căn bếp chật chội, và phù hợp với bạn nào thỉnh thoảng mới làm bánh, và không làm bánh mì, nếu có làm bánh mì thì đành chịu khó nhào bằng tay vậy. Hand mixer vì thế cũng có giá thành thấp hơn rất nhiều. Vì nhỏ gọn nên mỗi lần làm bánh xong bạn cất đi được rất gọn gàng. Chỉ với hand mixer, bạn đã có thể làm được cực kì nhiều loại bánh rồi.\\nStand mixer là máy trộn bột để bàn. Đúng như tên gọi của nó, nó cần phải được để một chỗ trên bàn bếp, và nó to hơn máy cầm tay rất nhiều, muốn dùng nó bạn phải dành riêng chỗ để cho nó. Khi mua về, máy luôn có sẵn 1 tô trộn được đặt trên đế của máy, khi sử dụng bạn chỉ cần bật nút là que đánh sẽ tự quay tròn xung quanh tô trộn. Một số loại stand mixer còn quay luôn cả tô trộn nữa. Tô trộn của máy stand mixer có thể bằng nhựa, thủy tinh, hoặc inox, đây là 3 chất liệu phổ biến nhất thường gặp ở các stand mixer.\\nStand mixer thường có công suất lớn hơn hand mixer, vì thế máy khỏe hơn, hầu hết chúng đều đủ khỏe để nhào được bột bánh mì. Stand mixer vì thế có nhiều mức độ “to lớn”, tùy theo dung tích của tô trộn. Nếu bạn làm nhiều bánh, mỗi lần làm với số lượng lớn, thì bạn nên chọn loại stand mixer có dung tích tô trộn lớn và máy khỏe hơn.\\nĐiều tiện lợi nhất của stand mixer là bạn làm bánh nhàn hơn, không phải dùng tay để cầm máy trộn, và nhất là có thể làm thêm các loại bánh mì thoải mái.\\nXét về giá thành, hand mixer luôn rẻ hơn stand mixer khá đáng kể. Tuy nhiên, dùng stand mixer nhàn hơn rất nhiều, nhất là sẽ dễ dàng hơn với các bạn mới bắt đầu tập làm bánh còn chưa quen thuộc các thao tác, việc cầm hand mixer sẽ cho cảm giác ngượng tay, khó điều khiển. Còn đối với những người đã làm bánh thông thạo thì dùng hand mixer cũng không có khó khăn gì.\\nMình đã trải qua hơn chục năm làm bánh rồi. Có lúc mình chỉ có trong tay một chiếc hand mixer yếu xìu, nhưng mình vẫn hài lòng vì mình đã có thể làm được rất nhiều loại bánh với nó rồi. Mỗi khi làm bánh mì thì mình sẽ chịu khó nhào bột bằng tay, không sao cả, coi như luyện tập cơ tay một tí ?\\nNhưng thường thì bếp của mình luôn có cả 2 loại máy trộn bột này, bởi vì mình làm bánh thường xuyên lắm. Từ khi có trẻ con thì mình làm bánh mì còn nhiều hơn cả bánh ngọt, vì mình làm bánh mì cho cả nhà ăn sáng, ăn chính, ăn vặt, nhào tay thì mình không có đủ thời gian và sức khỏe để nhào được nhiều mẻ bột như vậy, cho nên mình phải có trợ thủ là cái stand mixer để nhào thay mình.\\nMình vẫn dùng kết hợp với hand mixer rất thường xuyên, đó là những lúc cần đánh, trộn ít nguyên liệu thì dùng hand mixer rất tiện lợi và nhanh, dễ dọn rửa. Đôi khi mình cần đánh bông đúng 1 cái lòng trắng chẳng hạn thì mình chẳng thể dùng đến cái stand mixer to đùng được, mà mình chỉ cần đúng 1 chiếc que đánh cho vừa trong một cái cốc là mình đã đánh bông được lòng trắng rồi.\\nTóm lại, mình thấy là nếu như có điều kiện và làm bánh thường xuyên, thì có cả hai chiếc máy trộn sẽ giúp bạn làm bánh thuận tiện hơn, dễ dàng hơn.\\nVì vậy, nếu bạn chưa có mixer và định mua một cái, đầu tiên hãy quyết định mua stand mixer hay hand mixer.\\nKhi mới tập làm bánh, Linh khuyên các bạn chưa nên mua loại mixer quá xịn và đắt tiền ngay. (Tất nhiên nếu tiền ko phải là vấn đề lớn với bạn, thì bạn cứ vô tư đi, bạn thích loại nào thì mua loại đó.)\\nVì sao vậy? Đó là vì có thể bạn chưa biết mình sẽ say mê làm bánh được bao lâu. Có những bạn mới đầu thích làm bánh lắm, nhưng sau đó do thiếu thời gian, do công việc bận rộn và mệt mỏi, do làm nhiều mà vẫn thất bại nên nản, do khi làm bánh rồi mới thấy là hình như mình không thích bánh lắm,… và sau đó sẽ không còn làm thường xuyên nữa, thì việc mua 1 chiếc mixer đắt tiền và không dùng đến nhiều sẽ rất lãng phí.\\nLời khuyên của Linh về một chiếc máy mixer với giá thành hợp lý và chất lượng rất ổn để sử dụng ban đầu là máy mixer hiệu Philips, công suất 350W trở lên. Các bạn có thể lựa chọn hand mixer hay stand mixer của hãng này đều được. Ngoài ra, máy hand mixer hiệu Blue Stone dùng cũng khá được, công suất máy cũng đủ lớn, máy dùng khá bền. Cả hai nhãn hàng này Linh đều đã dùng qua.\\nVới những bạn đã làm bánh thường xuyên và muốn nâng cấp lên máy pro hơn, lựa chọn phổ biến nhất là máy mixer hiệu KitchenAid, dòng Artisan. Với máy Kitchen Aid thì bạn luôn luôn yên tâm về sự bền bỉ và tiện dụng của máy. Có thể nói, đến thời điểm này, Kitchen Aid vẫn là thương hiệu uy tín đi đầu trong dòng máy trộn bột cao cấp phục vụ mức độ làm bánh tại nhà hoặc làm bánh ở một tiệm bánh nhỏ, chưa đến mức sản xuất đại trà số lượng lớn. Ngoài thương hiệu này thì bạn có thể tham khảo thêm các dòng máy của thương hiệu Kenwood hoặc Cuisinart. Hiện tại, tiệm bánh của Linh dùng máy KitchenAid dòng Pro, loại dung tích lớn nhất, còn ở nhà thì Linh dùng một chiếc máy hiệu Cuisinart, đến giờ đều luôn hài lòng.\\nBây giờ để mua một máy KitchenAid ở Việt Nam đã dễ dàng hơn thời mình mới làm bánh rất nhiều. Bạn chỉ cần google mua máy KitchenAid là sẽ ra những trang web, những shop ở VN có bán máy trộn KitchenAid, những máy bán ở VN có lợi thế là máy dùng điện áp 220V luôn nên bạn không cần lo lắng gì về điện áp và cục biến áp. Vì sao mình nói riêng về máy KitchenAid thôi mà không nói đến máy khác, vì trong cộng đồng những người yêu làm bánh và nấu ăn ở VN thì mọi người vẫn chuộng máy KitchenAid hơn những thương hiệu máy trộn bột khác.\\nNếu bạn không mua ở VN mà thích mua từ Amazon chẳng hạn thì hiện nay bạn cũng có thể mua được dễ dàng với dịch vụ shipping toàn cầu nhanh chóng và tiện lợi ngày nay.\\nMình đề cập đến máy refurbished / renewed vì ở trên mình có nhắc đến việc mua hàng từ Amazon. Có những loại máy móc gặp lỗi nhỏ từ nhà sản xuất hoặc do vận chuyển, khi đến tay người mua đã bị trả lại thì sẽ được sửa lỗi và bán lại trên thị trường, những máy này không được xem là máy mới, do vậy được gắn mác refurbished / renewed và luôn được bán ra với giá rẻ hơn máy mới toanh. Bản chất của những máy này đều là mới cả vì chưa qua sử dụng, nhưng nhà bán lẻ cũng không thể bán chúng với giá như máy mới.\\nTiết lộ với các bạn rằng những máy KitchenAid mà Linh từng mua đều là máy refurbished hết cả, Linh đã tiết kiệm được khá nhiều tiền từ việc mua hàng refurbished. Tuy nhiên không phải lúc nào cũng có hàng sẵn vì máy móc làm gì mà bị lỗi nhiều thế, thỉnh thoảng mới có thôi. Những chiếc máy refurbished của Linh vẫn chạy bền bỉ suốt cả chục năm nay rồi.\\nMixer là dụng cụ không thể thiếu được trong công việc làm bánh, vì vậy Linh chúc các bạn sẽ lựa chọn được chiếc mixer hiệu quả để cùng trải nghiệm thế giới làm bánh vô cùng đa dạng và lý thú nhé.', '11 cách tận dụng lòng đỏ trứng thừa': 'Mình có thể ví dụ thêm đây là Brownie trà xanh mà phần trà xanh cũng chỉ kết hợp creamcheese và lòng đỏ nhé.\\nTart chanh vàng là loại bánh tart mình hay làm nhất với nhiều biến thể khác nhau.\\nCông thức tart chanh vàng này là làm theo chuẩn tart chanh kiểu Pháp: chua, ngọt, ngậy tất cả đều rất đậm đà. Việc dùng thêm lòng đỏ trong phần kem tart khiến cho lớp kem chanh vô cùng mịn nhé.\\nThêm một món tráng miệng tuyệt ngon với hương vị socola tình yêu.\\nĐây là một trong những món đầu tay của mình, mình làm từ thủa mới lon ton tập làm bánh, và cũng là một trong những món tráng miệng xinh yêu và ngon lành nhất mình đã từng làm được. Món này làm rất dễ mà chắc chắn chồng con bạn sẽ thích mê, và thay vì tốn tiền mua đủ loại váng sữa vị socola cho con ăn thì bạn nên thử tự làm món này, vừa ngon mà chất lượng cho con hơn đấy.', 'Những vật dụng cơ bản trong làm bánh': 'Đó chính là điều đã khơi gợi cảm hứng muốn thử làm bánh của Linh. Ban đầu Linh có nhiều hoang mang và đầy thắc mắc, phải đi tìm đọc khá nhiều mới bắt đầu tạm ổn để làm bánh. Và bây giờ, sau nhiều năm làm bánh tại nhà, Linh muốn chia sẻ một vài kinh nghiệm về việc chuẩn bị dụng cụ làm bánh với những bạn cũng có chung cảm hứng và sở thích, để tránh những sự lãng phí và tốn kém chưa cần thiết mà mình đã gặp phải khi bạn mới bắt đầu giai đoạn muốn thử đủ thứ.\\nLinh nói như vậy bởi vì hồi chưa mới bắt đầu, Linh cũng từng nghĩ hẳn là “nhà giàu” thì mới có thể theo đuổi thú vui làm bánh. Nhưng thực tế không phải là như vậy. Linh không phải con nhà giàu, nếu không muốn nói là cuộc sống còn rất nhiều khó khăn và cả nhà luôn chỉ vừa đủ sống. Tuy nhiên, Linh vẫn có được niềm vui từ việc làm bánh. Chỉ cần bạn có đam mê thôi!\\nLinh bắt đầu sở thích làm bánh khi còn là sinh viên, ít tiền, bao nhiêu tiền đi làm thêm đều tiết kiệm dành cho việc làm bánh và san sẻ với các chi tiêu khác nữa. Sau này học xong, làm việc kiếm tiền thì cũng lại phải san sẻ thu nhập với việc thuê nhà cửa, con cái và các chi phí khác trong cuộc sống. Vì thế, trong việc làm bánh, Linh chủ trương là hiệu quả, tiết kiệm, không lãng phí bất kì cái gì. Có nhiều loại bánh ở mức độ dễ và khó khác nhau, có loại bánh “rẻ tiền” vì không đòi hỏi nhiều nguyên liệu đắt tiền và cao cấp. Vì thế, nếu điều kiện của mình còn khó khăn, chưa cho phép làm những loại cao cấp thì vẫn có rất nhiều loại bánh phù hợp để mình làm.\\nNhững món đồ mà Linh liệt kê dưới đây kèm với số lượng tối thiểu và size phổ biến nhất, nhằm giúp cho bạn có một trải nghiệm làm bánh đủ thoải mái, nhưng lại không quá lãng phí và tốn kém trong thời gian ban đầu. Bạn yên tâm là nếu bạn theo đuổi làm bánh, bếp bánh của bạn sẽ dần dần đầy lên rất nhiều các món đồ riêng biệt, khác hẳn với các đồ nấu ăn thông thường đó. Nhưng bạn cũng đừng vội vàng, hãy cứ sưu tập chúng từng món một theo chặng đường làm bánh của chính mình nhé.\\nNhững vật dụng cơ bản cho việc làm bánh cần có như sau:\\nĐể lựa chọn được chiếc lò nướng phù hợp, bạn có thể tham khảo bài viết về cách lựa chọn lò nướng.\\nCó rất nhiều các loại khuôn bánh khác nhau, bạn có thể tham khảo bài viết về các loại khuôn làm bánh.\\nBước đầu làm bánh, Linh khuyên bạn nên chuẩn bị một số loại khuôn phổ biến nhất như sau:\\n1 khuôn tròn: có thể tháo rời đế (spring form), hoặc 1 khuôn tròn đế rời thông thường của VN sản xuất cũng hoàn toàn đủ để bạn làm bánh. \\xa0Cỡ\\xa0khuôn: đường kính\\xa020-23cm hoặc 18” – 19”, là kích cỡ khuôn thường được sử dụng trong nhiều công thức bánh.\\n1 khuôn vuông: \\xa020x20cm, đế rời càng tiện lợi.\\n1 khuôn tart: tròn, thành lượn sóng cho đẹp,\\xa0loại đế rời thì càng tốt, giúp bạn dễ lấy \\xa0nguyên chiếc bánh ra khỏi khuôn.\\n1 khuôn muffin: 12 lỗ để\\xa0làm muffin hoặc cupcake.\\nVài khay nướng phẳng: để làm cookies, bánh cuộn, bánh mì, v..v… Trong lò nướng khi mua về thường đã có sẵn 1 khay, về lý thuyết là bạn có thể dùng\\xa0nó như một khay nướng. Tuy nhiên, vì khay này luôn là khay màu đen, nên khi bạn dùng để nướng bánh, đặc biệt là các loại bánh nhỏ như bánh quy, su kem, bánh mì nhỏ, vv… thì mặt dưới bánh thường hay bị cháy và có màu sậm, trong khi ở trên có thể bánh chưa chín, do khay đen hấp thụ nhiệt rất mạnh. Vì vậy, Linh hầu như là không sử dụng khay này, trừ phi dùng để nướng thịt, cá.\\n1 khuôn loaf: dùng trong nhiều loại bánh.\\n1 chiếc nhiệt kế lò nướng: để kiểm tra nhiệt độ lò, đảm bảo chắc chắn lò đạt đến nhiệt độ cần thiết để nướng bánh, khi đó chúng ta mới cho bánh vào lò. Mỗi lò có thời gian cần thiết riêng để đạt tới nhiệt độ yêu cầu trong công thức, nhiều khi chúng ta không biết được sau 10 phút, 15 hay 20 phút thì lò mới đạt đến 180 độ C, chiếc nhiệt kế lò sẽ giúp chúng ta biết được điều này.\\n2 chiếc găng tay lò nướng: chắc chắn là bạn không muốn bị bỏng tay rồi, vì vậy nhớ chọn loại dày dặn chắc chắn nhé.\\nVài chiếc phới (spatula) bằng gỗ, silicon, nhựa hoặc cao su. Nên chọn loại mềm, dễ sử dụng, những chiếc spatula bằng silicon hiện nay giá thành khá rẻ và rất tiện dụng và không lo bị biến dạng bởi nhiệt.\\nVài cái tô trộn bột, cỡ lớn một chút sẽ giúp bạn thoải mái hơn khi làm bánh. Tô inox thường bền và đẹp. Bạn cũng có thể chọn tô bằng nhựa.\\n1 cái rây bột có mắt lưới nhỏ, giúp bạn rây bột mì, bột cacao, bột trà xanh, vv… Công đoạn rây bột tuy đơn giản nhưng rất quan trọng, góp phần giúp bạn làm bánh thành công hơn.\\n1 dao cắt bánh tất nhiên là dùng để cắt bánh rồi.\\nDao trét kem, láng phủ kem: tất nhiên hầu \\xa0hết mọi người làm bánh đều thích thử nghiệm việc trang trí bánh, vì vậy 1 con dao trét kem nhỏ phù hợp với bạn trong buổi đầu tập tành nhé. Linh đã làm bánh trang trí rất nhiều năm rồi và vẫn luôn yêu thích những chiếc dao trét nhỏ xinh này hơn là những chiếc lớn 😛\\nGiấy \\xa0nến nướng bánh – baking paper.\\xa0Loại giấy tốt có thể được sử dụng nhiều lần.\\nVài cái lồng đánh trứng bằng tay. Những chiếc phới lồng này sẽ rất hữu dụng giúp bạn trộn bột, đánh trứng, thậm chí hỗ trợ lúc rây bột. Chúng có nhiều cỡ khác nhau, độ dày mỏng khác nhau, bạn nên có một vài cái để tiện dùng nhé.\\n1 bộ đui bắt kem và túi bắt kem cơ bản, giúp bạn sẵn sàng trang trí đơn giản cho những chiếc bánh của mình.\\n1 cái cán bột – rolling pin dùng để cán bột làm cookies, bánh mì, làm trang trí fondant, vv…\\nMột số khuôn cắt hình cookies, giúp bạn tạo hình những chiếc bánh quy xinh xắn.\\n1 cái cân nhỏ, tối đa khoảng 2kg là vừa, chia vạch khối lượng càng nhỏ càng tốt.\\xa0Cân điện tử loại nhỏ hiện nay giá cũng rất rẻ, tương đương với cân đĩa, dùng rất tiện lợi.\\n1 cốc đong theo chuẩn quốc tế, loại chia theo 1 cup, 2 cup… hoặc ml, oz.\\n1 bộ thìa đong từ to đến nhỏ chia đúng lượng 1 table spoon, 1, 1/2, 1/4, 1/8 teaspooon. Rất nhiều nguyên liệu nhỏ được đơng bằng đơn vị thìa đong.\\n1 bộ cup đong. Trong các công thức bánh của nước ngoài hầu hết dùng đơn vị đong là Cup, vì vậy với dụng cụ này, bạn không mất công quy đổi đại lượng cân đong.\\n1 bộ màu thực phẩm nhỏ gồm những màu cơ bản, giúp bạn luôn sẵn sàng trang trí cho những chiếc bánh của mình.\\n1 bàn xoay loại vừa, bạn có thể chọn loại bằng nhựa hoặc thủy tinh, bàn xoay càng chắc nặng thì dùng càng dễ dàng và bền. Chiếc bàn xoay sẽ giúp bạn chia các lớp bánh được đều đẹp, phủ bánh kem được nhanh chóng dễ dàng.\\nTạm thời là vậy đã, cho một “bộ môn” hoàn toàn khác biệt với nấu ăn, cũng đã rất nhiều món đồ đã được kể tên. Và còn rất nhiều món đồ làm bánh hay cực kì nữa chờ bạn khám phá trên con đường làm bánh tại nhà của mình đó.\\nHappy Baking nha các bạn 🙂', 'Phân biệt 10 loại phô mai (cheese) phổ biến nhất': 'Phô mai, tiếng anh gọi là Cheese là một sản phẩm mà trong thành phần có chứa nhiều protein và chất béo từ sữa, thường là các loại sữa bò, dê, cừu. Cheese có nguồn gốc từ phương Tây, người VN vẫn gọi cheese với tên gọi chung là Pho-mát hoặc Phô-mai (có lẽ là do cách đọc chệch đi của từ tiếng Pháp “fromage” – có nghĩa là cheese). Có hàng trăm loại cheese khác nhau trên thế giới được sử dụng trong các món Tây. Chỉ đơn cử món Ý, nếu không có cheese thì sẽ không có thứ gọi là ẩm thực Ý. 2 món ăn nổi tiếng nhất thế giới của Ý là pasta và pizza sẽ không tồn tại nếu thiếu cheese. Có câu nói, dịch đại ý là, nếu như người Pháp nấu ăn với nước và rượu thì người Ý nấu pasta với nước và cheese.\\nTừ 4000 năm trước con người đã bắt đầu làm cheese từ sữa động vật. Có những loại cheese được dùng riêng trong nấu ăn, có những loại dùng riêng cho làm bánh và có những loại dùng được cho cả làm bánh và nấu ăn. Có loại cheese cứng và loại cheese mềm. Cheese được bán dưới dạng những khối cheese lớn, khối nhỏ đóng túi, đóng hộp, cắt lát, hoặc bào vụn. Trong bài viết này, mình sẽ điểm qua những loại cheese được dùng phổ biến nhất\\xa0mà những người yêu thích ẩm thực nên biết.\\nParmesan là tên gọi tắt của loại cheese Parmigiano-Reggiano. Đây là loại cheese đặc trưng nhất trong món Pasta – Mì Ý. Parmesan là loại cheese cứng, làm từ sữa bò và phải mất tối thiểu 1 năm, thường là 2 đến 3 năm ủ để cheese đạt độ “chín”.\\nParmesan có thể dùng để ăn ngay hoặc để nấu trong các món ăn. Khi ăn, parmesan thường phải bào vụn, bào sợi, thái lát hoặc cắt thành vụn nhỏ. Các bạn nên mua Parmesan nguyên khối, khi nào dùng thì mới đem bào nhỏ, loại này ngon hơn và giữ được hương vị cheese tốt hơn là mua loại bào vụn sẵn.\\nVì parmesan có mùi khá mạnh, hơi có vị đắng nhẹ, nên nó thường dùng để điểm thêm hương vị cho món ăn, dùng với lượng ít đến vừa phải. Parmesan được dùng để rắc lên trên các món pasta, rắc lên trên salad, cho vào món cơm rissotto, trộn cùng breadcrumb – bột cà mì để rắc lên trên món ăn nổi tiếng maccaroni and cheese, hoặc để làm lớp bọc các món tẩm bột chiên giòn.\\nĐây là một số món ăn dùng Parmesan bạn có thể tham khảo:\\nCheddar là một loại cheese cứng, màu vàng nhạt ngà trắng hoặc màu vàng suộm, có nguồn gốc từ làng Cheddar, Somerset, là loại cheese phổ biến nhất ở Anh và cũng là loại cheese được tiêu thụ với số lượng lớn nhất thế giới. Cheddar càng ủ lâu thì càng “sắc”, thời gian để cheddar đạt độ “chín” là từ 9 đến 24 tháng. Cheddar lát thường dùng trong burger, các loại bánh mì sandwich, dùng trong các món nướng như pasta nướng hay pizza, hoặc casserole, rissotto.\\nMình thường dùng cheddar cho các món nướng bánh mì để ăn sáng. Khi làm pizza, mình cũng thường cho thêm những lát cheddar kết hợp với Mozzarella để chiếc pizza thêm thơm và ngậy vị cheese.\\nNgoài ra cheddar cũng được dùng trong các món bánh mặn như bánh quy, tart mặn, muffin mặn, vv… Cũng giống như Parmesan, bạn nên mua cheddar nguyên miếng lớn rồi khi dùng mới cắt theo nhu cầu, như vậy miếng cheddar sẽ ngon hơn.\\nChia sẻ với các bạn một số \\xa0món ăn Linh đã làm với phomai Cheddar:\\nMozzarella là loại cheese có nguồn gốc từ Italy, còn được xếp chung vào nhóm cream cheese, được làm từ sữa trâu nước hoặc sữa bò. Ở dạng tươi, mozzarella khá mềm, có màu từ trắng đến ngả vàng tùy theo chế độ ăn uống của con trâu hay bò được lấy sữa. Truyền thống thì mozzarella tươi được làm và ăn ngay trong ngày. Do có độ ẩm lớn nên mozzarella tươi có thể được bảo quản trong tủ lạnh khoảng 1 tuần. Những loại mozzarella đã được làm khô đi bằng cách giảm nước và đã được cắt thành vụn nhỏ như ngày nay có thể được bảo quản đến 6 tuần. Mozzarella là loại cheese không thể thiếu trong món pizza, sau khi nướng mozzarella sẽ chảy và tạo thành những sợi cheese dai và dính.\\nMình thường mua mozzarella dạng khối lớn, khi cần làm món gì thì cắt theo nhu cầu. Mozzarella là dạng cheese mềm và ẩm nên nó cũng rất mau bị lên mốc. Khi bạn mở bao bì rồi dùng dao cắt là các vi khuẩn đã dễ dàng xâm nhập vào bề mặt miếng cheese rồi, do đó bạn không nên để quá lâu, và hãy giữ nó trong ngăn chill room của tủ lạnh. Bạn nhớ dùng tay sạch và dao sạch khi cắt mozzarella để kéo dài được thời gian bảo quản phần cheese còn thừa nhé.\\nPizza ko bao giờ thiếu được mozzarella bạn nhớ nhé. Còn đây Linh giới thiệu thêm những món ăn không phải pizza mà có dùng mozzarella đã từng làm.\\nBlue cheese là tên gọi của loại cheese có những đốm màu xanh lam, đôi khi là xanh xám hoặc xanh pha màu lam trong miếng cheese. Chính thành phần màu xanh lam này tạo nên mùi vị đặc trưng. Loại cheese này được làm từ sữa bò, cừu hoặc sữa dê, blue cheese chỉ là tên gọi chung cho hàng loạt các loại blue cheese với những tên gọi khác nhau. Loại cheese này rất thích hợp để ăn kèm với hoa quả, crackers (1 loại bánh quy giòn) hoặc rượu vang.\\nBlue cheese có mùi khá nặng và vị hơi khó ăn đối với những người không quen ăn. Nó cũng không phải là một loại cheese có giá rẻ hoặc bình dân. Ở VN nó được bán giá khá cao, và có lẽ chỉ những món ăn Tây rất đặc biệt ở trong các khách sạn và nhà hàng 5 sao mới dùng đến những loại này. Linh đã từng làm món ăn với blue cheese nhưng cũng chỉ dám dùng loại blue cheese có vị nhẹ nhàng nhất.\\nChia sẻ với các bạn hai món ăn Linh đã làm với blue cheese.\\nEmmental là tên gọi một loại cheese làm từ sữa bò có nguồn gốc từ Thụy Sĩ. Thời gian để ủ cheese này tối thiểu là 4 tháng. Cheese này có \\xa0màu vàng nhạt, vị cũng rất dễ ăn, thậm chí có vị chua nhẹ hơi giống vị chua hoa quả. Đây ko phải là cheese cứng cũng ko mềm, nó hơi dẻo, khi nấu nó rất dễ tan, vì vậy nó thường được dùng để tạo thêm hương vị cho các món súp.\\nNgười phương tây rất hay ăn cheese kèm hoa quả tươi, và emmental luôn là một lựa chọn ưa thích của nhiều người. Emmental cũng được sản xuất thành các lát mỏng để ăn với burger hoặc bánh mì sandwich. Nhà mình cũng hay mua loại cheese emmental dạng những lát vuông để ăn bánh mì.\\nEdam là tên gọi một loại cheese của Hà Lan bắt nguồn từ vùng Edam. Loại cheese này có hình dạng đặc trưng là hình dạng quả cầu hoặc hình trụ tròn, màu vàng nhạt và được bọc vỏ màu đỏ. Edam là loại cheese rất dễ bảo quản, khó hỏng, càng để lâu thì nó trở nên cứng hơn, vì vậy nó dễ dàng được đem qua đem lại trao đổi buôn bán giữa các nơi do đó trở thành loại cheese nổi tiếng và phổ biến nhất trong khoảng thế kỉ 14 – 18.\\nLoại cheese này cũng dễ tan, dễ thái lát mỏng nên hay được dùng làm topping cho bánh sandwich, burger, cho thêm vào súp để tạo hương vị.\\nGouda cũng là một loại nữa rất phổ biến, là loại cheese có độ cứng từ hơi cứng đến cứng hẳn, làm từ sữa bò, có nguồn gốc từ Hà Lan. Sau quá trình ủ, loại cheese này sẽ biến đổi hương vị và kết cấu. Phô mai này có vị sắc, mạnh và ngọt. Phô mai này có thể được bào vụn để rắc lên salad. Người phương Tây cũng dùng trực tiếp loại phô mai này để uống kèm với bia, nước cam, nước táo, rượu vang trắng, rượu vang đỏ.\\n7 loại cheese trên là những loại dễ dùng và dễ tìm mua trong siêu thị. Hiện nay các bạn cũng có thể mua các loại cheese khác ở VN như Swiss Cheese, Camembert, Feta, Roquefort, Chèvre, vv… Thế giới cheese rất đa dạng, số lượng các loại cheese Linh có cơ hội được dùng để nấu ăn vẫn còn là rất ít.\\nCream cheese là một loại phô mai mà người VN hay gọi tên tiếng Việt là kem phomai. Đây là loại cheese tươi, màu trắng, mềm, có vị cheese nhẹ nhàng và hơi ngọt. Đây là nguyên liệu chính và rất quen thuộc để làm cheesecake – bánh phômai. Cream cheese cũng có thể được ăn “tươi” kèm với bánh mì, cracker, v.v, hoặc làm thành kem phủ bánh. Một số loại bánh mà bản thân nó phải dùng kem creamcheese thì mới gọi là chuẩn vị, ví dụ như bánh red velvet, bánh cà rốt.\\nCream cheese có thể được tự làm tại nhà, nhiều bạn ở VN cũng thử làm rồi. Linh thì vốn luôn thiếu thời gian, hơn nữa so với các loại cheese khác thì cream cheese có giá rẻ hơn nên mỗi khi làm bánh thì mua luôn cream cheese cho nhanh và tiện.\\nLinh đã làm nhiều loại cheese cake khác nhau tuyệt \\xa0ngon. Rồi làm các món brownies với vị cream cheese cũng ngon tuyệt cú mèo nữa. Dưới đây Linh điểm danh một số loại, rồi bạn tìm thêm trong blog nhé.\\nMascarpone là một loại phô mai tươi mềm mịn mà bản thân nó không hẳn là cheese, nó chỉ là sản phẩm được tạo nên khi thêm một thành phần phụ gia vào quá trình tách kem khỏi sữa. Mascarpone mềm, màu trắng, tươi. Để làm tiramisu thì không thể thiếu mascarpone để tạo nên phần kem vô cùng mềm mịn và thơm.\\nMascarpone có thể được ăn ngay kèm với các món tráng miệng, với hoa quả, làm cheesecake không cần nướng, hoặc thêm vào súp khi làm các món súp kem để tăng độ ngậy béo và thơm cho súp.\\nMascarpone có nguồn gốc từ Ý và đã tạo nên món bánh nổi tiếng Tiramisu của Ý. Nói đến tiramisu, Linh kể một chút về phần kem của nó. Món Tiramisu\\xa0cổ điển thực sự có phần kem rất mềm, mượt nên gần như cả cái bánh tiramisu khó có thể tự nó “đứng” được, nhất là khi phần bánh còn được thấm đẫm rượu cà phên, vì vậy người ta thường làm Tiramisu vào cốc và khi ăn bạn cần thấy lớp kem này chảy mềm ra. Tiramisu được bán ở VN tại các quán cafe, hoặc tiệm bánh, hoặc tư nhân làm, rất nhiều khi đã được thêm gelatin vào và không hề dùng mascarpone đâu các bạn nhé, phần kem thậm chí còn cứng và dai, đặc quánh cơ.\\nLinh giới thiệu với các bạn một số biến thể của Tiramisu nhé.\\nRicotta là một loại phô mai \\xa0có nguồn gốc từ Ý, được làm từ nước tách từ sữa bò hoặc cừu. Trong quá trình tách kem để làm cheese có nước được tách ra, và chính nước này được sử dụng để làm ricotta. Loại cheese này mềm, có màu trắng, vị hơi ngọt và rất ít béo. Ricotta được ưa chuộng để làm các món tráng miệng của Ý hoặc ăn kèm với các món tráng miệng khác. Ricotta cũng được dùng để làm cheesecake và nhiều loại cookies. Pasta và pizza cũng có những công thức làm với ricotta.\\nMột số món ăn với ricotta Linh đã làm để chia sẻ với các bạn đây nhé.\\nTạm thời mình điểm qua 10 loại cheese mà mình đã từng sử dụng qua như trên. Trong thế giới hàng trăm loại cheese thì ở một đất nước không sản xuất cũng như không nấu các món ăn với cheese như VN thì rất khó để có kinh nghiệm với chúng, trừ khi được đi du lịch, được sống, học tập, làm việc ở các nước phương Tây hoặc đi ăn các món Tây. Nếu có bất kì cơ hội nào, bạn cũng đừng ngần ngại thử và khám phá nhé.', '10 vấn đề và lỗi thường gặp khi làm bánh mì': 'Mong bạn chia sẻ thêm các loại bánh mì bạn đã từng làm nhé.', 'Cách làm hạt đác rim dâu tằm': 'Hạt đác rim ăn cùng với sữa chua vẫn luôn tuyệt vời. Với màu dâu tằm, khi trộn đều lên nhìn bát sữa chua của mình giống y như sữa chua nếp cẩm vậy 😀\\nVì mình dùng mứt dâu nên có rất nhiều miếng dâu nhỏ bám quanh hạt đác, màu rất đậm đà, mình pha luôn một ly nước dâu hạt đác và hạt é để giải nhiệt đây. Sài Gòn những ngày này đang nóng khủng khiếp và mình thì luôn cảm thấy háo nước trong thời tiết nóng như thế này.\\nCác bạn chia sẻ những món ngon từ hạt đác của mình đi nhé ^^\\nCó thể bạn quan tâm:', '6 loại bánh quy ngon tuyệt chỉ dùng lòng đỏ trứng': 'Những loại bánh quy trên đây đều là những loại làm nhanh, dễ làm, dễ ăn và phù hợp với nhiều người. Công thức làm chúng chỉ dùng lòng đỏ, vì vậy bạn nhớ lưu lại trong sổ làm bánh của mình để sử dụng khi cần nhé.', 'Các kiểu cắt rau củ – kĩ năng dùng dao': 'Mỗi món ăn khác nhau có những cách thái rau củ riêng phù hợp với cách thức chúng ta định nấu món ăn đó, và chính bản thân món ăn đó. Điều này không chỉ đúng với rau củ mà còn đúng với các nguyên liệu thịt, cá, vv…\\nVí dụ đơn giản là thái hành tây. Nếu bạn \\xa0định làm món xào có hành tây, chúng ta thường nên thái hành tây\\xa0dọc theo củ hành thành những miếng có hình nửa vòng tròn và có độ rộng. Nếu bạn muốn làm sauce cho món pizza, chúng ta lại cần thái hành tây thật nhỏ và nhuyễn. Còn để làm món gà xé phay, để vị hành tây không bị quá hăng và cay, chúng ta lại cần thái hành tây thành những lát thật mỏng.\\nViệc thái rau củ đúng cách không chỉ nằm ở vấn đề chúng ta thái rau như thế nào (thành kiểu hình gì), mà quan trọng không kém là chúng ta cần thái chúng thật đều nhau. Việc thái nguyên liệu thành \\xa0những miếng đều nhau giúp cho chúng chín đồng đều, không bị miếng nát miếng sống, giúp bạn kiểm soát được thời gian nấu chính xác hơn, và bản thân món ăn khi trình bày lên trông cũng đẹp hơn là miếng to miếng nhỏ, và tất nhiên là trông món ăn sẽ chuyên nghiệp hơn rồi, hihi.\\nTên gọi các kiểu cắt thái rau củ mà mình tổng hợp dưới đây hầu hết có nguồn gốc từ tiếng Pháp. Trong ẩm thực phương Tây và trong học thuật về ẩm thực, tên gọi các món ăn, các kĩ thuật nấu nướng sử dụng các từ tiếng Pháp rất nhiều. (Có phải vì thế mà người Pháp luôn tự hào là ẩm thực Pháp là tinh hoa của thế giới không nhỉ :P). Tất cả những đầu bếp học qua trường lớp đều biết các thuật ngữ này, và rất nhiều food bloggers cũng như các trang web ẩm thực trên thế giới cũng dùng các thuật ngữ này khá thường xuyên.\\nỨng dụng của kiểu cắt thái này cũng rất đa dạng. Bạn có thể làm dùng làm salad, món nem cuốn, món xào…\\nỨng dụng của kiểu thái này là để nấu các món súp, làm cơm chiên, làm salad, \\xa0các món viên rán, hoặc để trang trí cho món ăn chính.\\nVới kiểu thái này, chúng ta có thể nấu súp, nấu cháo, …\\nNhư ảnh trên là bí ngòi bào sợi khi mình \\xa0làm\\xa0món\\xa0salad bí ngòi kiểu Thái. Khi nấu canh bí ngòi mình cũng hay bào sợi kiểu này, nấu với tôm khô hoặc ngao thì ngon hết sảy 😀\\nCũng còn những kiểu cắt thái rau củ khác nữa, nhưng trên đây là những kiểu chúng ta làm thường xuyên nhất trong nấu nướng. Hy vọng rằng bạn sẽ biết thêm được những điều thú vị sau khi đọc bài viết này, cũng như Linh khi ngồi viết lại cũng vẫn thấy mình \\xa0ngẫm ra được nhiều điều hay ho 😀\\nChúc các bạn tháng Giêng ăn chơi thật vui vẻ ^^', '14 cách tận dụng lòng trắng trứng thừa': 'Nói đến bánh macaron ngọt quá, tiện thể mình bày cho bạn một mẹo nhỏ để “đánh lừa” cảm giác ngọt. Tất nhiên, bạn không thể giảm đường trong phần bánh, vì sẽ có nguy cơ bánh không nở và “xòe váy” được như mong muốn. Nhưng bạn có thể làm nhân bánh có vị chua, bằng cách sử dụng các loại quả chua như chanh vàng, phúc bồn tử rasberry, quả dâu đen blackberry, quả nam việt quất cranberry. Vị chua của những loại quả này sẽ làm dịu đi vị ngọt của bánh macaron.\\nĐây là một loại bánh quy rất dễ làm, lại ngon tuyệt cú mèo, từ người già đến trẻ nhỏ đều thích ăn, và rất thích hợp để làm ăn hàng ngày, làm quà tặng và làm bánh tiếp khách dịp Tết. Bánh giòn, xốp, thơm ngậy mùi bơ, nếu thích bạn có thể thêm hạnh nhân lên mặt bánh để bánh vừa ngon vừa hấp dẫn hơn.\\nMình thường hay làm ba vị bánh cookies lưỡi mèo như hình trên: lưỡi mèo vị vani, lưỡi mèo vị sô cô la, lưỡi mèo vị trà xanh, để trong hộp hay cho vào túi buộc lại làm quà tặng đều rất đẹp.\\nĐây là một trong những loại bánh quy mà nhà mình thích ăn nhất, làm thì rất lâu mới được một hộp nhưng ăn vèo cái là hết bay. Bánh sử dụng hoàn toàn lòng trắng trứng, chỉ một ít lòng trắng đã có thể làm ra khá nhiều chiếc bánh mỏng giòn tan mà nếu bạn cầu kì thì có thể cuộn chúng lại thành ống. Mình trước đây rảnh còn chịu khó cuộn, sau này thì hầu như chẳng kịp cuộn nữa và chỉ cốt làm sao cho thật nhanh chóng xong mẻ bánh thôi.Ngoài ra cũng có thể làm Bánh hạnh nhân cuộn vị sô cô la, ăn cũng ngon tuyệt.\\nBánh angle food cake là một loại bánh có nguồn gốc từ Mỹ và đã rất phổ biến từ thế kỉ 19. Quả thực chiếc bánh trắng phau, êm nhẹ và bông mềm cảm giác có gì đó rất “thiên thần”. Bánh hoàn toàn sử dụng lòng trắng để tạo độ bông nở cho bánh, và chúng thường được nướng vào những chiếc khuôn\\xa0tube.Bánh này thường được ăn kèm với kem tươi và các loại hoa quả có vị hơi chua một chút, trở thành một món bánh rất phổ biến ở phương Tây.\\nPavlova là một loại bánh xuất hiện từ những năm 1920 và nổi tiếng cho đến ngày nay và được coi là một trong những loại bánh truyền thống quốc gia của Úc và New Zealand. Bánh được làm hoàn toàn từ lòng trắng trứng, bánh có vỏ giòn xốp bên ngoài và bên trong là lớp marshmallow mềm dẻo. Bánh thường được ăn kèm với kem tươi và hoa quả, và tốt nhất là bạn nên chọn những loại hoa quả có vị chua để cân bằng lại với độ ngọt của bánh.Nếu bạn muốn thưởng thức hương vị socola, thì đây có bánh\\xa0pavlova chocolate\\xa0dành cho bạn thử nhé.\\nSouffle cũng là một loại bánh giúp bạn tận dụng lòng trắng trứng thừa để làm ra một loại bánh dễ ăn và thơm ngon, chua chua \\xa0ngọt ngọt vị chanh leo thơm mát. Soufflé thường được “đồn” là khó làm, tuy nhiên nó có thực sự khó không thì bạn cứ thử làm mới biết được nhé, biết đâu bạn có thể làm thành công ngay từ lần đầu tiên thì sao 😉Món\\xa0soufflé socola ít béo\\xa0này cũng đáng cho bạn thử nữa nhé.\\nTart chanh vàng chua chua ăn cùng với lớp kem merigue nướng cũng là một sự kết hợp rất tuyệt vời nhé. Đây cũng là một loại bánh thuộc dạng “cổ điển”, trong các cuộc thi nấu ăn làm bánh rất hay được đưa vào làm “đề bài” cho các đầu bếp thử sức đó các bạn ạ.\\nLoại cookies này cũng chỉ dùng lòng trắng trứng, tuy nhiên nhà mình ít làm vì nó hơi ngọt so với khẩu vị, mặc dù mình đã giảm đường rồi. Bánh quy này sử dụng hạt dẻ, hạt hướng dương và yến mạch, vì thế ngoài lý do ngọt thì đây cũng là một loại bánh có khá nhiều dinh dưỡng.\\nChán bánh rồi thì bạn có thể làm kẹo. Kẹo này không giống như kẹo thông thường nhưng vì không biết nên gọi thế nào nên mình tạm gọi là kẹo thôi, hihi. Hạnh nhân làm kiểu này rất thơm ngon và hấp dẫn nhé. Và tất nhiên là món này sẽ giúp bạn sử dụng bớt một ít lòng trắng rồi 😛', 'Cách làm sô cô la nho khô và hạt bí': 'Khi chọn mua socola dạng \\xa0nguyên liệu dùng để làm bánh, chúng ta có thể chọn các loại socola có độ ngọt khác nhau tùy theo sở thích và mục đích sử dụng. Mình không thích ăn socola sữa hay socola ngọt, vì thế mình thường chọn mua loại socola 65% trở lên, khi đó độ ngọt rất vừa phải. Mình đã từng có lần làm socola trái tim cho dịp Valentine, giờ này gần đến Tết, trong nhà có sẵn hạt bí và nho khô, thế là mình lại hứng lên làm socola\\xa0nhâm nhi những ngày nghỉ Tết này. Món chocolate truffle cũng là một lựa chọn hoàn hảo cho món gì đó thật đặc biệt\\xa0để mời khách dịp Tết đấy, dù món socola truffle này cũng đã “nổi” từ mấy năm nay rồi. Muốn lạ hơn thì bạn có thể thử làm truffle trà xanh, tuy nhiên loại này thì ngọt quá đối với mình nên mình ít làm lắm.\\nTất nhiên, ngoài hạt bí và nho khô, bạn có thể dùng bất kì loại hạt hay hoa quả khô nào mà bạn thích để cho vào socola của mình, ví dụ như \\xa0hạt điều, hạnh nhân, hạt hướng dương, mơ khô, cranberry, cherry khô…Các bạn lưu ý là khi làm chảy socola, chúng ta không nên để lửa lớn, có thể đun cách thủy cho an toàn. Sau đó chúng ta trộn các loại hạt và quả khô vào socola. Mình từng thấy có nhiều bạn nói vì sao socola lại không đông, không mịn, khi hỏi ra thì mới biết rằng các bạn đó cho thêm sữa tươi hoặc bơ chảy vào, như vậy thì socola có thể ngay lập tức bị lợn cợn hoặc sau đó lỏng quá, socola không đông cứng lại thành miếng được. Các bạn lưu ý là không cho thêm chất lỏng khác vào socola nhé, nếu làm như vậy chúng ta sẽ không có được những thanh socola cứng đâu.\\nHiện nay có rất nhiều các loại khuôn làm socola rất dễ thương. Nếu bạn làm socola vào những chiếc khuôn đó thì chắc chắn các em bé sẽ rất thích thú đấy. Đến mình là người lớn mà nhìn các loại khuôn cute cute mình cũng thích mê đi nữa là, hihi. Nhưng không có khuôn thì chúng ta vẫn thoải mái làm được những thanh socola tuyệt \\xa0hảo. Bạn chỉ cần một khuôn, khay nướng, hoặc bất kì cái gì tương tự, chỉ cần lót giấy nướng bánh ở dưới, đổ socola lên, rắc các loại hạt lên trên, rồi bỏ vào trong tủ lạnh. Chỉ một lát sau socola cứng lại, chúng ta có thể lấy ra và cắt thành những hình tùy ý.\\nChúc các bạn sáng tạo ra nhiều loại socola ngon lành với nhiều hương vị nhé.', 'Cách làm Bánh trung thu thập cẩm': 'Phần nhân của mình lần này gồm:\\n– lạp xưởng mai quế lộ, thái lát, sau đó thái cho nhỏ thêm\\n– mứt hạt sen, thái nhỏ\\n– mứt bí, thái nhỏ\\n– hạt bí, hạt dưa, hạt hướng dương, vừng.. tất cả đều rang chín\\n– lá chanh (khoảng 10 lá, lá chanh cũng hái từ cây chanh trong nhà trồng luôn ^^), thái thật nhỏ\\n– ngũ vị hương: khoảng 1 tbs\\n– xì dầu: khoảng 2 tbs\\n– rượu thơm (các bạn có thể dùng rượu nấu ăn của Nhật, Hàn hoặc rượu Mai Quế Lộ): 3 tbs\\n– nước hoa bưởi: 1 tbs\\n– Bột bánh dẻo: 3 – 5 tbs\\nTất cả nguyên liệu cho vào chảo, trộn chung với nhau, sau đó cho lên bếp nấu khoảng 3-5 phút, đến khi các nguyên liệu trở nên đều và dính lại với nhau. Các bạn có thể thử bằng cách nhúm lên tay một ít nguyên liệu và bóp lại xem chúng có dính ngay không hay là rời ra.\\nVài lưu ý khi làm nhân thập cẩm:\\n– Nếu nhân bị khô và rời rạc, bạn sẽ khó nắm nhân lại thành viên tròn, và khi cắt bánh ra không đẹp, nhân bị rơi ra. Vì thế, nhân bánh cần có độ kết dính tốt.\\n– Nhân bánh được kết dính là nhờ ở độ ẩm của nhân và việc dùng bột bánh dẻo. Bột bánh dẻo có tính chất kết dính các nguyên liệu với nhau. Nếu bạn làm nhân có mỡ, nhân của bạn sẽ dính hơn do lúc nấu thì mỡ cũng ngấm ra các nguyên liệu khác, do đó lượng bột bánh dẻo có thể không cần cho quá nhiều. Nếu bạn làm nhân không có mỡ, bạn cần dùng thêm bột bánh dẻo và thêm rượu vào để nhân được dính vào nhau hơn.\\n– Các bạn có thể dùng trứng muối nếu thích.\\n– Nặn nhân thành những cục tròn, khối lượng tuỳ theo size bánh bạn muốn làm. Nên nặn khi nhân còn nóng, sẽ dính tốt hơn và mềm hơn, dễ nặn hơn. Để chống dính tay khi nặn, bạn có thể xoa vào hai lòng bàn tay bằng dầu ăn, như vậy sẽ nắm nhân được dễ dàng.\\nChúc các bạn có những mẻ bánh trung thu thập cẩm thật ngon lành ^^', 'Cách làm bánh nướng': 'Trên đây là hình ảnh 2 tô bột được trộn cùng một công thức, nhưng phần nước đường có màu đậm và nhạt khác nhau. Nước đường đun đúng, để đủ lâu, màu sậm, nên chỉ khi mới trộn xong bột đã có màu sậm hơn rồi (tô bên trái), điều này cũng giúp cho cả chiếc bánh có được màu sậm hơn ngay từ đầu. Tô bên phải dùng nước đường mới, nhạt màu hơn.\\nCách đóng bánh nướng:\\n– Cán phẳng miếng bột thành tấm tròn mỏng, đường kính đủ để gói phần nhân vào trong.\\n– Đặt nhân bánh vào giữa, nhẹ nhàng gói kín vỏ bên ngoài nhân. Dùng bột mì phủ \\xa0một lớp mỏng bên ngoài vỏ bánh, gọi là bột áo, để cho bánh vào khuôn không bị dính.\\n– Ấn bánh vào khuôn, lấy ra để lên khay nướng. (các khuôn bánh đều rất dễ sử dụng nên chắc mình không cần phải mô tả chi tiết từng động tác :D)\\nPhần trứng để quết vỏ bánh, mình cũng thử nghiệm vài cách khác nhau, năm nay trước khi làm cũng ngẫm nghĩ về việc nhiều người chưa làm ra được bánh có màu ưng ý. Ý nghĩ về quết trứng cứ loanh quanh trong đầu, và tự dưng mình nhờ đến có 1 lần khi làm bánh mì, mình dùng sữa tươi, chỉ sữa tươi thôi để quét mặt bánh, thì bánh được màu rất đều và đẹp. Vậy là mình thử dùng sữa pha vào trong hỗn hợp trứng. Kết quả là bánh ra lò với màu sắc rất ưng ý. Mình chia sẻ để các bạn có thể thử cách này xem thế nào nhé.\\n* Công thức trứng quét mặt bánh:\\n– 1 lòng đỏ trứng gà\\n– 1/2 lòng trắng trứng gà\\n– 1 tsp sữa đặc có đường hoà tan trong 2 tsp nước\\n=> quậy thật kĩ để trứng gà quện với các nguyên liệu và không còn nhiều lợn cợn của trứng.\\nĐây là khay bánh sau khi đổ khuôn.\\nCách nướng bánh:\\n– Bật lò trước 20 phút, ở nhiệt độ 230 độ C. Chế độ 2 thanh nhiệt.\\n– Cho khay bánh vào lò, ở vị trí chính giữa lò. Nướng bánh 5 phút, lấy khay bánh ra và lập tức xịt nước vào bánh (dùng bình phun sương), xịt cả lên mặt bánh và thành bánh, đến khi nước đọng thành giọt li ti trên khay. (không nên xịt ít quá và cũng không nên xịt nhiều quá sẽ làm cho bánh sũng nước và bột vỏ sẽ bị bợt ra).\\n– Chờ vài phút cho nước bay hơi và mặt bánh khô trở lại. Lúc này lấy chổi lông mềm nhúng vào trứng và quét lên mặt và thành bánh. Lưu ý không để trứng thừa trên các kẽ hoa văn, không để lại các bọt trứng li ti, khi nướng sẽ làm mờ các hoa văn và mặt bánh sẽ bị loang lổ không đẹp.\\n– Sau khi quét trứng xong, cho bánh vào lò, tiếp tục nướng ở nhiệt độ 230 độ C thêm 5 phút nữa. Lấy bánh ra, lúc này bạn có thể lựa chọn xịt nước lần 2, hoặc không xịt cũng được, vì mình đã thử nghiệm cả 2 trường hợp: xịt nước 1 lần và xịt nước 2 lần, kết quả bánh ra đều như nhau. Nếu xịt nước thì lại cần để bánh bay hơi nước đi, rồi quét trứng lần 2. Việc quét trứng lần 2 thì là cần thiết, để cho màu bánh được đều đẹp và sậm màu.\\n– Quét trứng lần 2 xong, cho bánh vào lò nướng tiếp 6-8 phút đến khi bánh chuyển màu vàng nâu nhạt là được. Lấy bánh ra, để nguội, bọc kín lại bằng nylon, để bánh 2 ngày là bánh đã xuống màu, vỏ mềm ra vì ngấm dầu, bánh lúc này rất bóng đẹp.\\nBánh sau khi nướng xong được vài tiếng, có màu như thế này.\\nBánh để đủ 2 hôm sẽ xuống màu sậm hơn, lúc này có thể cho bánh vào khay và túi, trông như thế này này ^^\\nBánh này đem đi tặng cho người thân bạn bè được chưa bạn nhỉ 😛', 'Ăn chay và sức khoẻ (Phần 2)': 'Tất nhiên, chúng ta vẫn có thể sống được nếu ăn “mặn” bình thường, nhưng chế độ ăn chay giúp cho bộ \\xa0máy cơ thể chúng ta hoạt động hiệu quả hơn và khoẻ mạnh hơn rất nhiều, vô số cuộc nghiên cứu tiến hành trên đã cho thấy người ăn chay trên thế giới rất khoẻ mạnh. Một vài ví dụ:\\n–\\xa0 Những bộ lạc, nhóm cư dân miền núi sống chủ yếu bằng ăn chay thường có tuổi thọ rất cao, như người Hunza ở Ấn Độ sống tới trên 115 tuổi, nhóm cư dân 400 người tại miền núi Ecuador sống trên 100 tuổi đã được khám bệnh kĩ lưỡng và chỉ có 2 ng biểu hiện bệnh tim, nếu như một cuộc khám bệnh như vậy với người Mỹ sẽ cho thấy 95% người mắc bệnh tim.\\n– Trẻ em ăn chay có răng tốt hơn, ít mắc các bệnh cảm lạnh, dị ứng hơn trẻ em ko ăn chay, ít bị béo phệ hơn, ít mắc bệnh tim hơn.\\n– Người ăn chay không yếu đuối, xanh xao bệnh tật như nhiều người lầm tưởng, mà ngược lại, khỏe hơn, nhanh nhẹn hơn, sức chịu đựng cao hơn.\\n– Nhiều lực sĩ đoạt được kỉ lục thế giới là những người ăn chay.\\n=> các bạn có để ý là trên thế giới, các loài động vật khỏe nhất, sống dai\\xa0 nhất đều là những động vật ăn cây cỏ: ngựa, bò, trâu, voi..\\nCó đủ dinh dưỡng nếu không ăn thịt không?\\nĐây là câu hỏi mà hầu hết mọi người đều thắc mắc, hay cụ thể hơn là có đủ protein không, bởi vì nhắc tới thịt là người ta nhắc tới protein – chất dinh dưỡng cần thiết nhất cho cơ thể vì phần lớn các mô cơ thể chúng ta được cấu tạo bởi protein. Tuy nhiên, ăn quá nhiều protein sẽ có hại cho sức khỏe, do nhiều người bị lầm tưởng bởi những chiến dịch quảng cáo. Thực tế chúng ta cần lượng protein ít hơn nhiều so với điều chúng ta nghĩ, và ăn quá nhiều protein gây hại cho gan, thận và dẫn tới nhiều bệnh tật. Số protein dư thừa sẽ được chuyển thành carbohydrate và được trữ lại ở dạng mỡ.\\nMột quan niệm sai lầm nữa là nhiều người nghĩ protein trong rau thấp kém hơn protein trong thịt. Hạt đậu nành vô cùng giàu protein, có lượng protein gấp 2 lần tìm thấy trong thịt. (đậu nành có 40% protein, 1 miếng steak (bít-tết) ngon nhất chỉ có 20% protein dùng được). Nhiều loại hạt dinh dưỡng như hồ đào, đậu.. có chứa 30% protein.\\nĐậu nành, loại đậu thần diệu\\nHàng ngày, hơn 1 tỷ người trên thế giới ăn một nguồn protein mà mãi tới nay ở phương Tây mới phát hiện ra, đó là đậu phụ, làm từ hạt đậu \\xa0nành, một loại thực phẩm nhiều dinh dưỡng mà lại rất rẻ. Người phương Đông đã ăn đậu nành từ hàng ngàn năm nay. Hạt đậu nành được gọi bằng nhiều tên như: cây kì diệu, kim cương vàng, hạt đậu thần diệu, vàng từ đất, thịt mọc trên cây leo… vì hàm lượng protein cao và giàu các loại vitamin, chất khoáng (đầy đủ 8 loại acid amin cần thiết theo các tỷ lệ thích hợp). Protein đậu nành vì thế được tiêu hóa tốt hơn, nó không chứa chất béo cứng, không chứa tinh bột làm béo, ít calo, không có thành phần tạo nên cholesterol, không có hóa chất, không mang các bệnh nhiễm trùng của động vật. Đậu nành còn chứa nhiều vitamin B hơn tất cả các loại thức ăn thực vật khác, giàu vitamin A và D.\\nCarbohydrate: nhiên liệu cho cơ thể\\nCarbohydrate \\xa0(carb) cung cấp nhiệt và năng lượng cần thiết cho hoạt động hàng ngày. Khi ăn chay thì nguồn carb chính là ngũ cốc, hạt đậu, đường, trái cây, khoai tây… Chúng ta cần một lượng carb ít hơn thực tế cơ thể chúng ta ăn vào, và chúng ta hầu \\xa0như lại ăn quá nhiều calori rỗng – các loại carb chứa nhiều calo nhưng ít vitamin, khoáng và protein, cụ thể như ăn quá nhiều cơm, bánh mì, nhiều đồ ngọt. Và vì thế, ngày \\xa0nay có xu hướng là chúng ta lựa chọn thực phẩm ít tinh chế hơn, như việc ăn ngũ cốc nguyên cám, bánh mì lúa mạch, lúa mạch đen, gạo đỏ, gạo lứt..\\nĐường: “thuốc độc trắng” – Đườg glucose: là nguồn năng lượng chính của cơ thể, não rất cần tới nó. Nó được tạo ra từ các carb chúng ta ăn vào như đường trong trái cây, rau và các sản phẩm từ sữa, các tinh bột. Đường saccharose là đường tinh chế mà chúng ta sử dụng hàng ngày (đường hạt trắng): đường này cung cấp calori rỗng mà thiếu nhiều vitamin, chất khoáng vì vậy đường ngày không tốt cho sức khỏe. Để giảm đường trong cơ thể, chúng ta thay thế bằng mật ong, mạc nha, maple syrup, trái cây, cắt giảm bánh kẹọ, nước ngọt đóng chai…\\nChất béo:\\xa0với người ăn chay thì nguồn chất béo đến từ các loại dầu thực vật, sữa, bơ, phomat, các loại nuts,.. Dầu thực vật tự nhiên có chứa nhiều chất béo cần thiết mà ăn thịt không có, cũng không sản sinh cholesterol.\\nMuối khoáng:\\n– Chất sắt: nguồn thực phẩm gồm men rượu bia, mầm lúa mì, trái cây phơi khô (mơ, mận, nho khô), đậu nành, rau dền, củ cải đường..\\n– Canxi: hạnh nhân, sữa, vừng, rau dền, đậu nành, mơ khô..\\n– I-ốt: rau dền, sữa, củ cải đỏ, muối hạt thô\\n– Phospho: các sản phẩm từ sữa, men rượu bia, cám và mầm lúa mì, cám gạo, các loại nuts,..\\n– Magie: hạt hồ đào, đậu nành, các loại rau củ có lá,\\n– Vitamin: có trong hầu hết các loại rau củ. Vitamin A có trong cà rốt, rau xanh lá, khoai lang, bí đỏ, quả mơ, sữa.. Vitamin B có trong nuts, men rượu bia, mầm lúa mì, cám gạ, hạnh nhân.. Vitamin C có nhiều trong trái cây, cam, chanh, bưởi, quít, cà chua, các loại rau xanh..Vitamin D có nhiều trong bơ, sữa.. Vitamin E có trong đậu nành, khoai lạng, quả đỗ, bơ, rau cải..', 'Kinh nghiệm chọn mua khuôn bánh Trung Thu': 'Nhiều chị em đã trở nên rất chuyên nghiệp và việc làm bánh Trung Thu thực sự dễ dàng, không khó như nhiều người nghĩ. Với nhiều các bạn trẻ mới tập làm bánh, lĩnh vực bánh trung thu xem ra còn rất mới mẻ và khó khăn, nhưng không làm giảm đi sự nhiệt tình muốn thử sức của các bạn. Mình thường xuyên nhận được những câu hỏi nhờ tư vấn về cách lựa chọn mua khuôn bánh trung thu thế nào, làm bánh như thế nào, nguyên liệu gì..vv… Vì thế, để cho đầy đủ, mình quyết định viết một bài chia sẻ về kinh nghiệm lựa chọn khuôn bánh Trung Thu của cá nhân mình.\\nKhuôn gỗ, khuôn nhựa, khuôn lò xo, khuôn silicon, chọn khuôn nào?\\n1. Khuôn gỗ là khuôn truyền thống và “cổ xưa” nhất, với ai có tính cách chuộng truyền thống, ưa cổ điển, thì vẫn sẽ lựa chọn khuôn gỗ, có lẽ là bởi yêu thích cái cảm giác cầm khuôn gỗ nằng nặng tay, gõ bánh xuống bạn đánh “cộp” một cái để cái bánh rơi ra. Nhưng theo thời gian và sự phát triển của các công cụ mới, khuôn gỗ đã bộc lộ những hạn chế so với khuôn nhựa:\\n– Giá thành cao hơn khuôn nhựa khá nhiều. 1 khuôn gỗ chỉ có một pattern (kiểu hoa văn), nếu muốn có nhiều pattern (mặt) thì phải mua nhiều khuôn => tốn khá nhiều tiền.\\n– Bảo quản khó hơn, khó làm vệ sinh. Rửa khuôn gỗ rất khó và tốn nhiều thời gian để làm sạch các kẽ hoa văn. \\xa0Nếu rửa không sạch sẽ dễ lên mốc. Với điều kiện thời tiết nóng ẩm, mưa nhiều như \\xa0ở VN thì hầu hết khuôn sẽ rất dễ bị mốc.\\n– Khuôn gỗ \\xa0thường nặng và cồng kềnh, to hơn khuôn nhựa, nên sẽ chiếm nhiều diện thích của tủ cất đồ, mỗi khi cần đem đi cũng bất tiện hơn.\\n– Mỗi lần dùng khuôn gỗ lại phải đem ngâm dầu vài ngày cho khuôn ngấm dầu, nhất là với khuôn mới mua, khi làm mới róc bánh, mà vẫn cần phải dùng nhiều bột áo. \\xa0Việc dùng nhiều bột áo chống dính làm cho bánh ra hoa văn không sắc nét. Các khuôn gỗ khắc không khéo các hoa văn cũng không đều \\xa0nhau và bánh ra không sắc nét.\\nCách đây 5, 6 năm, khi mình lần đầu làm bánh trung thu, và khi khuôn nhựa còn chưa phổ biến, thì mình mua khuôn gỗ, nhưng những năm sau \\xa0này mình đã không dùng khuôn gỗ nữa.\\n2. Khuôn nhựa\\n– Khuôn nhựa có tay cầm và hệt như khuôn gỗ, chỉ khác chất liệu là nhựa. Ưu điểm là giá thành rẻ hơn nhiều lần, nhẹ hơn, \\xa0nhưng gõ bánh không sướng bằng khuôn gỗ.\\n– Khuôn nhựa giá rẻ thường có hoa văn không sắc nét, và ít hoa văn hiện đại.\\n3. Khuôn lò xo\\n– Những năm gần đây, khuôn bánh Trung Thu lò xo ngày càng được ưa chuộng bởi chúng có nhiều tính chất trội hơn hẳn khuôn gỗ và khuôn nhựa.\\n– Giá thành rẻ hơn hoặc ngang khuôn gỗ, chất liệu nhựa\\xa0cứng, lò xo chắc chắn nên khuôn cầm trên tay vẫn cho cảm giác \\xa0rất “thích tay”.\\n– Vệ sinh khuôn rất dễ dàng, sạch sẽ, không bao giờ lo ẩm mốc. Khuôn nhẹ và gọn gàng, rất dễ bảo quản.\\n– Có lẽ thích nhất là khuôn lò xo thường có rất nhiều mặt hoa văn cho 1 khuôn, nên các chị em tha hồ thay đổi hình thức bên ngoài của bánh.\\n– Dùng khuôn lò xo, khi lấy bánh ra rất nhẹ nhàng và dễ dàng, hầu như không lo bánh bị dính.\\n– Khuôn lò xo có nhiều pattern bánh rất trẻ trung, hiện đại, dễ thương, lãng mạn cũng có mà phù hợp với trẻ con cũng có, nên rất nhiều người thích. Mỗi năm khuôn lò xo lại có thêm những mẫu hoa văn mới, nói chung là rất up-to-date 😀\\n– Khuôn lò xo được khắc công nghiệp bằng máy nên hoa văn ra rất sắc nét.\\n4. Khuôn silicon\\nLoại khuôn chất liệu silicon, hoặc khuôn nhựa trong, mỏng được dùng để làm bánh trung thu thạch, hay còn gọi là bánh TT rau câu. Mấy năm nay nhiều\\xa0 người làm thạch rau câu với hình thức bên ngoài, và cả bên trong, giống hệt chiếc bánh trung thu truyền thống. Những chiếc bánh cũng khá thú vị, làm cho không khí tết trung thu thêm đa dạng. Những khuôn này không dùng để làm bánh nướng bánh dẻo truyền thống được nhé. Chỉ làm bánh trung thu rau câu thôi ^^\\nChọn cỡ khuôn thế nào?\\nKhuôn bánh TT được định cỡ bằng định lượng của chiếc bánh. Hiện nay trên thị trường có các khuôn cỡ: 50g, 75g, 100g, 125g, 150g và 200g.\\n“Ngày xưa”, các bánh TT thường phổ biến với khối lượng 150g và 200g, bánh to và nặng như trong kí ức của nhiều người thế hệ mình. Những năm gần đây, xu hướng làm bánh TT nhỏ hơn trở nên phổ biến, có lẽ vì bánh trung thu vốn khá ngọt nên mọi người cũng không ăn nhiều. Những chiếc bánh cỡ nhỏ dưới 100g trông rất xinh xắn, nhìn rất yêu. Nhiều mẹ làm bánh cho các bé với hình kitty, doraemon thì làm bánh nhỏ xíu 50g các con sẽ rất thích.\\nVì vậy, tuỳ theo mục đích làm bánh: để tặng người lớn tuổi, tặng người yêu, tặng bạn bè, hay tặng trẻ con… mà bạn có thể lựa chọn mẫu hoa văn và cỡ khuôn phù hợp.\\nHẹn các bạn ở bài viết về các nguyên liệu làm bánh trung thu nhé. Đây cũng là bài viết để tổng hợp giải đáp thắc mắc của nhiều bạn mới bắt đầu làm bánh trung thu, vì những câu hỏi liên quan này mình cũng đang được rất nhiều bạn hỏi 🙂\\n(Nguồn ảnh: www.facebook.com/yokitchen.vn)', 'Phân biệt 12 loại bột làm bánh': 'Có nên mua bột mì ngoại nhập không? Theo Linh thì không thực sự cần thiết phải mua những nhãn hiệu bột mì của nước ngoài với giá đắt gấp 3-4, thậm chí 5 lần các loại bột mì trong nước. Ở VN có khá nhiều nhà máy sản xuất và chế biến bột mì, vừa sản xuất cho nhu cầu trong nước vừa xuất khẩu đi các nước khác, vì vậy bột mì trong nước cũng cực kì đảm bảo các chỉ tiêu và thông số về kĩ thuật và chất lượng.\\nTrước mắt, bạn ghi nhớ 1 trong những phân biệt cơ bản giữa các loại bột là hàm lượng gluten. Hàm lượng gluten khác nhau sẽ cho ra những sản phẩm bột khác nhau.\\nHàm lượng gluten còn có thể gọi là hàm lượng Protein, vì protein trong bột mì chính là chất để tạo nên gluten.\\nCác loại bột mì thường gặp:\\nAll purpose flour là bột mì đa dụng, đúng như tên gọi của nó, với hàm lượng gluten\\xa0là khoảng 9.5% – 11.5%. Đây là loại bột phổ biến nhất và thường được sử dụng nhiều khi làm bánh ngọt “cây nhà lá vườn”. Loại bột này có ứng dụng rộng rãi trong nhiều công thức bánh ngọt, thậm chí trong một số loại bánh mì ngọt, \\xa0để tạo sự tiện lợi cho người làm bánh. Còn với các cửa hàng bánh chuyên nghiệp thì bột mì đa dụng thường không được dùng mà những người thợ làm bánh nhất định sẽ lựa chọn những loại bột chuyên dụng cho từng loại bánh, phụ thuộc vào yêu cầu hàm lượng gluten của bánh.\\nLoại bột này còn có tên gọi là Plain Flour – bột mì thường. Ở VN, trong nhiều năm trước đây cho tới nay, nhiều người làm bánh vẫn quen gọi bột mì đa dụng là bột mì số 8.\\nCake Flour là loại bột có hàm lượng gluten rất thấp, tỉ lệ khoảng 7.5%-8.5%, bột rất nhẹ và mịn, màu trắng. Cake flour được sử dụng để làm các loại bánh có kết cấu bông xốp, mềm, nhẹ như bánh chiffon, bánh angel food cake, Japanese cotton cheesecake, bánh gato hongkong, bánh cuộn, vv… Nói chung các loại bánh dạng cake, bạn muốn bánh được mềm, nhẹ, thì bạn hãy dùng bột mì cake flour nhé.\\nThậm chí bạn có thể làm các loại bánh cookies bằng bột mì cake cũng cực kì tốt.\\nBread flour là bột bánh mì, là loại bột mì có hàm lượng gluten cao từ 11.5%-13%, dùng để làm bánh mì. Gluten sẽ tương tác với men nở để phát triển tạo nên kết cấu dai và chắc cho bánh mì. Ở VN nhiều năm qua, các chị em làm bánh tại nhà còn quen gọi bột bánh mì là bột Cái Cân hoặc bột mì số 11.\\n“Họ hàng” với loại bột bánh mì này còn có loại High-gluten flour, loại bột chuyên dụng để làm các loại bánh mì vỏ cứng, giòn, ví dụ như đế bánh pizza hoặc bagel.\\nSelf-rising flour là loại bột mì đã trộn sẵn bột nở baking powder và đôi khi cả muối. Bột này có ưu điểm là baking powder được trộn rất đều với bột mì, tuy nhiên ứng dụng của nó lại hạn chế hơn vì 2 lý do: một là, mỗi loại bánh khác nhau có yêu cầu lượng baking powder khác nhau. Hai là, baking powder sẽ giảm tác dụng theo thời gian, vì thế có thể gây ảnh hưởng đến chất lượng bánh (bánh sẽ không nở).\\nLinh hầu như \\xa0rất ít khi sử dụng loại bột mì này. Trong bếp của Linh luôn có sẵn 3 loại bột mì ở trên để tùy ý sử dụng với những mục đích làm bánh khác nhau. Tuy nhiên, nếu trong một công thức bánh nào đó rất hay mà bạn có lại cần đến bột self-rising flour, bạn có thể tự trộn loại bột mì này với tỉ lệ như sau:\\n1 cup bột self-rising = 1 cup bột mì đa dụng + 1 \\xa01/2 tsp baking powder + 1/2 tsp muối\\nPastry flour \\xa0là một loại bột có hàm lượng gluten thấp, nhưng vẫn cao hơn cake flour,khoảng 9%. Bột có màu trắng kem, thích hợp để làm vỏ bánh pie, tart, \\xa0cookies, bánh quy và muffins.\\nNgoài ra còn các loại bột khác không phải bột mì nhưng cũng thường cần đến khi làm bánh phương Tây\\nTiếng Việt chỉ gọi chung là bột ngô, hay bột bắp, nhưng bột ngô cũng chia làm 2 loại cơ bản:\\n– Bột ngô trắng (cornflour, cornstarch): \\xa0là loại bột trắng, mịn và rất nhẹ, làm từ tâm trắng của hạt ngô. Trong nấu ăn thì bột ngô còn có tác dụng là chất làm sệt khi nấu các món súp hoặc xốt.\\n– Bột ngô vàng (cornmeal, hay đôi khi còn được gọi là Polenta): là bột được xay từ nguyên hạt ngô khô\\nNgoài ra còn có rất nhiều tên gọi các loại bột khác mà gần như nếu dịch sang tiếng Việt thì rất khó để hình dung vì người VN vốn ít quen thuộc với những loại hạt này. Vì thế mình chỉ điểm qua các tên gọi để mọi người cùng có chút khái niệm về những loại bột từ các hạt lương thực khác được dùng để làm bánh.\\nBột làm từ nguyên hạt lúa mì xay mịn ra, còn được gọi là bột mì nguyên cám.\\nBột làm từ lớp vỏ màng của hạt lúa mì.\\nBột làm từ hạt lúa mạch đen. Có các loại “con” như light rye, medium rye, dark rye, whole rye flour, rye meal, rye blend.\\nBột làm từ hạt yến mạch. Sản phẩm từ hạt yến mạch thường dùng là rolled oats, oat bran.\\nBột kiều mạch, thường được sử dụng để làm pancake hoặc crepe. (Loại mì soba nổi tiếng của Nhật được làm từ bột buckwheat). Ở VN, loại hạt kiều mạch này ở VN gọi tên là hạt tam giác mạch.\\nCòn gọi tên là Semolina, bột này làm từ hạt durum (không biết tên tiếng Việt là gì). Spaghetti và các loại pasta khô được làm từ bột này. Trong nướng bánh thì bột này được sử dụng để làm các loại bánh mì đặc sản của Ý.\\nTrên đây là cách phân biệt những loại bột mì chúng ta thường gặp nhất trong nấu ăn và làm bánh hàng ngày. Linh hy vọng rằng bài viết này giúp cho bạn có được nhiều thông tin bổ ích. Happy Baking nhé ^^', 'Wagashi – nghệ thuật bánh ngọt Nhật Bản': 'Từ “wagashi” bắt nguồn từ từ “kashi”, dịch nghĩa là “kẹo” hay các món ngọt, tuy nhiên thủa xưa nói đến “kashi” là nói đến các loại hạt ngũ cốc (nuts), các loại quả dâu (berries) và hoa quả (fruits). Từ “wagashi” bắt đầu được sử dụng từ thời Meiji để phân biệt với các loại bánh ngọt đến từ phương Tây (wa – từ để chỉ Nhật Bản).\\nWagashi có nguồn gốc từ thời Yayoi (300 năm trước công nguyên), lúc đó wagashi chỉ đơn thuần là các món ngọt làm từ hoa quả và các loại hạt. Khi kĩ thuật xay nghiền các loại lương thực phát triển thì wagashi cũng được ảnh hưởng rất nhiều khi bột làm từ lúa mì, gạo nếp, gạo tẻ, đỗ và các loại lương thực khác được đưa vào dùng làm wagashi. Vị ngọt của bánh trước đây phụ thuộc vào vị ngọt tự nhiên của hoa quả và hạt thì việc sản xuất được đường đã làm thay đổi các công thức tạọ vị ngọt cho bánh.\\nTới thời kì Edo (1603), wagashi thực sự phát triển mạnh mẽ cùng với các cuộc thông thương giữa Nhật và nước ngoài. Nếu như trước đây chỉ có những tầng lớp thượng lưu mới được thưởng thức wagashi thì nay wagashi trở nên phổ biến hơn rất nhiều và đi vào tầng lớp trung lưu. Wagashi bắt đầu xuất hiện thường xuyên trong các bữa tiệc trà đạo, các bữa ăn nhẹ buổi chiều, và đặc biệt được sử dụng làm quà tặng sang trọng.\\nQua nhiều thế kỉ, mặc dù wagashi bị ảnh hưởng bởi các yếu tố văn hoá phương Tây rất nhiều, nhưng wagashi vẫn được nhắc đến như một biểu tượng về thẩm mỹ nghệ thuật Nhật Bản.\\nWagashi được chia làm 3 nhóm chính, việc phân loại dựa trên độ ẩm của bánh hoặc phương pháp làm bánh.\\nĐộ ẩm của bánh là một yếu tố rất quan trọng quyết định “hạn sử dụng” của bánh.\\nNếu phân chia theo phương pháp làm bánh thì ví dụ wagashi có những loại sau:\\nĐể thấy hết sự đặc sắc của wagashi, chúng ta phải thưởng thức bằng tất cả năm giác quan: nhìn bằng mắt, ngửi bằng mũi, “nghe bằng tai”, chạm bằng tay, rồi mới đến nếm bằng miệng. Mỗi chiếc bánh wagashi đặc sắc ở thiết kế riêng biệt, việc tạo hình từng chiếc bánh phải làm nổi bật vẻ đẹp tự nhiên của từng mùa tại thời điểm hiện tại. Ví dụ vào mùa xuân khi hoa anh đào nở rộ, chúng ta sẽ thấy rất nhiều mẫu bánh lấy cảm hứng từ bông hoa, cánh hoa, màu sắc hoa anh đào, thậm chí lá anh đào cũng được sử dụng để làm bánh.\\nTại sao nói thưởng thức wagashi có thể nghe bằng tai, đó là bởi vì chiếc bánh có thể được đặt tên theo một biểu tượng, một hiện tượng thiên nhiên đẹp của mỗi mùa, hoặc được đặt tên theo ca từ trong thơ, nhạc. Khi nghe những cái tên đầy chất thơ đó, người thưởng thức bánh sẽ có thể dùng trí tưởng tượng của mình để vẽ nên những cảnh thiên nhiên đẹp đẽ thơ mộng.\\nVị của wagashi cũng không được quá ngọt hoặc quá nhạt, mà phải là một sự cân bằng, hài hoà. Đậu đỏ (azuki beans) là một trong những nguyên liệu chính của những chiếc bánh wagashi, ngoài ra có bột mì, bột gạo, vừng, khoai môn, đường, bột thạch (kanten). Vì thế wagashi không những ngon mà còn là loại bánh tốt cho sức khoẻ.\\nNếu các bạn đến Nhật, đừng bỏ lỡ việc khám phá thế giới wagashi tuyệt đẹp nhé.\\n(Nguồn ảnh: Internet)', 'Cocktail mùa hè – Passion fruit paloma': '– 1 1/2 oz tequila\\n– 1 quả chanh leo ép lấy nước cốt\\n– 1 oz mật ong\\n– nước cốt 1/2 quả chanh xanh\\n– 1 ít đá viên', 'Bánh ít, bánh ram': 'Bánh ít, làm nhân tôm thịt thì đơn giản như các loại bánh bột lọc hay bánh bèo. Sau khi làm tôm và thịt sạch thì cho vào xào chín. Bánh ít cũng nhào bột nếp với ít muối và nước ấm cho đến khi mịn, ráo tay, có thể nặn thành viên được. Cho nhân tôm thịt vào giữa rồi gói lại thành viên bánh tròn nhỏ, mỗi chiếc đường kính cỡ 2-3cm bọc bên trong một con tôm và một miếng thịt. Bánh này cần được gói vào trong lá chuối hoặc nylon thực phẩm rồi cho vào hấp chín.\\nSau khi cả hai loại bánh đã sẵn sàng, đặt miếng bánh ít lên trên chiếc bánh ram, dùng thìa ấn cho bánh ít dẹt và dính xuống chiếc bánh ram.\\nMón bánh này ăn cùng nước chấm là nước luộc vỏ tôm với mắm, đường, tỏi, ớt, dấm hoặc chanh.\\nLần này mình tò mò muốn làm để ăn thử, tuy nhiên làm xong thì mình cũng oải quá. Nguyên liệu thì không có gì phức tạp nhưng khi làm thì cũng cách rách thứ nọ thứ kia, mỗi thứ một tí, lát sau quay ra rửa đồ thì cũng thấy một đống. Ăn thì khá ngon nhưng nhanh no vì là bánh bột nếp mà.', 'Chuyển đổi nguyên liệu thường dùng': 'Thông thường, để công việc đo lường các nguyên liệu sử dụng trong nấu ăn, làm bánh được dễ dàng thì trong căn bếp không thể thiếu 1 chiếc cân và 1 cốc đong có vạch chia theo cup và ml. Cân càng có độ chia nhỏ nhất có thể thì càng chính xác. Tất nhiên nếu có điều kiện sắm cân điện tử thì sẽ dễ dàng cho việc cân đong hơn nhiều. 1 chiếc cốc đong thông thường như trên có vạch chia lớn nhất đến dung tích 2 cups, chất lượng cốc và giá cả cũng tùy thuộc vào chất liệu và “hàng hiệu”. Tuy nhiên điều này hoàn toàn không có ảnh hưởng lớn đến chất lượng chiếc bánh bạn muốn làm, chỉ cần bạn cẩn thận trong quá trình đong nguyên liệu là được.\\nViệc đong nguyên liệu theo hệ đo lường nào là một việc linh hoạt. Khi làm nhiều, bạn sẽ hình thành được thói quen lúc nào thì sử dụng đơn vị đo nào để không phải “dây dưa” đến nhiều dụng cụ chén bát khiến mất công rửa.\\nA. Bột mì đa dụng (bột mì thường) và đường bột (icing sugar)\\nB. Đường trắng hạt mịn\\n1/8 cup\\n30g\\n\\n\\n1/4 cup\\n55g\\n\\n\\n1/3 cup\\n75g\\n\\n\\n3/8 cup\\n85g\\n\\n\\n1/2 cup\\n115g\\n\\n\\n5/8 cup\\n140g\\n\\n\\n2/3 cup\\n150g\\n\\n\\n3/4 cup\\n170g\\n\\n\\n7/8 cup\\n200g\\n\\n\\n1 cup\\n225g\\n\\n\\n\\n\\xa0\\n\\nC. Đường nâu:\\n\\n\\n\\n\\n\\n1/8 cup\\n25g\\n\\n\\n1/4 cup\\n50g\\n\\n\\n1/3 cup\\n65g\\n\\n\\n3/8 cup\\n75g\\n\\n\\n1/2 cup\\n100g\\n\\n\\n5/8 cup\\n125g\\n\\n\\n2/3 cup\\n135g\\n\\n\\n3/4 cup\\n150g\\n\\n\\n7/8 cup\\n175g\\n\\n\\n1 cup\\n200g\\n\\n\\n\\n\\n\\nD. Bơ hoặc Margarine:\\n\\n\\n\\n\\n1/8 cup\\n30g\\n\\n\\n1/4 cup\\n55g\\n\\n\\n1/3 cup\\n75g\\n\\n\\n3/8 cup\\n85g\\n\\n\\n1/2 cup\\n115g\\n\\n\\n5/8 cup\\n140g\\n\\n\\n2/3 cup\\n150g\\n\\n\\n3/4 cup\\n170g\\n\\n\\n7/8 cup\\n120g\\n\\n\\n1 cup\\n225g\\n\\n\\n\\n\\n\\xa0\\nNgoài ra, bạn có thể xem ở trang chuyển đổi trực tuyến này. Chỉ cần lựa chọn nguyên liệu bạn muốn chuyển đổi và điền vào con số là bạn có thể có ngay bất kì 1 lượng quy đổi nào. Đây là trang mình thường xuyên dùng và thấy rất tiện lợi.', 'Cách làm Bánh bột lọc nhân tôm thịt': 'Nhân tôm thịt thì đơn giản chỉ có tôm bóc vỏ, thịt ba chỉ thái miếng, ướp với mắm, tiêu, hành tím, xào thơm lên cho chín.\\nRải tấm lá chuối lên mặt phẳng, múc một chút hỗn hợp bột năng, rồi xếp 1, 2 miếng tôm và thịt lên, gói lại thành dạng hình chữ nhật dài, dùng dây buộc lại, bỏ vào chõ hấp.\\nNồi hấp để nhiều nhiều nước, đun lửa lớn thì bánh mau chín. Mình hấp khoảng 15 phút là bánh chín hết rồi.\\nTrước khi ăn thì làm nóng ít dầu ăn, cho hành lá thái khúc vào đào nhanh tay cho hành vừa chín mềm. Hành này rắc lên từng miếng bánh trông hấp dẫn và ăn bánh cũng thêm mùi thơm.\\nNước chấm thì tận dụng nước luộc đầu và vỏ tôm thay cho việc dùng nước lọc. Ngoài ra pha thêm mắm, đường, dấm ớt cho nước chấm có vị mặn nhẹ và hơi chua chua ngọt ngọt, có chút tê tê của ớt.', 'Các vấn đề với trứng trong làm bánh': 'Ở các nước Âu Mĩ và các nước phát triển khác, trứng được phân loại các ‘cấp’ rõ ràng, phụ thuộc vào chất lượng, độ tươi, kích cỡ của trứng. Trứng sẽ được phân loại AA, A hay B, C, tùy theo quy ước của từng nước. Ở Sing, trứng cũng có mã kí hiệu nhưng đa phần là lung tung hết cả, brand nào cũng ghi là A hoặc AA, quả to hay quả nhỏ cũng vẫn A, mình chỉ phân biệt được dựa trên giá tiền, loại nào càng đắt thì mình cho là chất lượng cao hơn. Ở VN, mọi người thường mua trứng trong siêu thị, hoặc dễ dàng hơn là ra chợ mua trứng, thì chọn trứng đều dựa vào kinh nghiệm và sự tin tưởng vào lời khuyên của người bán.\\nTrứng cũng là thành phần không thể dùng ‘bừa” trong làm bánh. Trong bài viết này, mình sẽ tổng kết lại những điều mình biết và kinh nghiệm của mình về sử dụng trứng, và các lưu ý về trứng cụ thể trong quá trình làm bánh.\\n1. Cấu tạo của trứng:\\nVề cơ bản, trứng gồm vỏ trứng, lòng trắng và lòng đỏ. Điều này thì ai cũng rõ.\\n– Lòng đỏ trứng là nguồn protein và chất béo. Màu lòng đỏ đậm hay nhạt phụ thuộc vào chế độ ăn uống của … con gà.\\n– Lòng trắng trứng, khi còn ‘sống’ thì trong và có thể tan được trong nước. Nhưng khi nấu chín hoặc đánh bông lên thì sẽ chuyển thành màu trắng đục. Đây là điều dễ dàng nhận thấy.\\n2. Kích cỡ của quả trứng:\\nTrứng không chỉ được phân loại dựa trên chất lượng mà còn được phân loại theo kích cỡ. Khi làm bánh, chúng ta thường gặp những lưu ý như dùng trứng cỡ to, vv.. Trứng cỡ to là loại được sử dụng phổ biến nhất trong làm bánh.\\nTheo tiêu chuẩn của Mĩ thì, không tính vỏ trứng, thì khối lượng trung bình của 1 quả trứng\\xa0được phân loại là\\xa0to (large egg) \\xa0như sau:\\n– cả quá: 47g\\n– lòng trắng riêng: 28g\\n– lòng đỏ riêng: 19g\\n3. Chức năng của trứng đối với bánh:\\n– Protein trong trứng góp phần tạo nên cấu trúc cho bánh vì đặc tính của protein là đông và cứng lại khi gặp nhiệt độ. Vì thế, nếu sử dụng với tỉ lệ không hợp lý, nhiều trứng sẽ làm cho bánh cứng hoặc dai.\\n– Tỉ lệ nước trong trứng là khá cao nên trứng sẽ tạo độ ẩm cho bánh.\\n– Trứng tạo mùi và vị thơm cho bánh.\\n– Trứng đánh bông tạo nên lỗ khí và bóng khí, có tác dụng làm bánh nở bông xốp.\\n– Lòng đỏ trứng được dùng để quét lên bề mặt bánh (như bánh mì chẳng hạn) để tạo màu sắc hấp dẫn hơn cho bánh.\\n4. Kinh nghiệm bảo quản trứng:\\n– Với những người hay làm bánh thì việc mua sẵn và dự trữ trứng trong nhà là việc rất bình thường để đỡ tốn công mua nhiều lần và tiện sử dụng bất cứ khi nào cần đến.\\n– Như mình mỗi lần mua trứng mình hay mua 1 khay 30 quả. Khi mua trong siêu thị, rất khó để biết vào thời điểm mua, độ tươi của trứng đến đâu. Khi đi chợ ở VN, nếu mua ở hàng quen thì bà bán hàng sẽ nói cho mình biết là trứng nào là trứng mới, trứng nào cũ rồi thì sẽ không khuyến cáo người quen mua.\\n– Mua trứng về, mình hay để trứng ở nơi khô ráo, thoáng khí, mát mẻ, tránh tiếp xúc với nước và mùi từ thực phẩm khác. (vỏ trứng mỏng manh sẽ hấp thụ mùi).\\n– Khi đã mua trứng với số lượng nhiều thì nên tránh để trứng ở ngoài quá lâu. Nếu sau 1 tuần vẫn chưa dùng hết trứng thì nên cất trứng vào tủ lạnh.\\n5. Lưu ý khi sử dụng trứng để làm bánh:\\n– Trứng phải được để ở nhiệt độ phòng. Nếu lấy trứng đã bảo quản trong tủ lạnh ra thì cần để trứng ở ngoài cho bớt lạnh.\\n– Với công thức yêu cầu tách riêng lòng trắng và lòng đỏ thì cần tách cẩn thận, không để lòng trắng bị dính lòng đỏ.\\n– Các yếu tố ảnh hưởng đến khả năng đánh bông lòng trắng trứng:\\n+ Trứng kém tươi nên mất khả năng bông cứng, vì thế rất khó hoặc không thể đánh bông được. Thông thường, trứng đánh một tẹo là sẽ bông cứng dễ dàng.\\n+ Lòng trắng bị dính nước hoặc dính lòng đỏ; âu đựng hoặc que đánh không khô, không sạch cũng ảnh hưởng đến việc đánh bông trứng.\\nHy vọng những chia sẻ trên sẽ giúp ích được phần nào cho mọi người đối với việc sử dụng trứng trong nấu ăn nói chung và làm bánh nói riêng. Nếu có điều gì mình nhớ ra thêm thì sẽ bổ sung tiếp sau.', '12 loại hạt (nuts) làm bánh': 'Trong bài chia sẻ này, mình tổng hợp lại tên gọi và hình ảnh của\\xa0 những loại hạt thường dùng trong làm bánh, để những người mới bắt đầu “nghịch” bánh trái không “quay cuồng” khi bước vào cửa hàng bán nguyên liệu làm bánh, để có thể nhìn thấy là nhận ra ngay đó là loại hạt nào.Trong các cửa hàng, các loại hạt thường được bán dưới dạng nguyên hạt, chẻ đôi hoặc thái vụn thô. Khi mua về chúng cần được bảo quản trong bao bì kín và để ở nơi khô ráo, tránh ánh sáng.\\nĐây là loại hạt quan trọng nhất trong làm bánh và được sử dụng rất phổ biến. Tự nhiên, loại hạt này có vỏ nâu. Ngoài ra còn có loại hạt đã tẩy vỏ thành trắng. Trong các cửa hàng thường có hạnh nhân nguyên hạt (whole almond), tách đôi (almond halves), cắt lát (sliced almond), hoặc dạng bột (ground almond/ almond meal).\\nLoại hạt này ăn rất hay ^^ mình không biết tả thế nào nhưng mỗi dịp Christmas, các gói hạt tổng hợp thường được bán rất nhiều trong siêu thị, và thế nào cũng có loại hạt này. Loại hạt này cũng hiếm gặp ở VN.\\nLoại hạt này thì người VN đã quá quen thuộc rồi ^^ Hạt điều được sử dụng trong làm bánh và trong các món ăn khá nhiều.\\nLoại hạt này nguyên vỏ trông hơi giống như hạt dẻ nhỏ thường có ở VN. Tuy nhiên loại hazelnut của phương Tây không phải là giống hạt dẻ đó. Ở VN nhiều người gọi hạt này là hạt phỉ. Hazelnut dùng làm bánh rất thơm ngon.\\nDựa vào hình dạng mà mình đoán loại hạt dẻ này là loại người VN vẫn gọi là hạt dẻ Trùng Khánh – hạt to, ruột khi chín có màu vàng ươm. Quả chestnut trước khi dùng để chế biến món ăn thường phải luộc hoặc rang chín rồi mới dùng được.\\nDừa thì quá quen thuộc rồi 😉 Những loại bánh có dùng đến dừa, đa phần dừa phải bào sợi nhỏ, hoặc dừa xay vụn. Dừa có thể ở nguyên dạng ẩm hoặc được sấy khô. Nhiều công thức bánh dùng cụm từ “desiccated coconut” để chỉ loại dừa xay/bào vụn và được sấy khô.\\nLoại hạt này không có tên gọi tương đương trong tiếng Việt, chỉ biết là ăn rất ngon và giá cũng rất đắt.\\nĐây cũng là một loại hạt rất đắt tiền, thường chỉ những loại bánh cao cấp mới “dám” dùng đến loại hạt này.\\nTrái ngược với những loại hạt đắt tiền trên, lạc là loại hạt rất phổ biến ở VN và cũng rất rẻ tiền. Người Việt hay dùng lạc trong các món ăn. Có những công thức bánh dùng lạc cũng tạo ra mùi thơm đặc trưng cho bánh.\\nLoại hạt này lấy tử quả của cây thông (loại thông quả to), cũng là một loại hạt không rẻ. Các món bánh của Ý rất hay dùng đến loại hạt này.\\nLoại hạt này hay được sử dụng để trang trí vì màu xanh rất hấp dẫn của nó. Người VN giờ cũng không còn xa lạ gì với loại hạt này.\\nLấy từ quả óc chó. Cùng với almond và hazelnut, đây là loại hạt rất quan trọng trong làm bánh vì walnut được sử dụng khá nhiều trong các loại bánh.', 'Công đoạn khác của quá trình làm bánh mỳ': '1. thời gian nhào và tốc độ nhào bột.\\nBột nhào chưa đủ hoặc nhào kĩ quá đều giảm khả năng nở của bột.\\nVới những nhà có máy nhào bột bánh mì thì đây không phải vấn đề phức tạp. Máy nhào đã có sẵn chế độ thời gian và tốc độ, chỉ cần theo công thức hướng dẫn nhào bao lâu, ở tốc độ nào mà làm theo. Tuy nhiên không nên phụ thuộc hoàn toàn vào những con số tham khảo đó, vì chúng chỉ là tham khảo. Vì bản thân máy nhào cũng có kích thước, dung tích, công suất khác nhau. Vì thế cần tham khảo thêm cả hướng dẫn sử dụng riêng cho máy đó.\\nNhà ai không có máy nhào bánh mì (như nhà mình đây) thì tất cả phụ thuộc vào cảm nhận của 2 bàn tay. Khó có thể nói nhào bao nhiêu phút là được vì mỗi người có lực và tốc độ nhào khác nhau.\\nDo đó dù nhào bằng máy hay bằng tay thì sự đánh giá bằng mắt và cảm nhận bằng tay vẫn là quan trọng nhất. Điều này sẽ đạt được khi làm nhiều và từ đó mà có nhiều kinh nghiệm. Khối bột được nhào đủ sẽ cho cảm giác trơn mịn, dẻo và dai, không dính.\\n2. Lên men và để bột nở\\nLên men là quá trình men tương tác với đường và tinh bột để sản sinh ra CO2 \\xa0 và cồn. Bột chưa lên men đủ sẽ không thể đạt được thể tích chuẩn, kết cấu bánh sẽ bị thô.\\nBột bị lên men ở nhiệt độ quá cao hoặc trong thời gian quá lâu sẽ trở nên dính, khó thao tác và hơi chua.\\n3. Gập hay đấm bột\\nSau khi quá trình lên men hoàn thành, khối bột cần được gập (truyền thống còn gọi là “đấm” bột) để làm khối bột đã nở xẹp xuống, tuy nhiên quá trình này không chỉ đơn thuần là động tác “đấm” vào khối bột mà còn là một chuỗi thao tác gập bột lại làm nhiều lần, nhằm mục đích loại bỏ khí CO2 \\xa0 , phân tán men và nhiệt độ đều hơn trong toàn khối bột.\\nVì thế có thể tưởng tượng giai đoạn này là các động tác kéo bột cho trải rộng ra rồi gập lại và ấn, lại kéo rộng khối bột lại gập lại ấn.\\n4. Chia bột\\nTùy theo độ lớn nhỏ chiếc bánh mì định làm mà chia khối bột to thành những khối bột nhỏ hơn có cân nặng bằng nhau. Thao tác này nên làm nhanh để tránh khối bột có thêm nhiều thời gian mà bị lên men quá đà.\\n5. Nặn tròn\\nSau khi chia bột thành những khối đều nhau, từng khối bột nhỏ được nặn thành những khối cầu, bề mặt nhẵn mịn. Đây cũng là hình dáng tạo điều kiện cho bột nở tốt nhất trong quá trình để bột nghỉ trước khi nướng.\\n6. Để bột nghỉ:\\nTừng khối bột tròn sẽ được để cho “nghỉ” 10-20 phút. Bột được đặt trên mặt phẳng, dùng dụng cụ nào đó như cái xoong, nồi, hộp để úp khối bột vào trong.\\n7. Tạo hình và chuyển ra khay nướng\\nCông đoạn này thì tùy vào loại bánh mì định làm, tùy sự sáng tạo và khéo léo để tạo ra những hình dạng bánh ngon mắt.\\n8. Proofing (mình không biết từ tiếng Việt tương đương)\\nĐây là công đoạn tiếp tục của quá trình lên men để làm khối bột nở đến thể tích chuẩn. Nhiệt độ quá trình proofing cao hơn quá trình lên men.\\nNhà mình hay cho khay bánh vào lò, lò bật khoảng 30 giây cho vừa đủ cao hơn nhiệt độ môi trường ngoài. Để bột bánh cho đến khi khối bột nở lên gấp đôi. Bột chưa nở đủ độ thì khi nướng xong, bánh mì sẽ bị đặc, rắn. Bột bị nở quá sẽ bị mất vị thơm và kết cấu bánh sẽ bị thô.\\n9. Nướng bánh\\na. Nhiệt độ lò và thời gian nướng.\\nTùy từng loại bánh, kích cỡ mà có thời gian nướng khác nhau. Dưới đây là vài nguyên tắc cơ bản để điều chỉnh nhiệt độ lò.\\n– Bánh cỡ to nướng ở nhiệt độ thấp hơn và thời gian dài hơn bánh cỡ nhỏ hoặc dài.\\n– Bánh mì ngọt hoặc có bơ đường được nướng ở thời gian thấp hơn để tránh bánh nhanh bị vàng và cháy.\\n– Bánh nướng đủ là khi vỏ bánh đạt được màu vàng nâu và khi bóp sẽ nghe những tiếng nổ giòn rất thích.\\nb. “Rửa” bột\\nThực chất đây là quá trình phết hoặc xịt lên mặt bột một loại chất lỏng nào đó, có thể là nước, trứng gà hoặc hỗn hợp tinh bột.\\n– Bánh mì có vỏ cứng thường được quết hoặc xịt nước lên mặt bánh, trong lò có hệ thống xịt nước trong quá trình nướng thì càng tốt. Hơi nước sẽ làm cho vỏ bánh không bị khô đi quá nhanh, vì thế đảm bảo được vỏ mỏng mà vẫn giòn.\\n– Trứng gà để tạo cho bề mặt bánh được nâu bóng, thường thấy với các loại bánh mì bơ ngọt.\\nc. Rạch bột\\nNhững đường rạch trên bánh có tác dụng làm bánh nở tốt hơn trong quá trình nướng. Thường thì có loại dao chuyên dụng để rạch thì đường rạch sẽ sắc nét và chuẩn hơn. Nhà mình không có, hay dùng dao lam, rạch hơi khổ và vì thế cũng hạn chế việc bánh nở làm bật lên đường rạch đẹp.\\nd. Cho bánh vào lò\\nBột sau khi proofing sẽ rất mềm vì vậy cần thao tác cẩn thận. Thường với bánh mỳ, khay nướng được ở rãnh thấp nhấp trong lòng.\\ne. Làm nguội\\nBánh nướng xong phải bỏ ra khỏi khay/khuôn nướng và làm nguội trên giá ngay.\\nĐó là toàn bộ các công đoạn để cho ra lò được 1 mẻ bánh mỳ. Làm bánh mì thực chất rất công phu, nhưng bù lại mùi thơm của bánh khi nướng lan tỏa khắp nhà, cái nhà thơm như cái lò bánh, nghĩ cũng thấy hay hay ^^', 'Bánh tart lê và kem hạnh nhân': '– 3 quả lê\\xa0 (loại vỏ vàng, thơm, không cần to quá, nhưng lê phải cứng, không bị dập)\\n– 1 tbs rượu brandy (vị đào là tốt nhất, nhưng không có nên mình dùng XO), nếu không có rượu thì dùng nước cũng được.\\n– 4 tbs. mứt mơ (hoặc đào)\\n* Cho phần almond cream:\\n– 115g almond nguyên hạt\\n– 50g đường (loại hạt nhỏ)\\n– 65g bơ\\n– 1 quả trứng + 1 lòng trắng', 'Trung Thu này .. làm bánh dẻo :)': 'Mình thích ăn bánh nướng, lý do duy nhất là vì nó không ngọt như vỏ bánh dẻo, thứ bánh mình vẫn hay kêu là sao mà ngọt khé cổ, sao mà phải làm ngọt thế để làm gì. Nhưng làm bánh nướng thực sự là một sự kì công. Muốn bánh đặc biệt ngon người ta phải thắng nước đường và để qua thời gian 1 năm, từ Trung Thu năm nay đến Trung Thu\\xa0 năm tới sẽ đem ra làm. Đấy là với những người phụ nữ chăm chỉ và đảm đang vẫn tự làm bánh mỗi năm thôi, còn bánh công nghiệp chắc chẳng được thế này đâu. Tuy rất muốn thử làm bánh nướng, nhưng ở đây không kiếm đủ được nguyên liệu nên đành thôi, tập làm bánh dẻo trước vậy.\\nLần đầu tiên làm nên mình cũng chẳng có kinh nghiệm gì, làm hỏng 1 mẻ bột phải bỏ đi. Sau đó làm 3 mẻ nữa rất ok, mỗi mẻ pha vỏ một màu, màu trắng truyền thống, màu xanh nhờ lá dứa, và màu hồng nhờ strawberry paste. Nhưng nhân thì chỉ có 1 loại là trà xanh. Nhân đậu đỏ thì lỡ làm nó mềm quá khó nặn thành viên nên không dùng làm nhân được. Lần này cũng là kỉ niệm đầu tiên của mình với việc dùng trứng muối. Từ bé đến giờ hôm nay mới đụng đến quả trứng muối “nguyên vỏ”, không biết làm nên cứ làm bừa, may mà đúng.\\nSau một hồi loay hoay nặn nặn, cán cán và đập đập cái khuôn gỗ ầm ĩ cả nhà thì cuối cùng cũng được một khay tạm chấp nhận được thế này (bị hụt 1 cái con xíu do anh ăn vụng)\\nSau khi dọn xong 1 bãi chiến trường thì ngồi hí hoáy gấp hộp giấy để đựng bánh đem tặng. Tuy rất muốn làm nhiều thêm nhưng làm xong 3 mẻ bột thì mình chóng mặt quá rồi nên đành có bấy nhiêu đây. Đây là 3 hộp quà tặng “bạn gái”, còn bạn trai thì chỉ cần số lượng thôi, không cần hoa lá cành 😛\\nTối nay ăn cơm xong thì cũng có “phá cỗ”, chỉ thiếu trông trăng thôi. Lại nhớ ngày xưa ngồi trên sân thượng thật cao, thật rộng, thật đông trẻ con trong xóm tụ tập, ăn “cỗ” thỏa thích rồi đi rước đèn. Mâm cỗ của mình năm nay đơn giản, nhưng cũng lại là lần đầu tiên có mâm cỗ trung thu kể từ khi sang đây. Chỉ có bưởi, và nhớ xiết bao hồng ngâm..\\nNhớ hồi năm 1, háo hức đi trung thu ở yunnan garden và cũng nhất định phải rước đèn lồng. Qua trung thu năm ấy vài ngày, ông thầy Mỹ\\xa0 “Clicker” của mình từ VN qua đem sang cho 1 hộp bánh Kinh đô 4 cái lận. Ông thầy thật chu đáo, trước khi đi VN đã hỏi mình có thích thầy đem gì qua cho không. Lần này, sau 3 năm thì mình đã có thể tự có bánh mình làm, tiếc là thầy không còn ở Sing để mời thầy. Trung thu năm nay cũng đi rước đèn ké, cũng viết và treo điều ước, cũng hí hoáy vẽ vẽ dán dán 1 chiếc đèn lồng.. và hy vọng.. hy vọng..\\nVà mong rằng tất cả mọi người đã có một Trung Thu thật ý nghĩ và hạnh phúc', 'Sữa và các sản phẩm từ sữa': 'Loại cheese phổ biến được làm từ sữa và sử dụng nhiều nhất trong làm bánh là cream cheese. Tiếp đó là các loại pho-mát của Ý cũng được sự dụng nhiều là Mascarpone, Ricotta.\\nNói về cheese thì lại là một chủ đề dài khác, bạn có thể tìm hiểu thêm trong bài viết mình đã chia sẻ: Phân biệt các loại cheese.\\nPhù, viết đến đây mình phải nghỉ tay, vào bếp lấy sữa ra pha ngay một ly cappuccino rồi mới ngồi làm việc tiếp được. Chúc các bạn vào bếp làm bánh thật vui nha ?', 'Khâu nhào trộn trong quá trình làm bánh mì': 'Trong bài viết này mình sẽ chia sẻ những hiểu biết thu lượm được về công đoạn nhào trộn các loại nguyên liệu với nhau.\\nCông đoạn nhào trộn là để thực hiện 3 mục đích:\\n– Kết hợp tất cả các loại nguyên liệu lại để thành một khối bột đồng nhất.\\n– Phân phối men đều trên toàn bộ khối bột.\\n– Tạo điều kiện cho gluten phát triển.\\nCó 3 phương pháp cơ bản được áp dụng với khối bột dùng men (để cho đơn giản hơn, ở đây mình sẽ dùng từ “bánh mì” để chỉ những “khối bột dùng men”)\\n1. Bánh mì nguyên:\\n– Làm mềm men với 1 ít nước:\\n+ Với men tươi (fresh yeast): lượng nước gấp 2 lượng men. Nhiệt độ nước lý tưởng là 38 độ C.\\n+ Với men khô (active dry yeast): lượng nước gấp 4 lần lượng men. Nhiệt độ nước lý tưởng là 43 độ C.\\n– Cho tất cả các nguyên liệu còn lại vào một bát trộn lớn, thêm men hòa nước, tránh không cho men tiếp xúc trực tiếp với muối ngay (vì thế, khi làm, L thường để muối riêng và trộn sau cùng sau khi đã hòa men nhuyễn vào bột).\\n– Nhào thành một khối bột đồng nhất.\\n2. Bánh mì ngọt:\\n– Làm mềm men (giống phương pháp trên).\\n– Kết hợp chất béo, đường, muối, sữa, hương liệu, trộn đều.\\n– Cho trứng vào từ từ.\\n– Cho chất lỏng và trộn nhanh tay.\\n– Cho bột khô và men. Trộn thành khối bột đồng nhất.\\n3. Bánh sponge:\\n– Kết hợp chất lỏng, men với 1 phần bột (đôi khi có thêm 1 phần đường), trộn thành một khối bột mềm và để cho khối bột này nở lên gấp đôi.\\n– Ép khí ra khỏi khối bột đã nở, cho phần bột còn lại và các nguyên liệu khác vào, nhào thành khối bột đồng nhất.\\n(Lược dịch từ Professional Baking của Wayne Gisslen)'}\n",
      "Not Found URLs: ['https://kokotaru.com/cach-che-bien-hat-dac-tuoi-dac-san-nha-trang/', 'https://kokotaru.com/banh-mi-nuong-trung-thit-hun-khoi/', 'https://kokotaru.com/poppy-seeds-quince-cake-banh-qua-quince-hat-poppy/', 'https://kokotaru.com/banh-he-nuong-chao/', 'https://kokotaru.com/cach-lam-hat-dac-rim-dua-thom/', 'https://kokotaru.com/banh-sinh-nhat-trang-tri-fondant-lam-theo-yeu-cau/', 'https://kokotaru.com/hinh-anh-va-ten-goi-cac-loai-khuon-dung-trong-lam-banh/', 'https://kokotaru.com/lam-banh-cho-nguoi-bi-tieu-duong/', 'https://kokotaru.com/cach-lam-sua-dau-phong-me-den/', 'https://kokotaru.com/cac-loai-kem-phu-icing-frosting/', 'https://kokotaru.com/phan-loai-lo-nuong-kinh-nghiem-su-dung-lo-nuong-gia-dinh/', 'https://kokotaru.com/cach-lam-banh-mi-gion-tan-cho-salad-va-sup-croutons/', 'https://kokotaru.com/cac-loai-rau-thom-va-cach-dung-trong-mon-an-viet/', 'https://kokotaru.com/ten-goi-va-cong-dung-cac-loai-dao-nha-bep/', 'https://kokotaru.com/cac-loai-duong-lam-banh/', 'https://kokotaru.com/cach-lam-che-dau-xanh-pho-tai/', 'https://kokotaru.com/cach-lam-dau-dua/', 'https://kokotaru.com/cach-lam-banh-cuon-bang-chao/', 'https://kokotaru.com/cach-lam-snack-cu-sen-an-vat-gion-tan/', 'https://kokotaru.com/cach-lam-sua-dau-nanh-la-dua/', 'https://kokotaru.com/cach-lam-sua-dau-nanh-me-den/', 'https://kokotaru.com/an-chay-va-suc-khoe-p3/', 'https://kokotaru.com/cach-lam-sua-dau-nanh-tai-nha/', 'https://kokotaru.com/an-chay-va-suc-khoe-phan-1/', 'https://kokotaru.com/nguyen-lieu-trong-am-thuc-nhat-ban/', 'https://kokotaru.com/nhin-an-va-suc-khoe/', 'https://kokotaru.com/tang-sach-cookbook-kokotaru-moi-xuat-ban/', 'https://kokotaru.com/cach-lam-socola-tinh-yeu-chocolate-hearts-with-nuts/', 'https://kokotaru.com/cach-lam-tart-chanh-vang-kem-tuoi/', 'https://kokotaru.com/cach-lam-cake-balls-cho-le-tinh-yeu-happy-valentine/', 'https://kokotaru.com/tang-them-100-cuon-sach-cookbook/', 'https://kokotaru.com/cach-lam-banh-quy-socola-dua-double-dark-chocolate-coconut-cookies/', 'https://kokotaru.com/cach-lam-che-sen-dau-xanh-long-nhan/', 'https://kokotaru.com/cach-lam-banh-mi-an-sang/', 'https://kokotaru.com/cach-lam-khoai-tay-chien-nuong-phomai/', 'https://kokotaru.com/cach-lam-cheesecake-dau-tay/', 'https://kokotaru.com/cach-lam-eclair-phu-chocolate/', 'https://kokotaru.com/cach-lam-banh-mi-bo-brioche-ngon-tuyet/', 'https://kokotaru.com/cach-lam-pizza-salami-pepperoni-va-ot-chuong/', 'https://kokotaru.com/cach-lam-banh-tart-chanh-qua-mam-xoi/', 'https://kokotaru.com/cach-lam-khoai-lang-ran-sweet-potato-chips/', 'https://kokotaru.com/banh-mi-tao-hinh/', 'https://kokotaru.com/cach-lam-che-dau-xanh-nha-dam/', 'https://kokotaru.com/cach-lam-banh-mi-nuong-trung-op-va-xuc-xich-duc/', 'https://kokotaru.com/cach-lam-banh-mi-goi/', 'https://kokotaru.com/cach-lam-khoai-tay-ran-potato-chips/', 'https://kokotaru.com/cach-lam-banh-pudding-banh-mi-vi-ruou-whiskey-bread-pudding/', 'https://kokotaru.com/cach-lam-dau-tay-boc-chocolate/', 'https://kokotaru.com/kokotaru-sinh-nhat-1-tuoi/', 'https://kokotaru.com/cach-lam-banh-mi-kep-xuc-xich/', 'https://kokotaru.com/cach-lam-sua-chua-cam-brulee/', 'https://kokotaru.com/cach-lam-pizza-voi-pepperoni-va-salami/', 'https://kokotaru.com/cach-lam-banh-chiffon-la-dua/', 'https://kokotaru.com/cach-lam-pizza-xuc-xich/', 'https://kokotaru.com/cach-lam-vo-wonton-mut-chanh-cam/', 'https://kokotaru.com/gioi-thieu-banh-mochi-kieu-nhat/', 'https://kokotaru.com/cung-lam-banh-troi-banh-chay/', 'https://kokotaru.com/cach-lam-tart-chanh-mini-va-hat-de-nuong/', 'https://kokotaru.com/cach-lam-can-tay-nhoi-blue-cheese/']\n",
      "Ingredients Dictionary Len: 33\n",
      "Not Found URLs Len: 59\n"
     ]
    },
    {
     "name": "stderr",
     "output_type": "stream",
     "text": [
      "\n"
     ]
    }
   ],
   "source": [
    "all_ingredients_type6, type_6_not_found = get_all_ingredients_from_urls(type_5_not_found, 6)\n",
    "print(\"Ingredients Dictionary:\", all_ingredients_type6)\n",
    "print(\"Not Found URLs:\", type_6_not_found)\n",
    "print(\"Ingredients Dictionary Len:\", len(all_ingredients_type6))\n",
    "print(\"Not Found URLs Len:\", len(type_6_not_found))"
   ]
  },
  {
   "cell_type": "code",
   "execution_count": 38,
   "metadata": {},
   "outputs": [
    {
     "name": "stderr",
     "output_type": "stream",
     "text": [
      "Page Loading: 100%|██████████| 59/59 [01:59<00:00,  2.03s/page]"
     ]
    },
    {
     "name": "stdout",
     "output_type": "stream",
     "text": [
      "Ingredients Dictionary: {}\n",
      "Not Found URLs: ['https://kokotaru.com/banh-mi-nuong-trung-thit-hun-khoi/', 'https://kokotaru.com/cach-che-bien-hat-dac-tuoi-dac-san-nha-trang/', 'https://kokotaru.com/poppy-seeds-quince-cake-banh-qua-quince-hat-poppy/', 'https://kokotaru.com/banh-he-nuong-chao/', 'https://kokotaru.com/hinh-anh-va-ten-goi-cac-loai-khuon-dung-trong-lam-banh/', 'https://kokotaru.com/banh-sinh-nhat-trang-tri-fondant-lam-theo-yeu-cau/', 'https://kokotaru.com/lam-banh-cho-nguoi-bi-tieu-duong/', 'https://kokotaru.com/cach-lam-hat-dac-rim-dua-thom/', 'https://kokotaru.com/cach-lam-sua-dau-phong-me-den/', 'https://kokotaru.com/cach-lam-banh-mi-gion-tan-cho-salad-va-sup-croutons/', 'https://kokotaru.com/cac-loai-kem-phu-icing-frosting/', 'https://kokotaru.com/phan-loai-lo-nuong-kinh-nghiem-su-dung-lo-nuong-gia-dinh/', 'https://kokotaru.com/cach-lam-che-dau-xanh-pho-tai/', 'https://kokotaru.com/ten-goi-va-cong-dung-cac-loai-dao-nha-bep/', 'https://kokotaru.com/cac-loai-duong-lam-banh/', 'https://kokotaru.com/cac-loai-rau-thom-va-cach-dung-trong-mon-an-viet/', 'https://kokotaru.com/cach-lam-banh-cuon-bang-chao/', 'https://kokotaru.com/cach-lam-dau-dua/', 'https://kokotaru.com/cach-lam-snack-cu-sen-an-vat-gion-tan/', 'https://kokotaru.com/cach-lam-sua-dau-nanh-me-den/', 'https://kokotaru.com/an-chay-va-suc-khoe-p3/', 'https://kokotaru.com/cach-lam-sua-dau-nanh-la-dua/', 'https://kokotaru.com/an-chay-va-suc-khoe-phan-1/', 'https://kokotaru.com/cach-lam-sua-dau-nanh-tai-nha/', 'https://kokotaru.com/nguyen-lieu-trong-am-thuc-nhat-ban/', 'https://kokotaru.com/cach-lam-socola-tinh-yeu-chocolate-hearts-with-nuts/', 'https://kokotaru.com/cach-lam-tart-chanh-vang-kem-tuoi/', 'https://kokotaru.com/nhin-an-va-suc-khoe/', 'https://kokotaru.com/cach-lam-banh-quy-socola-dua-double-dark-chocolate-coconut-cookies/', 'https://kokotaru.com/cach-lam-che-sen-dau-xanh-long-nhan/', 'https://kokotaru.com/tang-sach-cookbook-kokotaru-moi-xuat-ban/', 'https://kokotaru.com/cach-lam-khoai-tay-chien-nuong-phomai/', 'https://kokotaru.com/cach-lam-banh-mi-an-sang/', 'https://kokotaru.com/tang-them-100-cuon-sach-cookbook/', 'https://kokotaru.com/cach-lam-cheesecake-dau-tay/', 'https://kokotaru.com/cach-lam-eclair-phu-chocolate/', 'https://kokotaru.com/cach-lam-cake-balls-cho-le-tinh-yeu-happy-valentine/', 'https://kokotaru.com/cach-lam-banh-mi-bo-brioche-ngon-tuyet/', 'https://kokotaru.com/cach-lam-pizza-salami-pepperoni-va-ot-chuong/', 'https://kokotaru.com/cach-lam-khoai-lang-ran-sweet-potato-chips/', 'https://kokotaru.com/cach-lam-banh-tart-chanh-qua-mam-xoi/', 'https://kokotaru.com/banh-mi-tao-hinh/', 'https://kokotaru.com/cach-lam-banh-mi-nuong-trung-op-va-xuc-xich-duc/', 'https://kokotaru.com/cach-lam-che-dau-xanh-nha-dam/', 'https://kokotaru.com/cach-lam-khoai-tay-ran-potato-chips/', 'https://kokotaru.com/cach-lam-banh-pudding-banh-mi-vi-ruou-whiskey-bread-pudding/', 'https://kokotaru.com/cach-lam-banh-mi-goi/', 'https://kokotaru.com/cach-lam-dau-tay-boc-chocolate/', 'https://kokotaru.com/kokotaru-sinh-nhat-1-tuoi/', 'https://kokotaru.com/cach-lam-banh-mi-kep-xuc-xich/', 'https://kokotaru.com/cach-lam-sua-chua-cam-brulee/', 'https://kokotaru.com/gioi-thieu-banh-mochi-kieu-nhat/', 'https://kokotaru.com/cach-lam-pizza-voi-pepperoni-va-salami/', 'https://kokotaru.com/cach-lam-pizza-xuc-xich/', 'https://kokotaru.com/cach-lam-banh-chiffon-la-dua/', 'https://kokotaru.com/cung-lam-banh-troi-banh-chay/', 'https://kokotaru.com/cach-lam-tart-chanh-mini-va-hat-de-nuong/', 'https://kokotaru.com/cach-lam-vo-wonton-mut-chanh-cam/', 'https://kokotaru.com/cach-lam-can-tay-nhoi-blue-cheese/']\n",
      "Ingredients Dictionary Len: 0\n",
      "Not Found URLs Len: 59\n"
     ]
    },
    {
     "name": "stderr",
     "output_type": "stream",
     "text": [
      "\n"
     ]
    }
   ],
   "source": [
    "all_ingredients_type7, type_7_not_found = get_all_ingredients_from_urls(type_6_not_found, 7)\n",
    "print(\"Ingredients Dictionary:\", all_ingredients_type7)\n",
    "print(\"Not Found URLs:\", type_7_not_found)\n",
    "print(\"Ingredients Dictionary Len:\", len(all_ingredients_type7))\n",
    "print(\"Not Found URLs Len:\", len(type_7_not_found))"
   ]
  },
  {
   "cell_type": "markdown",
   "metadata": {},
   "source": [
    "### KITCHENART WEBSITE ARTICLE DATA PARSING"
   ]
  },
  {
   "cell_type": "code",
   "execution_count": 39,
   "metadata": {},
   "outputs": [],
   "source": [
    "def fetch_ingredients_and_title(url):\n",
    "    try:\n",
    "        response = requests.get(url, timeout=10)\n",
    "        \n",
    "        if response.status_code == 200:\n",
    "            soup = BeautifulSoup(response.content, \"html.parser\")\n",
    "            \n",
    "            title_tag = soup.find(\"div\", class_=\"post-header\").find(\"h1\")\n",
    "            title = title_tag.get_text().strip() if title_tag else \"Unknown Title\"\n",
    "            \n",
    "            ingredient_tags = soup.find_all(\"span\", class_=\"ingredient-item__title\")\n",
    "            ingredients = '***'.join(tag.get_text().strip() for tag in ingredient_tags)\n",
    "            \n",
    "            return title, ingredients\n",
    "        else:\n",
    "            return None, None\n",
    "    except requests.exceptions.RequestException:\n",
    "        return None, None\n",
    "\n",
    "def fetch_ingredients_from_multiple_urls(url_list):\n",
    "    all_ingredients = {}\n",
    "    failed_urls = []\n",
    "    \n",
    "    with ThreadPoolExecutor(max_workers=8) as executor:\n",
    "        with tqdm(total=len(url_list), desc=\"Fetching Ingredients\", unit=\"article\") as progress_bar:\n",
    "            future_to_url = {executor.submit(fetch_ingredients_and_title, url): url for url in url_list}\n",
    "            \n",
    "            for future in as_completed(future_to_url):\n",
    "                url = future_to_url[future]\n",
    "                title, ingredients = future.result()\n",
    "                \n",
    "                if title and ingredients:\n",
    "                    all_ingredients[title] = ingredients\n",
    "                else:\n",
    "                    failed_urls.append(url)\n",
    "                \n",
    "                progress_bar.update(1)\n",
    "                time.sleep(3)\n",
    "    \n",
    "    print(f\"\\nInitial fetch completed. Failed URLs: {len(failed_urls)}\")\n",
    "    \n",
    "    if failed_urls:\n",
    "        print(\"\\nRetrying failed URLs (1st attempt)...\")\n",
    "        retry_1_failed_urls = []\n",
    "        \n",
    "        with tqdm(total=len(failed_urls), desc=\"Retrying Failed URLs (1st attempt)\", unit=\"article\") as retry_progress_bar:\n",
    "            for url in failed_urls:\n",
    "                title, ingredients = fetch_ingredients_and_title(url)\n",
    "                \n",
    "                if title and ingredients:\n",
    "                    all_ingredients[title] = ingredients\n",
    "                else:\n",
    "                    retry_1_failed_urls.append(url)\n",
    "                \n",
    "                retry_progress_bar.update(1)\n",
    "                time.sleep(3)\n",
    "        \n",
    "        print(f\"\\n1st retry completed. Failed URLs after 1st retry: {len(retry_1_failed_urls)}\")\n",
    "    \n",
    "    if retry_1_failed_urls:\n",
    "        print(\"\\nRetrying failed URLs (2nd attempt)...\")\n",
    "        retry_2_failed_urls = []\n",
    "        \n",
    "        with tqdm(total=len(retry_1_failed_urls), desc=\"Retrying Failed URLs (2nd attempt)\", unit=\"article\") as retry_progress_bar:\n",
    "            for url in retry_1_failed_urls:\n",
    "                title, ingredients = fetch_ingredients_and_title(url)\n",
    "                \n",
    "                if title and ingredients:\n",
    "                    all_ingredients[title] = ingredients\n",
    "                else:\n",
    "                    retry_2_failed_urls.append(url)\n",
    "                \n",
    "                retry_progress_bar.update(1)\n",
    "                time.sleep(3)\n",
    "        \n",
    "        print(f\"\\n2nd retry completed. Final failed URLs: {len(retry_2_failed_urls)}\")\n",
    "    else:\n",
    "        retry_2_failed_urls = []\n",
    "\n",
    "    print(\"\\nFetching Completed\")\n",
    "    print(f\"Total successful pages: {len(all_ingredients)}\")\n",
    "    print(f\"Failed URLs after all retries: {len(retry_2_failed_urls)}\")\n",
    "    \n",
    "    if retry_2_failed_urls:\n",
    "        print(\"\\nFinal Failed URL List:\")\n",
    "        for failed_url in retry_2_failed_urls:\n",
    "            print(f\" - {failed_url}\")\n",
    "\n",
    "    return all_ingredients, retry_2_failed_urls"
   ]
  },
  {
   "cell_type": "code",
   "execution_count": 41,
   "metadata": {},
   "outputs": [
    {
     "name": "stderr",
     "output_type": "stream",
     "text": [
      "Fetching Ingredients: 100%|██████████| 25/25 [01:15<00:00,  3.01s/article]\n"
     ]
    },
    {
     "name": "stdout",
     "output_type": "stream",
     "text": [
      "\n",
      "Initial fetch completed. Failed URLs: 6\n",
      "\n",
      "Retrying failed URLs (1st attempt)...\n"
     ]
    },
    {
     "name": "stderr",
     "output_type": "stream",
     "text": [
      "Retrying Failed URLs (1st attempt): 100%|██████████| 6/6 [00:19<00:00,  3.29s/article]\n"
     ]
    },
    {
     "name": "stdout",
     "output_type": "stream",
     "text": [
      "\n",
      "1st retry completed. Failed URLs after 1st retry: 5\n",
      "\n",
      "Retrying failed URLs (2nd attempt)...\n"
     ]
    },
    {
     "name": "stderr",
     "output_type": "stream",
     "text": [
      "Retrying Failed URLs (2nd attempt): 100%|██████████| 5/5 [00:16<00:00,  3.23s/article]"
     ]
    },
    {
     "name": "stdout",
     "output_type": "stream",
     "text": [
      "\n",
      "2nd retry completed. Final failed URLs: 5\n",
      "\n",
      "Fetching Completed\n",
      "Total successful pages: 20\n",
      "Failed URLs after all retries: 5\n",
      "\n",
      "Final Failed URL List:\n",
      " - https://cook.kitchenart.vn/cong-thuc-nau-an/thit-kho-tieu-cay-nong-dam-vi-mon-an-khong-the-buong-dua-ngay-dong/\n",
      " - https://cook.kitchenart.vn/cong-thuc-nau-an/banh-tortilla-phu-trung-nuong-bua-sang-nhanh-gon-du-chat-va-vo-cung-thom-ngon/\n",
      " - https://cook.kitchenart.vn/cong-thuc-nau-an/khoai-tay-tam-gia-vi-nuong-kieu-au/\n",
      " - https://cook.kitchenart.vn/cong-thuc-nau-an/cach-lam-canh-dau-phu-cay-kieu-han/\n",
      " - https://cook.kitchenart.vn/cong-thuc-nau-an/cach-lam-hat-de-ngao-mat-ong-dac-san-khong-the-thieu-vao-mua-dong/\n"
     ]
    },
    {
     "name": "stderr",
     "output_type": "stream",
     "text": [
      "\n"
     ]
    }
   ],
   "source": [
    "url_list = read_from_file('Tesing/kitchenart_article_urls_first_25.txt', 'r_b_line')\n",
    "all_ingredients, failed_urls = fetch_ingredients_from_multiple_urls(url_list)"
   ]
  },
  {
   "cell_type": "code",
   "execution_count": 42,
   "metadata": {},
   "outputs": [
    {
     "name": "stdout",
     "output_type": "stream",
     "text": [
      "\n",
      "Ingredients for Vịt Om Sấu – Món Ăn Bất Chấp Mọi Thời Tiết  Khiến Bao Người Mê Mẩn Dù Đông Hay Hè:\n",
      "1 con vịt (làm sạch, chặt nhỏ)***2 củ tỏi băm nhỏ***2 củ hành tím băm nhỏ***3 tbs dầu hào***2 tsp muối***1 tsp tiêu xay***1 tbs đường***1 tbs dầu ăn***10-15 quả sấu chín***1,5L nước (có thể dùng nước ninh xương hoặc nước dừa)***20ml nước cốt dừa (nếu dùng nước dừa thì bỏ qua)***15-20 củ khoai sọ (gọt vỏ, bổ đôi)***Rau muống***Rau húng, mùi tàu ăn kèm***Bún tươi\n",
      "\n",
      "Ingredients for Bánh Mì Cuộn Phô Mai Chiên Xù Giòn Rụm Bên Ngoài, Tan Chảy Bên Trong:\n",
      "6 lát bánh mì sandwich***50g phô mai creamcheese***50g phô mai mozzarella***2 quả trứng (đánh tan)***50g bột chiên xù\n",
      "\n",
      "Ingredients for Đổi Vị Với Phở Gà Trộn Lạ Miệng, Thơm Ngon Ăn Mãi Mà Không Thấy Ngán:\n",
      "½ con gà ta***1 miếng gừng nhỏ (nạo vỏ, đập dập)***250ml nước***1 tsb muối***2 tbs xì dầu***2 tbs đường***1 tsp giấm tỏi***1 củ hành tây***500g bánh phở tươi***1 nắm giá***Rau mùi, hành lá***Hành phi***Lạc rang\n",
      "\n",
      "Ingredients for Khoai Tây Nướng Hasselback Kiểu Thuỵ Điển Đơn Giản, Hấp Dẫn Và Đầy Mê Hoặc:\n",
      "5-7 củ khoai tây cỡ nhỏ vừa***40g bơ nhạt***2 nhánh tỏi băm nhỏ***Hương thảo tươi***Muối, tiêu\n",
      "\n",
      "Ingredients for Mì Ý Thịt Viên Sốt Cà Chua Nữ Hoàng Của Nền Ẩm Thực Nước Ý:\n",
      "250g mì***500ml nước***½ tsp muối***40g bơ nhạt (chia đôi)***200g thịt bò xay***200g thịt lợn xay***1 củ hành tây (băm nhỏ, chia đôi)***2 củ tỏi (bóc vỏ, băm nhỏ, chia đôi)***20g bột chiên xù***1 tsb muối***½ tsp tiêu xay***½ tsp pasley khô***2 quả trứng***5 quả cà chua (lột vỏ, băm nhỏ)***1 củ cà rốt nhỏ (gọt vỏ, băm nhỏ)***30g tomato paste (sốt cà chua cô đặc)***2 tsp muối***1 tsp tiêu xay***1 tbs đường***20g phô mai parmesan\n",
      "\n",
      "Ingredients for Cách Làm Gà Bỏ Lò – Món Ăn Không Thể Thiếu Trong Ngày Giáng Sinh:\n",
      "1 con gà (cỡ 1,5kg)***2 tsp muối***1 tsp tiêu xay***1 tsp bột ớt paprika***2 nhánh tỏi băm nhỏ***150g sữa chua Hy Lạp***vỏ 1 quả chanh vàng bào mỏng***500g khoai tây baby***500g cà rốt baby (hoặc cà rốt cắt miếng vừa)***1 cây súp lơ\n",
      "\n",
      "Ingredients for Mì Spaghetti Tôm Sốt Kem Cà Chua Chua Dịu, Ngậy Béo, Đậm Đà Và Cực Thơm Ngon:\n",
      "1 tbs bơ nhạt***½ củ hành tây (gọt vỏ, băm miếng nhỏ)***2 nhánh tỏi băm nhỏ***10 con tôm tươi (bóc vỏ, làm sạch)***10 nấm hương tươi (hoặc nấm mỡ)***4 tbs sốt cà chua cô đặc (tomato paste)***250 ml kem chua (souscream)***1 tsp oregano khô***250g mì spaghetti***100ml nước luộc mì***1 tsp muối***½ tsp tiêu xay***1 tbs đường\n",
      "\n",
      "Ingredients for Cách làm chả cuốn lá xương sông – món ăn thơm lừng đầu đông:\n",
      "400g thịt heo xay***2 tbs nước hàng***2 tbs nước mắm***½ tsp tiêu xay***1 củ hành khô băm nhỏ***1 nắm lá xương sông***1 tbs dầu ăn\n",
      "\n",
      "Ingredients for Cách nấu cà ri gà xanh kiểu Thái thơm ngon chuẩn vị:\n",
      "2 đùi gà (làm sạch, chặt miếng vừa)***300ml nước cốt dừa***30ml sốt cà ri xanh***2 quả cà tím***1 nắm ngô bao tử***5ml dầu ăn***2 củ sả (đập dập, băm nhỏ)***1 củ hành tím (bóc vỏ, băm nhỏ)***1 củ tỏi (bóc vỏ, băm nhỏ)***1 ½ tsp muối\n",
      "\n",
      "Ingredients for Chả Ngan Nướng Thơm Lừng Và Ngon Miệng Hết Xảy:\n",
      "½ con ngan (lọc xương, thái miếng vừa)***2 tbs dầu hào***1 tbs đường***1 tsb muối***1 tsb tiêu***Riềng, sả, nghệ băm nhỏ***½ tsp ớt bột***Vừng rang***Rau sống ăn kèm: rau mùi tàu, húng, ngổ…***Nước mắm chua ngọt ăn kèm\n",
      "\n",
      "Ingredients for Cách làm gỏi ngan trộn đơn giản, chống ngán:\n",
      "1 miếng má đùi ngan***300ml nước***1 miếng gừng (nạo vỏ, đập dập)***1 tsp muối***30ml nước mắm***15g đường***1 quả chanh (vắt lấy nước)***3 nhánh tỏi (băm nhỏ)***1 quả ớt sừng (băm nhỏ)***1 quả dứa***1 quả dưa chuột***1 củ cà rốt***Lạc rang giã vụn***Rau mùi, mùi tàu, ngổ, húng\n",
      "\n",
      "Ingredients for Cách làm canh ngan hầm khoai sọ ngọt mềm, thơm ngon bất chấp mọi thời tiết:\n",
      "½ con ngan (làm sạch, chặt miếng vừa ăn)***1 tbs dầu ăn***1 củ hành (bóc vỏ, băm nhỏ)***1 củ tỏi (bóc vỏ, băm nhỏ)***1 miếng gừng (nạo vỏ, băm nhỏ)***10 củ khoai sọ (gọt vỏ, bổ đôi, ngâm nước)***1 tbs muối***1L nước***Hành lá, rau mùi, mùi tàu\n",
      "\n",
      "Ingredients for Cách Làm Món Canh Sườn Hầm Bí Đỏ Bổ Dưỡng:\n",
      "3 dẻ sườn non (rửa sạch, chặt miếng vừa)***300g bí đỏ (gọt vỏ, thái miếng vừa)***10 quả táo đỏ***1.2L nước***2 tsp muối***Rau mùi tươi\n",
      "\n",
      "Ingredients for Cách Làm Gà Rang Muối Chuẩn Ngoài Hàng Mà Chẳng Cần Chiên Ngập Dầu:\n",
      "2 đùi gà, 2 cánh gà làm sạch, chặt miếng nhỏ***1 tsp muối***½ tsp tiêu***½ tsp bột sả***½ tsp bột tỏi***50g bột ngô***¼ tsp bột ớt xay***30ml dầu ăn***10g bột rang muối***vài nhánh sả tươi\n",
      "\n",
      "Ingredients for Thịt Viên Xíu Mại Kiểu Đà Lạt – Bữa Sáng Gây Thương Nhớ Khôn Nguôi:\n",
      "700g thịt xay (chọn phần thịt dắt mỡ)***½ củ đậu (gọt vỏ, băm nhỏ)***½ củ cà rốt (gọt vỏ, băm nhỏ)***½ hành khô (gọt vỏ, băm nhỏ)***30g bột năng***1 quả trứng gà***2 tbs nước mắm***1 tsp tiêu xay***1 tbs đường***½ tsp bột tỏi***½ tsp bột sả***Lòng đỏ trứng muối (đã sơ chế, nướng hoặc hấp chín)***1 miếng da heo nhỏ (rửa sạch, thái miếng nhỏ)***1 bộ xương gà***1L nước***1 tbs muối***1 tbs dầu ăn***5 quả cà chua***1 tsp hạt điều***Hành lá, rau mùi\n",
      "\n",
      "Ingredients for Cách Làm Flan Bí Đỏ – Gấp Đôi Sự Thơm Ngon:\n",
      "200g bí đỏ***40g sữa đặc***2 quả trứng***1 lòng đỏ trứng***20g đường***200ml sữa tươi không đường***½ tsp bột quế***½ tsp tinh chất vani\n",
      "\n",
      "Ingredients for Cách Làm Mực Chiên Xù Giòn Rụm Không Dầu Mỡ Bằng Nồi Chiên Không Dầu:\n",
      "2 con mực ống (làm sạch, cắt thành từng khoanh nhỏ)***50g bột mì***1 quả trứng***40ml nước***100g bột chiên xù***1/s tsp lá thơm oregano\n",
      "\n",
      "Ingredients for Cách Làm Bí Đỏ Chiên Giòn Thơm Ngon, Lạ Miệng Bằng Nồi Chiên Không Dầu:\n",
      "1 quả bí đỏ (gọt vỏ, thái miếng nhỏ)***50g bột mì***20g bột custard***30ml nước***1 quả trứng gà (đánh tan)***50g bột chiên xù***Rau mùi băm nhỏ\n",
      "\n",
      "Ingredients for Cách Làm Váng Đậu Cuộn Thịt Hấp Xì Dầu:\n",
      "2 miếng váng đậu***200g thịt heo xay***1 củ đậu***1 củ hành tím***1 củ hành tây***1 nắm nhỏ nấm kim châm***1 tbs nước mắm***½ tsp tiêu xay***Hành lá***1 tbs dầu ăn***2 tbs dầu hào***2 tbs hắc xì dầu***1 tbs đường***30ml nước\n",
      "\n",
      "Ingredients for Cách Làm Món Bắp Cải Cuộn Thịt – “Nâng Cấp” Những Nguyên Liệu Đơn Thuần, Quen Thuộc Thành Món Ăn Mới Lạ Và Cực Hấp Dẫn:\n",
      "1 bắp cải cỡ lớn***400g thịt lợn xay***50g nấm hương khô (rửa sạch, ngâm nước)***2 tbs nước mắm***1 tsb muối***5 quả cà chua***1 tbs dầu ăn***50ml nước\n"
     ]
    }
   ],
   "source": [
    "for url, ingredients in all_ingredients.items():\n",
    "    print(f\"\\nIngredients for {url}:\")\n",
    "    print(ingredients)"
   ]
  },
  {
   "cell_type": "code",
   "execution_count": null,
   "metadata": {},
   "outputs": [],
   "source": []
  }
 ],
 "metadata": {
  "kernelspec": {
   "display_name": "Python 3",
   "language": "python",
   "name": "python3"
  },
  "language_info": {
   "codemirror_mode": {
    "name": "ipython",
    "version": 3
   },
   "file_extension": ".py",
   "mimetype": "text/x-python",
   "name": "python",
   "nbconvert_exporter": "python",
   "pygments_lexer": "ipython3",
   "version": "3.12.5"
  }
 },
 "nbformat": 4,
 "nbformat_minor": 2
}
