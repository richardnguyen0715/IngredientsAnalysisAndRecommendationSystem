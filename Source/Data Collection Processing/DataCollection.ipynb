{
 "cells": [
  {
   "cell_type": "markdown",
   "metadata": {},
   "source": [
    "## Data Collection Task"
   ]
  },
  {
   "cell_type": "markdown",
   "metadata": {},
   "source": [
    "### Mô tả công việc:\n",
    "1. Trang web cào dữ liệu:\\\n",
    "   a. [kokotaru](https://kokotaru.com/) - Tổng: ~ 500 Bài viết.\\\n",
    "   b. [kitchenart](https://cook.kitchenart.vn/cong-thuc-nau-an/) - Tổng: ~ 800 bài viết.\n",
    "2. Dữ liệu cần cào:\n",
    "\n",
    "   | Tên món ăn | Các thành phần chính |\n",
    "   | -----------| ---------------------|"
   ]
  },
  {
   "cell_type": "markdown",
   "metadata": {},
   "source": [
    "### Cài đặt thư viện"
   ]
  },
  {
   "cell_type": "code",
   "execution_count": null,
   "metadata": {},
   "outputs": [],
   "source": [
    "# !pip install bs4\n",
    "# !pip install selenium\n",
    "# !pip install numpy\n",
    "# !pip install pandas\n",
    "# !pip install requests\n",
    "# !pip install tqdm"
   ]
  },
  {
   "cell_type": "markdown",
   "metadata": {},
   "source": [
    "### Import các thư viện và các hàm dùng chung"
   ]
  },
  {
   "cell_type": "code",
   "execution_count": 1,
   "metadata": {},
   "outputs": [],
   "source": [
    "from Libraries_Used import *\n",
    "from Shared_Functions import *"
   ]
  },
  {
   "cell_type": "markdown",
   "metadata": {},
   "source": [
    "### **Nhận xét:**\n",
    "Vì hai trang web này có cách hoạt động và tương tác khác nhau cho nên sẽ có 2 phần thu thập thông tin riêng biệt.\n",
    "1. **Kokotaru:** Tương tác cuộn chuột để load thêm các bài viết.\n",
    "2. **Kitchenart:** Phân ra các trang riêng biệt, mỗi trang gồm 20 bài viết."
   ]
  },
  {
   "cell_type": "markdown",
   "metadata": {},
   "source": [
    "### KOKOTARU WEBSITE ARTICLE URLS PARSING"
   ]
  },
  {
   "cell_type": "markdown",
   "metadata": {},
   "source": [
    "#### Tương tác:\n",
    "* Load page theo thao tác cuộn chuột của người dùng.\n",
    "#### Mô tả:\n",
    "* Tất cả bài viết được tập hợp chung ở một link homepage của kokotaru."
   ]
  },
  {
   "cell_type": "markdown",
   "metadata": {},
   "source": [
    "### **Bước 1: Lấy ra nội dung của trang web bằng thư viện Selenium.**"
   ]
  },
  {
   "cell_type": "markdown",
   "metadata": {},
   "source": [
    "* Định dạng đường dẫn cơ bản"
   ]
  },
  {
   "cell_type": "code",
   "execution_count": null,
   "metadata": {},
   "outputs": [],
   "source": [
    "KOKOTARU_BASE_URL = 'https://kokotaru.com/'"
   ]
  },
  {
   "cell_type": "markdown",
   "metadata": {},
   "source": [
    "**Bước 1.1:** Tạo selenium chrome browser.\\\n",
    "**Bước 1.2:** Cho trang load hết tất cả nội dung."
   ]
  },
  {
   "cell_type": "code",
   "execution_count": null,
   "metadata": {},
   "outputs": [],
   "source": [
    "def kokotaru_page_loader(BASE_URL: str = KOKOTARU_BASE_URL) -> str:\n",
    "    \n",
    "    driver = webdriver.Chrome()\n",
    "\n",
    "    driver.get(BASE_URL)\n",
    "\n",
    "    last_height = driver.execute_script(\"return document.body.scrollHeight\")\n",
    "    \n",
    "    progress_bar = tqdm(desc=\"Scrolling\", ncols=100, leave=True, unit=\"lần\")\n",
    "\n",
    "    while True:\n",
    "        driver.execute_script(\"window.scrollTo(0, document.body.scrollHeight);\")\n",
    "        time.sleep(2)\n",
    "\n",
    "        new_height = driver.execute_script(\"return document.body.scrollHeight\")\n",
    "        \n",
    "        progress_bar.update(1)\n",
    "        \n",
    "        if new_height == last_height:\n",
    "            break\n",
    "        \n",
    "        last_height = new_height\n",
    "\n",
    "    html_content = driver.page_source\n",
    "\n",
    "    driver.quit()\n",
    "    \n",
    "    progress_bar.close() \n",
    "    print(\"Parsing completed.\")\n",
    "    \n",
    "    return html_content"
   ]
  },
  {
   "cell_type": "code",
   "execution_count": null,
   "metadata": {},
   "outputs": [],
   "source": [
    "kokotaru_html = kokotaru_page_loader(KOKOTARU_BASE_URL)"
   ]
  },
  {
   "cell_type": "markdown",
   "metadata": {},
   "source": [
    "**Bước 1.3:** Lấy nội dung cho vào `kokotaru_html_content.html`"
   ]
  },
  {
   "cell_type": "code",
   "execution_count": null,
   "metadata": {},
   "outputs": [],
   "source": [
    "write_to_file(\"Assert/kokotaru_html_content.html\",kokotaru_html, 'w_b_str')"
   ]
  },
  {
   "cell_type": "markdown",
   "metadata": {},
   "source": [
    "#### **Bước 2: Lấy ra các link bài viết có trong homepage**"
   ]
  },
  {
   "cell_type": "code",
   "execution_count": null,
   "metadata": {},
   "outputs": [],
   "source": [
    "kokotaru_content = read_from_file(\"Assert/kokotaru_html_content.html\", 'r_b_str')"
   ]
  },
  {
   "cell_type": "code",
   "execution_count": null,
   "metadata": {},
   "outputs": [],
   "source": [
    "def get_kokotaru_articles_urls(html_content) -> list:\n",
    "    urls = []\n",
    "    soup = BeautifulSoup(html_content, 'html.parser')\n",
    "    article_headers = soup.find_all(\"article\", { \"class\" : \"entry-preview\" })\n",
    "    for header in article_headers:\n",
    "        found = header.find('a', class_='cs-overlay-link')\n",
    "        url = found['href'] if found else None\n",
    "        if url is not None:\n",
    "            urls.append(url)\n",
    "    return urls\n",
    "\n",
    "kokotaru_article_urls = get_kokotaru_articles_urls(kokotaru_content)\n"
   ]
  },
  {
   "cell_type": "markdown",
   "metadata": {},
   "source": [
    "Ghi lại các link urls lấy được vào trong `kokotaru_aricle_urls.txt`"
   ]
  },
  {
   "cell_type": "code",
   "execution_count": null,
   "metadata": {},
   "outputs": [],
   "source": [
    "write_to_file('Assert/kokotaru_aricle_urls.txt', kokotaru_article_urls, 'w_b_element')"
   ]
  },
  {
   "cell_type": "markdown",
   "metadata": {},
   "source": [
    "### KITCHENART WEBSITE PARSING"
   ]
  },
  {
   "cell_type": "markdown",
   "metadata": {},
   "source": [
    "#### Tương tác:\n",
    "* Phân trang tổng hợp.\n",
    "#### Mô tả:\n",
    "* Mỗi trang gồm 20 bài viết."
   ]
  },
  {
   "cell_type": "markdown",
   "metadata": {},
   "source": [
    "### **Bước 1: Lấy ra các urls dẫn đến các bài viết có trong trang hiện tại**"
   ]
  },
  {
   "cell_type": "code",
   "execution_count": 2,
   "metadata": {},
   "outputs": [],
   "source": [
    "def kitchenart_article_urls_onepage(page_url: str) -> list:\n",
    "    u_list = []\n",
    "\n",
    "    response = requests.get(page_url)\n",
    "    \n",
    "    if response.status_code == 200:\n",
    "        try:\n",
    "            soup = BeautifulSoup(response.content, \"html.parser\")\n",
    "            \n",
    "            articles_list = soup.find_all(\"a\", {\"class\": \"recipe-card__title-link\"})\n",
    "            \n",
    "            for article in articles_list:\n",
    "                link = article.get('href') if article.get('href') else None\n",
    "                if link is not None:\n",
    "                    u_list.append(link)\n",
    "        \n",
    "        except Exception as err:\n",
    "            print(f'Requests error: {err}')\n",
    "    else:\n",
    "        print(f\"Failed to access {page_url}. Status code: {response.status_code}\")\n",
    "    \n",
    "    \n",
    "    return u_list"
   ]
  },
  {
   "cell_type": "markdown",
   "metadata": {},
   "source": [
    "### **Bước 2: Lấy ra url dẫn đến trang tiếp theo**"
   ]
  },
  {
   "cell_type": "code",
   "execution_count": 3,
   "metadata": {},
   "outputs": [],
   "source": [
    "def kitchenart_find_next_page_url(current_page: str) -> str:\n",
    "    \n",
    "    next_page = \"\"\n",
    "    \n",
    "    response = requests.get(current_page)\n",
    "    \n",
    "    if response.status_code == 200:\n",
    "        try:\n",
    "            soup = BeautifulSoup(response.content,\"html.parser\")\n",
    "\n",
    "            link_found = soup.find(\"a\", {\"class\" : \"next page-numbers\"}) if soup.find(\"a\", {\"class\" : \"next page-numbers\"}) else None\n",
    "                \n",
    "            if link_found is not None:\n",
    "                \n",
    "                next_page = link_found.get(\"href\")\n",
    "            \n",
    "        except Exception as err:\n",
    "            print(f'Requests error: {err}')\n",
    "    else:\n",
    "        print(f\"Failed to access {current_page}. Status code: {response.status_code}\")\n",
    "        \n",
    "    return next_page"
   ]
  },
  {
   "cell_type": "markdown",
   "metadata": {},
   "source": [
    "### **Bước 3: Lấy ra tất cả các urls bài viết trong tất cả các trang hiện có**"
   ]
  },
  {
   "cell_type": "code",
   "execution_count": 4,
   "metadata": {},
   "outputs": [],
   "source": [
    "KITCHENART_BASE_URL = 'https://cook.kitchenart.vn/cong-thuc-nau-an/'"
   ]
  },
  {
   "cell_type": "code",
   "execution_count": 5,
   "metadata": {},
   "outputs": [],
   "source": [
    "def find_all_article_urls_in_all_pages(first_url: str) -> list:\n",
    "    u_list = []\n",
    "    current_page = first_url\n",
    "    page_counter = 1\n",
    "    progress_bar = tqdm(desc=\"Page Loading\", unit=\"page\", initial=1)\n",
    "    \n",
    "    while current_page:\n",
    "        tmp_url_list = kitchenart_article_urls_onepage(current_page)\n",
    "        u_list.extend(tmp_url_list)\n",
    "        \n",
    "        next_page = kitchenart_find_next_page_url(current_page)\n",
    "        \n",
    "        if next_page == '':\n",
    "            break\n",
    "        \n",
    "        current_page = next_page\n",
    "        page_counter += 1\n",
    "        progress_bar.update(1)\n",
    "    \n",
    "    progress_bar.close()\n",
    "    return u_list"
   ]
  },
  {
   "cell_type": "markdown",
   "metadata": {},
   "source": [
    "### **Bước 4: Chạy chương trình để lấy ra tất cả các article urls**"
   ]
  },
  {
   "cell_type": "code",
   "execution_count": 6,
   "metadata": {},
   "outputs": [
    {
     "name": "stderr",
     "output_type": "stream",
     "text": [
      "Page Loading: 28page [00:19,  1.52page/s]"
     ]
    },
    {
     "name": "stdout",
     "output_type": "stream",
     "text": [
      "Failed to access https://cook.kitchenart.vn/cong-thuc-nau-an/page/28/. Status code: 520\n"
     ]
    },
    {
     "name": "stderr",
     "output_type": "stream",
     "text": [
      "Page Loading: 28page [00:19,  1.37page/s]"
     ]
    },
    {
     "name": "stdout",
     "output_type": "stream",
     "text": [
      "Failed to access https://cook.kitchenart.vn/cong-thuc-nau-an/page/28/. Status code: 403\n"
     ]
    },
    {
     "name": "stderr",
     "output_type": "stream",
     "text": [
      "\n"
     ]
    }
   ],
   "source": [
    "kitchenart_article_urls = find_all_article_urls_in_all_pages(KITCHENART_BASE_URL)"
   ]
  },
  {
   "cell_type": "markdown",
   "metadata": {},
   "source": [
    "**Bước 4.1:** Ghi các urls này vào file `kitchenart_article_urls.txt`"
   ]
  },
  {
   "cell_type": "code",
   "execution_count": 7,
   "metadata": {},
   "outputs": [],
   "source": [
    "write_to_file('Assert/kitchenart_aricle_urls.txt', kitchenart_article_urls, 'w_b_element')"
   ]
  }
 ],
 "metadata": {
  "kernelspec": {
   "display_name": "Python 3",
   "language": "python",
   "name": "python3"
  },
  "language_info": {
   "codemirror_mode": {
    "name": "ipython",
    "version": 3
   },
   "file_extension": ".py",
   "mimetype": "text/x-python",
   "name": "python",
   "nbconvert_exporter": "python",
   "pygments_lexer": "ipython3",
   "version": "3.12.5"
  }
 },
 "nbformat": 4,
 "nbformat_minor": 2
}
