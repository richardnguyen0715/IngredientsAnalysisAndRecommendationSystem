{
 "cells": [
  {
   "cell_type": "markdown",
   "metadata": {},
   "source": [
    "## **Introduction to Data Science - Nhập môn khoa học dữ liệu - CSC14119**\n",
    "### **HCMUS - Trường Đại học khoa học tự nhiên - Nov 2024.**\n",
    "### **Đồ án thực hành cuối kì - Handling Real-World Problem.**\n",
    "#### **Due:** 24/12/2024.\n",
    "#### **Lớp:** 22_21.\n",
    "#### **Giảng viên hướng dẫn:** Thầy Lê Ngọc Thành - Thầy Lê Nhựt Nam.\n",
    "#### **STT nhóm:** 9.\n",
    "---\n",
    "### **Data Modeling - 02**\n",
    "**Problem**: \\\n",
    "**Description**: \\\n",
    "**Solution**: "
   ]
  },
  {
   "cell_type": "markdown",
   "metadata": {},
   "source": []
  }
 ],
 "metadata": {
  "language_info": {
   "name": "python"
  }
 },
 "nbformat": 4,
 "nbformat_minor": 2
}
