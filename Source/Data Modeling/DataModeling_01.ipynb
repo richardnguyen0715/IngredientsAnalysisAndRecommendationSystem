{
 "cells": [
  {
   "cell_type": "markdown",
   "metadata": {},
   "source": [
    "## **Introduction to Data Science - Nhập môn khoa học dữ liệu - CSC14119**\n",
    "### **HCMUS - Trường Đại học khoa học tự nhiên - Nov 2024.**\n",
    "### **Đồ án thực hành cuối kì - Handling Real-World Problem.**\n",
    "#### **Due:** 24/12/2024.\n",
    "#### **Lớp:** 22_21.\n",
    "#### **Giảng viên hướng dẫn:** Thầy Lê Ngọc Thành - Thầy Lê Nhựt Nam.\n",
    "#### **STT nhóm:** 9.\n",
    "---\n",
    "### **Data Modeling - 01**\n",
    "**Problem**: Mô hình gợi ý gia vị thay thế, nguyên liệu.\\\n",
    "**Description**: Phát triển mô hình gợi ý gia vị, nguyên liệu thay thế dựa trên các món ăn tương tự hoặc các món sử dụng các gia vị, nguyên liệu gần giống nhau.\\\n",
    "**Solution**: Sử dụng kỹ thuật Collaborative Filtering."
   ]
  },
  {
   "cell_type": "markdown",
   "metadata": {},
   "source": [
    "**1. Import Libraries:**"
   ]
  },
  {
   "cell_type": "code",
   "execution_count": 1,
   "metadata": {},
   "outputs": [],
   "source": [
    "from Libraries_Used import *\n",
    "from Shared_Functions import *"
   ]
  },
  {
   "cell_type": "markdown",
   "metadata": {},
   "source": [
    "**2. Get the dataset:**"
   ]
  },
  {
   "cell_type": "code",
   "execution_count": 2,
   "metadata": {},
   "outputs": [
    {
     "data": {
      "text/html": [
       "<div>\n",
       "<style scoped>\n",
       "    .dataframe tbody tr th:only-of-type {\n",
       "        vertical-align: middle;\n",
       "    }\n",
       "\n",
       "    .dataframe tbody tr th {\n",
       "        vertical-align: top;\n",
       "    }\n",
       "\n",
       "    .dataframe thead th {\n",
       "        text-align: right;\n",
       "    }\n",
       "</style>\n",
       "<table border=\"1\" class=\"dataframe\">\n",
       "  <thead>\n",
       "    <tr style=\"text-align: right;\">\n",
       "      <th></th>\n",
       "      <th>Name of dish</th>\n",
       "      <th>active yeast</th>\n",
       "      <th>agave nectar</th>\n",
       "      <th>all-purpose flour</th>\n",
       "      <th>almond</th>\n",
       "      <th>almond extract</th>\n",
       "      <th>almond flour</th>\n",
       "      <th>almond milk</th>\n",
       "      <th>aloe vera</th>\n",
       "      <th>amaretto</th>\n",
       "      <th>...</th>\n",
       "      <th>yellow bell peppers</th>\n",
       "      <th>yellow lemon peel</th>\n",
       "      <th>yellow mustard</th>\n",
       "      <th>yellow pepper</th>\n",
       "      <th>yellow sweet potatoes</th>\n",
       "      <th>yogurt</th>\n",
       "      <th>yogurt drink</th>\n",
       "      <th>yuzu juice</th>\n",
       "      <th>yuzu sauce</th>\n",
       "      <th>zucchini</th>\n",
       "    </tr>\n",
       "  </thead>\n",
       "  <tbody>\n",
       "    <tr>\n",
       "      <th>0</th>\n",
       "      <td>Change the taste with strange and delicious mi...</td>\n",
       "      <td>0</td>\n",
       "      <td>0</td>\n",
       "      <td>0</td>\n",
       "      <td>0</td>\n",
       "      <td>0</td>\n",
       "      <td>0</td>\n",
       "      <td>0</td>\n",
       "      <td>0</td>\n",
       "      <td>0</td>\n",
       "      <td>...</td>\n",
       "      <td>0</td>\n",
       "      <td>0</td>\n",
       "      <td>0</td>\n",
       "      <td>0</td>\n",
       "      <td>0</td>\n",
       "      <td>0</td>\n",
       "      <td>0</td>\n",
       "      <td>0</td>\n",
       "      <td>0</td>\n",
       "      <td>0</td>\n",
       "    </tr>\n",
       "    <tr>\n",
       "      <th>1</th>\n",
       "      <td>Spaghetti with Meatballs in Tomato Sauce, Quee...</td>\n",
       "      <td>0</td>\n",
       "      <td>0</td>\n",
       "      <td>0</td>\n",
       "      <td>0</td>\n",
       "      <td>0</td>\n",
       "      <td>0</td>\n",
       "      <td>0</td>\n",
       "      <td>0</td>\n",
       "      <td>0</td>\n",
       "      <td>...</td>\n",
       "      <td>0</td>\n",
       "      <td>0</td>\n",
       "      <td>0</td>\n",
       "      <td>0</td>\n",
       "      <td>0</td>\n",
       "      <td>0</td>\n",
       "      <td>0</td>\n",
       "      <td>0</td>\n",
       "      <td>0</td>\n",
       "      <td>0</td>\n",
       "    </tr>\n",
       "  </tbody>\n",
       "</table>\n",
       "<p>2 rows × 803 columns</p>\n",
       "</div>"
      ],
      "text/plain": [
       "                                        Name of dish  active yeast  \\\n",
       "0  Change the taste with strange and delicious mi...             0   \n",
       "1  Spaghetti with Meatballs in Tomato Sauce, Quee...             0   \n",
       "\n",
       "   agave nectar  all-purpose flour  almond  almond extract  almond flour  \\\n",
       "0             0                  0       0               0             0   \n",
       "1             0                  0       0               0             0   \n",
       "\n",
       "   almond milk  aloe vera  amaretto  ...  yellow bell peppers  \\\n",
       "0            0          0         0  ...                    0   \n",
       "1            0          0         0  ...                    0   \n",
       "\n",
       "   yellow lemon peel  yellow mustard  yellow pepper  yellow sweet potatoes  \\\n",
       "0                  0               0              0                      0   \n",
       "1                  0               0              0                      0   \n",
       "\n",
       "   yogurt  yogurt drink  yuzu juice  yuzu sauce  zucchini  \n",
       "0       0             0           0           0         0  \n",
       "1       0             0           0           0         0  \n",
       "\n",
       "[2 rows x 803 columns]"
      ]
     },
     "execution_count": 2,
     "metadata": {},
     "output_type": "execute_result"
    }
   ],
   "source": [
    "path = os.path.join('..', 'Assert', 'ingredients.csv')\n",
    "data = pd.read_csv(path)\n",
    "init_df = deepcopy(data)\n",
    "data.head(2)"
   ]
  },
  {
   "cell_type": "markdown",
   "metadata": {},
   "source": [
    "**3. Drop the \"Name of dish\" column:**"
   ]
  },
  {
   "cell_type": "code",
   "execution_count": 3,
   "metadata": {},
   "outputs": [
    {
     "data": {
      "text/html": [
       "<div>\n",
       "<style scoped>\n",
       "    .dataframe tbody tr th:only-of-type {\n",
       "        vertical-align: middle;\n",
       "    }\n",
       "\n",
       "    .dataframe tbody tr th {\n",
       "        vertical-align: top;\n",
       "    }\n",
       "\n",
       "    .dataframe thead th {\n",
       "        text-align: right;\n",
       "    }\n",
       "</style>\n",
       "<table border=\"1\" class=\"dataframe\">\n",
       "  <thead>\n",
       "    <tr style=\"text-align: right;\">\n",
       "      <th></th>\n",
       "      <th>active yeast</th>\n",
       "      <th>agave nectar</th>\n",
       "      <th>all-purpose flour</th>\n",
       "      <th>almond</th>\n",
       "      <th>almond extract</th>\n",
       "      <th>almond flour</th>\n",
       "      <th>almond milk</th>\n",
       "      <th>aloe vera</th>\n",
       "      <th>amaretto</th>\n",
       "      <th>american beef belly</th>\n",
       "      <th>...</th>\n",
       "      <th>yellow bell peppers</th>\n",
       "      <th>yellow lemon peel</th>\n",
       "      <th>yellow mustard</th>\n",
       "      <th>yellow pepper</th>\n",
       "      <th>yellow sweet potatoes</th>\n",
       "      <th>yogurt</th>\n",
       "      <th>yogurt drink</th>\n",
       "      <th>yuzu juice</th>\n",
       "      <th>yuzu sauce</th>\n",
       "      <th>zucchini</th>\n",
       "    </tr>\n",
       "  </thead>\n",
       "  <tbody>\n",
       "    <tr>\n",
       "      <th>0</th>\n",
       "      <td>0</td>\n",
       "      <td>0</td>\n",
       "      <td>0</td>\n",
       "      <td>0</td>\n",
       "      <td>0</td>\n",
       "      <td>0</td>\n",
       "      <td>0</td>\n",
       "      <td>0</td>\n",
       "      <td>0</td>\n",
       "      <td>0</td>\n",
       "      <td>...</td>\n",
       "      <td>0</td>\n",
       "      <td>0</td>\n",
       "      <td>0</td>\n",
       "      <td>0</td>\n",
       "      <td>0</td>\n",
       "      <td>0</td>\n",
       "      <td>0</td>\n",
       "      <td>0</td>\n",
       "      <td>0</td>\n",
       "      <td>0</td>\n",
       "    </tr>\n",
       "    <tr>\n",
       "      <th>1</th>\n",
       "      <td>0</td>\n",
       "      <td>0</td>\n",
       "      <td>0</td>\n",
       "      <td>0</td>\n",
       "      <td>0</td>\n",
       "      <td>0</td>\n",
       "      <td>0</td>\n",
       "      <td>0</td>\n",
       "      <td>0</td>\n",
       "      <td>0</td>\n",
       "      <td>...</td>\n",
       "      <td>0</td>\n",
       "      <td>0</td>\n",
       "      <td>0</td>\n",
       "      <td>0</td>\n",
       "      <td>0</td>\n",
       "      <td>0</td>\n",
       "      <td>0</td>\n",
       "      <td>0</td>\n",
       "      <td>0</td>\n",
       "      <td>0</td>\n",
       "    </tr>\n",
       "  </tbody>\n",
       "</table>\n",
       "<p>2 rows × 802 columns</p>\n",
       "</div>"
      ],
      "text/plain": [
       "   active yeast  agave nectar  all-purpose flour  almond  almond extract  \\\n",
       "0             0             0                  0       0               0   \n",
       "1             0             0                  0       0               0   \n",
       "\n",
       "   almond flour  almond milk  aloe vera  amaretto  american beef belly  ...  \\\n",
       "0             0            0          0         0                    0  ...   \n",
       "1             0            0          0         0                    0  ...   \n",
       "\n",
       "   yellow bell peppers  yellow lemon peel  yellow mustard  yellow pepper  \\\n",
       "0                    0                  0               0              0   \n",
       "1                    0                  0               0              0   \n",
       "\n",
       "   yellow sweet potatoes  yogurt  yogurt drink  yuzu juice  yuzu sauce  \\\n",
       "0                      0       0             0           0           0   \n",
       "1                      0       0             0           0           0   \n",
       "\n",
       "   zucchini  \n",
       "0         0  \n",
       "1         0  \n",
       "\n",
       "[2 rows x 802 columns]"
      ]
     },
     "execution_count": 3,
     "metadata": {},
     "output_type": "execute_result"
    }
   ],
   "source": [
    "data.drop(columns=['Name of dish'], inplace=True)\n",
    "data.head(2)"
   ]
  },
  {
   "cell_type": "markdown",
   "metadata": {},
   "source": [
    "**4. Check the shape of dataframe:**"
   ]
  },
  {
   "cell_type": "code",
   "execution_count": 4,
   "metadata": {},
   "outputs": [
    {
     "data": {
      "text/plain": [
       "(682, 802)"
      ]
     },
     "execution_count": 4,
     "metadata": {},
     "output_type": "execute_result"
    }
   ],
   "source": [
    "data.shape"
   ]
  },
  {
   "cell_type": "markdown",
   "metadata": {},
   "source": [
    "**5. Check the datatypes:**"
   ]
  },
  {
   "cell_type": "code",
   "execution_count": 5,
   "metadata": {},
   "outputs": [
    {
     "data": {
      "text/plain": [
       "active yeast         int64\n",
       "agave nectar         int64\n",
       "all-purpose flour    int64\n",
       "almond               int64\n",
       "almond extract       int64\n",
       "                     ...  \n",
       "yogurt               int64\n",
       "yogurt drink         int64\n",
       "yuzu juice           int64\n",
       "yuzu sauce           int64\n",
       "zucchini             int64\n",
       "Length: 802, dtype: object"
      ]
     },
     "execution_count": 5,
     "metadata": {},
     "output_type": "execute_result"
    }
   ],
   "source": [
    "data.dtypes"
   ]
  },
  {
   "cell_type": "markdown",
   "metadata": {},
   "source": [
    "---"
   ]
  },
  {
   "cell_type": "markdown",
   "metadata": {},
   "source": [
    "### **Model Building**"
   ]
  },
  {
   "cell_type": "code",
   "execution_count": 6,
   "metadata": {},
   "outputs": [],
   "source": [
    "from sklearn.preprocessing import MinMaxScaler\n",
    "from sklearn.metrics.pairwise import cosine_similarity\n",
    "from sklearn.model_selection import train_test_split\n",
    "from sklearn.neighbors import NearestNeighbors"
   ]
  },
  {
   "cell_type": "markdown",
   "metadata": {},
   "source": [
    "**1. Build Training Dataset and Test Dataset:**"
   ]
  },
  {
   "cell_type": "code",
   "execution_count": 7,
   "metadata": {},
   "outputs": [],
   "source": [
    "train_data, test_data = train_test_split(data, test_size=0.2, random_state=42)"
   ]
  },
  {
   "cell_type": "markdown",
   "metadata": {},
   "source": [
    "**2. Create the context for ingredients**"
   ]
  },
  {
   "cell_type": "code",
   "execution_count": 8,
   "metadata": {},
   "outputs": [],
   "source": [
    "pd.set_option('display.max_rows', None)\n",
    "path = os.path.join('..', 'Assert', 'Ingredient_Labels.csv')\n",
    "ingre_lb = pd.read_csv(path, header=None)\n",
    "ingre_lb = ingre_lb.transpose()\n",
    "ingre_lb.rename(columns= {0:'label'}, inplace=True)\n",
    "ingre_lb\n",
    "ingredients = ingre_lb['label'].tolist()"
   ]
  },
  {
   "cell_type": "code",
   "execution_count": 9,
   "metadata": {},
   "outputs": [],
   "source": [
    "url = \"http://localhost:1234/v1/chat/completions\"\n",
    "\n",
    "headers = {\n",
    "    \"Content-Type\": \"application/json\"\n",
    "}\n",
    "\n",
    "data = []"
   ]
  },
  {
   "cell_type": "code",
   "execution_count": null,
   "metadata": {},
   "outputs": [],
   "source": [
    "def fetch_response_for_ingredient(ingredient, url, headers):\n",
    "    payload = {\n",
    "        \"model\": \"qwen2.5-14b-instruct\",\n",
    "        \"messages\": [\n",
    "            {\n",
    "                \"role\": \"user\",\n",
    "                \"content\": (\n",
    "                    f\"Tell me the type, context, flavor, smell of {ingredient}. \"\n",
    "                    \"with knowledge that must be true to reality and must not be fabricated\"\n",
    "                    \"The result will be in the following format: \"\n",
    "                    \"\\\"type : your answer, context : your answer, flavor : your answer, smell : your answer\\\"; \"\n",
    "                    \"where type can only belong to one or more of the following factors ['Spice', 'Fruit', 'Vegetable', 'Dairy', 'Meat', 'Grain', 'Condiment', \"\n",
    "                    \"'Seafood', 'Herb', 'Nut', 'Sweetener', 'Oil', 'Beverage', 'Fermenting Agent', \"\n",
    "                    \"'Legume', 'Mushroom', 'Pasta', 'Bread', 'Sauce'], \"\n",
    "                    \"flavor can only belong to one or more of the following factors ['Sweet', 'Salty', 'Spicy', 'Bitter', 'Sour', 'Umami'], \"\n",
    "                    \"context can only belong to one or more of the following factors ['Binding', 'Thickening', 'Flavoring', 'Sweetening', 'Preserving', 'Topping', \"\n",
    "                    \"'Fermentation', 'Main Ingredient', 'Garnishing', 'Base', 'Tenderizing', 'Emulsifying', 'Coating', \"\n",
    "                    \"'Moisturizing', 'Coloring', 'Binding Agent'], \"\n",
    "                    \"smell can only belong to one or more of the following factors ['Sweet', 'Sour', 'Spicy', 'Bitter', 'Umami', 'Fruity', 'Nutty', 'Smoky', \"\n",
    "                    \"'Herbal', 'Earthy', 'Fishy', 'Yeasty', 'Citrusy', 'Milky', 'Pungent', 'Floral', 'Fresh', 'Savory', 'Neutral'].\" \n",
    "                    \"No need to add any other information such as notes or cautions.\"\n",
    "                )\n",
    "            }\n",
    "        ]\n",
    "    }\n",
    "\n",
    "    try:\n",
    "        response = requests.post(url, json=payload, headers=headers, timeout=30)\n",
    "        if response.status_code == 200:\n",
    "            reply = response.json()[\"choices\"][0][\"message\"][\"content\"]\n",
    "            return ingredient, reply\n",
    "        else:\n",
    "            return ingredient, None\n",
    "    except requests.exceptions.RequestException:\n",
    "        return ingredient, None\n",
    "\n",
    "\n",
    "def fetch_and_log_responses_batch(ingredients, url, headers, output_file=\"all_replies.txt\", batch_size=32, delay=2):\n",
    "    \n",
    "    failed_ingredients = []\n",
    "    \n",
    "    with open(output_file, \"w\", encoding=\"utf-8\") as reply_file:\n",
    "        with tqdm(total=len(ingredients), desc=\"Fetching Responses\", unit=\"ingredient\") as progress_bar:\n",
    "            for i in range(0, len(ingredients), batch_size):\n",
    "                batch = ingredients[i:i + batch_size]\n",
    "                \n",
    "                for ingredient in batch:\n",
    "                    try:\n",
    "                        ingredient, reply = fetch_response_for_ingredient(ingredient, url, headers)\n",
    "                        reply = reply.replace('\\'', '')\n",
    "                        if reply:\n",
    "                            reply_file.write(repr(reply) + \"\\n\\n\")\n",
    "                        else:\n",
    "                            failed_ingredients.append(ingredient)\n",
    "                    except Exception as e:\n",
    "                        failed_ingredients.append(ingredient)\n",
    "                    \n",
    "                    progress_bar.update(1)\n",
    "                    \n",
    "                    time.sleep(delay)\n",
    "    \n",
    "    # Report failed ingredients\n",
    "    if failed_ingredients:\n",
    "        print(\"\\nFailed to fetch responses for the following ingredients:\")\n",
    "        for ingredient in failed_ingredients:\n",
    "            print(f\" - {ingredient}\")\n",
    "    else:\n",
    "        print(\"\\nAll ingredients processed successfully!\")"
   ]
  },
  {
   "cell_type": "code",
   "execution_count": null,
   "metadata": {},
   "outputs": [],
   "source": [
    "def process_responses(input_file=\"all_replies.txt\", ingredients_list = None):\n",
    "\n",
    "    def extract_response(response_text):\n",
    "        try:\n",
    "            response_text = response_text.replace('\\\\n', ' ')\n",
    "            response_text = response_text.replace('\\'', '')\n",
    "\n",
    "            type_match = re.search(r\"type\\s*:\\s*([^:,]+(?:,[^:,]+)*)\", response_text, re.IGNORECASE)\n",
    "            context_match = re.search(r\"context\\s*:\\s*([^:,]+(?:,[^:,]+)*)\", response_text, re.IGNORECASE)\n",
    "            flavor_match = re.search(r\"flavor\\s*:\\s*([^:,]+(?:,[^:,]+)*)\", response_text, re.IGNORECASE)\n",
    "            smell_match = re.search(r\"smell\\s*:\\s*([^:,]+(?:,[^:,]+)*)\", response_text, re.IGNORECASE)\n",
    "\n",
    "            type_value = type_match.group(1).strip() if type_match else \"N/A\"\n",
    "            context_value = context_match.group(1).strip() if context_match else \"N/A\"\n",
    "            flavor_value = flavor_match.group(1).strip() if flavor_match else \"N/A\"\n",
    "            smell_value = smell_match.group(1).strip() if smell_match else \"N/A\"\n",
    "\n",
    "            return type_value, context_value, flavor_value, smell_value\n",
    "        except Exception as e:\n",
    "            return \"N/A\", \"N/A\", \"N/A\", \"N/A\"\n",
    "\n",
    "    data = []\n",
    "    with open(input_file, \"r\", encoding=\"utf-8\") as file:\n",
    "        responses = file.read().split(\"\\n\\n\")\n",
    "        for idx, response in enumerate(responses):\n",
    "            if response.strip(): \n",
    "                type_value, context_value, flavor_value, smell_value = extract_response(response)\n",
    "                ingredient_name = ingredients_list[idx] if ingredients_list and idx < len(ingredients_list) else \"Unknown\"\n",
    "                data.append({\n",
    "                    \"Ingredient\": ingredient_name,\n",
    "                    \"Type\": type_value,\n",
    "                    \"Context\": context_value,\n",
    "                    \"Flavor\": flavor_value,\n",
    "                    \"Smell\": smell_value\n",
    "                })\n",
    "\n",
    "    return pd.DataFrame(data)"
   ]
  },
  {
   "cell_type": "code",
   "execution_count": null,
   "metadata": {},
   "outputs": [
    {
     "name": "stderr",
     "output_type": "stream",
     "text": [
      "Fetching Responses: 100%|██████████| 802/802 [1:20:39<00:00,  6.03s/ingredient]"
     ]
    },
    {
     "name": "stdout",
     "output_type": "stream",
     "text": [
      "\n",
      "All ingredients processed successfully!\n",
      "Done! CSV file has been saved.\n"
     ]
    },
    {
     "name": "stderr",
     "output_type": "stream",
     "text": [
      "\n"
     ]
    }
   ],
   "source": [
    "# # Send request and write response to file\n",
    "# fetch_and_log_responses_batch(ingredients, url, headers, output_file=\"all_replies.txt\", batch_size=32, delay=2)\n",
    "\n",
    "# # Process responses from files\n",
    "# df = process_responses(\"all_replies.txt\", ingredients)\n",
    "\n",
    "# # Save results to CSV\n",
    "# df.to_csv(\"ingredients_analysis.csv\", index=False, encoding=\"utf-8-sig\")\n",
    "# print(\"Done! CSV file has been saved.\")"
   ]
  },
  {
   "cell_type": "markdown",
   "metadata": {},
   "source": [
    "**4. Pre-processing context.csv**"
   ]
  },
  {
   "cell_type": "code",
   "execution_count": null,
   "metadata": {},
   "outputs": [
    {
     "name": "stdout",
     "output_type": "stream",
     "text": [
      "            Ingredient              Type          Context   Flavor    Smell\n",
      "0         active yeast  Fermenting Agent     Fermentation    Umami   Yeasty\n",
      "1         agave nectar         Sweetener       Sweetening    Sweet   Floral\n",
      "2    all-purpose flour             Grain  Main Ingredient  Neutral  Neutral\n",
      "3               almond               Nut        Flavoring    Sweet    Nutty\n",
      "4       almond extract               Nut        Flavoring    Sweet    Nutty\n",
      "..                 ...               ...              ...      ...      ...\n",
      "797             yogurt             Dairy     Fermentation     Sour    Milky\n",
      "798       yogurt drink             Dairy     Fermentation     Sour    Milky\n",
      "799         yuzu juice             Fruit        Flavoring     Sour  Citrusy\n",
      "800         yuzu sauce             Sauce        Flavoring     Sour  Citrusy\n",
      "801           zucchini         Vegetable  Main Ingredient    Umami   Earthy\n",
      "\n",
      "[802 rows x 5 columns]\n"
     ]
    }
   ],
   "source": [
    "file_path = \"ingredients_analysis.csv\"\n",
    "df = pd.read_csv(file_path)\n",
    "\n",
    "def clean_column_values(value):\n",
    "    if pd.isnull(value):\n",
    "        return value\n",
    "    return re.sub(r'(,\\s*)?\\b(type|context|flavor|smell)\\b', '', value, flags=re.IGNORECASE).strip()\n",
    "\n",
    "for col in df.columns[1:]:\n",
    "    df[col] = df[col].apply(clean_column_values)\n",
    "\n",
    "df.to_csv(\"cleaned_ingredients_data.csv\", index=False, encoding=\"utf-8-sig\")\n",
    "\n",
    "print(df)\n"
   ]
  },
  {
   "cell_type": "markdown",
   "metadata": {},
   "source": [
    "---"
   ]
  },
  {
   "cell_type": "code",
   "execution_count": null,
   "metadata": {},
   "outputs": [],
   "source": []
  }
 ],
 "metadata": {
  "kernelspec": {
   "display_name": "Python 3",
   "language": "python",
   "name": "python3"
  },
  "language_info": {
   "codemirror_mode": {
    "name": "ipython",
    "version": 3
   },
   "file_extension": ".py",
   "mimetype": "text/x-python",
   "name": "python",
   "nbconvert_exporter": "python",
   "pygments_lexer": "ipython3",
   "version": "3.12.5"
  }
 },
 "nbformat": 4,
 "nbformat_minor": 2
}
