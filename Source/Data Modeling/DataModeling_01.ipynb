{
 "cells": [
  {
   "cell_type": "markdown",
   "metadata": {},
   "source": [
    "## **Introduction to Data Science - Nhập môn khoa học dữ liệu - CSC14119**\n",
    "### **HCMUS - Trường Đại học khoa học tự nhiên - Nov 2024.**\n",
    "### **Đồ án thực hành cuối kì - Handling Real-World Problem.**\n",
    "#### **Due:** 24/12/2024.\n",
    "#### **Lớp:** 22_21.\n",
    "#### **Giảng viên hướng dẫn:** Thầy Lê Ngọc Thành - Thầy Lê Nhựt Nam.\n",
    "#### **STT nhóm:** 9.\n",
    "---\n",
    "### **Data Modeling - 01**\n",
    "**Problem**: Mô hình gợi ý gia vị thay thế, nguyên liệu.\\\n",
    "**Description**: Phát triển mô hình gợi ý gia vị, nguyên liệu thay thế dựa trên các món ăn tương tự hoặc các món sử dụng các gia vị, nguyên liệu gần giống nhau.\\\n",
    "**Solution**: Sử dụng kỹ thuật Collaborative Filtering."
   ]
  },
  {
   "cell_type": "markdown",
   "metadata": {},
   "source": [
    "**1. Import Libraries:**"
   ]
  },
  {
   "cell_type": "code",
   "execution_count": 1,
   "metadata": {},
   "outputs": [],
   "source": [
    "from Libraries_Used import *\n",
    "from Shared_Functions import *"
   ]
  },
  {
   "cell_type": "markdown",
   "metadata": {},
   "source": [
    "**2. Get the dataset:**"
   ]
  },
  {
   "cell_type": "code",
   "execution_count": 2,
   "metadata": {},
   "outputs": [
    {
     "data": {
      "text/html": [
       "<div>\n",
       "<style scoped>\n",
       "    .dataframe tbody tr th:only-of-type {\n",
       "        vertical-align: middle;\n",
       "    }\n",
       "\n",
       "    .dataframe tbody tr th {\n",
       "        vertical-align: top;\n",
       "    }\n",
       "\n",
       "    .dataframe thead th {\n",
       "        text-align: right;\n",
       "    }\n",
       "</style>\n",
       "<table border=\"1\" class=\"dataframe\">\n",
       "  <thead>\n",
       "    <tr style=\"text-align: right;\">\n",
       "      <th></th>\n",
       "      <th>Name of dish</th>\n",
       "      <th>active yeast</th>\n",
       "      <th>agave nectar</th>\n",
       "      <th>all-purpose flour</th>\n",
       "      <th>almond</th>\n",
       "      <th>almond extract</th>\n",
       "      <th>almond flour</th>\n",
       "      <th>almond milk</th>\n",
       "      <th>aloe vera</th>\n",
       "      <th>amaretto</th>\n",
       "      <th>...</th>\n",
       "      <th>yellow bell peppers</th>\n",
       "      <th>yellow lemon peel</th>\n",
       "      <th>yellow mustard</th>\n",
       "      <th>yellow pepper</th>\n",
       "      <th>yellow sweet potatoes</th>\n",
       "      <th>yogurt</th>\n",
       "      <th>yogurt drink</th>\n",
       "      <th>yuzu juice</th>\n",
       "      <th>yuzu sauce</th>\n",
       "      <th>zucchini</th>\n",
       "    </tr>\n",
       "  </thead>\n",
       "  <tbody>\n",
       "    <tr>\n",
       "      <th>0</th>\n",
       "      <td>Change the taste with strange and delicious mi...</td>\n",
       "      <td>0</td>\n",
       "      <td>0</td>\n",
       "      <td>0</td>\n",
       "      <td>0</td>\n",
       "      <td>0</td>\n",
       "      <td>0</td>\n",
       "      <td>0</td>\n",
       "      <td>0</td>\n",
       "      <td>0</td>\n",
       "      <td>...</td>\n",
       "      <td>0</td>\n",
       "      <td>0</td>\n",
       "      <td>0</td>\n",
       "      <td>0</td>\n",
       "      <td>0</td>\n",
       "      <td>0</td>\n",
       "      <td>0</td>\n",
       "      <td>0</td>\n",
       "      <td>0</td>\n",
       "      <td>0</td>\n",
       "    </tr>\n",
       "    <tr>\n",
       "      <th>1</th>\n",
       "      <td>Spaghetti with Meatballs in Tomato Sauce, Quee...</td>\n",
       "      <td>0</td>\n",
       "      <td>0</td>\n",
       "      <td>0</td>\n",
       "      <td>0</td>\n",
       "      <td>0</td>\n",
       "      <td>0</td>\n",
       "      <td>0</td>\n",
       "      <td>0</td>\n",
       "      <td>0</td>\n",
       "      <td>...</td>\n",
       "      <td>0</td>\n",
       "      <td>0</td>\n",
       "      <td>0</td>\n",
       "      <td>0</td>\n",
       "      <td>0</td>\n",
       "      <td>0</td>\n",
       "      <td>0</td>\n",
       "      <td>0</td>\n",
       "      <td>0</td>\n",
       "      <td>0</td>\n",
       "    </tr>\n",
       "  </tbody>\n",
       "</table>\n",
       "<p>2 rows × 803 columns</p>\n",
       "</div>"
      ],
      "text/plain": [
       "                                        Name of dish  active yeast  \\\n",
       "0  Change the taste with strange and delicious mi...             0   \n",
       "1  Spaghetti with Meatballs in Tomato Sauce, Quee...             0   \n",
       "\n",
       "   agave nectar  all-purpose flour  almond  almond extract  almond flour  \\\n",
       "0             0                  0       0               0             0   \n",
       "1             0                  0       0               0             0   \n",
       "\n",
       "   almond milk  aloe vera  amaretto  ...  yellow bell peppers  \\\n",
       "0            0          0         0  ...                    0   \n",
       "1            0          0         0  ...                    0   \n",
       "\n",
       "   yellow lemon peel  yellow mustard  yellow pepper  yellow sweet potatoes  \\\n",
       "0                  0               0              0                      0   \n",
       "1                  0               0              0                      0   \n",
       "\n",
       "   yogurt  yogurt drink  yuzu juice  yuzu sauce  zucchini  \n",
       "0       0             0           0           0         0  \n",
       "1       0             0           0           0         0  \n",
       "\n",
       "[2 rows x 803 columns]"
      ]
     },
     "execution_count": 2,
     "metadata": {},
     "output_type": "execute_result"
    }
   ],
   "source": [
    "path = os.path.join('..', 'Assert', 'ingredients.csv')\n",
    "data = pd.read_csv(path)\n",
    "init_df = deepcopy(data)\n",
    "data.head(2)"
   ]
  },
  {
   "cell_type": "markdown",
   "metadata": {},
   "source": [
    "**3. Drop the \"Name of dish\" column:**"
   ]
  },
  {
   "cell_type": "code",
   "execution_count": 3,
   "metadata": {},
   "outputs": [
    {
     "data": {
      "text/html": [
       "<div>\n",
       "<style scoped>\n",
       "    .dataframe tbody tr th:only-of-type {\n",
       "        vertical-align: middle;\n",
       "    }\n",
       "\n",
       "    .dataframe tbody tr th {\n",
       "        vertical-align: top;\n",
       "    }\n",
       "\n",
       "    .dataframe thead th {\n",
       "        text-align: right;\n",
       "    }\n",
       "</style>\n",
       "<table border=\"1\" class=\"dataframe\">\n",
       "  <thead>\n",
       "    <tr style=\"text-align: right;\">\n",
       "      <th></th>\n",
       "      <th>active yeast</th>\n",
       "      <th>agave nectar</th>\n",
       "      <th>all-purpose flour</th>\n",
       "      <th>almond</th>\n",
       "      <th>almond extract</th>\n",
       "      <th>almond flour</th>\n",
       "      <th>almond milk</th>\n",
       "      <th>aloe vera</th>\n",
       "      <th>amaretto</th>\n",
       "      <th>american beef belly</th>\n",
       "      <th>...</th>\n",
       "      <th>yellow bell peppers</th>\n",
       "      <th>yellow lemon peel</th>\n",
       "      <th>yellow mustard</th>\n",
       "      <th>yellow pepper</th>\n",
       "      <th>yellow sweet potatoes</th>\n",
       "      <th>yogurt</th>\n",
       "      <th>yogurt drink</th>\n",
       "      <th>yuzu juice</th>\n",
       "      <th>yuzu sauce</th>\n",
       "      <th>zucchini</th>\n",
       "    </tr>\n",
       "  </thead>\n",
       "  <tbody>\n",
       "    <tr>\n",
       "      <th>0</th>\n",
       "      <td>0</td>\n",
       "      <td>0</td>\n",
       "      <td>0</td>\n",
       "      <td>0</td>\n",
       "      <td>0</td>\n",
       "      <td>0</td>\n",
       "      <td>0</td>\n",
       "      <td>0</td>\n",
       "      <td>0</td>\n",
       "      <td>0</td>\n",
       "      <td>...</td>\n",
       "      <td>0</td>\n",
       "      <td>0</td>\n",
       "      <td>0</td>\n",
       "      <td>0</td>\n",
       "      <td>0</td>\n",
       "      <td>0</td>\n",
       "      <td>0</td>\n",
       "      <td>0</td>\n",
       "      <td>0</td>\n",
       "      <td>0</td>\n",
       "    </tr>\n",
       "    <tr>\n",
       "      <th>1</th>\n",
       "      <td>0</td>\n",
       "      <td>0</td>\n",
       "      <td>0</td>\n",
       "      <td>0</td>\n",
       "      <td>0</td>\n",
       "      <td>0</td>\n",
       "      <td>0</td>\n",
       "      <td>0</td>\n",
       "      <td>0</td>\n",
       "      <td>0</td>\n",
       "      <td>...</td>\n",
       "      <td>0</td>\n",
       "      <td>0</td>\n",
       "      <td>0</td>\n",
       "      <td>0</td>\n",
       "      <td>0</td>\n",
       "      <td>0</td>\n",
       "      <td>0</td>\n",
       "      <td>0</td>\n",
       "      <td>0</td>\n",
       "      <td>0</td>\n",
       "    </tr>\n",
       "  </tbody>\n",
       "</table>\n",
       "<p>2 rows × 802 columns</p>\n",
       "</div>"
      ],
      "text/plain": [
       "   active yeast  agave nectar  all-purpose flour  almond  almond extract  \\\n",
       "0             0             0                  0       0               0   \n",
       "1             0             0                  0       0               0   \n",
       "\n",
       "   almond flour  almond milk  aloe vera  amaretto  american beef belly  ...  \\\n",
       "0             0            0          0         0                    0  ...   \n",
       "1             0            0          0         0                    0  ...   \n",
       "\n",
       "   yellow bell peppers  yellow lemon peel  yellow mustard  yellow pepper  \\\n",
       "0                    0                  0               0              0   \n",
       "1                    0                  0               0              0   \n",
       "\n",
       "   yellow sweet potatoes  yogurt  yogurt drink  yuzu juice  yuzu sauce  \\\n",
       "0                      0       0             0           0           0   \n",
       "1                      0       0             0           0           0   \n",
       "\n",
       "   zucchini  \n",
       "0         0  \n",
       "1         0  \n",
       "\n",
       "[2 rows x 802 columns]"
      ]
     },
     "execution_count": 3,
     "metadata": {},
     "output_type": "execute_result"
    }
   ],
   "source": [
    "data.drop(columns=['Name of dish'], inplace=True)\n",
    "data.head(2)"
   ]
  },
  {
   "cell_type": "markdown",
   "metadata": {},
   "source": [
    "**4. Check the shape of dataframe:**"
   ]
  },
  {
   "cell_type": "code",
   "execution_count": 4,
   "metadata": {},
   "outputs": [
    {
     "data": {
      "text/plain": [
       "(682, 802)"
      ]
     },
     "execution_count": 4,
     "metadata": {},
     "output_type": "execute_result"
    }
   ],
   "source": [
    "data.shape"
   ]
  },
  {
   "cell_type": "markdown",
   "metadata": {},
   "source": [
    "**5. Check the datatypes:**"
   ]
  },
  {
   "cell_type": "code",
   "execution_count": 5,
   "metadata": {},
   "outputs": [
    {
     "data": {
      "text/plain": [
       "active yeast         int64\n",
       "agave nectar         int64\n",
       "all-purpose flour    int64\n",
       "almond               int64\n",
       "almond extract       int64\n",
       "                     ...  \n",
       "yogurt               int64\n",
       "yogurt drink         int64\n",
       "yuzu juice           int64\n",
       "yuzu sauce           int64\n",
       "zucchini             int64\n",
       "Length: 802, dtype: object"
      ]
     },
     "execution_count": 5,
     "metadata": {},
     "output_type": "execute_result"
    }
   ],
   "source": [
    "data.dtypes"
   ]
  },
  {
   "cell_type": "markdown",
   "metadata": {},
   "source": [
    "---"
   ]
  },
  {
   "cell_type": "markdown",
   "metadata": {},
   "source": [
    "### **Model Building**"
   ]
  },
  {
   "cell_type": "code",
   "execution_count": 6,
   "metadata": {},
   "outputs": [],
   "source": [
    "from sklearn.preprocessing import MinMaxScaler\n",
    "from sklearn.metrics.pairwise import cosine_similarity\n",
    "from sklearn.model_selection import train_test_split\n",
    "from sklearn.neighbors import NearestNeighbors"
   ]
  },
  {
   "cell_type": "code",
   "execution_count": 7,
   "metadata": {},
   "outputs": [],
   "source": [
    "train_data, test_data = train_test_split(data, test_size=0.2, random_state=42)"
   ]
  }
 ],
 "metadata": {
  "kernelspec": {
   "display_name": "Python 3",
   "language": "python",
   "name": "python3"
  },
  "language_info": {
   "codemirror_mode": {
    "name": "ipython",
    "version": 3
   },
   "file_extension": ".py",
   "mimetype": "text/x-python",
   "name": "python",
   "nbconvert_exporter": "python",
   "pygments_lexer": "ipython3",
   "version": "3.12.5"
  }
 },
 "nbformat": 4,
 "nbformat_minor": 2
}
