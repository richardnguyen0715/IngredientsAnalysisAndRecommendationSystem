{
 "cells": [
  {
   "cell_type": "markdown",
   "metadata": {},
   "source": [
    "## **Introduction to Data Science - Nhập môn khoa học dữ liệu - CSC14119**\n",
    "### **HCMUS - Trường Đại học khoa học tự nhiên - Nov 2024.**\n",
    "### **Đồ án thực hành cuối kì - Handling Real-World Problem.**\n",
    "#### **Due:** 24/12/2024.\n",
    "#### **Lớp:** 22_21.\n",
    "#### **Giảng viên hướng dẫn:** Thầy Lê Ngọc Thành - Thầy Lê Nhựt Nam.\n",
    "#### **STT nhóm:** 9.\n",
    "---\n",
    "### **Data Modeling - 02**\n",
    "**Problem**: Làm thế nào để phân nhóm các món ăn dựa trên sự tương đồng về thành phần gia vị và nguyên liệu, giúp người dùng dễ dàng lựa chọn hoặc khám phá các món ăn có đặc điểm chung?\n",
    "\n",
    "**Description**: Việc phân loại món ăn theo gia vị và nguyên liệu giúp chia các món thành từng nhóm có sự tương đồng cao về thành phần chế biến. Điều này không chỉ hỗ trợ người nấu tìm kiếm các món ăn phù hợp với nguyên liệu sẵn có mà còn giúp hệ thống gợi ý món ăn theo sở thích hoặc nhu cầu. Ví dụ, những món ăn có cùng loại gia vị đặc trưng như ớt, tỏi, hoặc cùng nhóm nguyên liệu như thịt gà, rau xanh sẽ được xếp vào cùng một nhóm, giúp quá trình lựa chọn món trở nên nhanh chóng và khoa học hơn.\n",
    "\n",
    "**Solution**: Sử dụng mô hình K-Means Clustering."
   ]
  },
  {
   "cell_type": "markdown",
   "metadata": {},
   "source": [
    "### 1. Xác định số cụm phù hợp bằng phương pháp Khuỷu tay (Elbow Method)"
   ]
  },
  {
   "cell_type": "code",
   "execution_count": 55,
   "metadata": {},
   "outputs": [],
   "source": [
    "import pandas as pd\n",
    "import matplotlib.pyplot as plt\n",
    "from sklearn.cluster import KMeans\n",
    "from sklearn.metrics import silhouette_score, davies_bouldin_score\n",
    "\n",
    "pd.set_option('display.max_colwidth', None)"
   ]
  },
  {
   "cell_type": "code",
   "execution_count": 56,
   "metadata": {},
   "outputs": [
    {
     "data": {
      "text/html": [
       "<div>\n",
       "<style scoped>\n",
       "    .dataframe tbody tr th:only-of-type {\n",
       "        vertical-align: middle;\n",
       "    }\n",
       "\n",
       "    .dataframe tbody tr th {\n",
       "        vertical-align: top;\n",
       "    }\n",
       "\n",
       "    .dataframe thead th {\n",
       "        text-align: right;\n",
       "    }\n",
       "</style>\n",
       "<table border=\"1\" class=\"dataframe\">\n",
       "  <thead>\n",
       "    <tr style=\"text-align: right;\">\n",
       "      <th></th>\n",
       "      <th>Name of dish</th>\n",
       "      <th>soda</th>\n",
       "      <th>turmeric mixture</th>\n",
       "      <th>herb</th>\n",
       "      <th>yogurt</th>\n",
       "      <th>butter</th>\n",
       "      <th>beef bone</th>\n",
       "      <th>chili lemongrass fish sauce</th>\n",
       "      <th>beef fillet</th>\n",
       "      <th>chipotle smoked pepper powder</th>\n",
       "      <th>...</th>\n",
       "      <th>kiwi</th>\n",
       "      <th>lime juice</th>\n",
       "      <th>tea leaves</th>\n",
       "      <th>white sesame</th>\n",
       "      <th>eel</th>\n",
       "      <th>green onion</th>\n",
       "      <th>ice cubes</th>\n",
       "      <th>pigeon</th>\n",
       "      <th>chinese sausages</th>\n",
       "      <th>white vinegar</th>\n",
       "    </tr>\n",
       "  </thead>\n",
       "  <tbody>\n",
       "    <tr>\n",
       "      <th>0</th>\n",
       "      <td>10 common problems and mistakes when making bread</td>\n",
       "      <td>0</td>\n",
       "      <td>0</td>\n",
       "      <td>0</td>\n",
       "      <td>0</td>\n",
       "      <td>0</td>\n",
       "      <td>0</td>\n",
       "      <td>0</td>\n",
       "      <td>0</td>\n",
       "      <td>0</td>\n",
       "      <td>...</td>\n",
       "      <td>0</td>\n",
       "      <td>0</td>\n",
       "      <td>0</td>\n",
       "      <td>0</td>\n",
       "      <td>0</td>\n",
       "      <td>0</td>\n",
       "      <td>0</td>\n",
       "      <td>0</td>\n",
       "      <td>0</td>\n",
       "      <td>0</td>\n",
       "    </tr>\n",
       "    <tr>\n",
       "      <th>1</th>\n",
       "      <td>11 ways to use leftover egg yolks</td>\n",
       "      <td>0</td>\n",
       "      <td>0</td>\n",
       "      <td>0</td>\n",
       "      <td>0</td>\n",
       "      <td>0</td>\n",
       "      <td>0</td>\n",
       "      <td>0</td>\n",
       "      <td>0</td>\n",
       "      <td>0</td>\n",
       "      <td>...</td>\n",
       "      <td>0</td>\n",
       "      <td>0</td>\n",
       "      <td>0</td>\n",
       "      <td>0</td>\n",
       "      <td>0</td>\n",
       "      <td>0</td>\n",
       "      <td>0</td>\n",
       "      <td>0</td>\n",
       "      <td>0</td>\n",
       "      <td>0</td>\n",
       "    </tr>\n",
       "    <tr>\n",
       "      <th>2</th>\n",
       "      <td>12 types of nuts for baking</td>\n",
       "      <td>0</td>\n",
       "      <td>0</td>\n",
       "      <td>0</td>\n",
       "      <td>0</td>\n",
       "      <td>0</td>\n",
       "      <td>0</td>\n",
       "      <td>0</td>\n",
       "      <td>0</td>\n",
       "      <td>0</td>\n",
       "      <td>...</td>\n",
       "      <td>0</td>\n",
       "      <td>0</td>\n",
       "      <td>0</td>\n",
       "      <td>0</td>\n",
       "      <td>0</td>\n",
       "      <td>0</td>\n",
       "      <td>0</td>\n",
       "      <td>0</td>\n",
       "      <td>0</td>\n",
       "      <td>0</td>\n",
       "    </tr>\n",
       "    <tr>\n",
       "      <th>3</th>\n",
       "      <td>14 ways to make Sponge cake/Gato for birthday cake decoration</td>\n",
       "      <td>0</td>\n",
       "      <td>0</td>\n",
       "      <td>0</td>\n",
       "      <td>0</td>\n",
       "      <td>0</td>\n",
       "      <td>0</td>\n",
       "      <td>0</td>\n",
       "      <td>0</td>\n",
       "      <td>0</td>\n",
       "      <td>...</td>\n",
       "      <td>0</td>\n",
       "      <td>0</td>\n",
       "      <td>0</td>\n",
       "      <td>0</td>\n",
       "      <td>0</td>\n",
       "      <td>0</td>\n",
       "      <td>0</td>\n",
       "      <td>0</td>\n",
       "      <td>0</td>\n",
       "      <td>0</td>\n",
       "    </tr>\n",
       "    <tr>\n",
       "      <th>4</th>\n",
       "      <td>14 ways to use leftover egg whites</td>\n",
       "      <td>0</td>\n",
       "      <td>0</td>\n",
       "      <td>0</td>\n",
       "      <td>0</td>\n",
       "      <td>1</td>\n",
       "      <td>0</td>\n",
       "      <td>0</td>\n",
       "      <td>0</td>\n",
       "      <td>0</td>\n",
       "      <td>...</td>\n",
       "      <td>0</td>\n",
       "      <td>0</td>\n",
       "      <td>0</td>\n",
       "      <td>0</td>\n",
       "      <td>0</td>\n",
       "      <td>0</td>\n",
       "      <td>0</td>\n",
       "      <td>0</td>\n",
       "      <td>0</td>\n",
       "      <td>0</td>\n",
       "    </tr>\n",
       "  </tbody>\n",
       "</table>\n",
       "<p>5 rows × 814 columns</p>\n",
       "</div>"
      ],
      "text/plain": [
       "                                                    Name of dish  soda  \\\n",
       "0              10 common problems and mistakes when making bread     0   \n",
       "1                              11 ways to use leftover egg yolks     0   \n",
       "2                                    12 types of nuts for baking     0   \n",
       "3  14 ways to make Sponge cake/Gato for birthday cake decoration     0   \n",
       "4                             14 ways to use leftover egg whites     0   \n",
       "\n",
       "   turmeric mixture  herb  yogurt  butter  beef bone  \\\n",
       "0                 0     0       0       0          0   \n",
       "1                 0     0       0       0          0   \n",
       "2                 0     0       0       0          0   \n",
       "3                 0     0       0       0          0   \n",
       "4                 0     0       0       1          0   \n",
       "\n",
       "   chili lemongrass fish sauce  beef fillet  chipotle smoked pepper powder  \\\n",
       "0                            0            0                              0   \n",
       "1                            0            0                              0   \n",
       "2                            0            0                              0   \n",
       "3                            0            0                              0   \n",
       "4                            0            0                              0   \n",
       "\n",
       "   ...  kiwi  lime juice  tea leaves  white sesame  eel  green onion  \\\n",
       "0  ...     0           0           0             0    0            0   \n",
       "1  ...     0           0           0             0    0            0   \n",
       "2  ...     0           0           0             0    0            0   \n",
       "3  ...     0           0           0             0    0            0   \n",
       "4  ...     0           0           0             0    0            0   \n",
       "\n",
       "   ice cubes  pigeon  chinese sausages  white vinegar  \n",
       "0          0       0                 0              0  \n",
       "1          0       0                 0              0  \n",
       "2          0       0                 0              0  \n",
       "3          0       0                 0              0  \n",
       "4          0       0                 0              0  \n",
       "\n",
       "[5 rows x 814 columns]"
      ]
     },
     "execution_count": 56,
     "metadata": {},
     "output_type": "execute_result"
    }
   ],
   "source": [
    "ingredients_df = pd.read_csv(\"../Assert/ingredients.csv\",sep=\",\")\n",
    "\n",
    "# Xóa các dòng bị lặp\n",
    "ingredients_df.drop_duplicates(keep='first',inplace=True)\n",
    "\n",
    "# Xóa các dòng toàn giá trị 0\n",
    "ingredients_df = ingredients_df.loc[~(ingredients_df.iloc[:,1:] == 0).all(axis=1)]\n",
    "\n",
    "ingredients_df.head()"
   ]
  },
  {
   "cell_type": "code",
   "execution_count": 57,
   "metadata": {},
   "outputs": [],
   "source": [
    "ingredients = ingredients_df.iloc[:,1:]\n",
    "dishes = ingredients_df.iloc[:,0] "
   ]
  },
  {
   "cell_type": "code",
   "execution_count": 58,
   "metadata": {},
   "outputs": [
    {
     "name": "stderr",
     "output_type": "stream",
     "text": [
      "c:\\Users\\hoang\\anaconda3\\envs\\min_ds-env2\\lib\\site-packages\\sklearn\\cluster\\_kmeans.py:1036: UserWarning: KMeans is known to have a memory leak on Windows with MKL, when there are less chunks than available threads. You can avoid it by setting the environment variable OMP_NUM_THREADS=4.\n",
      "  warnings.warn(\n"
     ]
    },
    {
     "data": {
      "image/png": "[encoded data removed]",
      "text/plain": [
       "<Figure size 800x600 with 1 Axes>"
      ]
     },
     "metadata": {},
     "output_type": "display_data"
    }
   ],
   "source": [
    "# Tránh bị memory leak khi sử dụng thuật toán KMeans\n",
    "import os\n",
    "os.environ[\"OMP_NUM_THREADS\"] = \"4\"\n",
    "\n",
    "# Danh sách để lưu giá trị WCSS\n",
    "wcss = []\n",
    "\n",
    "# Duyệt qua các giá trị k từ 1 đến 10 \n",
    "K_values = range(1, 11)\n",
    "\n",
    "for k in K_values:\n",
    "    kmeans = KMeans(n_clusters=k, random_state=0, n_init=10)\n",
    "    kmeans.fit(ingredients)\n",
    "    wcss.append(kmeans.inertia_)  \n",
    "\n",
    "# Vẽ biểu đồ Elbow\n",
    "plt.figure(figsize=(8,6))\n",
    "plt.plot(K_values, wcss, marker='o', linestyle='--')\n",
    "plt.title('Phương pháp Khuỷu tay (Elbow Method)')\n",
    "plt.xlabel('Số cụm (k)')\n",
    "plt.ylabel('WCSS')\n",
    "plt.xticks(K_values)\n",
    "plt.grid(True)\n",
    "plt.show()"
   ]
  },
  {
   "cell_type": "markdown",
   "metadata": {},
   "source": [
    "#### Nhận xét chung\n",
    "- Từ k = 1 đến k = 3: Đường cong giảm khá mạnh, cho thấy việc tăng số cụm từ 1 lên 3 giúp giảm đáng kể WCSS.\n",
    "\n",
    "- Từ k = 3 trở đi: Đường cong tiếp tục giảm nhưng với tốc độ chậm hơn nhiều.\n",
    "\n",
    "#### Kết luận\n",
    "- Dựa vào biểu đồ, có thể cho rằng điểm **khuỷu tay** nằm ở vị trí k = 3. "
   ]
  },
  {
   "cell_type": "markdown",
   "metadata": {},
   "source": [
    "### 2. Xây dựng mô hình K-Means Clustering với số cụm = 3"
   ]
  },
  {
   "cell_type": "code",
   "execution_count": 59,
   "metadata": {},
   "outputs": [],
   "source": [
    "kmeans = KMeans(n_clusters=3, random_state=0)\n",
    "kmeans.fit(ingredients)\n",
    "\n",
    "predict_labels = kmeans.predict(ingredients)"
   ]
  },
  {
   "cell_type": "code",
   "execution_count": 60,
   "metadata": {},
   "outputs": [],
   "source": [
    "# Lấy các món ăn cùng label vào 1 nhóm\n",
    "def group_dishes(predict_labels):\n",
    "    first_group = dishes[predict_labels == 0]\n",
    "    second_group =  dishes[predict_labels == 1]\n",
    "    third_group =  dishes[predict_labels == 2]\n",
    "\n",
    "    return (first_group, second_group, third_group)"
   ]
  },
  {
   "cell_type": "code",
   "execution_count": 61,
   "metadata": {},
   "outputs": [],
   "source": [
    "# Lưu các phần tử chung cụm thành các mảng \n",
    "first_group, second_group, third_group = group_dishes(predict_labels)"
   ]
  },
  {
   "cell_type": "code",
   "execution_count": 62,
   "metadata": {},
   "outputs": [
    {
     "data": {
      "text/html": [
       "<div>\n",
       "<style scoped>\n",
       "    .dataframe tbody tr th:only-of-type {\n",
       "        vertical-align: middle;\n",
       "    }\n",
       "\n",
       "    .dataframe tbody tr th {\n",
       "        vertical-align: top;\n",
       "    }\n",
       "\n",
       "    .dataframe thead th {\n",
       "        text-align: right;\n",
       "    }\n",
       "</style>\n",
       "<table border=\"1\" class=\"dataframe\">\n",
       "  <thead>\n",
       "    <tr style=\"text-align: right;\">\n",
       "      <th></th>\n",
       "      <th>Name of dish</th>\n",
       "    </tr>\n",
       "  </thead>\n",
       "  <tbody>\n",
       "    <tr>\n",
       "      <th>267</th>\n",
       "      <td>Let's make Hokkaido Milk Bread</td>\n",
       "    </tr>\n",
       "    <tr>\n",
       "      <th>1031</th>\n",
       "      <td>Salted Caramel Apple Tart</td>\n",
       "    </tr>\n",
       "    <tr>\n",
       "      <th>156</th>\n",
       "      <td>How to make Coconut and Blackberry Gateaux</td>\n",
       "    </tr>\n",
       "    <tr>\n",
       "      <th>203</th>\n",
       "      <td>How to make delicious and nutritious pumpkin chiffon cake</td>\n",
       "    </tr>\n",
       "    <tr>\n",
       "      <th>72</th>\n",
       "      <td>Chrysanthemum Bread</td>\n",
       "    </tr>\n",
       "  </tbody>\n",
       "</table>\n",
       "</div>"
      ],
      "text/plain": [
       "                                                   Name of dish\n",
       "267                              Let's make Hokkaido Milk Bread\n",
       "1031                                  Salted Caramel Apple Tart\n",
       "156                  How to make Coconut and Blackberry Gateaux\n",
       "203   How to make delicious and nutritious pumpkin chiffon cake\n",
       "72                                          Chrysanthemum Bread"
      ]
     },
     "execution_count": 62,
     "metadata": {},
     "output_type": "execute_result"
    }
   ],
   "source": [
    "first_group.to_frame().sample(5)"
   ]
  },
  {
   "cell_type": "code",
   "execution_count": 63,
   "metadata": {},
   "outputs": [
    {
     "data": {
      "text/html": [
       "<div>\n",
       "<style scoped>\n",
       "    .dataframe tbody tr th:only-of-type {\n",
       "        vertical-align: middle;\n",
       "    }\n",
       "\n",
       "    .dataframe tbody tr th {\n",
       "        vertical-align: top;\n",
       "    }\n",
       "\n",
       "    .dataframe thead th {\n",
       "        text-align: right;\n",
       "    }\n",
       "</style>\n",
       "<table border=\"1\" class=\"dataframe\">\n",
       "  <thead>\n",
       "    <tr style=\"text-align: right;\">\n",
       "      <th></th>\n",
       "      <th>Name of dish</th>\n",
       "    </tr>\n",
       "  </thead>\n",
       "  <tbody>\n",
       "    <tr>\n",
       "      <th>61</th>\n",
       "      <td>Chocolate brulees</td>\n",
       "    </tr>\n",
       "    <tr>\n",
       "      <th>223</th>\n",
       "      <td>How to make pineapple pancakes</td>\n",
       "    </tr>\n",
       "    <tr>\n",
       "      <th>128</th>\n",
       "      <td>Green Tea Cookies</td>\n",
       "    </tr>\n",
       "    <tr>\n",
       "      <th>352</th>\n",
       "      <td>Sweet rice dumplings</td>\n",
       "    </tr>\n",
       "    <tr>\n",
       "      <th>311</th>\n",
       "      <td>Puff pastry triangles with cinnamon apple walnut custard filling</td>\n",
       "    </tr>\n",
       "  </tbody>\n",
       "</table>\n",
       "</div>"
      ],
      "text/plain": [
       "                                                         Name of dish\n",
       "61                                                  Chocolate brulees\n",
       "223                                    How to make pineapple pancakes\n",
       "128                                                 Green Tea Cookies\n",
       "352                                              Sweet rice dumplings\n",
       "311  Puff pastry triangles with cinnamon apple walnut custard filling"
      ]
     },
     "execution_count": 63,
     "metadata": {},
     "output_type": "execute_result"
    }
   ],
   "source": [
    "second_group.to_frame().sample(5)"
   ]
  },
  {
   "cell_type": "code",
   "execution_count": 64,
   "metadata": {},
   "outputs": [
    {
     "data": {
      "text/html": [
       "<div>\n",
       "<style scoped>\n",
       "    .dataframe tbody tr th:only-of-type {\n",
       "        vertical-align: middle;\n",
       "    }\n",
       "\n",
       "    .dataframe tbody tr th {\n",
       "        vertical-align: top;\n",
       "    }\n",
       "\n",
       "    .dataframe thead th {\n",
       "        text-align: right;\n",
       "    }\n",
       "</style>\n",
       "<table border=\"1\" class=\"dataframe\">\n",
       "  <thead>\n",
       "    <tr style=\"text-align: right;\">\n",
       "      <th></th>\n",
       "      <th>Name of dish</th>\n",
       "    </tr>\n",
       "  </thead>\n",
       "  <tbody>\n",
       "    <tr>\n",
       "      <th>615</th>\n",
       "      <td>Grilled Tortillas with Guacamole</td>\n",
       "    </tr>\n",
       "    <tr>\n",
       "      <th>641</th>\n",
       "      <td>Baked Eggplant</td>\n",
       "    </tr>\n",
       "    <tr>\n",
       "      <th>891</th>\n",
       "      <td>Pan-Fried Pork Cutlets with Lemon Mustard Sauce</td>\n",
       "    </tr>\n",
       "    <tr>\n",
       "      <th>625</th>\n",
       "      <td>Grilled Egg Rolls</td>\n",
       "    </tr>\n",
       "    <tr>\n",
       "      <th>1027</th>\n",
       "      <td>Baked Eggs</td>\n",
       "    </tr>\n",
       "  </tbody>\n",
       "</table>\n",
       "</div>"
      ],
      "text/plain": [
       "                                         Name of dish\n",
       "615                  Grilled Tortillas with Guacamole\n",
       "641                                    Baked Eggplant\n",
       "891   Pan-Fried Pork Cutlets with Lemon Mustard Sauce\n",
       "625                                 Grilled Egg Rolls\n",
       "1027                                       Baked Eggs"
      ]
     },
     "execution_count": 64,
     "metadata": {},
     "output_type": "execute_result"
    }
   ],
   "source": [
    "third_group.to_frame().sample(5)"
   ]
  },
  {
   "cell_type": "markdown",
   "metadata": {},
   "source": [
    "### Nhận xét\n",
    "- Ở nhóm đầu tiên, các món có xu hướng được làm từ **thịt**, **cá**, **tôm**.\n",
    "\n",
    "- Ở nhóm thứ 2 chủ yếu là các **món bánh**.\n",
    "\n",
    "- Ở nhóm thứ 3 là các **món ăn vặt**, **chè**, **thức uống tráng miệng**."
   ]
  },
  {
   "cell_type": "code",
   "execution_count": 65,
   "metadata": {},
   "outputs": [],
   "source": [
    "def printRecipes(substitute_recipes):\n",
    "    for recipe, substitutes in substitute_recipes.items():\n",
    "        print(f\"Substitutive dishes for: {recipe}\")\n",
    "        for i, substitute in enumerate(substitutes):\n",
    "            print(f\"{i + 1}. {substitute}\")\n",
    "        print(\"\")"
   ]
  },
  {
   "cell_type": "code",
   "execution_count": 66,
   "metadata": {},
   "outputs": [],
   "source": [
    "def substituteRecipes(recipes):\n",
    "    subsitiute_recipes = {}\n",
    "    \n",
    "    for recipe in recipes:\n",
    "        if recipe in first_group.values:\n",
    "            subsitiute_recipes[recipe] = first_group.sample(5).values\n",
    "        elif recipe in second_group.values:\n",
    "            subsitiute_recipes[recipe] = second_group.sample(5).values\n",
    "        elif recipe in third_group.values:\n",
    "            subsitiute_recipes[recipe] = third_group.sample(5).values\n",
    "\n",
    "    return subsitiute_recipes"
   ]
  },
  {
   "cell_type": "code",
   "execution_count": 67,
   "metadata": {},
   "outputs": [
    {
     "name": "stdout",
     "output_type": "stream",
     "text": [
      "Substitutive dishes for: Muesli\n",
      "1. Making Michelin-Star Sousvide Steak Super Easy and Relaxing with the Instant Pot 11-In-1 Duo Crisp\n",
      "2. 14 ways to use leftover egg whites\n",
      "3. How to make moon cake\n",
      "4. How to make Cheese and Pepperoni Toast\n",
      "5. Basic tools in baking\n",
      "\n",
      "Substitutive dishes for: Grilled Orange Chicken\n",
      "1. Bamboo Shoots and Pig's Trotters Soup - A Memorable Dish During Tet\n",
      "2. Instant Pot Bolognese Spaghetti\n",
      "3. Breaded Fried Chicken Using Air Fryer\n",
      "4. Korean-Style Braised Beef Ribs and Radish Soup - Nutritious to Boost the Body's Resistance\n",
      "5. Spaghetti with Pumpkin Sauce\n",
      "\n",
      "Substitutive dishes for: Chocolate Ricotta Muffin\n",
      "1. How to make cakes for Valentine's Day - Red Velvet Cheesecake Brownies\n",
      "2. Spinach cheese scones\n",
      "3. Making Flan with Instant Pot Pressure Cooker\n",
      "4. How to make super thin super crispy orange wafers – Orange wafers\n",
      "5. Rosemary Garlic Challah Bread\n",
      "\n"
     ]
    }
   ],
   "source": [
    "input = ['Muesli','Grilled Orange Chicken','Chocolate Ricotta Muffin']\n",
    "substitute_recipes = substituteRecipes(input)\n",
    "printRecipes(substitute_recipes)"
   ]
  },
  {
   "cell_type": "markdown",
   "metadata": {},
   "source": [
    "### 3. Đánh giá, phân tích mô hình"
   ]
  },
  {
   "cell_type": "code",
   "execution_count": 68,
   "metadata": {},
   "outputs": [],
   "source": [
    "def modelEvaluation(model):\n",
    "    inertia = model.inertia_\n",
    "    silhouette_avg = silhouette_score(ingredients, predict_labels)\n",
    "    db_index = davies_bouldin_score(ingredients, predict_labels)\n",
    "\n",
    "    return (inertia, silhouette_avg, db_index)"
   ]
  },
  {
   "cell_type": "code",
   "execution_count": 69,
   "metadata": {},
   "outputs": [
    {
     "name": "stdout",
     "output_type": "stream",
     "text": [
      "Evaluation Score\n",
      "- Inertia: 6917.189103598309\n",
      "- Silhouette score: 0.04549024874326191\n",
      "- Davies Bouldin score: 4.03154304688805\n"
     ]
    }
   ],
   "source": [
    "eval_score = modelEvaluation(kmeans)\n",
    "print(\"Evaluation Score\")\n",
    "print(f\"- Inertia: {eval_score[0]}\")\n",
    "print(f\"- Silhouette score: {eval_score[1]}\")\n",
    "print(f\"- Davies Bouldin score: {eval_score[2]}\")"
   ]
  },
  {
   "attachments": {
    "image.png": {
     "image/png": "[encoded data removed]"
    }
   },
   "cell_type": "markdown",
   "metadata": {},
   "source": [
    "![image.png](attachment:image.png)"
   ]
  },
  {
   "cell_type": "markdown",
   "metadata": {},
   "source": [
    "#### **Nhận xét**\n",
    "**Inertia: 6917.19**\n",
    "\n",
    "- Tổng khoảng cách bình phương từ các điểm dữ liệu đến tâm cụm đã giảm, cho thấy sự cải thiện về độ chặt chẽ của các cụm khi chọn \n",
    "k = 3.\n",
    "\n",
    "**Silhouette Score: 0.045**\n",
    "\n",
    "- Giá trị này khá thấp, cho thấy các cụm vẫn còn chồng lấn, các điểm dữ liệu không được phân tách rõ ràng.\n",
    "\n",
    "**Davies-Bouldin Score: 4.03**\n",
    "\n",
    "- Chỉ số này tương đối cao, phản ánh các cụm chưa thực sự phân biệt tốt và còn có sự tương đồng giữa các cụm.\n",
    "\n",
    "#### **Kết luận**\n",
    "- Số cụm k = 3 là hợp lý theo Elbow Method.\n",
    "\n",
    "- Tuy nhiên, các chỉ số đánh giá như Silhouette và Davies-Bouldin cho thấy kết quả phân cụm chưa đạt chất lượng cao, các cụm còn khá mờ nhạt, cho thấy cần cải thiện thêm dữ liệu hoặc thử nghiệm các phương pháp phân cụm khác để đạt kết quả tốt hơn."
   ]
  },
  {
   "cell_type": "markdown",
   "metadata": {},
   "source": [
    "### 4. Giao diện GUI"
   ]
  },
  {
   "cell_type": "code",
   "execution_count": 70,
   "metadata": {},
   "outputs": [],
   "source": [
    "import tkinter as tk\n",
    "from tkinter import messagebox"
   ]
  },
  {
   "cell_type": "code",
   "execution_count": 71,
   "metadata": {},
   "outputs": [],
   "source": [
    "class SubstituteRecipeRecommender:\n",
    "    def __init__(self, root):\n",
    "        self.root = root\n",
    "        self.root.title(\"Hệ thống đề xuất món ăn thay thế\")\n",
    "\n",
    "        # Kích thước cửa sổ\n",
    "        self.window_width = 800\n",
    "        self.window_height = 500\n",
    "\n",
    "        # Lấy kích thước màn hình\n",
    "        screen_width = self.root.winfo_screenwidth()\n",
    "        screen_height = self.root.winfo_screenheight()\n",
    "\n",
    "        # Tính toán tọa độ x và y để cửa sổ ở chính giữa\n",
    "        x = (screen_width // 2) - (self.window_width // 2)\n",
    "        y = (screen_height // 2) - (self.window_height // 2)\n",
    "\n",
    "        # Đặt kích thước và vị trí cửa sổ\n",
    "        self.root.geometry(f\"{self.window_width}x{self.window_height}+{x}+{y}\")\n",
    "\n",
    "        self.bg_photo = tk.PhotoImage(file=\"Background.png\")\n",
    "\n",
    "        # Canvas\n",
    "        self.canvas = tk.Canvas(self.root, width=self.window_width, height=self.window_height, highlightthickness=0)\n",
    "        self.canvas.grid(row=0, column=0, sticky=\"nsew\")\n",
    "\n",
    "        # Đặt ảnh nền\n",
    "        self.canvas.create_image(0, 0, anchor=\"nw\", image=self.bg_photo)\n",
    "\n",
    "        # Thiết lập grid để Canvas mở rộng khi thay đổi kích thước\n",
    "        self.root.grid_rowconfigure(0, weight=1)\n",
    "        self.root.grid_columnconfigure(0, weight=1)\n",
    "\n",
    "        # Label\n",
    "        self.label = tk.Label(self.canvas,text=\"Input recipes:\",bg=\"brown\",fg='white',font=(\"calibri\",16,\"bold\"),relief='solid')\n",
    "        self.label.place(x=163, y=50)\n",
    "\n",
    "        # Entry để nhập nguyên liệu\n",
    "        self.entry = tk.Entry(self.canvas,width=27,font=(\"Calibri\", 16),relief='solid',bd=2)\n",
    "        self.entry.place(x=80, y=100)\n",
    "\n",
    "        # Button để gợi ý món ăn\n",
    "        self.recommend_button = tk.Button(self.canvas,text=\"ENTER\",command=self.recommend,bg='brown',fg='white',font=(\"calibri\",16,\"bold\"),relief=tk.RAISED)\n",
    "        self.recommend_button.place(x=190, y=150)\n",
    "\n",
    "        # Label để hiển thị kết quả\n",
    "        self.result_label = tk.Label(self.canvas,text=\"\",justify=\"left\",anchor=\"w\",font=(\"calibri\",15),width=64,height=6,relief=\"solid\")\n",
    "        self.result_label.place(x=70, y=240) \n",
    "\n",
    "    def recommend(self):\n",
    "        recipe = self.entry.get()\n",
    "        substitute_recipes = substituteRecipes([recipe])\n",
    "\n",
    "        if substitute_recipes:\n",
    "            recipe_text = \"\"\n",
    "            for i, substitute in enumerate(substitute_recipes[recipe]):\n",
    "                recipe_text +=  f\"{i + 1}. {substitute}\\n\"\n",
    "            self.result_label.config(text=recipe_text, wraplength=630)\n",
    "            \n",
    "        else:\n",
    "            self.result_label.config(text=\"Không tìm thấy món ăn phù hợp!\")"
   ]
  },
  {
   "cell_type": "code",
   "execution_count": 72,
   "metadata": {},
   "outputs": [],
   "source": [
    "root = tk.Tk()\n",
    "app = SubstituteRecipeRecommender(root)\n",
    "root.mainloop()"
   ]
  }
 ],
 "metadata": {
  "kernelspec": {
   "display_name": "min_ds-env2",
   "language": "python",
   "name": "python3"
  },
  "language_info": {
   "codemirror_mode": {
    "name": "ipython",
    "version": 3
   },
   "file_extension": ".py",
   "mimetype": "text/x-python",
   "name": "python",
   "nbconvert_exporter": "python",
   "pygments_lexer": "ipython3",
   "version": "3.10.15"
  }
 },
 "nbformat": 4,
 "nbformat_minor": 2
}
