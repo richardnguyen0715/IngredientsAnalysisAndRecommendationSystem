{
 "cells": [
  {
   "cell_type": "markdown",
   "metadata": {},
   "source": [
    "## **Introduction to Data Science - Nhập môn khoa học dữ liệu - CSC14119**\n",
    "### **HCMUS - Trường Đại học khoa học tự nhiên - Nov 2024.**\n",
    "### **Đồ án thực hành cuối kì - Handling Real-World Problem.**\n",
    "#### **Due:** 24/12/2024.\n",
    "#### **Lớp:** 22_21.\n",
    "#### **Giảng viên hướng dẫn:** Thầy Lê Ngọc Thành - Thầy Lê Nhựt Nam.\n",
    "#### **STT nhóm:** 9.\n",
    "---\n",
    "**1. Import Libraries:**\n"
   ]
  },
  {
   "cell_type": "code",
   "execution_count": null,
   "metadata": {},
   "outputs": [],
   "source": [
    "from Libraries_Used import *\n",
    "from Shared_Functions import *"
   ]
  },
  {
   "cell_type": "markdown",
   "metadata": {},
   "source": [
    "**2. Create the context for ingredients**"
   ]
  },
  {
   "cell_type": "code",
   "execution_count": null,
   "metadata": {},
   "outputs": [],
   "source": [
    "pd.set_option('display.max_rows', None)\n",
    "path = os.path.join('..', 'Assert', 'Ingredient_Labels.csv')\n",
    "ingre_lb = pd.read_csv(path, header=None)\n",
    "ingre_lb = ingre_lb.transpose()\n",
    "ingre_lb.rename(columns= {0:'label'}, inplace=True)\n",
    "ingre_lb\n",
    "ingredients = ingre_lb['label'].tolist()"
   ]
  },
  {
   "cell_type": "code",
   "execution_count": null,
   "metadata": {},
   "outputs": [],
   "source": [
    "url = \"http://localhost:1234/v1/chat/completions\"\n",
    "\n",
    "headers = {\n",
    "    \"Content-Type\": \"application/json\"\n",
    "}\n",
    "\n",
    "data = []"
   ]
  },
  {
   "cell_type": "code",
   "execution_count": null,
   "metadata": {},
   "outputs": [],
   "source": [
    "def fetch_response_for_ingredient(ingredient, url, headers):\n",
    "    payload = {\n",
    "        \"model\": \"qwen2.5-14b-instruct\",\n",
    "        \"messages\": [\n",
    "            {\n",
    "                \"role\": \"user\",\n",
    "                \"content\": (\n",
    "                    f\"Tell me the type, context, flavor, smell of {ingredient}. \"\n",
    "                    \"with knowledge that must be true to reality and must not be fabricated\"\n",
    "                    \"The result will be in the following format: \"\n",
    "                    \"\\\"type : your answer, context : your answer, flavor : your answer, smell : your answer\\\"; \"\n",
    "                    \"where type can only belong to one or more of the following factors ['Spice', 'Fruit', 'Vegetable', 'Dairy', 'Meat', 'Grain', 'Condiment', \"\n",
    "                    \"'Seafood', 'Herb', 'Nut', 'Sweetener', 'Oil', 'Beverage', 'Fermenting Agent', \"\n",
    "                    \"'Legume', 'Mushroom', 'Pasta', 'Bread', 'Sauce'], \"\n",
    "                    \"flavor can only belong to one or more of the following factors ['Sweet', 'Salty', 'Spicy', 'Bitter', 'Sour', 'Umami'], \"\n",
    "                    \"context can only belong to one or more of the following factors ['Binding', 'Thickening', 'Flavoring', 'Sweetening', 'Preserving', 'Topping', \"\n",
    "                    \"'Fermentation', 'Main Ingredient', 'Garnishing', 'Base', 'Tenderizing', 'Emulsifying', 'Coating', \"\n",
    "                    \"'Moisturizing', 'Coloring', 'Binding Agent'], \"\n",
    "                    \"smell can only belong to one or more of the following factors ['Sweet', 'Sour', 'Spicy', 'Bitter', 'Umami', 'Fruity', 'Nutty', 'Smoky', \"\n",
    "                    \"'Herbal', 'Earthy', 'Fishy', 'Yeasty', 'Citrusy', 'Milky', 'Pungent', 'Floral', 'Fresh', 'Savory', 'Neutral'].\" \n",
    "                    \"No need to add any other information such as notes or cautions.\"\n",
    "                )\n",
    "            }\n",
    "        ]\n",
    "    }\n",
    "\n",
    "    try:\n",
    "        response = requests.post(url, json=payload, headers=headers, timeout=30)\n",
    "        if response.status_code == 200:\n",
    "            reply = response.json()[\"choices\"][0][\"message\"][\"content\"]\n",
    "            return ingredient, reply\n",
    "        else:\n",
    "            return ingredient, None\n",
    "    except requests.exceptions.RequestException:\n",
    "        return ingredient, None\n",
    "\n",
    "\n",
    "def fetch_and_log_responses_batch(ingredients, url, headers, output_file=\"all_replies.txt\", batch_size=32, delay=2):\n",
    "    \n",
    "    failed_ingredients = []\n",
    "    \n",
    "    with open(output_file, \"w\", encoding=\"utf-8\") as reply_file:\n",
    "        with tqdm(total=len(ingredients), desc=\"Fetching Responses\", unit=\"ingredient\") as progress_bar:\n",
    "            for i in range(0, len(ingredients), batch_size):\n",
    "                batch = ingredients[i:i + batch_size]\n",
    "                \n",
    "                for ingredient in batch:\n",
    "                    try:\n",
    "                        ingredient, reply = fetch_response_for_ingredient(ingredient, url, headers)\n",
    "                        reply = reply.replace('\\'', '')\n",
    "                        if reply:\n",
    "                            reply_file.write(repr(reply) + \"\\n\\n\")\n",
    "                        else:\n",
    "                            failed_ingredients.append(ingredient)\n",
    "                    except Exception as e:\n",
    "                        failed_ingredients.append(ingredient)\n",
    "                    \n",
    "                    progress_bar.update(1)\n",
    "                    \n",
    "                    time.sleep(delay)\n",
    "    \n",
    "    # Report failed ingredients\n",
    "    if failed_ingredients:\n",
    "        print(\"\\nFailed to fetch responses for the following ingredients:\")\n",
    "        for ingredient in failed_ingredients:\n",
    "            print(f\" - {ingredient}\")\n",
    "    else:\n",
    "        print(\"\\nAll ingredients processed successfully!\")"
   ]
  },
  {
   "cell_type": "code",
   "execution_count": null,
   "metadata": {},
   "outputs": [],
   "source": [
    "def process_responses(input_file=\"all_replies.txt\", ingredients_list = None):\n",
    "\n",
    "    def extract_response(response_text):\n",
    "        try:\n",
    "            response_text = response_text.replace('\\\\n', ' ')\n",
    "            response_text = response_text.replace('\\'', '')\n",
    "\n",
    "            type_match = re.search(r\"type\\s*:\\s*([^:,]+(?:,[^:,]+)*)\", response_text, re.IGNORECASE)\n",
    "            context_match = re.search(r\"context\\s*:\\s*([^:,]+(?:,[^:,]+)*)\", response_text, re.IGNORECASE)\n",
    "            flavor_match = re.search(r\"flavor\\s*:\\s*([^:,]+(?:,[^:,]+)*)\", response_text, re.IGNORECASE)\n",
    "            smell_match = re.search(r\"smell\\s*:\\s*([^:,]+(?:,[^:,]+)*)\", response_text, re.IGNORECASE)\n",
    "\n",
    "            type_value = type_match.group(1).strip() if type_match else \"N/A\"\n",
    "            context_value = context_match.group(1).strip() if context_match else \"N/A\"\n",
    "            flavor_value = flavor_match.group(1).strip() if flavor_match else \"N/A\"\n",
    "            smell_value = smell_match.group(1).strip() if smell_match else \"N/A\"\n",
    "\n",
    "            return type_value, context_value, flavor_value, smell_value\n",
    "        except Exception as e:\n",
    "            return \"N/A\", \"N/A\", \"N/A\", \"N/A\"\n",
    "\n",
    "    data = []\n",
    "    with open(input_file, \"r\", encoding=\"utf-8\") as file:\n",
    "        responses = file.read().split(\"\\n\\n\")\n",
    "        for idx, response in enumerate(responses):\n",
    "            if response.strip(): \n",
    "                type_value, context_value, flavor_value, smell_value = extract_response(response)\n",
    "                ingredient_name = ingredients_list[idx] if ingredients_list and idx < len(ingredients_list) else \"Unknown\"\n",
    "                data.append({\n",
    "                    \"Ingredient\": ingredient_name,\n",
    "                    \"Type\": type_value,\n",
    "                    \"Context\": context_value,\n",
    "                    \"Flavor\": flavor_value,\n",
    "                    \"Smell\": smell_value\n",
    "                })\n",
    "\n",
    "    return pd.DataFrame(data)"
   ]
  },
  {
   "cell_type": "code",
   "execution_count": null,
   "metadata": {},
   "outputs": [
    {
     "name": "stderr",
     "output_type": "stream",
     "text": [
      "Fetching Responses: 100%|██████████| 802/802 [1:20:39<00:00,  6.03s/ingredient]"
     ]
    },
    {
     "name": "stdout",
     "output_type": "stream",
     "text": [
      "\n",
      "All ingredients processed successfully!\n",
      "Done! CSV file has been saved.\n"
     ]
    },
    {
     "name": "stderr",
     "output_type": "stream",
     "text": [
      "\n"
     ]
    }
   ],
   "source": [
    "# # Send request and write response to file\n",
    "# fetch_and_log_responses_batch(ingredients, url, headers, output_file=\"all_replies.txt\", batch_size=32, delay=2)\n",
    "\n",
    "# # Process responses from files\n",
    "# df = process_responses(\"all_replies.txt\", ingredients)\n",
    "\n",
    "# # Save results to CSV\n",
    "# df.to_csv(\"ingredients_analysis.csv\", index=False, encoding=\"utf-8-sig\")\n",
    "# print(\"Done! CSV file has been saved.\")"
   ]
  },
  {
   "cell_type": "markdown",
   "metadata": {},
   "source": [
    "**4. Pre-processing context.csv**"
   ]
  },
  {
   "cell_type": "code",
   "execution_count": null,
   "metadata": {},
   "outputs": [
    {
     "name": "stdout",
     "output_type": "stream",
     "text": [
      "            Ingredient              Type          Context   Flavor    Smell\n",
      "0         active yeast  Fermenting Agent     Fermentation    Umami   Yeasty\n",
      "1         agave nectar         Sweetener       Sweetening    Sweet   Floral\n",
      "2    all-purpose flour             Grain  Main Ingredient  Neutral  Neutral\n",
      "3               almond               Nut        Flavoring    Sweet    Nutty\n",
      "4       almond extract               Nut        Flavoring    Sweet    Nutty\n",
      "..                 ...               ...              ...      ...      ...\n",
      "797             yogurt             Dairy     Fermentation     Sour    Milky\n",
      "798       yogurt drink             Dairy     Fermentation     Sour    Milky\n",
      "799         yuzu juice             Fruit        Flavoring     Sour  Citrusy\n",
      "800         yuzu sauce             Sauce        Flavoring     Sour  Citrusy\n",
      "801           zucchini         Vegetable  Main Ingredient    Umami   Earthy\n",
      "\n",
      "[802 rows x 5 columns]\n"
     ]
    }
   ],
   "source": [
    "file_path = \"ingredients_analysis.csv\"\n",
    "df = pd.read_csv(file_path)\n",
    "\n",
    "def clean_column_values(value):\n",
    "    if pd.isnull(value):\n",
    "        return value\n",
    "    return re.sub(r'(,\\s*)?\\b(type|context|flavor|smell)\\b', '', value, flags=re.IGNORECASE).strip()\n",
    "\n",
    "for col in df.columns[1:]:\n",
    "    df[col] = df[col].apply(clean_column_values)\n",
    "\n",
    "df.to_csv(\"cleaned_ingredients_data.csv\", index=False, encoding=\"utf-8-sig\")\n",
    "\n",
    "print(df)\n"
   ]
  }
 ],
 "metadata": {
  "language_info": {
   "name": "python"
  }
 },
 "nbformat": 4,
 "nbformat_minor": 2
}
