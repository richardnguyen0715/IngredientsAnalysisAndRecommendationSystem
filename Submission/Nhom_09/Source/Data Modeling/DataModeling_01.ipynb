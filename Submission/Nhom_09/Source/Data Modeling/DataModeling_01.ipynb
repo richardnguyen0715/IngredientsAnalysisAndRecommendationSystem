{
 "cells": [
  {
   "cell_type": "markdown",
   "metadata": {},
   "source": [
    "## **Introduction to Data Science - Nhập môn khoa học dữ liệu - CSC14119**\n",
    "### **HCMUS - Trường Đại học khoa học tự nhiên - Nov 2024.**\n",
    "### **Đồ án thực hành cuối kì - Handling Real-World Problem.**\n",
    "#### **Due:** 24/12/2024.\n",
    "#### **Lớp:** 22_21.\n",
    "#### **Giảng viên hướng dẫn:** Thầy Lê Ngọc Thành - Thầy Lê Nhựt Nam.\n",
    "#### **STT nhóm:** 9.\n",
    "---\n",
    "### **Data Modeling - 01**\n",
    "**Problem**: Mô hình gợi ý gia vị thay thế, nguyên liệu.\\\n",
    "**Description**: Phát triển mô hình gợi ý gia vị, nguyên liệu thay thế dựa trên các món ăn tương tự hoặc các món sử dụng các gia vị, nguyên liệu gần giống nhau.\\\n",
    "**Solution**: Sử dụng kỹ thuật Collaborative Filtering."
   ]
  },
  {
   "cell_type": "markdown",
   "metadata": {},
   "source": [
    "**1. Import Libraries:**"
   ]
  },
  {
   "cell_type": "code",
   "execution_count": 129,
   "metadata": {},
   "outputs": [],
   "source": [
    "from Libraries_Used import *\n",
    "from Shared_Functions import *"
   ]
  },
  {
   "cell_type": "markdown",
   "metadata": {},
   "source": [
    "**2. Get the dataset:**"
   ]
  },
  {
   "cell_type": "code",
   "execution_count": 130,
   "metadata": {},
   "outputs": [
    {
     "data": {
      "text/html": [
       "<div>\n",
       "<style scoped>\n",
       "    .dataframe tbody tr th:only-of-type {\n",
       "        vertical-align: middle;\n",
       "    }\n",
       "\n",
       "    .dataframe tbody tr th {\n",
       "        vertical-align: top;\n",
       "    }\n",
       "\n",
       "    .dataframe thead th {\n",
       "        text-align: right;\n",
       "    }\n",
       "</style>\n",
       "<table border=\"1\" class=\"dataframe\">\n",
       "  <thead>\n",
       "    <tr style=\"text-align: right;\">\n",
       "      <th></th>\n",
       "      <th>Name of dish</th>\n",
       "      <th>active yeast</th>\n",
       "      <th>agave nectar</th>\n",
       "      <th>all-purpose flour</th>\n",
       "      <th>almond</th>\n",
       "      <th>almond extract</th>\n",
       "      <th>almond flour</th>\n",
       "      <th>almond milk</th>\n",
       "      <th>aloe vera</th>\n",
       "      <th>amaretto</th>\n",
       "      <th>...</th>\n",
       "      <th>yellow bell peppers</th>\n",
       "      <th>yellow lemon peel</th>\n",
       "      <th>yellow mustard</th>\n",
       "      <th>yellow pepper</th>\n",
       "      <th>yellow sweet potatoes</th>\n",
       "      <th>yogurt</th>\n",
       "      <th>yogurt drink</th>\n",
       "      <th>yuzu juice</th>\n",
       "      <th>yuzu sauce</th>\n",
       "      <th>zucchini</th>\n",
       "    </tr>\n",
       "  </thead>\n",
       "  <tbody>\n",
       "    <tr>\n",
       "      <th>0</th>\n",
       "      <td>Change the taste with strange and delicious mi...</td>\n",
       "      <td>0</td>\n",
       "      <td>0</td>\n",
       "      <td>0</td>\n",
       "      <td>0</td>\n",
       "      <td>0</td>\n",
       "      <td>0</td>\n",
       "      <td>0</td>\n",
       "      <td>0</td>\n",
       "      <td>0</td>\n",
       "      <td>...</td>\n",
       "      <td>0</td>\n",
       "      <td>0</td>\n",
       "      <td>0</td>\n",
       "      <td>0</td>\n",
       "      <td>0</td>\n",
       "      <td>0</td>\n",
       "      <td>0</td>\n",
       "      <td>0</td>\n",
       "      <td>0</td>\n",
       "      <td>0</td>\n",
       "    </tr>\n",
       "    <tr>\n",
       "      <th>1</th>\n",
       "      <td>Spaghetti with Meatballs in Tomato Sauce, Quee...</td>\n",
       "      <td>0</td>\n",
       "      <td>0</td>\n",
       "      <td>0</td>\n",
       "      <td>0</td>\n",
       "      <td>0</td>\n",
       "      <td>0</td>\n",
       "      <td>0</td>\n",
       "      <td>0</td>\n",
       "      <td>0</td>\n",
       "      <td>...</td>\n",
       "      <td>0</td>\n",
       "      <td>0</td>\n",
       "      <td>0</td>\n",
       "      <td>0</td>\n",
       "      <td>0</td>\n",
       "      <td>0</td>\n",
       "      <td>0</td>\n",
       "      <td>0</td>\n",
       "      <td>0</td>\n",
       "      <td>0</td>\n",
       "    </tr>\n",
       "  </tbody>\n",
       "</table>\n",
       "<p>2 rows × 803 columns</p>\n",
       "</div>"
      ],
      "text/plain": [
       "                                        Name of dish  active yeast  \\\n",
       "0  Change the taste with strange and delicious mi...             0   \n",
       "1  Spaghetti with Meatballs in Tomato Sauce, Quee...             0   \n",
       "\n",
       "   agave nectar  all-purpose flour  almond  almond extract  almond flour  \\\n",
       "0             0                  0       0               0             0   \n",
       "1             0                  0       0               0             0   \n",
       "\n",
       "   almond milk  aloe vera  amaretto  ...  yellow bell peppers  \\\n",
       "0            0          0         0  ...                    0   \n",
       "1            0          0         0  ...                    0   \n",
       "\n",
       "   yellow lemon peel  yellow mustard  yellow pepper  yellow sweet potatoes  \\\n",
       "0                  0               0              0                      0   \n",
       "1                  0               0              0                      0   \n",
       "\n",
       "   yogurt  yogurt drink  yuzu juice  yuzu sauce  zucchini  \n",
       "0       0             0           0           0         0  \n",
       "1       0             0           0           0         0  \n",
       "\n",
       "[2 rows x 803 columns]"
      ]
     },
     "execution_count": 130,
     "metadata": {},
     "output_type": "execute_result"
    }
   ],
   "source": [
    "path = os.path.join('..', 'Assert', 'ingredients.csv')\n",
    "data = pd.read_csv(path)\n",
    "init_df = deepcopy(data)\n",
    "data.head(2)"
   ]
  },
  {
   "cell_type": "markdown",
   "metadata": {},
   "source": [
    "**3. Drop the \"Name of dish\" column:**"
   ]
  },
  {
   "cell_type": "code",
   "execution_count": 131,
   "metadata": {},
   "outputs": [
    {
     "data": {
      "text/plain": [
       "(681, 802)"
      ]
     },
     "execution_count": 131,
     "metadata": {},
     "output_type": "execute_result"
    }
   ],
   "source": [
    "data.drop(columns=['Name of dish'], inplace=True)\n",
    "data.shape"
   ]
  },
  {
   "cell_type": "markdown",
   "metadata": {},
   "source": [
    "**4. Check the shape of dataframe:**"
   ]
  },
  {
   "cell_type": "code",
   "execution_count": 132,
   "metadata": {},
   "outputs": [
    {
     "data": {
      "text/plain": [
       "(681, 802)"
      ]
     },
     "execution_count": 132,
     "metadata": {},
     "output_type": "execute_result"
    }
   ],
   "source": [
    "data.shape"
   ]
  },
  {
   "cell_type": "markdown",
   "metadata": {},
   "source": [
    "**5. Check the datatypes:**"
   ]
  },
  {
   "cell_type": "code",
   "execution_count": 133,
   "metadata": {},
   "outputs": [
    {
     "data": {
      "text/plain": [
       "active yeast         int64\n",
       "agave nectar         int64\n",
       "all-purpose flour    int64\n",
       "almond               int64\n",
       "almond extract       int64\n",
       "                     ...  \n",
       "yogurt               int64\n",
       "yogurt drink         int64\n",
       "yuzu juice           int64\n",
       "yuzu sauce           int64\n",
       "zucchini             int64\n",
       "Length: 802, dtype: object"
      ]
     },
     "execution_count": 133,
     "metadata": {},
     "output_type": "execute_result"
    }
   ],
   "source": [
    "data.dtypes"
   ]
  },
  {
   "cell_type": "markdown",
   "metadata": {},
   "source": [
    "---"
   ]
  },
  {
   "cell_type": "code",
   "execution_count": 134,
   "metadata": {},
   "outputs": [
    {
     "data": {
      "text/plain": [
       "(802, 60)"
      ]
     },
     "execution_count": 134,
     "metadata": {},
     "output_type": "execute_result"
    }
   ],
   "source": [
    "context_df = pd.read_csv(\"numerical_context_data.csv\")\n",
    "context_df.shape"
   ]
  },
  {
   "cell_type": "markdown",
   "metadata": {},
   "source": [
    "### **Model Building**"
   ]
  },
  {
   "cell_type": "code",
   "execution_count": 135,
   "metadata": {},
   "outputs": [],
   "source": [
    "from sklearn.preprocessing import MinMaxScaler\n",
    "from sklearn.metrics.pairwise import cosine_similarity"
   ]
  },
  {
   "cell_type": "code",
   "execution_count": 136,
   "metadata": {},
   "outputs": [],
   "source": [
    "collab_similarity_matrix = cosine_similarity(data.T)\n",
    "\n",
    "collab_similarity_df = pd.DataFrame(\n",
    "    collab_similarity_matrix,\n",
    "    index=data.columns,\n",
    "    columns=data.columns\n",
    ")\n",
    "\n",
    "context_similarity_matrix = cosine_similarity(context_df)\n",
    "\n",
    "context_similarity_df = pd.DataFrame(\n",
    "    context_similarity_matrix,\n",
    "    index=data.columns,\n",
    "    columns=data.columns\n",
    ")\n",
    "\n",
    "# Hybrid Model: Collaborative Filtering + Content-Based Filtering\n",
    "def hybrid_similarity(ingredient, collab_weight=0.5, content_weight=0.5):\n",
    "    #Find the ingre, if not find, get out\n",
    "    if ingredient not in collab_similarity_df.index or ingredient not in context_similarity_df.index:\n",
    "        return None \n",
    "    \n",
    "    # Collaborative & Content-Based scores\n",
    "    collab_scores = collab_similarity_df[ingredient]\n",
    "    content_scores = context_similarity_df[ingredient]\n",
    "    \n",
    "    scaler = MinMaxScaler()\n",
    "    collab_scores_scaled = scaler.fit_transform(collab_scores.values.reshape(-1, 1)).flatten()\n",
    "    content_scores_scaled = scaler.fit_transform(content_scores.values.reshape(-1, 1)).flatten()\n",
    "    \n",
    "    \n",
    "    # here i will use both importance numbers at 0.5 because i want both to encapsulate the role and work equally. Avoid favoring one of the two sets\n",
    "    hybrid_scores = collab_weight * collab_scores_scaled + content_weight * content_scores_scaled\n",
    "    hybrid_scores = pd.Series(hybrid_scores, index=collab_similarity_df.index)\n",
    "    return hybrid_scores.sort_values(ascending=False)\n",
    "\n",
    "# Build RS\n",
    "def recommend_replacements(current_ingredients, missing_ingredients, top_n=3, collab_weight=0.5, content_weight=0.5):\n",
    "    recommendations = {}\n",
    "    for missing in missing_ingredients:\n",
    "        hybrid_scores = hybrid_similarity(missing, collab_weight, content_weight)\n",
    "        if hybrid_scores is not None:\n",
    "\n",
    "            #Eliminate missing ingredients\n",
    "            suggested_replacements = hybrid_scores[\n",
    "                ~hybrid_scores.index.isin(current_ingredients) & (hybrid_scores.index != missing)\n",
    "            ].head(top_n).index.tolist()\n",
    "            recommendations[missing] = suggested_replacements\n",
    "        else:\n",
    "            recommendations[missing] = []\n",
    "    \n",
    "    return recommendations"
   ]
  },
  {
   "cell_type": "code",
   "execution_count": 137,
   "metadata": {},
   "outputs": [
    {
     "data": {
      "text/plain": [
       "{'brown sugar': ['sugar', 'maple syrup', 'icing sugar'],\n",
       " 'bacon': ['pacetta bacon', 'ham', 'pork loin']}"
      ]
     },
     "execution_count": 137,
     "metadata": {},
     "output_type": "execute_result"
    }
   ],
   "source": [
    "current_ingredients = ['active yeast', 'agave nectar', 'all-purpose flour']\n",
    "missing_ingredients = ['brown sugar', 'bacon']\n",
    "\n",
    "recommendations = recommend_replacements(current_ingredients, missing_ingredients)\n",
    "recommendations"
   ]
  },
  {
   "cell_type": "markdown",
   "metadata": {},
   "source": [
    "### **Model Evaluation**"
   ]
  },
  {
   "cell_type": "code",
   "execution_count": null,
   "metadata": {},
   "outputs": [],
   "source": [
    "def evaluate_recommendations(model, current_ingredients, test_pairs, top_n=3):\n",
    "    hits = 0  # Number of times the model suggested correctly\n",
    "    total_relevant = len(test_pairs) # Total expected raw materials\n",
    "    total_recommended = 0 # Total suggested ingredients\n",
    "\n",
    "    for missing, expected in test_pairs:\n",
    "        recommendations = model(current_ingredients, [missing], top_n=top_n)\n",
    "        recommended_replacements = recommendations.get(missing, [])\n",
    "\n",
    "        if expected in recommended_replacements:\n",
    "            hits += 1\n",
    "\n",
    "        total_recommended += len(recommended_replacements)\n",
    "\n",
    "    precision = hits / total_recommended if total_recommended > 0 else 0\n",
    "    recall = hits / total_relevant if total_relevant > 0 else 0\n",
    "    f1 = 2 * (precision * recall) / (precision + recall) if precision + recall > 0 else 0\n",
    "\n",
    "    return {'precision': precision, 'recall': recall, 'f1': f1}\n"
   ]
  },
  {
   "cell_type": "code",
   "execution_count": null,
   "metadata": {},
   "outputs": [],
   "source": [
    "def simple_model(current_ingredients, missing_ingredients, top_n=3):\n",
    "    replacements_by_category = {\n",
    "        'all-purpose flour': ['corn flour', 'almond flour', 'coconut flour'],\n",
    "        'ginger': ['ginger powder', 'cinnamon'],\n",
    "        'agave nectar': ['honey', 'maple syrup'],\n",
    "        'brown sugar': ['sugar', 'molasses'],\n",
    "        'bacon': ['pacetta bacon', 'turkey bacon'],\n",
    "        'chili': ['ginger', 'paprika']\n",
    "    }\n",
    "\n",
    "    recommendations = {}\n",
    "    for missing in missing_ingredients:\n",
    "        recommendations[missing] = replacements_by_category.get(missing, [])[:top_n]\n",
    "    return recommendations\n"
   ]
  },
  {
   "cell_type": "code",
   "execution_count": null,
   "metadata": {},
   "outputs": [
    {
     "name": "stdout",
     "output_type": "stream",
     "text": [
      "Improved Evaluation Results:\n",
      "Precision@N: 0.4666666666666667\n",
      "Recall@N: 1.0\n",
      "F1@N: 0.6363636363636364\n"
     ]
    }
   ],
   "source": [
    "current_ingredients = ['active yeast', 'almond', 'all-purpose flour']\n",
    "test_pairs = [\n",
    "    ('all-purpose flour', 'corn flour'),\n",
    "    ('ginger', 'ginger powder'),\n",
    "    ('agave nectar', 'honey'),\n",
    "    ('brown sugar', 'sugar'),\n",
    "    ('bacon', 'pacetta bacon'),\n",
    "    ('agave nectar', 'honey'),\n",
    "    ('chili', 'ginger')\n",
    "]\n",
    "\n",
    "results_v2 = evaluate_recommendations(simple_model, current_ingredients, test_pairs, top_n=3)\n",
    "\n",
    "print(\"Improved Evaluation Results:\")\n",
    "print(f\"Precision@N: {results_v2['precision']}\")\n",
    "print(f\"Recall@N: {results_v2['recall']}\")\n",
    "print(f\"F1@N: {results_v2['f1']}\")\n",
    "\n"
   ]
  },
  {
   "cell_type": "markdown",
   "metadata": {},
   "source": [
    "---"
   ]
  },
  {
   "cell_type": "markdown",
   "metadata": {},
   "source": [
    "* **Precision@N:** 0.4667, nghĩa là gần 47% các nguyên liệu được gợi ý là chính xác (phù hợp với kỳ vọng). Điều này phản ánh rằng danh sách gợi ý đã được tinh chỉnh để phù hợp hơn với tập kiểm tra.\n",
    "\n",
    "* **Recall@N** ở mức tối đa (1.0), nghĩa là tất cả các nguyên liệu kỳ vọng đều nằm trong danh sách gợi ý trả về.\n",
    "Điều này cho thấy hệ thống vẫn bao phủ toàn bộ các nguyên liệu thay thế mong muốn.\n",
    "\n",
    "* **F1@N:** 0.6364, phản ánh sự cân bằng tốt hơn giữa Precision và Recall.\n",
    "\n",
    "* **Kết luận:** Như vậy thì mô hình dự đoán cũng khá chuẩn chỉ với gần 50% các dự đoán chính xác nguyên liệu có thể thay thế ở vị trí đầu tiên và 100% các nguyên liệu có thể thay thế thực tế đều được đưa ra và nằm trong gợi ý."
   ]
  },
  {
   "cell_type": "markdown",
   "metadata": {},
   "source": []
  }
 ],
 "metadata": {
  "kernelspec": {
   "display_name": "Python 3",
   "language": "python",
   "name": "python3"
  },
  "language_info": {
   "codemirror_mode": {
    "name": "ipython",
    "version": 3
   },
   "file_extension": ".py",
   "mimetype": "text/x-python",
   "name": "python",
   "nbconvert_exporter": "python",
   "pygments_lexer": "ipython3",
   "version": "3.12.5"
  }
 },
 "nbformat": 4,
 "nbformat_minor": 2
}
